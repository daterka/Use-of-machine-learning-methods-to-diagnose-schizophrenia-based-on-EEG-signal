{
 "cells": [
  {
   "cell_type": "markdown",
   "metadata": {},
   "source": [
    "# Classical methods in order to detect schizophrenia with EEG dataset"
   ]
  },
  {
   "cell_type": "markdown",
   "metadata": {},
   "source": [
    "## Imports"
   ]
  },
  {
   "cell_type": "code",
   "execution_count": 1,
   "metadata": {
    "tags": []
   },
   "outputs": [],
   "source": [
    "import os\n",
    "import mne\n",
    "import numpy as np\n",
    "\n",
    "from mne.filter import construct_iir_filter\n",
    "from mne.preprocessing import ICA\n",
    "from mne.io import RawArray\n",
    "\n",
    "from sklearn.model_selection import train_test_split\n",
    "from sklearn.ensemble import RandomForestClassifier\n",
    "from sklearn.neighbors import KNeighborsClassifier\n",
    "from sklearn.metrics import accuracy_score, plot_confusion_matrix\n",
    "from sklearn.pipeline import make_pipeline\n",
    "from sklearn.svm import SVC\n",
    "from sklearn.decomposition import FastICA\n",
    "from sklearn.discriminant_analysis import LinearDiscriminantAnalysis\n",
    "\n",
    "from tools.eegPowerBand import eeg_power_band\n",
    "from tools.MNEtoXYSets import transform\n",
    "\n",
    "from statsmodels.tsa.ar_model import AutoReg, ar_select_order\n",
    "from statsmodels.tsa.stattools import acovf"
   ]
  },
  {
   "cell_type": "markdown",
   "metadata": {},
   "source": [
    "## Loading EEG raw data"
   ]
  },
  {
   "cell_type": "code",
   "execution_count": 2,
   "metadata": {},
   "outputs": [],
   "source": [
    "edfs_path = \"..\\dataverse_files\"\n",
    "manifest_path = \"..\\dataverse_files\\MANIFEST.txt\""
   ]
  },
  {
   "cell_type": "code",
   "execution_count": 3,
   "metadata": {},
   "outputs": [],
   "source": [
    "edfs_file_names = [f for f in os.listdir(edfs_path) if f.endswith('.edf')]"
   ]
  },
  {
   "cell_type": "code",
   "execution_count": 4,
   "metadata": {},
   "outputs": [],
   "source": [
    "raw_patients_data = []\n",
    "\n",
    "for file_name in edfs_file_names:\n",
    "    path = edfs_path + '\\\\' + file_name \n",
    "    raw_data = mne.io.read_raw_edf(path, preload=True, verbose=False)\n",
    "    raw_patients_data.append(raw_data)"
   ]
  },
  {
   "cell_type": "markdown",
   "metadata": {},
   "source": [
    "## Preprocessing"
   ]
  },
  {
   "cell_type": "markdown",
   "metadata": {},
   "source": [
    "#### Preprocessing with filtering (Butterworth lowpass filter 6th order with fcut=50Hz)"
   ]
  },
  {
   "cell_type": "code",
   "execution_count": 5,
   "metadata": {},
   "outputs": [
    {
     "name": "stdout",
     "output_type": "stream",
     "text": [
      "\n",
      "IIR filter parameters\n",
      "---------------------\n",
      "Butterworth low zero-phase (two-pass forward and reverse) non-causal filter:\n",
      "- Filter order 12 (effective, after forward-backward)\n",
      "- Cutoff at 50.00 Hz: -6.02 dB\n",
      "\n"
     ]
    }
   ],
   "source": [
    "iir_filter = construct_iir_filter(dict(order=6, ftype='butter', output='sos'), 50, None, 250, 'low')"
   ]
  },
  {
   "cell_type": "code",
   "execution_count": 6,
   "metadata": {},
   "outputs": [],
   "source": [
    "edf_file = []\n",
    "\n",
    "filtered_patients_data = [\n",
    "    raw_patient_data\n",
    "        .copy()\n",
    "        .filter(l_freq=None, h_freq=None, picks='eeg', method='iir', iir_params=iir_filter, n_jobs=-1, verbose=False) \n",
    "    for raw_patient_data in raw_patients_data\n",
    "]"
   ]
  },
  {
   "cell_type": "markdown",
   "metadata": {
    "jp-MarkdownHeadingCollapsed": true,
    "tags": []
   },
   "source": [
    "#### Preprocessing with ICA"
   ]
  },
  {
   "cell_type": "markdown",
   "metadata": {},
   "source": [
    "##### FASTICA From MNE"
   ]
  },
  {
   "cell_type": "code",
   "execution_count": 7,
   "metadata": {},
   "outputs": [],
   "source": [
    "ica_patients_data = []\n",
    "edf_file = []\n",
    "ica_raw_patients_data = [raw_patient_data.copy().filter(l_freq=1., h_freq=None, verbose = False) for raw_patient_data in raw_patients_data]"
   ]
  },
  {
   "cell_type": "code",
   "execution_count": 8,
   "metadata": {},
   "outputs": [],
   "source": [
    "for index, ica_raw_patient_data in enumerate(ica_raw_patients_data):\n",
    "    # cov = mne.compute_raw_covariance(raw_patients_data[index], tstep = 25, verbose = False)\n",
    "    ica = ICA(verbose = False)\n",
    "    tmp = ica.fit(ica_raw_patient_data, verbose = False)\n",
    "    ica_patients_data.append(tmp.get_sources(ica_raw_patient_data))"
   ]
  },
  {
   "cell_type": "markdown",
   "metadata": {},
   "source": [
    "##### FASTICA from sklearn"
   ]
  },
  {
   "cell_type": "code",
   "execution_count": 9,
   "metadata": {},
   "outputs": [],
   "source": [
    "fastICA = FastICA(whiten='unit-variance')\n",
    "fastICAfeatures = [raw_patient_data.get_data() for raw_patient_data in raw_patients_data]\n",
    "for index, patient in enumerate(raw_patients_data):\n",
    "    fastICA.fit(patient.get_data()[:-1].reshape(-1, 1))\n",
    "    fastICAfeatures[index][-1] = fastICA.transform(patient.get_data()[-1].reshape(-1, 1)).reshape(1, -1)\n",
    "\n",
    "# fastICA = FastICA(1, whiten='unit-variance')\n",
    "# fastICAfeatures = []\n",
    "# for index, patient in enumerate(raw_patients_data):\n",
    "#     fastICAfeatures.append(np.split(fastICA.fit_transform(patient.get_data().reshape(-1, 1)).reshape(-1, 1), 19))"
   ]
  },
  {
   "cell_type": "code",
   "execution_count": 10,
   "metadata": {},
   "outputs": [],
   "source": [
    "baseRaw = []\n",
    "edf_file = [raw_patient_data.filenames[0] for raw_patient_data in raw_patients_data]\n",
    "for index, fastICAfeature in enumerate(fastICAfeatures):\n",
    "    baseRaw.append(RawArray(fastICAfeature, raw_patients_data[index].info, verbose=False))"
   ]
  },
  {
   "cell_type": "code",
   "execution_count": 11,
   "metadata": {},
   "outputs": [
    {
     "data": {
      "text/plain": [
       "array([[-1.50000000e-09, -1.50000000e-09, -8.95954558e-07, ...,\n",
       "        -1.50000000e-09, -1.50000000e-09, -1.50000000e-09],\n",
       "       [-1.50000000e-09, -1.50000000e-09, -3.59281823e-07, ...,\n",
       "        -1.50000000e-09, -1.50000000e-09, -1.50000000e-09],\n",
       "       [-1.50000000e-09, -1.50000000e-09, -5.38172735e-07, ...,\n",
       "        -1.50000000e-09, -1.50000000e-09, -1.50000000e-09],\n",
       "       ...,\n",
       "       [-1.50000000e-09, -1.50000000e-09, -5.38172735e-07, ...,\n",
       "        -1.50000000e-09, -1.50000000e-09, -1.50000000e-09],\n",
       "       [-1.50000000e-09, -1.50000000e-09, -1.80390912e-07, ...,\n",
       "        -1.50000000e-09, -1.50000000e-09, -1.50000000e-09],\n",
       "       [-1.50000000e-09, -1.50000000e-09, -5.38172735e-07, ...,\n",
       "        -1.50000000e-09, -1.50000000e-09, -1.50000000e-09]])"
      ]
     },
     "execution_count": 11,
     "metadata": {},
     "output_type": "execute_result"
    }
   ],
   "source": [
    "raw_patients_data[17].get_data()"
   ]
  },
  {
   "cell_type": "markdown",
   "metadata": {
    "tags": []
   },
   "source": [
    "## Transform MNE data to features and label arrays"
   ]
  },
  {
   "cell_type": "code",
   "execution_count": 12,
   "metadata": {},
   "outputs": [
    {
     "name": "stdout",
     "output_type": "stream",
     "text": [
      "Not setting metadata\n",
      "1142 matching events found\n",
      "No baseline correction applied\n",
      "0 bad epochs dropped\n"
     ]
    }
   ],
   "source": [
    "X, y = transform(baseRaw, edf_file = edf_file)"
   ]
  },
  {
   "cell_type": "markdown",
   "metadata": {},
   "source": [
    "## Extraction"
   ]
  },
  {
   "cell_type": "markdown",
   "metadata": {},
   "source": [
    "#### Energy band"
   ]
  },
  {
   "cell_type": "code",
   "execution_count": 13,
   "metadata": {},
   "outputs": [
    {
     "name": "stdout",
     "output_type": "stream",
     "text": [
      "Effective window size : 1.024 (s)\n"
     ]
    }
   ],
   "source": [
    "featuresEEGPowerBand = eeg_power_band(X)"
   ]
  },
  {
   "cell_type": "code",
   "execution_count": 14,
   "metadata": {},
   "outputs": [
    {
     "data": {
      "text/plain": [
       "(1142, 95)"
      ]
     },
     "execution_count": 14,
     "metadata": {},
     "output_type": "execute_result"
    }
   ],
   "source": [
    "featuresEEGPowerBand.shape"
   ]
  },
  {
   "cell_type": "markdown",
   "metadata": {},
   "source": [
    "#### Variance"
   ]
  },
  {
   "cell_type": "code",
   "execution_count": 15,
   "metadata": {},
   "outputs": [
    {
     "name": "stdout",
     "output_type": "stream",
     "text": [
      "(1142, 19, 6250)\n",
      "(1142, 19)\n"
     ]
    }
   ],
   "source": [
    "print(X.get_data().shape)\n",
    "featuresVar = []\n",
    "for index, feature in enumerate(X.get_data()):\n",
    "    featuresVar.append(np.var(feature, axis = 1))\n",
    "\n",
    "print(np.array(featuresVar).shape)"
   ]
  },
  {
   "cell_type": "markdown",
   "metadata": {},
   "source": [
    "#### Autoregression"
   ]
  },
  {
   "cell_type": "code",
   "execution_count": 16,
   "metadata": {},
   "outputs": [
    {
     "name": "stdout",
     "output_type": "stream",
     "text": [
      "[6.90081278e-11 6.43982526e-11 5.94461871e-11 ... 1.74819574e-16\n",
      " 1.27549712e-16 6.51502722e-17]\n"
     ]
    }
   ],
   "source": [
    "# for feature in features:\n",
    "sel = acovf(X.get_data()[0][0].tolist())\n",
    "print(sel)"
   ]
  },
  {
   "cell_type": "markdown",
   "metadata": {},
   "source": [
    "#### L1 Norm"
   ]
  },
  {
   "cell_type": "code",
   "execution_count": 17,
   "metadata": {},
   "outputs": [
    {
     "name": "stdout",
     "output_type": "stream",
     "text": [
      "[[3.30025148]\n",
      " [3.89063419]\n",
      " [4.67783816]\n",
      " ...\n",
      " [0.92825996]\n",
      " [0.66011985]\n",
      " [0.67569227]]\n"
     ]
    }
   ],
   "source": [
    "featuresVar = []\n",
    "for index, feature in enumerate(X.get_data()):\n",
    "    featuresVar.append([np.linalg.norm(feature, ord = 1)])\n",
    "\n",
    "print(np.array(featuresVar))"
   ]
  },
  {
   "cell_type": "markdown",
   "metadata": {},
   "source": [
    "## Selection"
   ]
  },
  {
   "cell_type": "markdown",
   "metadata": {},
   "source": [
    "#### PCA"
   ]
  },
  {
   "cell_type": "markdown",
   "metadata": {},
   "source": [
    "#### LDA"
   ]
  },
  {
   "cell_type": "code",
   "execution_count": 18,
   "metadata": {},
   "outputs": [
    {
     "data": {
      "text/plain": [
       "array([ 0.086316  ,  0.18042409,  0.30590586, ..., -0.29178383,\n",
       "       -0.33452586, -0.33204359])"
      ]
     },
     "execution_count": 18,
     "metadata": {},
     "output_type": "execute_result"
    }
   ],
   "source": [
    "lda = LinearDiscriminantAnalysis()\n",
    "test = lda.fit_transform(featuresVar, y).T\n",
    "test.flatten()"
   ]
  },
  {
   "cell_type": "markdown",
   "metadata": {},
   "source": [
    "## Classification"
   ]
  },
  {
   "cell_type": "code",
   "execution_count": 19,
   "metadata": {},
   "outputs": [],
   "source": [
    "X_train, X_test, y_train, y_test = train_test_split(test.flatten(), y, test_size=0.33, shuffle=True, random_state=41)"
   ]
  },
  {
   "cell_type": "markdown",
   "metadata": {},
   "source": [
    "#### KNN"
   ]
  },
  {
   "cell_type": "code",
   "execution_count": 28,
   "metadata": {},
   "outputs": [
    {
     "name": "stdout",
     "output_type": "stream",
     "text": [
      "0.5994694960212201\n"
     ]
    },
    {
     "name": "stderr",
     "output_type": "stream",
     "text": [
      "c:\\Users\\Bartosz Ziomek\\anaconda3\\envs\\thesis\\lib\\site-packages\\sklearn\\utils\\deprecation.py:87: FutureWarning: Function plot_confusion_matrix is deprecated; Function `plot_confusion_matrix` is deprecated in 1.0 and will be removed in 1.2. Use one of the class methods: ConfusionMatrixDisplay.from_predictions or ConfusionMatrixDisplay.from_estimator.\n",
      "  warnings.warn(msg, category=FutureWarning)\n"
     ]
    },
    {
     "data": {
      "text/plain": [
       "<sklearn.metrics._plot.confusion_matrix.ConfusionMatrixDisplay at 0x221576b3eb0>"
      ]
     },
     "execution_count": 28,
     "metadata": {},
     "output_type": "execute_result"
    },
    {
     "data": {
      "image/png": "[encoded data removed]",
      "text/plain": [
       "<Figure size 432x288 with 2 Axes>"
      ]
     },
     "metadata": {
      "needs_background": "light"
     },
     "output_type": "display_data"
    }
   ],
   "source": [
    "knn = KNeighborsClassifier()\n",
    "knn.fit(X_train.reshape(-1, 1), y_train)\n",
    "print(knn.score(X_test.reshape(-1, 1), y_test))\n",
    "plot_confusion_matrix(knn, X_test.reshape(-1, 1), y_test)"
   ]
  },
  {
   "cell_type": "markdown",
   "metadata": {},
   "source": [
    "## Statitics"
   ]
  },
  {
   "cell_type": "markdown",
   "metadata": {},
   "source": [
    "## Others"
   ]
  },
  {
   "cell_type": "markdown",
   "metadata": {},
   "source": [
    "##### Without scaling"
   ]
  },
  {
   "cell_type": "code",
   "execution_count": 21,
   "metadata": {},
   "outputs": [],
   "source": [
    "def class_test(features, y, clr):\n",
    "    X_train, X_test, y_train, y_test = train_test_split(features, y, test_size=0.33, shuffle=True, random_state=41)\n",
    "\n",
    "    pipe = make_pipeline(\n",
    "        clr\n",
    "    )\n",
    "\n",
    "    # Train\n",
    "    pipe.fit(X_train, y_train)\n",
    "\n",
    "    # Test\n",
    "    y_pred = pipe.predict(X_test)\n",
    "\n",
    "    # Assess the results\n",
    "    acc = accuracy_score(y_test, y_pred)\n",
    "\n",
    "    return acc"
   ]
  },
  {
   "cell_type": "markdown",
   "metadata": {
    "tags": []
   },
   "source": [
    "##### With MinMaxScaler"
   ]
  },
  {
   "cell_type": "code",
   "execution_count": 22,
   "metadata": {},
   "outputs": [],
   "source": [
    "# X_train, X_test, y_train, y_test = train_test_split(features, y, test_size=0.33, shuffle=True, random_state=41)\n",
    "\n",
    "# pipe = make_pipeline(\n",
    "#     MinMaxScaler(copy=False),\n",
    "#     RandomForestClassifier(n_estimators=100, random_state=42),\n",
    "# )\n",
    "\n",
    "# # Train\n",
    "# pipe.fit(X_train, y_train)\n",
    "\n",
    "# # Test\n",
    "# y_pred = pipe.predict(X_test)\n",
    "\n",
    "# # Assess the results\n",
    "# acc = accuracy_score(y_test, y_pred)\n",
    "\n",
    "# print(\"Accuracy score: {}\".format(acc))"
   ]
  },
  {
   "cell_type": "markdown",
   "metadata": {
    "tags": []
   },
   "source": [
    "##### With MinMaxScaler"
   ]
  },
  {
   "cell_type": "code",
   "execution_count": 23,
   "metadata": {},
   "outputs": [],
   "source": [
    "# X_train, X_test, y_train, y_test = train_test_split(features, y, test_size=0.33, shuffle=True, random_state=41)\n",
    "\n",
    "# pipe = make_pipeline(\n",
    "#     StandardScaler(copy=False),\n",
    "#     RandomForestClassifier(n_estimators=100, random_state=42),\n",
    "# )\n",
    "\n",
    "# # Train\n",
    "# pipe.fit(X_train, y_train)\n",
    "\n",
    "# # Test\n",
    "# y_pred = pipe.predict(X_test)\n",
    "\n",
    "# # Assess the results\n",
    "# acc = accuracy_score(y_test, y_pred)\n",
    "\n",
    "# print(\"Accuracy score: {}\".format(acc))"
   ]
  },
  {
   "cell_type": "markdown",
   "metadata": {
    "tags": []
   },
   "source": [
    "##### With RobustScaler"
   ]
  },
  {
   "cell_type": "code",
   "execution_count": 24,
   "metadata": {},
   "outputs": [],
   "source": [
    "# X_train, X_test, y_train, y_test = train_test_split(features, y, test_size=0.33, shuffle=True, random_state=41)\n",
    "\n",
    "# pipe = make_pipeline(\n",
    "#     RobustScaler(copy=False),\n",
    "#     RandomForestClassifier(n_estimators=100, random_state=42),\n",
    "# )\n",
    "\n",
    "# # Train\n",
    "# pipe.fit(X_train, y_train)\n",
    "\n",
    "# # Test\n",
    "# y_pred = pipe.predict(X_test)\n",
    "\n",
    "# # Assess the results\n",
    "# acc = accuracy_score(y_test, y_pred)\n",
    "\n",
    "# print(\"Accuracy score: {}\".format(acc))"
   ]
  },
  {
   "cell_type": "markdown",
   "metadata": {},
   "source": [
    "### Cross Validatated Classification"
   ]
  },
  {
   "cell_type": "code",
   "execution_count": 25,
   "metadata": {},
   "outputs": [],
   "source": [
    "# clf = RandomForestClassifier(n_estimators=100, random_state=42)\n",
    "# scores = cross_val_score(clf, features, y, cv=3)\n",
    "\n",
    "# print(\"%0.2f accuracy with a standard deviation of %0.2f\" % (scores.mean(), scores.std()))"
   ]
  },
  {
   "cell_type": "markdown",
   "metadata": {},
   "source": [
    "### Test"
   ]
  },
  {
   "cell_type": "code",
   "execution_count": 26,
   "metadata": {},
   "outputs": [],
   "source": [
    "clr_arr = [KNeighborsClassifier(n_neighbors=2),\n",
    "            RandomForestClassifier(n_estimators=100, random_state=42),\n",
    "            SVC(kernel='poly')]\n",
    "\n",
    "res_acc_arr = []"
   ]
  },
  {
   "cell_type": "code",
   "execution_count": 27,
   "metadata": {},
   "outputs": [
    {
     "ename": "NameError",
     "evalue": "name 'iir' is not defined",
     "output_type": "error",
     "traceback": [
      "\u001b[1;31m---------------------------------------------------------------------------\u001b[0m",
      "\u001b[1;31mNameError\u001b[0m                                 Traceback (most recent call last)",
      "\u001b[1;32md:\\Magisterka\\Use-of-machine-learning-methods-to-diagnose-schizophrenia-based-on-EEG-signal\\Clean up version.ipynb Cell 54\u001b[0m in \u001b[0;36m<cell line: 1>\u001b[1;34m()\u001b[0m\n\u001b[0;32m      <a href='vscode-notebook-cell:/d%3A/Magisterka/Use-of-machine-learning-methods-to-diagnose-schizophrenia-based-on-EEG-signal/Clean%20up%20version.ipynb#Y104sZmlsZQ%3D%3D?line=1'>2</a>\u001b[0m \u001b[39mwith\u001b[39;00m \u001b[39mopen\u001b[39m(\u001b[39mf\u001b[39m\u001b[39m'\u001b[39m\u001b[39mresult\u001b[39m\u001b[39m{\u001b[39;00mindex1 \u001b[39m+\u001b[39m \u001b[39m1\u001b[39m\u001b[39m}\u001b[39;00m\u001b[39m.txt\u001b[39m\u001b[39m'\u001b[39m, \u001b[39m'\u001b[39m\u001b[39mw\u001b[39m\u001b[39m'\u001b[39m, encoding \u001b[39m=\u001b[39m \u001b[39m'\u001b[39m\u001b[39mutf-8\u001b[39m\u001b[39m'\u001b[39m) \u001b[39mas\u001b[39;00m f:\n\u001b[0;32m      <a href='vscode-notebook-cell:/d%3A/Magisterka/Use-of-machine-learning-methods-to-diagnose-schizophrenia-based-on-EEG-signal/Clean%20up%20version.ipynb#Y104sZmlsZQ%3D%3D?line=2'>3</a>\u001b[0m     acc_arr \u001b[39m=\u001b[39m []\n\u001b[1;32m----> <a href='vscode-notebook-cell:/d%3A/Magisterka/Use-of-machine-learning-methods-to-diagnose-schizophrenia-based-on-EEG-signal/Clean%20up%20version.ipynb#Y104sZmlsZQ%3D%3D?line=4'>5</a>\u001b[0m     \u001b[39mfor\u001b[39;00m index, i \u001b[39min\u001b[39;00m \u001b[39menumerate\u001b[39m(iir):\n\u001b[0;32m      <a href='vscode-notebook-cell:/d%3A/Magisterka/Use-of-machine-learning-methods-to-diagnose-schizophrenia-based-on-EEG-signal/Clean%20up%20version.ipynb#Y104sZmlsZQ%3D%3D?line=5'>6</a>\u001b[0m         filtered_patients_data \u001b[39m=\u001b[39m [raw_patient_data\u001b[39m.\u001b[39mcopy()\n\u001b[0;32m      <a href='vscode-notebook-cell:/d%3A/Magisterka/Use-of-machine-learning-methods-to-diagnose-schizophrenia-based-on-EEG-signal/Clean%20up%20version.ipynb#Y104sZmlsZQ%3D%3D?line=6'>7</a>\u001b[0m                               \u001b[39m.\u001b[39mfilter(l_freq\u001b[39m=\u001b[39m\u001b[39mNone\u001b[39;00m, h_freq\u001b[39m=\u001b[39m\u001b[39mNone\u001b[39;00m, picks\u001b[39m=\u001b[39m\u001b[39m'\u001b[39m\u001b[39meeg\u001b[39m\u001b[39m'\u001b[39m, method\u001b[39m=\u001b[39m\u001b[39m'\u001b[39m\u001b[39miir\u001b[39m\u001b[39m'\u001b[39m, iir_params\u001b[39m=\u001b[39mi, n_jobs\u001b[39m=\u001b[39m\u001b[39m-\u001b[39m\u001b[39m1\u001b[39m, verbose\u001b[39m=\u001b[39m\u001b[39mFalse\u001b[39;00m) \n\u001b[0;32m      <a href='vscode-notebook-cell:/d%3A/Magisterka/Use-of-machine-learning-methods-to-diagnose-schizophrenia-based-on-EEG-signal/Clean%20up%20version.ipynb#Y104sZmlsZQ%3D%3D?line=7'>8</a>\u001b[0m                               \u001b[39mfor\u001b[39;00m raw_patient_data \u001b[39min\u001b[39;00m raw_patients_data]\n\u001b[0;32m     <a href='vscode-notebook-cell:/d%3A/Magisterka/Use-of-machine-learning-methods-to-diagnose-schizophrenia-based-on-EEG-signal/Clean%20up%20version.ipynb#Y104sZmlsZQ%3D%3D?line=9'>10</a>\u001b[0m         X, y \u001b[39m=\u001b[39m transform_patients_data_into_X_y_sets(filtered_patients_data)\n",
      "\u001b[1;31mNameError\u001b[0m: name 'iir' is not defined"
     ]
    }
   ],
   "source": [
    "for index1, clr in enumerate(clr_arr):\n",
    "    with open(f'result{index1 + 1}.txt', 'w', encoding = 'utf-8') as f:\n",
    "        acc_arr = []\n",
    "\n",
    "        for index, i in enumerate(iir):\n",
    "            filtered_patients_data = [raw_patient_data.copy()\n",
    "                                  .filter(l_freq=None, h_freq=None, picks='eeg', method='iir', iir_params=i, n_jobs=-1, verbose=False) \n",
    "                                  for raw_patient_data in raw_patients_data]\n",
    "\n",
    "            X, y = transform_patients_data_into_X_y_sets(filtered_patients_data)\n",
    "\n",
    "            features = eeg_power_band(X)\n",
    "\n",
    "            acc = class_test(features, y, clr)\n",
    "            acc_arr.append(acc)\n",
    "\n",
    "            filtered_patients_data = []\n",
    "            X = []\n",
    "            y = []\n",
    "            features = []\n",
    "            f.write(f\"{iir_filter_dataset[index]} Accuracy score: {acc}\\n\")\n",
    "\n",
    "        max_acc = max(acc_arr)\n",
    "        f.write(f\"{iir_filter_dataset[acc_arr.index(max_acc)]} -> {max_acc}\\n\")\n",
    "    res_acc_arr.append(acc_arr)"
   ]
  },
  {
   "cell_type": "code",
   "execution_count": null,
   "metadata": {},
   "outputs": [],
   "source": [
    "np.average(np.array(res_acc_arr).T, axis = 1), max(np.average(np.array(res_acc_arr).T, axis = 1))"
   ]
  },
  {
   "cell_type": "code",
   "execution_count": null,
   "metadata": {},
   "outputs": [],
   "source": [
    "iir_filter_dataset = [\n",
    "    {'order': 2, 'flow': 0.5, 'fhigh': 50},\n",
    "    {'order': 5, 'flow': 0.5, 'fhigh': 50},\n",
    "    {'order': 6, 'flow': 0.5, 'fhigh': 50},\n",
    "    {'order': 2, 'flow': 2, 'fhigh': 45},\n",
    "    {'order': 5, 'flow': 2, 'fhigh': 45},\n",
    "    {'order': 6, 'flow': 2, 'fhigh': 45},\n",
    "    {'order': 5, 'flow': 0.5, 'fhigh': 45},\n",
    "    {'order': 6, 'flow': 0.5, 'fhigh': 45},\n",
    "    {'order': 81, 'fcut': 40, 'fstop': 45},\n",
    "    {'order': 5, 'fcut': 50},\n",
    "    {'order': 6, 'fcut': 50},\n",
    "]"
   ]
  }
 ],
 "metadata": {
  "kernelspec": {
   "display_name": "Python 3.9.12 ('thesis')",
   "language": "python",
   "name": "python3"
  },
  "language_info": {
   "codemirror_mode": {
    "name": "ipython",
    "version": 3
   },
   "file_extension": ".py",
   "mimetype": "text/x-python",
   "name": "python",
   "nbconvert_exporter": "python",
   "pygments_lexer": "ipython3",
   "version": "3.9.12"
  },
  "vscode": {
   "interpreter": {
    "hash": "ad615cfd075cf99db7973daec10dc749646d2e1208d3679d610c5652e3efa197"
   }
  }
 },
 "nbformat": 4,
 "nbformat_minor": 4
}
