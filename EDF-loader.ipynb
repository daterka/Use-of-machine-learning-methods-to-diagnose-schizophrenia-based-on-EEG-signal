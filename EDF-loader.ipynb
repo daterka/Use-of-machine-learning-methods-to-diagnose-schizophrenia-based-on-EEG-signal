{
 "cells": [
  {
   "cell_type": "code",
   "execution_count": 34,
   "metadata": {},
   "outputs": [],
   "source": [
    "#imports\n",
    "import numpy as np\n",
    "import scipy.signal as signal\n",
    "from pyedflib import highlevel\n",
    "from os import listdir, makedirs\n",
    "from os.path import isfile, join, splitext, isdir"
   ]
  },
  {
   "cell_type": "code",
   "execution_count": 35,
   "metadata": {},
   "outputs": [],
   "source": [
    "class SignalProcessingTool:\n",
    "    patientData = dict()\n",
    "\n",
    "    def __init__(self, dataFolderPath = '../data'):\n",
    "        self.filesName = [splitext(file)[0] for file in listdir(path) if isfile(join(path, file)) and 'MANIFEST' not in file] #TODO: wczytywać nazwy bezpośrednio z manifestu + ew. validacja\n",
    "        self.filesList = [join(dataFolderPath, f'{file}.edf') for file in self.filesName]\n",
    "\n",
    "\n",
    "    def getHeaders(self, file):\n",
    "        \"\"\"Return label from readed file\n",
    "        Returns:\n",
    "            labelList(String[]): List of electrodes used on patient\n",
    "        \"\"\"\n",
    "        return [headerInfo['label'] for headerInfo in highlevel.read_edf(file)[1]]\n",
    "    \n",
    "\n",
    "    def createCSVFile(self, data, headersLabel, fileName):\n",
    "        \"\"\"Create csv file from data\n",
    "        Parameters:\n",
    "            data(Any): Data used to save\n",
    "            headersLabel(String[]): Labels for header\n",
    "            fileName(String): Name of file\n",
    "        \"\"\"\n",
    "        import pandas as pd\n",
    "        dictForCSV = dict()\n",
    "        for index, column in enumerate(data):\n",
    "            dictForCSV[headersLabel[index]] = column\n",
    "        pd.DataFrame(dictForCSV).to_csv(f'../output/{fileName}.csv', index = False)\n",
    "\n",
    "    \n",
    "    def interactiveInput(self):\n",
    "        \"\"\"Interactive mode for drawing every wavelenght for any patient\"\"\"\n",
    "        printStr = 'Choose one patient from below:\\n'\n",
    "        for index, patient in enumerate(self.filesName):\n",
    "            printStr += f'{index} - {patient} '\n",
    "        \n",
    "        choosenPatient = int(input(printStr+'\\n'))\n",
    "\n",
    "        printStr = 'Choose one option from below:\\n'\n",
    "        for index, label in enumerate(self.getHeaders(self.filesList[0])):\n",
    "            printStr += f'{index} - {label} '\n",
    "        \n",
    "        choosenOption = int(input(printStr+'\\n'))\n",
    "        self.drawPlot(choosenPatient, choosenOption)\n",
    "\n",
    "\n",
    "    def drawPlot(self, fileName, option):\n",
    "        \"\"\"Draw wavelenght from edf file\n",
    "        Parameters:\n",
    "            fileName(String): Name of file\n",
    "            option(String): Choosen wave to draw\n",
    "        \"\"\"\n",
    "        import matplotlib.pyplot as plt\n",
    "        choosenOptionLabel = self.getHeaders(self.filesList[fileName])[option]\n",
    "        signals = highlevel.read_edf(self.filesList[fileName])[0]\n",
    "        data = signal.resample(signals.T, 6250)\n",
    "\n",
    "        t1 = np.arange(0, 231250, 1)\n",
    "        t2 = np.arange(0, 231250, 37)\n",
    "\n",
    "        plt.plot(t1 / 9250, signals[option], 'r', label='Before resampling')\n",
    "        plt.plot(t2 / 9250, data.T[option], 'g', label='After resampling')\n",
    "        plt.title(f'Patient: {self.filesName[fileName]} - Electrode: {choosenOptionLabel}')\n",
    "        plt.legend()\n",
    "        plt.xlabel(\"Time\")\n",
    "        plt.ylabel(\"Voltage [µV]\")\n",
    "        plt.show()\n",
    "\n",
    "\n",
    "    def loadEDFAndSampleData(self, isFileRequired = False):\n",
    "        \"\"\"Draw wavelenght from edf file\n",
    "        Parameters:\n",
    "            isFileRequired(Boolean): Should data save to variables or files\n",
    "        \"\"\"\n",
    "        for index, file in enumerate(self.filesList):\n",
    "\n",
    "            if isFileRequired:\n",
    "                outputFolder = '../output'\n",
    "                if not isdir(outputFolder):\n",
    "                    makedirs(outputFolder)\n",
    "                if not isfile(join(outputFolder, f'{self.filesName[index]}.csv')):\n",
    "                    signals, _, _  = highlevel.read_edf(file)\n",
    "                    data = signal.resample(signals.T, 6250)\n",
    "                    self.createCSVFile(data.T, self.getHeaders(self.filesList[index]), self.filesName[index])\n",
    "\n",
    "            else:\n",
    "                signals, _, _  = highlevel.read_edf(file)\n",
    "                headers = np.array(self.getHeaders(self.filesList[index]))\n",
    "                data = np.vstack((headers,signal.resample(signals.T, 6250)))\n",
    "                self.patientData[self.filesName[index]] = data"
   ]
  },
  {
   "cell_type": "code",
   "execution_count": 36,
   "metadata": {},
   "outputs": [],
   "source": [
    "# loading data from file\n",
    "test = SignalProcessingTool('..\\dataverse_files')\n",
    "test.loadEDFAndSampleData(isFileRequired=True)"
   ]
  },
  {
   "cell_type": "code",
   "execution_count": 37,
   "metadata": {},
   "outputs": [
    {
     "ename": "TypeError",
     "evalue": "createCSVFile() missing 3 required positional arguments: 'data', 'headersLabel', and 'fileName'",
     "output_type": "error",
     "traceback": [
      "\u001b[1;31m---------------------------------------------------------------------------\u001b[0m",
      "\u001b[1;31mTypeError\u001b[0m                                 Traceback (most recent call last)",
      "\u001b[1;32m<ipython-input-37-51d1c545433d>\u001b[0m in \u001b[0;36m<module>\u001b[1;34m\u001b[0m\n\u001b[1;32m----> 1\u001b[1;33m \u001b[0mtest\u001b[0m\u001b[1;33m.\u001b[0m\u001b[0mcreateCSVFile\u001b[0m\u001b[1;33m(\u001b[0m\u001b[1;33m)\u001b[0m\u001b[1;33m\u001b[0m\u001b[1;33m\u001b[0m\u001b[0m\n\u001b[0m",
      "\u001b[1;31mTypeError\u001b[0m: createCSVFile() missing 3 required positional arguments: 'data', 'headersLabel', and 'fileName'"
     ]
    }
   ],
   "source": [
    "test.createCSVFile()"
   ]
  },
  {
   "cell_type": "code",
   "execution_count": 40,
   "metadata": {},
   "outputs": [
    {
     "name": "stdout",
     "output_type": "stream",
     "text": [
      "Choose one patient from below:\n",
      "0 - h01 1 - h02 2 - h03 3 - h04 4 - h05 5 - h06 6 - h07 7 - h08 8 - h09 9 - h10 10 - h11 11 - h12 12 - h13 13 - h14 14 - s01 15 - s02 16 - s03 17 - s04 18 - s05 19 - s06 20 - s07 21 - s08 22 - s09 23 - s10 24 - s11 25 - s12 26 - s13 27 - s14 \n",
      "0\n",
      "Choose one option from below:\n",
      "0 - Fp2 1 - F8 2 - T4 3 - T6 4 - O2 5 - Fp1 6 - F7 7 - T3 8 - T5 9 - O1 10 - F4 11 - C4 12 - P4 13 - F3 14 - C3 15 - P3 16 - Fz 17 - Cz 18 - Pz \n",
      "0\n"
     ]
    },
    {
     "data": {
      "image/png": "[encoded data removed]",
      "text/plain": [
       "<Figure size 432x288 with 1 Axes>"
      ]
     },
     "metadata": {
      "needs_background": "light"
     },
     "output_type": "display_data"
    }
   ],
   "source": [
    "test.interactiveInput()"
   ]
  },
  {
   "cell_type": "code",
   "execution_count": null,
   "metadata": {},
   "outputs": [],
   "source": []
  },
  {
   "cell_type": "code",
   "execution_count": null,
   "metadata": {},
   "outputs": [],
   "source": []
  }
 ],
 "metadata": {
  "kernelspec": {
   "display_name": "Python 3",
   "language": "python",
   "name": "python3"
  },
  "language_info": {
   "codemirror_mode": {
    "name": "ipython",
    "version": 3
   },
   "file_extension": ".py",
   "mimetype": "text/x-python",
   "name": "python",
   "nbconvert_exporter": "python",
   "pygments_lexer": "ipython3",
   "version": "3.8.5"
  }
 },
 "nbformat": 4,
 "nbformat_minor": 4
}
