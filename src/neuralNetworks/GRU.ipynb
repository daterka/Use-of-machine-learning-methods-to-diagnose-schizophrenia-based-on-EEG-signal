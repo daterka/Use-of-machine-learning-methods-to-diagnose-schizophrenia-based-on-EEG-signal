{
 "cells": [
  {
   "cell_type": "code",
   "execution_count": 12,
   "id": "013adb54",
   "metadata": {},
   "outputs": [],
   "source": [
    "import os\n",
    "\n",
    "import tensorflow as tf\n",
    "\n",
    "from tensorflow.keras.models import Model,Sequential\n",
    "from tensorflow.keras.layers import Dense, Dropout, GRU\n",
    "from tensorflow.keras import regularizers\n",
    "\n",
    "import raw_data_loader as data_loader\n",
    "\n",
    "import model_runner"
   ]
  },
  {
   "cell_type": "code",
   "execution_count": 2,
   "id": "f5ff259d",
   "metadata": {},
   "outputs": [
    {
     "data": {
      "text/plain": [
       "'/device:GPU:0'"
      ]
     },
     "execution_count": 2,
     "metadata": {},
     "output_type": "execute_result"
    }
   ],
   "source": [
    "# os.environ[\"CUDA_VISIBLE_DEVICES\"] = \"-1\"\n",
    "tf.test.gpu_device_name()"
   ]
  },
  {
   "cell_type": "code",
   "execution_count": 3,
   "id": "833ae4f7",
   "metadata": {},
   "outputs": [],
   "source": [
    "edfs_path = \"../../../dataverse_files\"\n",
    "save_path = '../../../Results/GRU'"
   ]
  },
  {
   "cell_type": "code",
   "execution_count": 4,
   "id": "ea30fe77",
   "metadata": {},
   "outputs": [],
   "source": [
    "signal_segment_len = 5.0\n",
    "data_split_ratio = 0.2\n",
    "seed=1337\n",
    "\n",
    "learning_rate = 0.001\n",
    "epochs_n = 150\n",
    "patience = 15\n",
    "batch_size = 32\n",
    "validation_split = 0.2\n",
    "\n",
    "input_shape=None"
   ]
  },
  {
   "cell_type": "markdown",
   "id": "31d598ef",
   "metadata": {},
   "source": [
    "### Loading data from edf files, segmenting and splitting to train and test datasets"
   ]
  },
  {
   "cell_type": "code",
   "execution_count": 5,
   "id": "5eb29333",
   "metadata": {},
   "outputs": [
    {
     "name": "stdout",
     "output_type": "stream",
     "text": [
      "Not setting metadata\n",
      "5771 matching events found\n",
      "No baseline correction applied\n",
      "0 bad epochs dropped\n",
      "\n",
      "Epochs number per patient:  [185, 182, 182, 185, 189, 186, 182, 182, 181, 223, 183, 180, 193, 173, 169, 229, 192, 241, 178, 148, 269, 182, 237, 170, 272, 217, 227, 434]\n",
      "\n",
      "negative:  3165\n",
      "positive:  2606\n",
      "\n",
      "X_train shape: (4616, 1250, 19)\n",
      "X_test shape: (1155, 1250, 19)\n",
      "\n",
      "input shape: (1250, 19)\n"
     ]
    }
   ],
   "source": [
    "X_train, X_test, y_train, y_test = data_loader.load_and_split_data(edfs_path, signal_segment_len, data_split_ratio, seed)"
   ]
  },
  {
   "cell_type": "code",
   "execution_count": 6,
   "id": "a1c6d184",
   "metadata": {},
   "outputs": [
    {
     "data": {
      "text/plain": [
       "(1250, 19)"
      ]
     },
     "execution_count": 6,
     "metadata": {},
     "output_type": "execute_result"
    }
   ],
   "source": [
    "input_shape = data_loader.input_shape\n",
    "input_shape"
   ]
  },
  {
   "cell_type": "markdown",
   "id": "4f5e0ab1",
   "metadata": {},
   "source": [
    "## Models"
   ]
  },
  {
   "cell_type": "markdown",
   "id": "1bcab065",
   "metadata": {},
   "source": [
    "### No dropout"
   ]
  },
  {
   "cell_type": "code",
   "execution_count": 13,
   "id": "a690dd5e",
   "metadata": {},
   "outputs": [],
   "source": [
    "def build_model_GRU128_Dense32(input_shape, opt):    \n",
    "    model = Sequential()\n",
    "    \n",
    "    model.add(GRU(128,input_shape=input_shape))\n",
    "#     model.add(Dropout(0.5))\n",
    "    \n",
    "    model.add(Dense(32, activation='relu'))\n",
    "#     model.add(Dropout(0.4))\n",
    "    \n",
    "    model.add(Dense(1, activation='sigmoid'))\n",
    "    \n",
    "    model._name = 'GRU128_Dense32'\n",
    "    \n",
    "    model.compile(optimizer=opt, \n",
    "          loss='binary_crossentropy',\n",
    "          metrics=['accuracy'])\n",
    "    \n",
    "    \n",
    "    model.summary()\n",
    "    \n",
    "    return model"
   ]
  },
  {
   "cell_type": "code",
   "execution_count": 14,
   "id": "5f612364",
   "metadata": {},
   "outputs": [
    {
     "name": "stdout",
     "output_type": "stream",
     "text": [
      "batch size: 32\n",
      "learning rate: 0.001\n",
      "epochs: 150\n",
      "Model: \"GRU128_Dense32\"\n",
      "_________________________________________________________________\n",
      " Layer (type)                Output Shape              Param #   \n",
      "=================================================================\n",
      " gru_2 (GRU)                 (None, 128)               57216     \n",
      "                                                                 \n",
      " dense_2 (Dense)             (None, 32)                4128      \n",
      "                                                                 \n",
      " dense_3 (Dense)             (None, 1)                 33        \n",
      "                                                                 \n",
      "=================================================================\n",
      "Total params: 61,377\n",
      "Trainable params: 61,377\n",
      "Non-trainable params: 0\n",
      "_________________________________________________________________\n",
      "Epoch 1/150\n",
      "116/116 [==============================] - 13s 97ms/step - loss: 0.5719 - accuracy: 0.6785 - val_loss: 0.5300 - val_accuracy: 0.7197\n",
      "Epoch 2/150\n",
      "116/116 [==============================] - 14s 119ms/step - loss: 0.4321 - accuracy: 0.7928 - val_loss: 0.4771 - val_accuracy: 0.7652\n",
      "Epoch 3/150\n",
      " 22/116 [====>.........................] - ETA: 9s - loss: 0.3557 - accuracy: 0.8352 "
     ]
    },
    {
     "name": "stderr",
     "output_type": "stream",
     "text": [
      "\n",
      "KeyboardInterrupt\n",
      "\n"
     ]
    }
   ],
   "source": [
    "model_runner.run(X_train, X_test, y_train, y_test, input_shape, build_model_GRU128_Dense32, \n",
    "    learning_rate, epochs_n, patience, batch_size, validation_split, save_path)"
   ]
  },
  {
   "cell_type": "markdown",
   "id": "9ed49bcd",
   "metadata": {},
   "source": [
    "### Dropout"
   ]
  },
  {
   "cell_type": "code",
   "execution_count": null,
   "id": "26ff4389",
   "metadata": {},
   "outputs": [],
   "source": [
    "def build_model_GRU128_Drop05_Dense32_Drop04(input_shape, opt):    \n",
    "    model = Sequential()\n",
    "    \n",
    "    model.add(GRU(128,input_shape=input_shape))\n",
    "    model.add(Dropout(0.5))\n",
    "    \n",
    "    model.add(Dense(32, activation='relu'))\n",
    "    model.add(Dropout(0.4))\n",
    "    \n",
    "    model.add(Dense(1, activation='sigmoid'))\n",
    "    \n",
    "    model._name = 'GRU128_Drop05_Dense32_Drop04'\n",
    "    \n",
    "    model.compile(optimizer=opt, \n",
    "          loss='binary_crossentropy',\n",
    "          metrics=['accuracy'])\n",
    "    \n",
    "    \n",
    "    model.summary()\n",
    "    \n",
    "    return model"
   ]
  },
  {
   "cell_type": "code",
   "execution_count": null,
   "id": "eb511294",
   "metadata": {},
   "outputs": [],
   "source": [
    "model_runner.run(X_train, X_test, y_train, y_test, input_shape, build_model_GRU128_Drop05_Dense32_Drop04, \n",
    "    learning_rate, epochs_n, patience, batch_size, validation_split, save_path)"
   ]
  },
  {
   "cell_type": "code",
   "execution_count": null,
   "id": "168b3cf7",
   "metadata": {},
   "outputs": [],
   "source": []
  }
 ],
 "metadata": {
  "kernelspec": {
   "display_name": "Python 3 (ipykernel)",
   "language": "python",
   "name": "python3"
  },
  "language_info": {
   "codemirror_mode": {
    "name": "ipython",
    "version": 3
   },
   "file_extension": ".py",
   "mimetype": "text/x-python",
   "name": "python",
   "nbconvert_exporter": "python",
   "pygments_lexer": "ipython3",
   "version": "3.9.12"
  }
 },
 "nbformat": 4,
 "nbformat_minor": 5
}
