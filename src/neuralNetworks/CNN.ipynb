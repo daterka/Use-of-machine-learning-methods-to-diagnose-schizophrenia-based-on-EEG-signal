{
 "cells": [
  {
   "cell_type": "code",
   "execution_count": 14,
   "id": "013adb54",
   "metadata": {},
   "outputs": [],
   "source": [
    "import os\n",
    "\n",
    "import tensorflow as tf\n",
    "\n",
    "from tensorflow.keras.models import Model,Sequential\n",
    "from tensorflow.keras.layers import Dense, Dropout, MaxPooling1D, Conv1D, Flatten\n",
    "from tensorflow.keras import regularizers\n",
    "\n",
    "import raw_data_loader as data_loader\n",
    "\n",
    "import model_runner"
   ]
  },
  {
   "cell_type": "code",
   "execution_count": 2,
   "id": "f5ff259d",
   "metadata": {},
   "outputs": [
    {
     "data": {
      "text/plain": [
       "'/device:GPU:0'"
      ]
     },
     "execution_count": 2,
     "metadata": {},
     "output_type": "execute_result"
    }
   ],
   "source": [
    "# os.environ[\"CUDA_VISIBLE_DEVICES\"] = \"-1\"\n",
    "tf.test.gpu_device_name()"
   ]
  },
  {
   "cell_type": "code",
   "execution_count": 3,
   "id": "833ae4f7",
   "metadata": {},
   "outputs": [],
   "source": [
    "edfs_path = \"../../../dataverse_files\"\n",
    "save_path = '../../../Results/CNN'"
   ]
  },
  {
   "cell_type": "code",
   "execution_count": 4,
   "id": "ea30fe77",
   "metadata": {},
   "outputs": [],
   "source": [
    "signal_segment_len = 5.0\n",
    "data_split_ratio = 0.2\n",
    "seed=1337\n",
    "\n",
    "learning_rate = 0.001\n",
    "epochs_n = 150\n",
    "patience = 15\n",
    "batch_size = 32\n",
    "validation_split = 0.2\n",
    "\n",
    "input_shape=None"
   ]
  },
  {
   "cell_type": "markdown",
   "id": "31d598ef",
   "metadata": {},
   "source": [
    "### Loading data from edf files, segmenting and splitting to train and test datasets"
   ]
  },
  {
   "cell_type": "code",
   "execution_count": 5,
   "id": "5eb29333",
   "metadata": {},
   "outputs": [
    {
     "name": "stdout",
     "output_type": "stream",
     "text": [
      "Not setting metadata\n",
      "5771 matching events found\n",
      "No baseline correction applied\n",
      "0 bad epochs dropped\n",
      "\n",
      "Epochs number per patient:  [185, 182, 182, 185, 189, 186, 182, 182, 181, 223, 183, 180, 193, 173, 169, 229, 192, 241, 178, 148, 269, 182, 237, 170, 272, 217, 227, 434]\n",
      "\n",
      "negative:  3165\n",
      "positive:  2606\n",
      "\n",
      "X_train shape: (4616, 1250, 19)\n",
      "X_test shape: (1155, 1250, 19)\n",
      "\n",
      "input shape: (1250, 19)\n"
     ]
    }
   ],
   "source": [
    "X_train, X_test, y_train, y_test = data_loader.load_and_split_data(edfs_path, signal_segment_len, data_split_ratio, seed)"
   ]
  },
  {
   "cell_type": "code",
   "execution_count": 6,
   "id": "a1c6d184",
   "metadata": {},
   "outputs": [
    {
     "data": {
      "text/plain": [
       "(1250, 19)"
      ]
     },
     "execution_count": 6,
     "metadata": {},
     "output_type": "execute_result"
    }
   ],
   "source": [
    "input_shape = data_loader.input_shape\n",
    "input_shape"
   ]
  },
  {
   "cell_type": "markdown",
   "id": "4f5e0ab1",
   "metadata": {},
   "source": [
    "## Models"
   ]
  },
  {
   "cell_type": "markdown",
   "id": "1bcab065",
   "metadata": {},
   "source": [
    "### CNN"
   ]
  },
  {
   "cell_type": "code",
   "execution_count": 17,
   "id": "a690dd5e",
   "metadata": {},
   "outputs": [],
   "source": [
    "from tensorflow.keras import layers\n",
    "\n",
    "def build_model_CNN1d(input_shape, opt):    \n",
    "    model = Sequential()\n",
    "    \n",
    "    model.add(Conv1D(filters=64, kernel_size=3, activation='relu', input_shape=input_shape))\n",
    "    model.add(Dropout(0.5))\n",
    "    \n",
    "    model.add(Conv1D(filters=64, kernel_size=3, activation='relu'))\n",
    "    model.add(Dropout(0.5))\n",
    "    \n",
    "    model.add(MaxPooling1D(pool_size=2))\n",
    "    model.add(Flatten())\n",
    "    \n",
    "    model.add(Dense(128, activation='relu'))\n",
    "    model.add(Dropout(0.4))\n",
    "    \n",
    "    model.add(Dense(1, activation='sigmoid'))\n",
    "    \n",
    "    model._name = 'CNN1d_dropout'\n",
    "    \n",
    "    model.compile(optimizer=opt, \n",
    "          loss='binary_crossentropy',\n",
    "          metrics=['accuracy'])\n",
    "    \n",
    "    \n",
    "    model.summary()\n",
    "    \n",
    "    return model"
   ]
  },
  {
   "cell_type": "code",
   "execution_count": 18,
   "id": "5f612364",
   "metadata": {},
   "outputs": [
    {
     "name": "stdout",
     "output_type": "stream",
     "text": [
      "batch size: 32\n",
      "learning rate: 0.001\n",
      "epochs: 150\n",
      "Model: \"CNN1d_dropout\"\n",
      "_________________________________________________________________\n",
      " Layer (type)                Output Shape              Param #   \n",
      "=================================================================\n",
      " conv1d_4 (Conv1D)           (None, 1248, 64)          3712      \n",
      "                                                                 \n",
      " dropout_2 (Dropout)         (None, 1248, 64)          0         \n",
      "                                                                 \n",
      " conv1d_5 (Conv1D)           (None, 1246, 64)          12352     \n",
      "                                                                 \n",
      " dropout_3 (Dropout)         (None, 1246, 64)          0         \n",
      "                                                                 \n",
      " max_pooling1d_2 (MaxPooling  (None, 623, 64)          0         \n",
      " 1D)                                                             \n",
      "                                                                 \n",
      " flatten_1 (Flatten)         (None, 39872)             0         \n",
      "                                                                 \n",
      " dense_2 (Dense)             (None, 128)               5103744   \n",
      "                                                                 \n",
      " dropout_4 (Dropout)         (None, 128)               0         \n",
      "                                                                 \n",
      " dense_3 (Dense)             (None, 1)                 129       \n",
      "                                                                 \n",
      "=================================================================\n",
      "Total params: 5,119,937\n",
      "Trainable params: 5,119,937\n",
      "Non-trainable params: 0\n",
      "_________________________________________________________________\n",
      "Epoch 1/150\n",
      "116/116 [==============================] - 7s 56ms/step - loss: 11.8817 - accuracy: 0.5702 - val_loss: 0.6065 - val_accuracy: 0.7132\n",
      "Epoch 2/150\n",
      "116/116 [==============================] - 7s 63ms/step - loss: 0.5803 - accuracy: 0.6763 - val_loss: 0.5787 - val_accuracy: 0.7965\n",
      "Epoch 3/150\n",
      "116/116 [==============================] - 7s 60ms/step - loss: 0.5270 - accuracy: 0.7579 - val_loss: 0.5605 - val_accuracy: 0.7738\n",
      "Epoch 4/150\n",
      "116/116 [==============================] - 6s 52ms/step - loss: 0.5087 - accuracy: 0.7933 - val_loss: 0.4840 - val_accuracy: 0.8961\n",
      "Epoch 5/150\n",
      "116/116 [==============================] - 6s 48ms/step - loss: 0.4311 - accuracy: 0.8456 - val_loss: 0.4739 - val_accuracy: 0.9080\n",
      "Epoch 6/150\n",
      "116/116 [==============================] - 6s 48ms/step - loss: 0.3950 - accuracy: 0.8716 - val_loss: 0.4086 - val_accuracy: 0.9297\n",
      "Epoch 7/150\n",
      "116/116 [==============================] - 6s 48ms/step - loss: 0.3607 - accuracy: 0.8879 - val_loss: 0.3688 - val_accuracy: 0.9329\n",
      "Epoch 8/150\n",
      "116/116 [==============================] - 6s 49ms/step - loss: 0.3412 - accuracy: 0.9001 - val_loss: 0.3846 - val_accuracy: 0.9048\n",
      "Epoch 9/150\n",
      "116/116 [==============================] - 6s 49ms/step - loss: 0.3226 - accuracy: 0.8982 - val_loss: 0.3523 - val_accuracy: 0.9210\n",
      "Epoch 10/150\n",
      "116/116 [==============================] - 6s 49ms/step - loss: 0.2825 - accuracy: 0.9066 - val_loss: 0.3598 - val_accuracy: 0.9167\n",
      "Epoch 11/150\n",
      "116/116 [==============================] - 6s 48ms/step - loss: 0.2483 - accuracy: 0.9163 - val_loss: 0.3044 - val_accuracy: 0.9372\n",
      "Epoch 12/150\n",
      "116/116 [==============================] - 6s 48ms/step - loss: 0.2327 - accuracy: 0.9244 - val_loss: 0.2605 - val_accuracy: 0.9491\n",
      "Epoch 13/150\n",
      "116/116 [==============================] - 6s 48ms/step - loss: 0.2256 - accuracy: 0.9334 - val_loss: 0.2837 - val_accuracy: 0.9426\n",
      "Epoch 14/150\n",
      "116/116 [==============================] - 6s 48ms/step - loss: 0.1966 - accuracy: 0.9491 - val_loss: 0.3069 - val_accuracy: 0.9535\n",
      "Epoch 15/150\n",
      "116/116 [==============================] - 6s 48ms/step - loss: 0.1704 - accuracy: 0.9531 - val_loss: 0.2991 - val_accuracy: 0.9578\n",
      "Epoch 16/150\n",
      "116/116 [==============================] - 5s 47ms/step - loss: 0.1735 - accuracy: 0.9485 - val_loss: 0.2816 - val_accuracy: 0.9459\n",
      "Epoch 17/150\n",
      "116/116 [==============================] - 6s 48ms/step - loss: 0.1493 - accuracy: 0.9564 - val_loss: 0.2785 - val_accuracy: 0.9481\n",
      "Epoch 18/150\n",
      "116/116 [==============================] - 6s 48ms/step - loss: 0.1567 - accuracy: 0.9485 - val_loss: 0.3124 - val_accuracy: 0.9621\n",
      "Epoch 19/150\n",
      "116/116 [==============================] - 6s 49ms/step - loss: 0.1531 - accuracy: 0.9586 - val_loss: 0.3099 - val_accuracy: 0.9578\n",
      "Epoch 20/150\n",
      "116/116 [==============================] - 6s 49ms/step - loss: 0.1125 - accuracy: 0.9683 - val_loss: 0.3073 - val_accuracy: 0.9675\n",
      "Epoch 21/150\n",
      "116/116 [==============================] - 6s 48ms/step - loss: 0.0931 - accuracy: 0.9786 - val_loss: 0.3372 - val_accuracy: 0.9556\n",
      "Epoch 22/150\n",
      "116/116 [==============================] - 5s 47ms/step - loss: 0.1209 - accuracy: 0.9678 - val_loss: 0.2629 - val_accuracy: 0.9600\n",
      "Epoch 23/150\n",
      "116/116 [==============================] - 6s 49ms/step - loss: 0.2024 - accuracy: 0.9550 - val_loss: 0.2765 - val_accuracy: 0.9524\n",
      "Epoch 24/150\n",
      "116/116 [==============================] - 6s 53ms/step - loss: 0.1111 - accuracy: 0.9702 - val_loss: 0.2328 - val_accuracy: 0.9654\n",
      "Epoch 25/150\n",
      "116/116 [==============================] - 8s 66ms/step - loss: 0.1041 - accuracy: 0.9707 - val_loss: 0.2302 - val_accuracy: 0.9600\n",
      "Epoch 26/150\n",
      "116/116 [==============================] - 2s 19ms/step - loss: 0.0887 - accuracy: 0.9797 - val_loss: 0.1884 - val_accuracy: 0.9643\n",
      "Epoch 27/150\n",
      "116/116 [==============================] - 2s 18ms/step - loss: 0.0803 - accuracy: 0.9813 - val_loss: 0.1535 - val_accuracy: 0.9697\n",
      "Epoch 28/150\n",
      "116/116 [==============================] - 3s 24ms/step - loss: 0.0833 - accuracy: 0.9827 - val_loss: 0.1802 - val_accuracy: 0.9719\n",
      "Epoch 29/150\n",
      "116/116 [==============================] - 2s 19ms/step - loss: 0.0891 - accuracy: 0.9767 - val_loss: 0.2546 - val_accuracy: 0.9113\n",
      "Epoch 30/150\n",
      "116/116 [==============================] - 3s 29ms/step - loss: 0.1008 - accuracy: 0.9737 - val_loss: 0.2292 - val_accuracy: 0.9610\n",
      "Epoch 31/150\n",
      "116/116 [==============================] - 2s 19ms/step - loss: 0.0697 - accuracy: 0.9829 - val_loss: 0.2261 - val_accuracy: 0.9600\n",
      "Epoch 32/150\n",
      "116/116 [==============================] - 5s 42ms/step - loss: 0.0666 - accuracy: 0.9821 - val_loss: 0.1821 - val_accuracy: 0.9665\n",
      "Epoch 33/150\n",
      "116/116 [==============================] - 2s 18ms/step - loss: 0.0766 - accuracy: 0.9794 - val_loss: 0.1637 - val_accuracy: 0.9751\n",
      "Epoch 34/150\n",
      "116/116 [==============================] - 5s 40ms/step - loss: 0.0629 - accuracy: 0.9865 - val_loss: 0.1662 - val_accuracy: 0.9643\n",
      "Epoch 35/150\n",
      "116/116 [==============================] - 6s 48ms/step - loss: 0.0607 - accuracy: 0.9875 - val_loss: 0.1986 - val_accuracy: 0.9751\n",
      "Epoch 36/150\n",
      "116/116 [==============================] - 6s 54ms/step - loss: 0.0693 - accuracy: 0.9829 - val_loss: 0.1415 - val_accuracy: 0.9697\n",
      "Epoch 37/150\n",
      "116/116 [==============================] - 7s 57ms/step - loss: 0.0493 - accuracy: 0.9884 - val_loss: 0.1629 - val_accuracy: 0.9708\n",
      "Epoch 38/150\n",
      "116/116 [==============================] - 2s 19ms/step - loss: 0.0570 - accuracy: 0.9894 - val_loss: 0.1334 - val_accuracy: 0.9740\n",
      "Epoch 39/150\n",
      "116/116 [==============================] - 4s 37ms/step - loss: 0.0586 - accuracy: 0.9856 - val_loss: 0.1039 - val_accuracy: 0.9740\n",
      "Epoch 40/150\n",
      "116/116 [==============================] - 6s 50ms/step - loss: 0.0587 - accuracy: 0.9902 - val_loss: 0.0895 - val_accuracy: 0.9686\n",
      "Epoch 41/150\n",
      "116/116 [==============================] - 4s 32ms/step - loss: 0.0600 - accuracy: 0.9846 - val_loss: 0.1135 - val_accuracy: 0.9567\n",
      "Epoch 42/150\n",
      "116/116 [==============================] - 2s 21ms/step - loss: 0.0745 - accuracy: 0.9859 - val_loss: 0.1048 - val_accuracy: 0.9675\n",
      "Epoch 43/150\n",
      "116/116 [==============================] - 6s 53ms/step - loss: 0.0712 - accuracy: 0.9802 - val_loss: 0.1084 - val_accuracy: 0.9740\n",
      "Epoch 44/150\n",
      "116/116 [==============================] - 6s 50ms/step - loss: 0.0552 - accuracy: 0.9875 - val_loss: 0.1750 - val_accuracy: 0.9545\n",
      "Epoch 45/150\n"
     ]
    },
    {
     "name": "stdout",
     "output_type": "stream",
     "text": [
      "116/116 [==============================] - 3s 27ms/step - loss: 0.0359 - accuracy: 0.9902 - val_loss: 0.1581 - val_accuracy: 0.9762\n",
      "Epoch 46/150\n",
      "116/116 [==============================] - 4s 31ms/step - loss: 0.0309 - accuracy: 0.9908 - val_loss: 0.1760 - val_accuracy: 0.9794\n",
      "Epoch 47/150\n",
      "116/116 [==============================] - 6s 49ms/step - loss: 0.0466 - accuracy: 0.9862 - val_loss: 0.3023 - val_accuracy: 0.9459\n",
      "Epoch 48/150\n",
      "116/116 [==============================] - 6s 50ms/step - loss: 0.0884 - accuracy: 0.9843 - val_loss: 0.1369 - val_accuracy: 0.9708\n",
      "Epoch 49/150\n",
      "116/116 [==============================] - 6s 54ms/step - loss: 0.0390 - accuracy: 0.9892 - val_loss: 0.2246 - val_accuracy: 0.9729\n",
      "Epoch 50/150\n",
      "116/116 [==============================] - 6s 55ms/step - loss: 0.0559 - accuracy: 0.9878 - val_loss: 0.3785 - val_accuracy: 0.8853\n",
      "Epoch 51/150\n",
      "116/116 [==============================] - 6s 54ms/step - loss: 0.0511 - accuracy: 0.9813 - val_loss: 0.3460 - val_accuracy: 0.9297\n",
      "Epoch 52/150\n",
      "116/116 [==============================] - 6s 51ms/step - loss: 0.0636 - accuracy: 0.9827 - val_loss: 0.1760 - val_accuracy: 0.9762\n",
      "Epoch 53/150\n",
      "116/116 [==============================] - 6s 50ms/step - loss: 0.0259 - accuracy: 0.9919 - val_loss: 0.1934 - val_accuracy: 0.9751\n",
      "Epoch 54/150\n",
      "116/116 [==============================] - 6s 48ms/step - loss: 0.0293 - accuracy: 0.9916 - val_loss: 0.1525 - val_accuracy: 0.9621\n",
      "Epoch 55/150\n",
      "116/116 [==============================] - 6s 48ms/step - loss: 0.0552 - accuracy: 0.9848 - val_loss: 0.2986 - val_accuracy: 0.8864\n",
      "Epoch 56/150\n",
      "116/116 [==============================] - 6s 48ms/step - loss: 0.0334 - accuracy: 0.9916 - val_loss: 0.0977 - val_accuracy: 0.9816\n",
      "Epoch 57/150\n",
      "116/116 [==============================] - 6s 48ms/step - loss: 0.0519 - accuracy: 0.9889 - val_loss: 0.1412 - val_accuracy: 0.9686\n",
      "Epoch 58/150\n",
      "116/116 [==============================] - 6s 48ms/step - loss: 0.0278 - accuracy: 0.9924 - val_loss: 0.1240 - val_accuracy: 0.9773\n",
      "Epoch 59/150\n",
      "116/116 [==============================] - 6s 48ms/step - loss: 0.0203 - accuracy: 0.9940 - val_loss: 0.0952 - val_accuracy: 0.9848\n",
      "Epoch 60/150\n",
      "116/116 [==============================] - 6s 48ms/step - loss: 0.0340 - accuracy: 0.9900 - val_loss: 0.0758 - val_accuracy: 0.9827\n",
      "Epoch 61/150\n",
      "116/116 [==============================] - 5s 47ms/step - loss: 0.0444 - accuracy: 0.9892 - val_loss: 0.0977 - val_accuracy: 0.9773\n",
      "Epoch 62/150\n",
      "116/116 [==============================] - 6s 48ms/step - loss: 0.0563 - accuracy: 0.9870 - val_loss: 0.1343 - val_accuracy: 0.9773\n",
      "Epoch 63/150\n",
      "116/116 [==============================] - 6s 48ms/step - loss: 0.0338 - accuracy: 0.9935 - val_loss: 0.0753 - val_accuracy: 0.9816\n",
      "Epoch 64/150\n",
      "116/116 [==============================] - 5s 47ms/step - loss: 0.0188 - accuracy: 0.9962 - val_loss: 0.1329 - val_accuracy: 0.9794\n",
      "Epoch 65/150\n",
      "116/116 [==============================] - 6s 48ms/step - loss: 0.0326 - accuracy: 0.9902 - val_loss: 0.1145 - val_accuracy: 0.9751\n",
      "Epoch 66/150\n",
      "116/116 [==============================] - 6s 48ms/step - loss: 0.0498 - accuracy: 0.9854 - val_loss: 0.1034 - val_accuracy: 0.9762\n",
      "Epoch 67/150\n",
      "116/116 [==============================] - 6s 48ms/step - loss: 0.0162 - accuracy: 0.9962 - val_loss: 0.1448 - val_accuracy: 0.9805\n",
      "Epoch 68/150\n",
      "116/116 [==============================] - 6s 48ms/step - loss: 0.0335 - accuracy: 0.9911 - val_loss: 0.0954 - val_accuracy: 0.9827\n",
      "Epoch 69/150\n",
      "116/116 [==============================] - 5s 47ms/step - loss: 0.0167 - accuracy: 0.9954 - val_loss: 0.1177 - val_accuracy: 0.9665\n",
      "Epoch 70/150\n",
      "116/116 [==============================] - 5s 47ms/step - loss: 0.0112 - accuracy: 0.9967 - val_loss: 0.0697 - val_accuracy: 0.9784\n",
      "Epoch 71/150\n",
      "116/116 [==============================] - 5s 47ms/step - loss: 0.0536 - accuracy: 0.9837 - val_loss: 0.0903 - val_accuracy: 0.9794\n",
      "Epoch 72/150\n",
      "116/116 [==============================] - 5s 47ms/step - loss: 0.0234 - accuracy: 0.9924 - val_loss: 0.0819 - val_accuracy: 0.9762\n",
      "Epoch 73/150\n",
      "116/116 [==============================] - 5s 47ms/step - loss: 0.0253 - accuracy: 0.9932 - val_loss: 0.0987 - val_accuracy: 0.9784\n",
      "Epoch 74/150\n",
      "115/116 [============================>.] - ETA: 0s - loss: 0.0440 - accuracy: 0.9880Restoring model weights from the end of the best epoch: 59.\n",
      "116/116 [==============================] - 5s 47ms/step - loss: 0.0439 - accuracy: 0.9881 - val_loss: 0.1037 - val_accuracy: 0.9654\n",
      "Epoch 74: early stopping\n"
     ]
    },
    {
     "data": {
      "image/png": "[encoded data removed]",
      "text/plain": [
       "<Figure size 432x288 with 1 Axes>"
      ]
     },
     "metadata": {
      "needs_background": "light"
     },
     "output_type": "display_data"
    },
    {
     "data": {
      "image/png": "[encoded data removed]",
      "text/plain": [
       "<Figure size 432x288 with 1 Axes>"
      ]
     },
     "metadata": {
      "needs_background": "light"
     },
     "output_type": "display_data"
    },
    {
     "name": "stdout",
     "output_type": "stream",
     "text": [
      "Test Accuracy: 0.9861471861471861\n",
      "F1 score: 0.9872611464968153\n"
     ]
    },
    {
     "data": {
      "image/png": "[encoded data removed]",
      "text/plain": [
       "<Figure size 432x288 with 2 Axes>"
      ]
     },
     "metadata": {
      "needs_background": "light"
     },
     "output_type": "display_data"
    },
    {
     "data": {
      "image/png": "[encoded data removed]",
      "text/plain": [
       "<Figure size 432x288 with 1 Axes>"
      ]
     },
     "metadata": {
      "needs_background": "light"
     },
     "output_type": "display_data"
    }
   ],
   "source": [
    "model_runner.run(X_train, X_test, y_train, y_test, input_shape, build_model_CNN1d, \n",
    "    learning_rate, epochs_n, patience, batch_size, validation_split, save_path)"
   ]
  },
  {
   "cell_type": "markdown",
   "id": "9ed49bcd",
   "metadata": {},
   "source": [
    "### Dropout"
   ]
  },
  {
   "cell_type": "code",
   "execution_count": null,
   "id": "26ff4389",
   "metadata": {},
   "outputs": [],
   "source": [
    "from tensorflow.keras import layers\n",
    "\n",
    "def build_model_SimpleRNN128_Drop05_Dense32_Drop04(input_shape, opt):    \n",
    "    model = Sequential()\n",
    "    \n",
    "    model.add(SimpleRNN(128,input_shape=input_shape))\n",
    "    model.add(Dropout(0.5))\n",
    "    \n",
    "    model.add(Dense(32, activation='relu'))\n",
    "    model.add(Dropout(0.4))\n",
    "    \n",
    "    model.add(Dense(1, activation='sigmoid'))\n",
    "    \n",
    "    model._name = 'SimpleRNN128_Drop05_Dense32_Drop04'\n",
    "    \n",
    "    model.compile(optimizer=opt, \n",
    "          loss='binary_crossentropy',\n",
    "          metrics=['accuracy'])\n",
    "    \n",
    "    \n",
    "    model.summary()\n",
    "    \n",
    "    return model"
   ]
  },
  {
   "cell_type": "code",
   "execution_count": null,
   "id": "eb511294",
   "metadata": {},
   "outputs": [],
   "source": [
    "model_runner.run(X_train, X_test, y_train, y_test, input_shape, build_model_SimpleRNN128_Drop05_Dense32_Drop04, \n",
    "    learning_rate, epochs_n, patience, batch_size, validation_split, save_path)"
   ]
  },
  {
   "cell_type": "code",
   "execution_count": null,
   "id": "168b3cf7",
   "metadata": {},
   "outputs": [],
   "source": []
  }
 ],
 "metadata": {
  "kernelspec": {
   "display_name": "Python 3 (ipykernel)",
   "language": "python",
   "name": "python3"
  },
  "language_info": {
   "codemirror_mode": {
    "name": "ipython",
    "version": 3
   },
   "file_extension": ".py",
   "mimetype": "text/x-python",
   "name": "python",
   "nbconvert_exporter": "python",
   "pygments_lexer": "ipython3",
   "version": "3.9.12"
  }
 },
 "nbformat": 4,
 "nbformat_minor": 5
}
