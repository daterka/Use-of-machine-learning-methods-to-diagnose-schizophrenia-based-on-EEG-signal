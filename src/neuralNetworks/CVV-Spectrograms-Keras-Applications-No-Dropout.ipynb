{
 "cells": [
  {
   "cell_type": "markdown",
   "metadata": {},
   "source": [
    "### VGG16\n"
   ]
  },
  {
   "cell_type": "code",
   "execution_count": 1,
   "metadata": {},
   "outputs": [],
   "source": [
    "import gc\n",
    "import time\n",
    "import os\n",
    "\n",
    "import keras\n",
    "from keras.models import Sequential\n",
    "from keras.layers import Dense, Conv2D, MaxPool2D , Flatten, GlobalAveragePooling2D\n",
    "from keras.preprocessing.image import ImageDataGenerator\n",
    "import numpy as np\n",
    "\n",
    "from keras.models import Model\n",
    "from keras.optimizers import Adam\n",
    "from keras.applications.vgg16 import VGG16, preprocess_input\n",
    "from keras.preprocessing.image import ImageDataGenerator\n",
    "from keras.callbacks import ModelCheckpoint, EarlyStopping\n",
    "from keras.layers import Dense, Dropout, Flatten\n",
    "from tensorflow.keras import regularizers\n",
    "from pathlib import Path\n",
    "\n",
    "import tensorflow as tf\n",
    "from tensorflow import keras\n",
    "from tensorflow.keras import layers\n",
    "\n",
    "from sklearn.metrics import accuracy_score, ConfusionMatrixDisplay, RocCurveDisplay, f1_score\n",
    "\n",
    "import seaborn as sn\n",
    "\n",
    "from tensorflow.python.client import device_lib\n",
    "\n",
    "\n",
    "from sklearn.model_selection import cross_val_score\n",
    "\n",
    "from matplotlib import pyplot as plt\n",
    "\n",
    "from numba import cuda "
   ]
  },
  {
   "cell_type": "code",
   "execution_count": null,
   "metadata": {},
   "outputs": [],
   "source": []
  },
  {
   "cell_type": "code",
   "execution_count": 2,
   "metadata": {},
   "outputs": [
    {
     "data": {
      "text/plain": [
       "'/device:GPU:0'"
      ]
     },
     "execution_count": 2,
     "metadata": {},
     "output_type": "execute_result"
    }
   ],
   "source": [
    "tf.test.gpu_device_name()"
   ]
  },
  {
   "cell_type": "code",
   "execution_count": null,
   "metadata": {},
   "outputs": [],
   "source": []
  },
  {
   "cell_type": "code",
   "execution_count": 3,
   "metadata": {},
   "outputs": [],
   "source": [
    "train_dataset_path = '../spectrograms_dataset_old/train/'\n",
    "test_dataset_path = '../spectrograms_dataset_old/test/'"
   ]
  },
  {
   "cell_type": "code",
   "execution_count": 4,
   "metadata": {},
   "outputs": [],
   "source": [
    "validation_data_ratio = 0.2\n",
    "image_shape = (224, 224)\n",
    "batch_size = 64\n",
    "# n_steps = traingen.samples // BATCH_SIZE\n",
    "# n_val_steps = validgen.samples // BATCH_SIZE\n",
    "n_epochs = 50\n",
    "\n",
    "input_shape = None\n",
    "label_shape = None"
   ]
  },
  {
   "cell_type": "code",
   "execution_count": 5,
   "metadata": {
    "scrolled": true
   },
   "outputs": [],
   "source": [
    "def load_train_ds():\n",
    "    train_ds = keras.utils.image_dataset_from_directory(\n",
    "        directory=train_dataset_path,\n",
    "        labels='inferred',\n",
    "        label_mode='binary',\n",
    "        seed=1337,\n",
    "        shuffle=True,\n",
    "        validation_split=validation_data_ratio,\n",
    "        subset='training',\n",
    "        batch_size=batch_size,\n",
    "        image_size=image_shape)\n",
    "    \n",
    "    return train_ds"
   ]
  },
  {
   "cell_type": "code",
   "execution_count": 6,
   "metadata": {},
   "outputs": [],
   "source": [
    "def load_validation_ds():\n",
    "    validation_ds = keras.utils.image_dataset_from_directory(\n",
    "        directory=train_dataset_path,\n",
    "        labels='inferred',\n",
    "        label_mode='binary',\n",
    "        seed=1337,\n",
    "        shuffle=True,\n",
    "        validation_split=validation_data_ratio,\n",
    "        subset='validation',\n",
    "        batch_size=1,\n",
    "        image_size=image_shape)\n",
    "    \n",
    "    return validation_ds"
   ]
  },
  {
   "cell_type": "code",
   "execution_count": 7,
   "metadata": {},
   "outputs": [],
   "source": [
    "def load_test_ds():\n",
    "    test_ds = keras.utils.image_dataset_from_directory(\n",
    "        directory=test_dataset_path,\n",
    "        labels='inferred',\n",
    "        label_mode='binary',\n",
    "        seed=1337,\n",
    "        shuffle=True,\n",
    "        batch_size=1,\n",
    "        image_size=image_shape)\n",
    "    \n",
    "    return test_ds"
   ]
  },
  {
   "cell_type": "code",
   "execution_count": 8,
   "metadata": {},
   "outputs": [],
   "source": [
    "def load_datasets():\n",
    "    train_ds = load_train_ds()\n",
    "    validation_ds = load_validation_ds()\n",
    "    test_ds = load_test_ds()\n",
    "    \n",
    "    return train_ds, validation_ds, test_ds"
   ]
  },
  {
   "cell_type": "code",
   "execution_count": 9,
   "metadata": {},
   "outputs": [],
   "source": [
    "def get_input_shape(ds):\n",
    "    input_shape = None\n",
    "    for ims, lbs in ds.take(1):\n",
    "        input_shape = ims[0].shape\n",
    "        label_shape = lbs[0].shape\n",
    "        print('input shape:', input_shape)\n",
    "        print('label shape:', label_shape)\n",
    "        break\n",
    "        \n",
    "    return input_shape"
   ]
  },
  {
   "cell_type": "code",
   "execution_count": 10,
   "metadata": {},
   "outputs": [],
   "source": [
    "def get_classes(ds):\n",
    "    ds.class_names"
   ]
  },
  {
   "cell_type": "code",
   "execution_count": 11,
   "metadata": {},
   "outputs": [],
   "source": [
    "def print_samples(ds):\n",
    "    plt.figure(figsize=(10, 10))\n",
    "    \n",
    "    for images, labels in ds.take(1):\n",
    "        for i in range(9):\n",
    "            ax = plt.subplot(3, 3, i + 1)\n",
    "            plt.imshow(images[i].numpy().astype(\"uint8\"))\n",
    "            plt.title(ds.class_names[int(labels[i])])\n",
    "            plt.axis(\"off\")"
   ]
  },
  {
   "cell_type": "code",
   "execution_count": null,
   "metadata": {},
   "outputs": [],
   "source": []
  },
  {
   "cell_type": "code",
   "execution_count": 12,
   "metadata": {},
   "outputs": [],
   "source": [
    "# def preprocess(images, labels, preprocess_input):\n",
    "# #     return tf.keras.applications.resnet50.preprocess_input(images), labels\n",
    "#     return preprocess_input(images), labels \n",
    "\n",
    "# preprocess = lambda images, labels, preprocess_input: preprocess_input(images, labels)"
   ]
  },
  {
   "cell_type": "code",
   "execution_count": 13,
   "metadata": {},
   "outputs": [],
   "source": [
    "# a = lambda x, y: (x*x, y)\n",
    "\n",
    "# a(2, 3)"
   ]
  },
  {
   "cell_type": "code",
   "execution_count": 14,
   "metadata": {},
   "outputs": [],
   "source": [
    "def preprocess_datasets(train_ds, validation_ds, test_ds, preprocess_input):\n",
    "    ## Preprocessing input\n",
    "    train_dataset = train_ds.map(lambda images, labels:( preprocess_input(images), labels))\n",
    "    validation_dataset = validation_ds.map(lambda images, labels: (preprocess_input(images), labels))\n",
    "    test_dataset = test_ds.map(lambda images, labels: (preprocess_input(images), labels))\n",
    "    \n",
    "    return train_dataset, validation_dataset, test_dataset"
   ]
  },
  {
   "cell_type": "code",
   "execution_count": null,
   "metadata": {},
   "outputs": [],
   "source": []
  },
  {
   "cell_type": "code",
   "execution_count": 15,
   "metadata": {},
   "outputs": [],
   "source": [
    "def plot_loss(history):\n",
    "    plt.plot(history.history['loss'])\n",
    "    plt.plot(history.history['val_loss'])\n",
    "    plt.title('model loss')\n",
    "    plt.ylabel('loss')\n",
    "    plt.xlabel('epoch')\n",
    "    plt.legend(['train', 'val'], loc='upper left')\n",
    "    plt.show()\n"
   ]
  },
  {
   "cell_type": "code",
   "execution_count": 16,
   "metadata": {},
   "outputs": [],
   "source": [
    "def plot_accuracy(history):\n",
    "    plt.plot(history.history['accuracy'])\n",
    "    plt.plot(history.history['val_accuracy'])\n",
    "    plt.title('model accuracy')\n",
    "    plt.ylabel('accuracy')\n",
    "    plt.xlabel('epoch')\n",
    "    plt.legend(['train', 'val'], loc='upper left')\n",
    "    plt.show()"
   ]
  },
  {
   "cell_type": "code",
   "execution_count": null,
   "metadata": {},
   "outputs": [],
   "source": []
  },
  {
   "cell_type": "code",
   "execution_count": 17,
   "metadata": {},
   "outputs": [],
   "source": [
    "# def build_model(input_shape, opt, base_model, flatten = True):\n",
    "#     base_model.trainable = False\n",
    "\n",
    "#     # Create a new 'top' of the model (i.e. fully-connected layers).\n",
    "#     # This is 'bootstrapping' a new top_model onto the pretrained layers.\n",
    "#     top_model = base_model.output\n",
    "    \n",
    "#     if flatten is True:\n",
    "#         top_model = Flatten(name=\"flatten\")(top_model)\n",
    "#     else:\n",
    "#         top_model = GlobalAveragePooling2D(name=\"GlobalAveragePooling2D\")(top_model)\n",
    "            \n",
    "#     top_model = Dropout(0.6)(top_model)\n",
    "\n",
    "#     top_model = Dense(512, activation='relu', name=\"fc1\", \n",
    "#                       kernel_regularizer=regularizers.L1L2(l1=1e-5, l2=1e-4),\n",
    "#                       bias_regularizer=regularizers.L2(1e-4),\n",
    "#                       activity_regularizer=regularizers.L2(1e-5))(top_model)\n",
    "    \n",
    "#     top_model = Dropout(0.7)(top_model)\n",
    "    \n",
    "#     output_layer = Dense(1, activation='sigmoid', name=\"prediction\")(top_model)\n",
    "    \n",
    "#     # Group the convolutional base and new fully-connected layers into a Model object.\n",
    "#     model = Model(inputs=base_model.input, outputs=output_layer)\n",
    "\n",
    "#     # Compiles the model for training.\n",
    "#     model.compile(optimizer=opt, \n",
    "#                   loss='binary_crossentropy',\n",
    "#                   metrics=['accuracy'])\n",
    "    \n",
    "#     print(model.summary())\n",
    "\n",
    "#     return model"
   ]
  },
  {
   "cell_type": "code",
   "execution_count": 18,
   "metadata": {},
   "outputs": [],
   "source": [
    "def build_model(input_shape, opt, base_model, flatten = True):\n",
    "    base_model.trainable = False\n",
    "\n",
    "    # Create a new 'top' of the model (i.e. fully-connected layers).\n",
    "    # This is 'bootstrapping' a new top_model onto the pretrained layers.\n",
    "    top_model = base_model.output\n",
    "    \n",
    "    if flatten is True:\n",
    "        top_model = Flatten(name=\"flatten\")(top_model)\n",
    "    else:\n",
    "        top_model = GlobalAveragePooling2D(name=\"GlobalAveragePooling2D\")(top_model)\n",
    "            \n",
    "#     top_model = Dropout(0.6)(top_model)\n",
    "\n",
    "    top_model = Dense(512, activation='relu', name=\"fc1\", \n",
    "                      kernel_regularizer=regularizers.L1L2(l1=1e-5, l2=1e-4),\n",
    "                      bias_regularizer=regularizers.L2(1e-4),\n",
    "                      activity_regularizer=regularizers.L2(1e-5))(top_model)\n",
    "\n",
    "\n",
    "    \n",
    "#     top_model = Dropout(0.7)(top_model)\n",
    "    \n",
    "    output_layer = Dense(1, activation='sigmoid', name=\"prediction\")(top_model)\n",
    "    \n",
    "    # Group the convolutional base and new fully-connected layers into a Model object.\n",
    "    model = Model(inputs=base_model.input, outputs=output_layer)\n",
    "\n",
    "    # Compiles the model for training.\n",
    "    model.compile(optimizer=opt, \n",
    "                  loss='binary_crossentropy',\n",
    "                  metrics=['accuracy'])\n",
    "    \n",
    "    print(model.summary())\n",
    "\n",
    "    return model"
   ]
  },
  {
   "cell_type": "code",
   "execution_count": 19,
   "metadata": {},
   "outputs": [],
   "source": [
    "def print_parameters(batch_size, lr, epochs):\n",
    "    print('batch size:', batch_size)\n",
    "    print('learning rate:', lr)\n",
    "    print('epochs:', epochs)"
   ]
  },
  {
   "cell_type": "code",
   "execution_count": 20,
   "metadata": {},
   "outputs": [],
   "source": [
    "# EarlyStopping\n",
    "def early_stop(patience):\n",
    "    return EarlyStopping(monitor='val_accuracy',\n",
    "                           patience=patience,\n",
    "                           restore_best_weights=True,\n",
    "                           mode='max', \n",
    "                           verbose=1)"
   ]
  },
  {
   "cell_type": "code",
   "execution_count": 21,
   "metadata": {},
   "outputs": [],
   "source": [
    "def test_model(test_ds, model):\n",
    "    predictions = np.array([])\n",
    "    labels =  np.array([])\n",
    "\n",
    "    for x, y in test_ds:\n",
    "        predictions = np.concatenate([predictions, model.predict(x, verbose=0).reshape(1,-1)[0]])\n",
    "        labels = np.concatenate([labels, np.array(y[0])])\n",
    "\n",
    "    predictions = [0 if x < 0.5 else 1 for x in predictions]\n",
    "\n",
    "    accuracy = accuracy_score(labels, predictions)\n",
    "    print(\"Test Accuracy:\", accuracy)\n",
    "    \n",
    "    f1score = f1_score(labels, predictions)\n",
    "    print(\"F1 score:\", f1score)\n",
    "    \n",
    "\n",
    "#     confusion_mtx = confusion_matrix(labels, predictions)\n",
    "\n",
    "    ConfusionMatrixDisplay.from_predictions(labels, predictions)\n",
    "    \n",
    "    RocCurveDisplay.from_predictions(labels, predictions)\n",
    "    \n",
    "#     print(confusion_mtx)\n",
    "\n",
    "#     ax = plt.axes()\n",
    "#     sn.heatmap(confusion_mtx, annot=True,annot_kws={\"size\": 25}, cmap=\"Blues\", ax = ax, fmt='d')\n",
    "#     ax.set_title('Test Accuracy', size=14)\n",
    "#     plt.show()"
   ]
  },
  {
   "cell_type": "code",
   "execution_count": 22,
   "metadata": {
    "scrolled": true
   },
   "outputs": [],
   "source": [
    "def run(datasets, input_shape, preprocess_input, base_model, flatten = True, lr = 0.001, epochs=100, patience=15):\n",
    "    train_ds, validation_ds, test_ds = preprocess_datasets(*datasets, preprocess_input)\n",
    "    \n",
    "    print_parameters(batch_size, lr, epochs)\n",
    "    \n",
    "    opt = keras.optimizers.Adam(learning_rate=lr)\n",
    "    model = build_model(input_shape, opt, base_model, flatten)\n",
    "    \n",
    "    history = model.fit(\n",
    "        train_ds, \n",
    "        epochs=epochs, \n",
    "        validation_data=validation_ds, \n",
    "        #     callbacks=[tl_checkpoint_1, early_stop],\n",
    "        callbacks=[early_stop(patience)],\n",
    "        verbose=1)\n",
    "    \n",
    "    plot_accuracy(history)\n",
    "    \n",
    "    plot_loss(history)\n",
    "\n",
    "    test_model(test_ds, model)\n",
    "    \n",
    "    del opt, model, history, train_ds, validation_ds, test_ds\n",
    "    \n",
    "    gc.collect()"
   ]
  },
  {
   "cell_type": "markdown",
   "metadata": {},
   "source": [
    "## Load data"
   ]
  },
  {
   "cell_type": "code",
   "execution_count": 23,
   "metadata": {},
   "outputs": [
    {
     "name": "stdout",
     "output_type": "stream",
     "text": [
      "Found 4616 files belonging to 2 classes.\n",
      "Using 3693 files for training.\n",
      "Found 4616 files belonging to 2 classes.\n",
      "Using 923 files for validation.\n",
      "Found 1155 files belonging to 2 classes.\n"
     ]
    }
   ],
   "source": [
    "datasets = load_datasets()"
   ]
  },
  {
   "cell_type": "code",
   "execution_count": 24,
   "metadata": {},
   "outputs": [
    {
     "name": "stdout",
     "output_type": "stream",
     "text": [
      "input shape: (224, 224, 3)\n",
      "label shape: (1,)\n"
     ]
    }
   ],
   "source": [
    "input_shape = get_input_shape(datasets[0])"
   ]
  },
  {
   "cell_type": "markdown",
   "metadata": {},
   "source": [
    "# MODELS"
   ]
  },
  {
   "cell_type": "markdown",
   "metadata": {},
   "source": [
    "### VGG16"
   ]
  },
  {
   "cell_type": "code",
   "execution_count": 25,
   "metadata": {
    "scrolled": false
   },
   "outputs": [
    {
     "name": "stdout",
     "output_type": "stream",
     "text": [
      "batch size: 64\n",
      "learning rate: 0.001\n",
      "epochs: 100\n",
      "Model: \"model\"\n",
      "_________________________________________________________________\n",
      " Layer (type)                Output Shape              Param #   \n",
      "=================================================================\n",
      " input_1 (InputLayer)        [(None, 224, 224, 3)]     0         \n",
      "                                                                 \n",
      " block1_conv1 (Conv2D)       (None, 224, 224, 64)      1792      \n",
      "                                                                 \n",
      " block1_conv2 (Conv2D)       (None, 224, 224, 64)      36928     \n",
      "                                                                 \n",
      " block1_pool (MaxPooling2D)  (None, 112, 112, 64)      0         \n",
      "                                                                 \n",
      " block2_conv1 (Conv2D)       (None, 112, 112, 128)     73856     \n",
      "                                                                 \n",
      " block2_conv2 (Conv2D)       (None, 112, 112, 128)     147584    \n",
      "                                                                 \n",
      " block2_pool (MaxPooling2D)  (None, 56, 56, 128)       0         \n",
      "                                                                 \n",
      " block3_conv1 (Conv2D)       (None, 56, 56, 256)       295168    \n",
      "                                                                 \n",
      " block3_conv2 (Conv2D)       (None, 56, 56, 256)       590080    \n",
      "                                                                 \n",
      " block3_conv3 (Conv2D)       (None, 56, 56, 256)       590080    \n",
      "                                                                 \n",
      " block3_pool (MaxPooling2D)  (None, 28, 28, 256)       0         \n",
      "                                                                 \n",
      " block4_conv1 (Conv2D)       (None, 28, 28, 512)       1180160   \n",
      "                                                                 \n",
      " block4_conv2 (Conv2D)       (None, 28, 28, 512)       2359808   \n",
      "                                                                 \n",
      " block4_conv3 (Conv2D)       (None, 28, 28, 512)       2359808   \n",
      "                                                                 \n",
      " block4_pool (MaxPooling2D)  (None, 14, 14, 512)       0         \n",
      "                                                                 \n",
      " block5_conv1 (Conv2D)       (None, 14, 14, 512)       2359808   \n",
      "                                                                 \n",
      " block5_conv2 (Conv2D)       (None, 14, 14, 512)       2359808   \n",
      "                                                                 \n",
      " block5_conv3 (Conv2D)       (None, 14, 14, 512)       2359808   \n",
      "                                                                 \n",
      " block5_pool (MaxPooling2D)  (None, 7, 7, 512)         0         \n",
      "                                                                 \n",
      " flatten (Flatten)           (None, 25088)             0         \n",
      "                                                                 \n",
      " fc1 (Dense)                 (None, 512)               12845568  \n",
      "                                                                 \n",
      " prediction (Dense)          (None, 1)                 513       \n",
      "                                                                 \n",
      "=================================================================\n",
      "Total params: 27,560,769\n",
      "Trainable params: 12,846,081\n",
      "Non-trainable params: 14,714,688\n",
      "_________________________________________________________________\n",
      "None\n",
      "Epoch 1/100\n",
      "58/58 [==============================] - 162s 3s/step - loss: 5.3597 - accuracy: 0.8216 - val_loss: 0.5993 - val_accuracy: 0.9079\n",
      "Epoch 2/100\n",
      "58/58 [==============================] - 141s 2s/step - loss: 0.4458 - accuracy: 0.9423 - val_loss: 0.4835 - val_accuracy: 0.9263\n",
      "Epoch 3/100\n",
      "58/58 [==============================] - 142s 2s/step - loss: 0.3480 - accuracy: 0.9713 - val_loss: 0.4368 - val_accuracy: 0.9350\n",
      "Epoch 4/100\n",
      "58/58 [==============================] - 139s 2s/step - loss: 0.2782 - accuracy: 0.9900 - val_loss: 0.4272 - val_accuracy: 0.9328\n",
      "Epoch 5/100\n",
      "58/58 [==============================] - 139s 2s/step - loss: 0.2445 - accuracy: 0.9962 - val_loss: 0.3927 - val_accuracy: 0.9350\n",
      "Epoch 6/100\n",
      "58/58 [==============================] - 138s 2s/step - loss: 0.2157 - accuracy: 0.9997 - val_loss: 0.3765 - val_accuracy: 0.9350\n",
      "Epoch 7/100\n",
      "58/58 [==============================] - 138s 2s/step - loss: 0.1975 - accuracy: 1.0000 - val_loss: 0.3557 - val_accuracy: 0.9372\n",
      "Epoch 8/100\n",
      "58/58 [==============================] - 138s 2s/step - loss: 0.1827 - accuracy: 1.0000 - val_loss: 0.3431 - val_accuracy: 0.9361\n",
      "Epoch 9/100\n",
      "58/58 [==============================] - 138s 2s/step - loss: 0.1704 - accuracy: 1.0000 - val_loss: 0.3390 - val_accuracy: 0.9361\n",
      "Epoch 10/100\n",
      "58/58 [==============================] - 138s 2s/step - loss: 0.1597 - accuracy: 1.0000 - val_loss: 0.3227 - val_accuracy: 0.9372\n",
      "Epoch 11/100\n",
      "58/58 [==============================] - 138s 2s/step - loss: 0.1501 - accuracy: 1.0000 - val_loss: 0.3208 - val_accuracy: 0.9350\n",
      "Epoch 12/100\n",
      "58/58 [==============================] - 138s 2s/step - loss: 0.1415 - accuracy: 1.0000 - val_loss: 0.3110 - val_accuracy: 0.9361\n",
      "Epoch 13/100\n",
      "58/58 [==============================] - 138s 2s/step - loss: 0.1337 - accuracy: 1.0000 - val_loss: 0.3013 - val_accuracy: 0.9361\n",
      "Epoch 14/100\n",
      "58/58 [==============================] - 138s 2s/step - loss: 0.1268 - accuracy: 1.0000 - val_loss: 0.3066 - val_accuracy: 0.9350\n",
      "Epoch 15/100\n",
      "58/58 [==============================] - 139s 2s/step - loss: 0.1211 - accuracy: 1.0000 - val_loss: 0.3035 - val_accuracy: 0.9361\n",
      "Epoch 16/100\n",
      "58/58 [==============================] - 139s 2s/step - loss: 0.1153 - accuracy: 1.0000 - val_loss: 0.2878 - val_accuracy: 0.9361\n",
      "Epoch 17/100\n",
      "58/58 [==============================] - ETA: 0s - loss: 0.1098 - accuracy: 1.0000Restoring model weights from the end of the best epoch: 7.\n",
      "58/58 [==============================] - 139s 2s/step - loss: 0.1098 - accuracy: 1.0000 - val_loss: 0.2833 - val_accuracy: 0.9350\n",
      "Epoch 17: early stopping\n"
     ]
    },
    {
     "data": {
      "image/png": "[encoded data removed]",
      "text/plain": [
       "<Figure size 432x288 with 1 Axes>"
      ]
     },
     "metadata": {
      "needs_background": "light"
     },
     "output_type": "display_data"
    },
    {
     "data": {
      "image/png": "[encoded data removed]",
      "text/plain": [
       "<Figure size 432x288 with 1 Axes>"
      ]
     },
     "metadata": {
      "needs_background": "light"
     },
     "output_type": "display_data"
    },
    {
     "name": "stdout",
     "output_type": "stream",
     "text": [
      "Test Accuracy: 0.935930735930736\n",
      "F1 score: 0.9406099518459069\n"
     ]
    },
    {
     "data": {
      "image/png": "[encoded data removed]",
      "text/plain": [
       "<Figure size 432x288 with 2 Axes>"
      ]
     },
     "metadata": {
      "needs_background": "light"
     },
     "output_type": "display_data"
    },
    {
     "data": {
      "image/png": "[encoded data removed]",
      "text/plain": [
       "<Figure size 432x288 with 1 Axes>"
      ]
     },
     "metadata": {
      "needs_background": "light"
     },
     "output_type": "display_data"
    }
   ],
   "source": [
    "base_model = tf.keras.applications.VGG16(include_top=False,\n",
    "                     weights='imagenet', \n",
    "                     input_shape=input_shape)\n",
    "\n",
    "preprocess = tf.keras.applications.vgg16.preprocess_input\n",
    "\n",
    "run(datasets=datasets, input_shape=input_shape, preprocess_input=preprocess, base_model=base_model, \n",
    "    flatten = True, lr = 0.001, epochs=100, patience=10)\n",
    "#     True, 0.0001, 100, 15)"
   ]
  },
  {
   "cell_type": "code",
   "execution_count": null,
   "metadata": {},
   "outputs": [],
   "source": []
  },
  {
   "cell_type": "markdown",
   "metadata": {},
   "source": [
    "### VGG19"
   ]
  },
  {
   "cell_type": "code",
   "execution_count": 26,
   "metadata": {},
   "outputs": [
    {
     "name": "stdout",
     "output_type": "stream",
     "text": [
      "batch size: 64\n",
      "learning rate: 0.001\n",
      "epochs: 100\n",
      "Model: \"model_1\"\n",
      "_________________________________________________________________\n",
      " Layer (type)                Output Shape              Param #   \n",
      "=================================================================\n",
      " input_2 (InputLayer)        [(None, 224, 224, 3)]     0         \n",
      "                                                                 \n",
      " block1_conv1 (Conv2D)       (None, 224, 224, 64)      1792      \n",
      "                                                                 \n",
      " block1_conv2 (Conv2D)       (None, 224, 224, 64)      36928     \n",
      "                                                                 \n",
      " block1_pool (MaxPooling2D)  (None, 112, 112, 64)      0         \n",
      "                                                                 \n",
      " block2_conv1 (Conv2D)       (None, 112, 112, 128)     73856     \n",
      "                                                                 \n",
      " block2_conv2 (Conv2D)       (None, 112, 112, 128)     147584    \n",
      "                                                                 \n",
      " block2_pool (MaxPooling2D)  (None, 56, 56, 128)       0         \n",
      "                                                                 \n",
      " block3_conv1 (Conv2D)       (None, 56, 56, 256)       295168    \n",
      "                                                                 \n",
      " block3_conv2 (Conv2D)       (None, 56, 56, 256)       590080    \n",
      "                                                                 \n",
      " block3_conv3 (Conv2D)       (None, 56, 56, 256)       590080    \n",
      "                                                                 \n",
      " block3_conv4 (Conv2D)       (None, 56, 56, 256)       590080    \n",
      "                                                                 \n",
      " block3_pool (MaxPooling2D)  (None, 28, 28, 256)       0         \n",
      "                                                                 \n",
      " block4_conv1 (Conv2D)       (None, 28, 28, 512)       1180160   \n",
      "                                                                 \n",
      " block4_conv2 (Conv2D)       (None, 28, 28, 512)       2359808   \n",
      "                                                                 \n",
      " block4_conv3 (Conv2D)       (None, 28, 28, 512)       2359808   \n",
      "                                                                 \n",
      " block4_conv4 (Conv2D)       (None, 28, 28, 512)       2359808   \n",
      "                                                                 \n",
      " block4_pool (MaxPooling2D)  (None, 14, 14, 512)       0         \n",
      "                                                                 \n",
      " block5_conv1 (Conv2D)       (None, 14, 14, 512)       2359808   \n",
      "                                                                 \n",
      " block5_conv2 (Conv2D)       (None, 14, 14, 512)       2359808   \n",
      "                                                                 \n",
      " block5_conv3 (Conv2D)       (None, 14, 14, 512)       2359808   \n",
      "                                                                 \n",
      " block5_conv4 (Conv2D)       (None, 14, 14, 512)       2359808   \n",
      "                                                                 \n",
      " block5_pool (MaxPooling2D)  (None, 7, 7, 512)         0         \n",
      "                                                                 \n",
      " flatten (Flatten)           (None, 25088)             0         \n",
      "                                                                 \n",
      " fc1 (Dense)                 (None, 512)               12845568  \n",
      "                                                                 \n",
      " prediction (Dense)          (None, 1)                 513       \n",
      "                                                                 \n",
      "=================================================================\n",
      "Total params: 32,870,465\n",
      "Trainable params: 12,846,081\n",
      "Non-trainable params: 20,024,384\n",
      "_________________________________________________________________\n",
      "None\n",
      "Epoch 1/100\n",
      "58/58 [==============================] - 163s 3s/step - loss: 9.4206 - accuracy: 0.8221 - val_loss: 0.7459 - val_accuracy: 0.8971\n",
      "Epoch 2/100\n",
      "58/58 [==============================] - 161s 3s/step - loss: 0.5127 - accuracy: 0.9412 - val_loss: 0.5923 - val_accuracy: 0.8884\n",
      "Epoch 3/100\n",
      "58/58 [==============================] - 161s 3s/step - loss: 0.3965 - accuracy: 0.9735 - val_loss: 0.5017 - val_accuracy: 0.9285\n",
      "Epoch 4/100\n",
      "58/58 [==============================] - 162s 3s/step - loss: 0.3400 - accuracy: 0.9897 - val_loss: 0.4775 - val_accuracy: 0.9252\n",
      "Epoch 5/100\n",
      "58/58 [==============================] - 161s 3s/step - loss: 0.3076 - accuracy: 0.9924 - val_loss: 0.4856 - val_accuracy: 0.9296\n",
      "Epoch 6/100\n",
      "58/58 [==============================] - 162s 3s/step - loss: 0.2727 - accuracy: 0.9995 - val_loss: 0.4213 - val_accuracy: 0.9307\n",
      "Epoch 7/100\n",
      "58/58 [==============================] - 161s 3s/step - loss: 0.2494 - accuracy: 1.0000 - val_loss: 0.4040 - val_accuracy: 0.9350\n",
      "Epoch 8/100\n",
      "58/58 [==============================] - 162s 3s/step - loss: 0.2315 - accuracy: 1.0000 - val_loss: 0.3876 - val_accuracy: 0.9372\n",
      "Epoch 9/100\n",
      "58/58 [==============================] - 162s 3s/step - loss: 0.2169 - accuracy: 1.0000 - val_loss: 0.3749 - val_accuracy: 0.9361\n",
      "Epoch 10/100\n",
      "58/58 [==============================] - 161s 3s/step - loss: 0.2048 - accuracy: 1.0000 - val_loss: 0.3745 - val_accuracy: 0.9404\n",
      "Epoch 11/100\n",
      "58/58 [==============================] - 161s 3s/step - loss: 0.1946 - accuracy: 1.0000 - val_loss: 0.3664 - val_accuracy: 0.9350\n",
      "Epoch 12/100\n",
      "58/58 [==============================] - 161s 3s/step - loss: 0.1851 - accuracy: 1.0000 - val_loss: 0.3431 - val_accuracy: 0.9350\n",
      "Epoch 13/100\n",
      "58/58 [==============================] - 163s 3s/step - loss: 0.1766 - accuracy: 1.0000 - val_loss: 0.3371 - val_accuracy: 0.9382\n",
      "Epoch 14/100\n",
      "58/58 [==============================] - 161s 3s/step - loss: 0.1689 - accuracy: 1.0000 - val_loss: 0.3267 - val_accuracy: 0.9382\n",
      "Epoch 15/100\n",
      "58/58 [==============================] - 162s 3s/step - loss: 0.1610 - accuracy: 1.0000 - val_loss: 0.3243 - val_accuracy: 0.9404\n",
      "Epoch 16/100\n",
      "58/58 [==============================] - 162s 3s/step - loss: 0.1545 - accuracy: 1.0000 - val_loss: 0.3193 - val_accuracy: 0.9328\n",
      "Epoch 17/100\n",
      "58/58 [==============================] - 161s 3s/step - loss: 0.1497 - accuracy: 1.0000 - val_loss: 0.3234 - val_accuracy: 0.9372\n",
      "Epoch 18/100\n",
      "58/58 [==============================] - 161s 3s/step - loss: 0.1444 - accuracy: 1.0000 - val_loss: 0.3094 - val_accuracy: 0.9393\n",
      "Epoch 19/100\n",
      "58/58 [==============================] - 161s 3s/step - loss: 0.1383 - accuracy: 1.0000 - val_loss: 0.2937 - val_accuracy: 0.9393\n",
      "Epoch 20/100\n",
      "58/58 [==============================] - 161s 3s/step - loss: 0.1330 - accuracy: 1.0000 - val_loss: 0.3030 - val_accuracy: 0.9372\n",
      "Epoch 21/100\n",
      "58/58 [==============================] - 162s 3s/step - loss: 0.1283 - accuracy: 1.0000 - val_loss: 0.2980 - val_accuracy: 0.9382\n",
      "Epoch 22/100\n",
      "58/58 [==============================] - 161s 3s/step - loss: 0.1240 - accuracy: 1.0000 - val_loss: 0.2925 - val_accuracy: 0.9361\n",
      "Epoch 23/100\n",
      "58/58 [==============================] - 164s 3s/step - loss: 0.1202 - accuracy: 1.0000 - val_loss: 0.2841 - val_accuracy: 0.9415\n",
      "Epoch 24/100\n",
      "58/58 [==============================] - 164s 3s/step - loss: 0.1161 - accuracy: 1.0000 - val_loss: 0.2781 - val_accuracy: 0.9393\n",
      "Epoch 25/100\n",
      "58/58 [==============================] - 152s 3s/step - loss: 0.1125 - accuracy: 1.0000 - val_loss: 0.2840 - val_accuracy: 0.9382\n",
      "Epoch 26/100\n",
      "58/58 [==============================] - 160s 3s/step - loss: 0.1087 - accuracy: 1.0000 - val_loss: 0.2827 - val_accuracy: 0.9372\n",
      "Epoch 27/100\n",
      "58/58 [==============================] - 159s 3s/step - loss: 0.1054 - accuracy: 1.0000 - val_loss: 0.2748 - val_accuracy: 0.9361\n",
      "Epoch 28/100\n",
      "58/58 [==============================] - 159s 3s/step - loss: 0.1015 - accuracy: 1.0000 - val_loss: 0.2731 - val_accuracy: 0.9382\n",
      "Epoch 29/100\n",
      "58/58 [==============================] - 163s 3s/step - loss: 0.1010 - accuracy: 1.0000 - val_loss: 0.2701 - val_accuracy: 0.9382\n",
      "Epoch 30/100\n",
      "58/58 [==============================] - 163s 3s/step - loss: 0.8178 - accuracy: 0.8600 - val_loss: 0.4094 - val_accuracy: 0.8938\n",
      "Epoch 31/100\n",
      "58/58 [==============================] - 161s 3s/step - loss: 0.3354 - accuracy: 0.9304 - val_loss: 0.3228 - val_accuracy: 0.9307\n"
     ]
    },
    {
     "name": "stdout",
     "output_type": "stream",
     "text": [
      "Epoch 32/100\n",
      "58/58 [==============================] - 160s 3s/step - loss: 0.2448 - accuracy: 0.9634 - val_loss: 0.3212 - val_accuracy: 0.9166\n",
      "Epoch 33/100\n",
      "58/58 [==============================] - 161s 3s/step - loss: 0.2744 - accuracy: 0.9532 - val_loss: 0.3676 - val_accuracy: 0.9198\n",
      "Epoch 34/100\n",
      "58/58 [==============================] - 159s 3s/step - loss: 0.1934 - accuracy: 0.9859 - val_loss: 0.3422 - val_accuracy: 0.9242\n",
      "Epoch 35/100\n",
      "58/58 [==============================] - 159s 3s/step - loss: 0.1637 - accuracy: 0.9968 - val_loss: 0.3069 - val_accuracy: 0.9328\n",
      "Epoch 36/100\n",
      "58/58 [==============================] - 159s 3s/step - loss: 0.1507 - accuracy: 0.9976 - val_loss: 0.3245 - val_accuracy: 0.9274\n",
      "Epoch 37/100\n",
      "58/58 [==============================] - 159s 3s/step - loss: 0.1413 - accuracy: 0.9978 - val_loss: 0.3175 - val_accuracy: 0.9296\n",
      "Epoch 38/100\n",
      "58/58 [==============================] - ETA: 0s - loss: 0.1332 - accuracy: 0.9976Restoring model weights from the end of the best epoch: 23.\n",
      "58/58 [==============================] - 160s 3s/step - loss: 0.1332 - accuracy: 0.9976 - val_loss: 0.3269 - val_accuracy: 0.9274\n",
      "Epoch 38: early stopping\n"
     ]
    },
    {
     "data": {
      "image/png": "[encoded data removed]",
      "text/plain": [
       "<Figure size 432x288 with 1 Axes>"
      ]
     },
     "metadata": {
      "needs_background": "light"
     },
     "output_type": "display_data"
    },
    {
     "data": {
      "image/png": "[encoded data removed]",
      "text/plain": [
       "<Figure size 432x288 with 1 Axes>"
      ]
     },
     "metadata": {
      "needs_background": "light"
     },
     "output_type": "display_data"
    },
    {
     "name": "stdout",
     "output_type": "stream",
     "text": [
      "Test Accuracy: 0.929004329004329\n",
      "F1 score: 0.9341894060995184\n"
     ]
    },
    {
     "data": {
      "image/png": "[encoded data removed]",
      "text/plain": [
       "<Figure size 432x288 with 2 Axes>"
      ]
     },
     "metadata": {
      "needs_background": "light"
     },
     "output_type": "display_data"
    },
    {
     "data": {
      "image/png": "[encoded data removed]",
      "text/plain": [
       "<Figure size 432x288 with 1 Axes>"
      ]
     },
     "metadata": {
      "needs_background": "light"
     },
     "output_type": "display_data"
    }
   ],
   "source": [
    "# batch size 64, lr 0.001, \n",
    "base_model = tf.keras.applications.VGG19(include_top=False,\n",
    "                     weights='imagenet', \n",
    "                     input_shape=input_shape)\n",
    "\n",
    "preprocess = tf.keras.applications.vgg19.preprocess_input\n",
    "\n",
    "run(datasets=datasets, input_shape=input_shape, preprocess_input=preprocess, base_model=base_model, \n",
    "    flatten = True, lr = 0.001, epochs=100, patience=15)"
   ]
  },
  {
   "cell_type": "code",
   "execution_count": null,
   "metadata": {},
   "outputs": [],
   "source": []
  },
  {
   "cell_type": "markdown",
   "metadata": {},
   "source": [
    "### ResNet50V2"
   ]
  },
  {
   "cell_type": "code",
   "execution_count": 27,
   "metadata": {},
   "outputs": [
    {
     "ename": "NameError",
     "evalue": "name 'process' is not defined",
     "output_type": "error",
     "traceback": [
      "\u001b[1;31m---------------------------------------------------------------------------\u001b[0m",
      "\u001b[1;31mNameError\u001b[0m                                 Traceback (most recent call last)",
      "Input \u001b[1;32mIn [27]\u001b[0m, in \u001b[0;36m<cell line: 9>\u001b[1;34m()\u001b[0m\n\u001b[0;32m      3\u001b[0m base_model \u001b[38;5;241m=\u001b[39m tf\u001b[38;5;241m.\u001b[39mkeras\u001b[38;5;241m.\u001b[39mapplications\u001b[38;5;241m.\u001b[39mresnet_v2\u001b[38;5;241m.\u001b[39mResNet50V2(include_top\u001b[38;5;241m=\u001b[39m\u001b[38;5;28;01mFalse\u001b[39;00m,\n\u001b[0;32m      4\u001b[0m                      weights\u001b[38;5;241m=\u001b[39m\u001b[38;5;124m'\u001b[39m\u001b[38;5;124mimagenet\u001b[39m\u001b[38;5;124m'\u001b[39m, \n\u001b[0;32m      5\u001b[0m                      input_shape\u001b[38;5;241m=\u001b[39minput_shape)\n\u001b[0;32m      7\u001b[0m preprocess \u001b[38;5;241m=\u001b[39m tf\u001b[38;5;241m.\u001b[39mkeras\u001b[38;5;241m.\u001b[39mapplications\u001b[38;5;241m.\u001b[39mresnet_v2\u001b[38;5;241m.\u001b[39mpreprocess_input\n\u001b[1;32m----> 9\u001b[0m run(datasets\u001b[38;5;241m=\u001b[39mdatasets, input_shape\u001b[38;5;241m=\u001b[39minput_shape, preprocess_input\u001b[38;5;241m=\u001b[39m\u001b[43mprocess\u001b[49m, base_model\u001b[38;5;241m=\u001b[39mbase_model, \n\u001b[0;32m     10\u001b[0m     flatten \u001b[38;5;241m=\u001b[39m \u001b[38;5;28;01mFalse\u001b[39;00m, lr \u001b[38;5;241m=\u001b[39m \u001b[38;5;241m0.001\u001b[39m, epochs\u001b[38;5;241m=\u001b[39m\u001b[38;5;241m100\u001b[39m, patience\u001b[38;5;241m=\u001b[39m\u001b[38;5;241m15\u001b[39m)\n",
      "\u001b[1;31mNameError\u001b[0m: name 'process' is not defined"
     ]
    }
   ],
   "source": [
    "# batch size 64, lr 0.001, \n",
    "\n",
    "base_model = tf.keras.applications.resnet_v2.ResNet50V2(include_top=False,\n",
    "                     weights='imagenet', \n",
    "                     input_shape=input_shape)\n",
    "\n",
    "preprocess = tf.keras.applications.resnet_v2.preprocess_input\n",
    "\n",
    "run(datasets=datasets, input_shape=input_shape, preprocess_input=process, base_model=base_model, \n",
    "    flatten = False, lr = 0.001, epochs=100, patience=15)"
   ]
  },
  {
   "cell_type": "code",
   "execution_count": null,
   "metadata": {},
   "outputs": [],
   "source": []
  },
  {
   "cell_type": "markdown",
   "metadata": {},
   "source": [
    "### InceptionResNetV2"
   ]
  },
  {
   "cell_type": "code",
   "execution_count": null,
   "metadata": {},
   "outputs": [],
   "source": [
    "# batch size 64, lr 0.001, \n",
    "base_model = tf.keras.applications.inception_resnet_v2.InceptionResNetV2(include_top=False,\n",
    "                     weights='imagenet', \n",
    "                     input_shape=input_shape)\n",
    "\n",
    "preprocess = tf.keras.applications.inception_resnet_v2.preprocess_input\n",
    "\n",
    "run(datasets=datasets, input_shape=input_shape, preprocess_input=preprocess, base_model=base_model, \n",
    "    flatten = False, lr = 0.001, epochs=100, patience=15)"
   ]
  },
  {
   "cell_type": "code",
   "execution_count": null,
   "metadata": {},
   "outputs": [],
   "source": []
  },
  {
   "cell_type": "markdown",
   "metadata": {},
   "source": [
    "### MobileNetV2"
   ]
  },
  {
   "cell_type": "code",
   "execution_count": null,
   "metadata": {},
   "outputs": [],
   "source": [
    "# batch size 64, lr 0.001, \n",
    "base_model = tf.keras.applications.MobileNetV2(include_top=False,\n",
    "                     weights='imagenet', \n",
    "                     input_shape=input_shape)\n",
    "\n",
    "preprocess = tf.keras.applications.mobilenet_v2.preprocess_input\n",
    "\n",
    "run(datasets=datasets, input_shape=input_shape, preprocess_input=preprocess, base_model=base_model, \n",
    "    flatten = False, lr = 0.001, epochs=100, patience=15)"
   ]
  },
  {
   "cell_type": "code",
   "execution_count": null,
   "metadata": {},
   "outputs": [],
   "source": []
  },
  {
   "cell_type": "markdown",
   "metadata": {},
   "source": [
    "### DenseNet169"
   ]
  },
  {
   "cell_type": "code",
   "execution_count": null,
   "metadata": {},
   "outputs": [],
   "source": [
    "# batch size 64, lr 0.001, \n",
    "base_model = tf.keras.applications.DenseNet169(include_top=False,\n",
    "                     weights='imagenet', \n",
    "                     input_shape=input_shape)\n",
    "\n",
    "preprocess = tf.keras.applications.densenet.preprocess_input\n",
    "\n",
    "run(datasets=datasets, input_shape=input_shape, preprocess_input=preprocess, base_model=base_model, \n",
    "    flatten = False, lr = 0.001, epochs=100, patience=15)"
   ]
  },
  {
   "cell_type": "code",
   "execution_count": null,
   "metadata": {},
   "outputs": [],
   "source": []
  },
  {
   "cell_type": "markdown",
   "metadata": {},
   "source": [
    "### EfficientNetB2"
   ]
  },
  {
   "cell_type": "code",
   "execution_count": null,
   "metadata": {},
   "outputs": [],
   "source": [
    "# batch size 64, lr 0.001, \n",
    "base_model = tf.keras.applications.EfficientNetB2(include_top=False,\n",
    "                     weights='imagenet', \n",
    "                     input_shape=input_shape)\n",
    "\n",
    "preprocess = tf.keras.applications.efficientnet.preprocess_input\n",
    "\n",
    "run(datasets=datasets, input_shape=input_shape, preprocess_input=preprocess, base_model=base_model, \n",
    "    flatten = False, lr = 0.001, epochs=100, patience=15)"
   ]
  },
  {
   "cell_type": "code",
   "execution_count": null,
   "metadata": {},
   "outputs": [],
   "source": []
  },
  {
   "cell_type": "markdown",
   "metadata": {},
   "source": [
    "### Xception"
   ]
  },
  {
   "cell_type": "code",
   "execution_count": null,
   "metadata": {},
   "outputs": [],
   "source": [
    "# batch size 64, lr 0.001, \n",
    "base_model = tf.keras.applications.Xception(include_top=False,\n",
    "                     weights='imagenet', \n",
    "                     input_shape=input_shape)\n",
    "\n",
    "preprocess = tf.keras.applications.xception.preprocess_input\n",
    "\n",
    "run(datasets=datasets, input_shape=input_shape, preprocess_input=preprocess, base_model=base_model, \n",
    "    flatten = False, lr = 0.001, epochs=100, patience=15)"
   ]
  },
  {
   "cell_type": "code",
   "execution_count": null,
   "metadata": {},
   "outputs": [],
   "source": []
  },
  {
   "cell_type": "code",
   "execution_count": null,
   "metadata": {},
   "outputs": [],
   "source": [
    "# batch size 64, lr 0.001, \n",
    "base_model = tf.keras.applications.nasnet.NASNetMobile(include_top=False,\n",
    "                     weights='imagenet', \n",
    "                     input_shape=input_shape)\n",
    "\n",
    "preprocess = tf.keras.applications.nasnet.preprocess_input\n",
    "\n",
    "run(datasets=datasets, input_shape=input_shape, preprocess_input=preprocess, base_model=base_model, \n",
    "    flatten = False, lr = 0.001, epochs=100, patience=15)"
   ]
  },
  {
   "cell_type": "code",
   "execution_count": null,
   "metadata": {},
   "outputs": [],
   "source": []
  },
  {
   "cell_type": "code",
   "execution_count": null,
   "metadata": {},
   "outputs": [],
   "source": []
  },
  {
   "cell_type": "code",
   "execution_count": null,
   "metadata": {},
   "outputs": [],
   "source": []
  },
  {
   "cell_type": "code",
   "execution_count": null,
   "metadata": {},
   "outputs": [],
   "source": []
  }
 ],
 "metadata": {
  "kernelspec": {
   "display_name": "Python 3 (ipykernel)",
   "language": "python",
   "name": "python3"
  },
  "language_info": {
   "codemirror_mode": {
    "name": "ipython",
    "version": 3
   },
   "file_extension": ".py",
   "mimetype": "text/x-python",
   "name": "python",
   "nbconvert_exporter": "python",
   "pygments_lexer": "ipython3",
   "version": "3.9.12"
  }
 },
 "nbformat": 4,
 "nbformat_minor": 4
}
