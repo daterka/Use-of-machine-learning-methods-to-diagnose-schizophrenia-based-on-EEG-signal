{
 "cells": [
  {
   "cell_type": "markdown",
   "metadata": {},
   "source": [
    "### Imports"
   ]
  },
  {
   "cell_type": "code",
   "execution_count": 1,
   "metadata": {},
   "outputs": [],
   "source": [
    "# !pip install mne\n",
    "# !pip install mne-connectivity"
   ]
  },
  {
   "cell_type": "code",
   "execution_count": 30,
   "metadata": {},
   "outputs": [],
   "source": [
    "import os\n",
    "\n",
    "import numpy as np\n",
    "\n",
    "import mne\n",
    "from mne.time_frequency import psd_welch\n",
    "\n",
    "from sklearn.model_selection import train_test_split\n",
    "from sklearn.ensemble import RandomForestClassifier\n",
    "from sklearn.metrics import accuracy_score\n",
    "from sklearn.metrics import confusion_matrix\n",
    "from sklearn.metrics import classification_report\n",
    "from sklearn.pipeline import make_pipeline\n",
    "from sklearn.preprocessing import FunctionTransformer\n",
    "from sklearn.model_selection import cross_val_score\n",
    "\n",
    "from matplotlib import pyplot as plt\n",
    "\n",
    "import gc\n",
    "\n",
    "import time\n",
    "\n",
    "from joblib import Parallel, delayed\n",
    "import matlab.engine\n",
    "\n",
    "from sklearn.model_selection import train_test_split\n",
    "import shutil"
   ]
  },
  {
   "cell_type": "markdown",
   "metadata": {},
   "source": [
    "## Preprocessing"
   ]
  },
  {
   "cell_type": "markdown",
   "metadata": {},
   "source": [
    "### Loading edf"
   ]
  },
  {
   "cell_type": "code",
   "execution_count": 3,
   "metadata": {},
   "outputs": [],
   "source": [
    "file = \"..\\dataverse_files\\h01.edf\"\n",
    "edfs_path = \"..\\dataverse_files\"\n",
    "manifest_path = \"..\\dataverse_files\\MANIFEST.txt\""
   ]
  },
  {
   "cell_type": "code",
   "execution_count": 4,
   "metadata": {},
   "outputs": [],
   "source": [
    "def load_patients_data(edfs_path):\n",
    "    raw_patients_data = []\n",
    "    \n",
    "    edfs_file_names = [f for f in os.listdir(edfs_path) if f.endswith('.edf')]\n",
    "    \n",
    "    for file_name in edfs_file_names:\n",
    "        path = edfs_path + '\\\\' + file_name \n",
    "        raw_data = mne.io.read_raw_edf(path, preload=True, verbose=False)\n",
    "        raw_patients_data.append(raw_data)\n",
    "\n",
    "    return raw_patients_data"
   ]
  },
  {
   "cell_type": "code",
   "execution_count": 5,
   "metadata": {},
   "outputs": [],
   "source": [
    "raw_patients_data = load_patients_data(edfs_path)"
   ]
  },
  {
   "cell_type": "markdown",
   "metadata": {},
   "source": [
    "### Filtered EEG signals segmentation"
   ]
  },
  {
   "cell_type": "code",
   "execution_count": 6,
   "metadata": {},
   "outputs": [],
   "source": [
    "def get_label(edf):\n",
    "    patient_edf_file_name = edf.filenames[0].split('\\\\')[-1]\n",
    "    isSick = patient_edf_file_name.lower().startswith('s')\n",
    "    return int(isSick == True) # 1 - is sick, 0 is healthy"
   ]
  },
  {
   "cell_type": "code",
   "execution_count": 7,
   "metadata": {},
   "outputs": [],
   "source": [
    "def get_min_max_duration_for_classes(print_durations=False):\n",
    "    min_SZ_negative_duration = float(\"inf\") # healthy\n",
    "    min_SZ_positive_duration = float(\"inf\") # sick\n",
    "\n",
    "    max_SZ_negative_duration = 0 # healthy\n",
    "    max_SZ_positive_duration = 0 # sick\n",
    "\n",
    "    for edf in raw_patients_data:\n",
    "        duration = edf.times[-1]\n",
    "\n",
    "        if(get_label(edf) == 0):\n",
    "            min_SZ_negative_duration = duration if duration < min_SZ_negative_duration else min_SZ_negative_duration\n",
    "            max_SZ_negative_duration = duration if duration > max_SZ_negative_duration else max_SZ_negative_duration\n",
    "        else:\n",
    "            min_SZ_positive_duration = duration if duration < min_SZ_positive_duration else min_SZ_positive_duration\n",
    "            max_SZ_positive_duration = duration if duration > max_SZ_positive_duration else max_SZ_positive_duration\n",
    "\n",
    "\n",
    "    print('SZ_negative: min =', min_SZ_negative_duration, ', max =', max_SZ_negative_duration)\n",
    "    print('SZ_positive: min =', min_SZ_positive_duration, ', max =', max_SZ_positive_duration)\n",
    "    \n",
    "    return min_SZ_negative_duration, min_SZ_positive_duration, max_SZ_negative_duration, max_SZ_positive_duration"
   ]
  },
  {
   "cell_type": "code",
   "execution_count": 8,
   "metadata": {},
   "outputs": [],
   "source": [
    "def crop_raw_data_to_equalize_duration_per_class():\n",
    "    print(\"Duration per class before cropping: \")\n",
    "    min_dur_neg, min_dur_pos, *_ = get_min_max_duration_for_classes(True)\n",
    "    \n",
    "    for edf in raw_patients_data:\n",
    "        duration = edf.times[-1]\n",
    "\n",
    "        if(get_label(edf) == 0):\n",
    "            if(duration > min_dur_neg):\n",
    "                edf.crop(tmin=0, tmax=min_dur_neg, include_tmax=True)\n",
    "        else:\n",
    "            if(duration > min_dur_pos):\n",
    "                edf.crop(tmin=0, tmax=min_dur_pos, include_tmax=True)\n",
    "                \n",
    "    print(\"\\nDuration per class after cropping: \")\n",
    "\n",
    "    get_min_max_duration_for_classes(True)\n"
   ]
  },
  {
   "cell_type": "code",
   "execution_count": 9,
   "metadata": {},
   "outputs": [],
   "source": [
    "def print_info(epochs_num_per_patient, labels):\n",
    "    print('\\nEpochs number per patient: ', epochs_num_per_patient)\n",
    "    \n",
    "    class_SZ_positive = sum(labels) \n",
    "    class_SZ_negative= len(labels)-sum(labels)\n",
    "\n",
    "    print('\\nnegative: ', class_0_num)\n",
    "    print('positive: ', class_1_num)"
   ]
  },
  {
   "cell_type": "code",
   "execution_count": 10,
   "metadata": {},
   "outputs": [],
   "source": [
    "def transform_patients_data_into_X_y_sets(patients_data, segment_duration=1.0, info=True):\n",
    "    epochs_per_patient = []\n",
    "    labels = []\n",
    "    \n",
    "    epochs_num_per_patient = []\n",
    "    for edf in raw_patients_data:\n",
    "        epochs = mne.make_fixed_length_epochs(edf, duration=segment_duration, preload=True, verbose=False)\n",
    "        epochs_per_patient.append(epochs)\n",
    "        epochs_num_per_patient.append(len(epochs))\n",
    "        \n",
    "        label = get_label(edf)\n",
    "        labels.extend([label for epoch in epochs])\n",
    "    \n",
    "    epochs = mne.concatenate_epochs(epochs_per_patient)\n",
    "\n",
    "    if info:\n",
    "        print_info(epochs_num_per_patient, labels)\n",
    "        \n",
    "    del epochs_num_per_patient\n",
    "    gc.collect()\n",
    "    \n",
    "    return (epochs, np.array(labels)) # (X, y)"
   ]
  },
  {
   "cell_type": "code",
   "execution_count": 11,
   "metadata": {
    "scrolled": true
   },
   "outputs": [
    {
     "name": "stdout",
     "output_type": "stream",
     "text": [
      "Duration per class before cropping: \n",
      "SZ_negative: min = 864.996 , max = 1114.996\n",
      "SZ_positive: min = 739.996 , max = 2169.996\n",
      "\n",
      "Duration per class after cropping: \n",
      "SZ_negative: min = 864.996 , max = 864.996\n",
      "SZ_positive: min = 739.996 , max = 739.996\n"
     ]
    }
   ],
   "source": [
    "crop_raw_data_to_equalize_duration_per_class()"
   ]
  },
  {
   "cell_type": "code",
   "execution_count": 12,
   "metadata": {},
   "outputs": [
    {
     "name": "stdout",
     "output_type": "stream",
     "text": [
      "Not setting metadata\n",
      "4494 matching events found\n",
      "No baseline correction applied\n",
      "0 bad epochs dropped\n",
      "\n",
      "Epochs number per patient:  [173, 173, 173, 173, 173, 173, 173, 173, 173, 173, 173, 173, 173, 173, 148, 148, 148, 148, 148, 148, 148, 148, 148, 148, 148, 148, 148, 148]\n",
      "\n",
      "negative:  2072\n",
      "positive:  2422\n"
     ]
    }
   ],
   "source": [
    "X, y = transform_patients_data_into_X_y_sets(patients_data=raw_patients_data, segment_duration=5.0)"
   ]
  },
  {
   "cell_type": "code",
   "execution_count": 13,
   "metadata": {},
   "outputs": [
    {
     "data": {
      "text/plain": [
       "0"
      ]
     },
     "execution_count": 13,
     "metadata": {},
     "output_type": "execute_result"
    }
   ],
   "source": [
    "del raw_patients_data\n",
    "gc.collect()"
   ]
  },
  {
   "cell_type": "code",
   "execution_count": 14,
   "metadata": {},
   "outputs": [
    {
     "name": "stdout",
     "output_type": "stream",
     "text": [
      "4494\n",
      "4494\n",
      "(1, 19, 1250)\n"
     ]
    }
   ],
   "source": [
    "print(len(y))\n",
    "print(len(X))\n",
    "print(X[0].get_data().shape)"
   ]
  },
  {
   "cell_type": "code",
   "execution_count": 15,
   "metadata": {},
   "outputs": [
    {
     "data": {
      "text/html": [
       "<div>\n",
       "<style scoped>\n",
       "    .dataframe tbody tr th:only-of-type {\n",
       "        vertical-align: middle;\n",
       "    }\n",
       "\n",
       "    .dataframe tbody tr th {\n",
       "        vertical-align: top;\n",
       "    }\n",
       "\n",
       "    .dataframe thead th {\n",
       "        text-align: right;\n",
       "    }\n",
       "</style>\n",
       "<table border=\"1\" class=\"dataframe\">\n",
       "  <thead>\n",
       "    <tr style=\"text-align: right;\">\n",
       "      <th></th>\n",
       "      <th>time</th>\n",
       "      <th>condition</th>\n",
       "      <th>epoch</th>\n",
       "      <th>Fp2</th>\n",
       "      <th>F8</th>\n",
       "      <th>T4</th>\n",
       "      <th>T6</th>\n",
       "      <th>O2</th>\n",
       "      <th>Fp1</th>\n",
       "      <th>F7</th>\n",
       "      <th>...</th>\n",
       "      <th>O1</th>\n",
       "      <th>F4</th>\n",
       "      <th>C4</th>\n",
       "      <th>P4</th>\n",
       "      <th>F3</th>\n",
       "      <th>C3</th>\n",
       "      <th>P3</th>\n",
       "      <th>Fz</th>\n",
       "      <th>Cz</th>\n",
       "      <th>Pz</th>\n",
       "    </tr>\n",
       "  </thead>\n",
       "  <tbody>\n",
       "    <tr>\n",
       "      <th>0</th>\n",
       "      <td>0</td>\n",
       "      <td>1</td>\n",
       "      <td>0</td>\n",
       "      <td>0.002500</td>\n",
       "      <td>0.002500</td>\n",
       "      <td>0.002500</td>\n",
       "      <td>0.00250</td>\n",
       "      <td>0.002500</td>\n",
       "      <td>0.0025</td>\n",
       "      <td>0.0025</td>\n",
       "      <td>...</td>\n",
       "      <td>0.00250</td>\n",
       "      <td>0.0025</td>\n",
       "      <td>0.002500</td>\n",
       "      <td>0.0025</td>\n",
       "      <td>0.0025</td>\n",
       "      <td>0.002500</td>\n",
       "      <td>0.00250</td>\n",
       "      <td>0.0025</td>\n",
       "      <td>0.0025</td>\n",
       "      <td>0.002500</td>\n",
       "    </tr>\n",
       "    <tr>\n",
       "      <th>1</th>\n",
       "      <td>4</td>\n",
       "      <td>1</td>\n",
       "      <td>0</td>\n",
       "      <td>0.002500</td>\n",
       "      <td>0.002500</td>\n",
       "      <td>0.002500</td>\n",
       "      <td>0.00250</td>\n",
       "      <td>0.002500</td>\n",
       "      <td>0.0025</td>\n",
       "      <td>0.0025</td>\n",
       "      <td>...</td>\n",
       "      <td>0.00250</td>\n",
       "      <td>0.0025</td>\n",
       "      <td>0.002500</td>\n",
       "      <td>0.0025</td>\n",
       "      <td>0.0025</td>\n",
       "      <td>0.002500</td>\n",
       "      <td>0.00250</td>\n",
       "      <td>0.0025</td>\n",
       "      <td>0.0025</td>\n",
       "      <td>0.002500</td>\n",
       "    </tr>\n",
       "    <tr>\n",
       "      <th>2</th>\n",
       "      <td>8</td>\n",
       "      <td>1</td>\n",
       "      <td>0</td>\n",
       "      <td>0.002500</td>\n",
       "      <td>0.002500</td>\n",
       "      <td>0.002500</td>\n",
       "      <td>0.00250</td>\n",
       "      <td>0.002500</td>\n",
       "      <td>0.0025</td>\n",
       "      <td>0.0025</td>\n",
       "      <td>...</td>\n",
       "      <td>0.00250</td>\n",
       "      <td>0.0025</td>\n",
       "      <td>0.002500</td>\n",
       "      <td>0.0025</td>\n",
       "      <td>0.0025</td>\n",
       "      <td>0.002500</td>\n",
       "      <td>0.00250</td>\n",
       "      <td>0.0025</td>\n",
       "      <td>0.0025</td>\n",
       "      <td>0.002500</td>\n",
       "    </tr>\n",
       "    <tr>\n",
       "      <th>3</th>\n",
       "      <td>12</td>\n",
       "      <td>1</td>\n",
       "      <td>0</td>\n",
       "      <td>0.461215</td>\n",
       "      <td>0.461215</td>\n",
       "      <td>0.308310</td>\n",
       "      <td>0.30831</td>\n",
       "      <td>0.155405</td>\n",
       "      <td>0.0025</td>\n",
       "      <td>0.0025</td>\n",
       "      <td>...</td>\n",
       "      <td>0.00250</td>\n",
       "      <td>0.0025</td>\n",
       "      <td>0.002500</td>\n",
       "      <td>0.0025</td>\n",
       "      <td>0.0025</td>\n",
       "      <td>-0.150405</td>\n",
       "      <td>-0.30331</td>\n",
       "      <td>0.0025</td>\n",
       "      <td>0.0025</td>\n",
       "      <td>-0.303310</td>\n",
       "    </tr>\n",
       "    <tr>\n",
       "      <th>4</th>\n",
       "      <td>16</td>\n",
       "      <td>1</td>\n",
       "      <td>0</td>\n",
       "      <td>0.461215</td>\n",
       "      <td>0.461215</td>\n",
       "      <td>0.461215</td>\n",
       "      <td>0.30831</td>\n",
       "      <td>0.155405</td>\n",
       "      <td>0.0025</td>\n",
       "      <td>0.0025</td>\n",
       "      <td>...</td>\n",
       "      <td>-0.30331</td>\n",
       "      <td>0.0025</td>\n",
       "      <td>0.155405</td>\n",
       "      <td>0.0025</td>\n",
       "      <td>0.0025</td>\n",
       "      <td>-0.150405</td>\n",
       "      <td>-0.30331</td>\n",
       "      <td>0.0025</td>\n",
       "      <td>0.0025</td>\n",
       "      <td>-0.150405</td>\n",
       "    </tr>\n",
       "  </tbody>\n",
       "</table>\n",
       "<p>5 rows × 22 columns</p>\n",
       "</div>"
      ],
      "text/plain": [
       "   time condition  epoch       Fp2        F8        T4       T6        O2  \\\n",
       "0     0         1      0  0.002500  0.002500  0.002500  0.00250  0.002500   \n",
       "1     4         1      0  0.002500  0.002500  0.002500  0.00250  0.002500   \n",
       "2     8         1      0  0.002500  0.002500  0.002500  0.00250  0.002500   \n",
       "3    12         1      0  0.461215  0.461215  0.308310  0.30831  0.155405   \n",
       "4    16         1      0  0.461215  0.461215  0.461215  0.30831  0.155405   \n",
       "\n",
       "      Fp1      F7  ...       O1      F4        C4      P4      F3        C3  \\\n",
       "0  0.0025  0.0025  ...  0.00250  0.0025  0.002500  0.0025  0.0025  0.002500   \n",
       "1  0.0025  0.0025  ...  0.00250  0.0025  0.002500  0.0025  0.0025  0.002500   \n",
       "2  0.0025  0.0025  ...  0.00250  0.0025  0.002500  0.0025  0.0025  0.002500   \n",
       "3  0.0025  0.0025  ...  0.00250  0.0025  0.002500  0.0025  0.0025 -0.150405   \n",
       "4  0.0025  0.0025  ... -0.30331  0.0025  0.155405  0.0025  0.0025 -0.150405   \n",
       "\n",
       "        P3      Fz      Cz        Pz  \n",
       "0  0.00250  0.0025  0.0025  0.002500  \n",
       "1  0.00250  0.0025  0.0025  0.002500  \n",
       "2  0.00250  0.0025  0.0025  0.002500  \n",
       "3 -0.30331  0.0025  0.0025 -0.303310  \n",
       "4 -0.30331  0.0025  0.0025 -0.150405  \n",
       "\n",
       "[5 rows x 22 columns]"
      ]
     },
     "execution_count": 15,
     "metadata": {},
     "output_type": "execute_result"
    }
   ],
   "source": [
    "X.to_data_frame().head()"
   ]
  },
  {
   "cell_type": "code",
   "execution_count": 16,
   "metadata": {
    "scrolled": true
   },
   "outputs": [
    {
     "data": {
      "text/html": [
       "<div>\n",
       "<style scoped>\n",
       "    .dataframe tbody tr th:only-of-type {\n",
       "        vertical-align: middle;\n",
       "    }\n",
       "\n",
       "    .dataframe tbody tr th {\n",
       "        vertical-align: top;\n",
       "    }\n",
       "\n",
       "    .dataframe thead th {\n",
       "        text-align: right;\n",
       "    }\n",
       "</style>\n",
       "<table border=\"1\" class=\"dataframe\">\n",
       "  <thead>\n",
       "    <tr style=\"text-align: right;\">\n",
       "      <th></th>\n",
       "      <th>time</th>\n",
       "      <th>condition</th>\n",
       "      <th>epoch</th>\n",
       "      <th>Fp2</th>\n",
       "      <th>F8</th>\n",
       "      <th>T4</th>\n",
       "      <th>T6</th>\n",
       "      <th>O2</th>\n",
       "      <th>Fp1</th>\n",
       "      <th>F7</th>\n",
       "      <th>...</th>\n",
       "      <th>O1</th>\n",
       "      <th>F4</th>\n",
       "      <th>C4</th>\n",
       "      <th>P4</th>\n",
       "      <th>F3</th>\n",
       "      <th>C3</th>\n",
       "      <th>P3</th>\n",
       "      <th>Fz</th>\n",
       "      <th>Cz</th>\n",
       "      <th>Pz</th>\n",
       "    </tr>\n",
       "  </thead>\n",
       "  <tbody>\n",
       "    <tr>\n",
       "      <th>0</th>\n",
       "      <td>0</td>\n",
       "      <td>1</td>\n",
       "      <td>0</td>\n",
       "      <td>0.002500</td>\n",
       "      <td>0.002500</td>\n",
       "      <td>0.002500</td>\n",
       "      <td>0.00250</td>\n",
       "      <td>0.002500</td>\n",
       "      <td>0.0025</td>\n",
       "      <td>0.0025</td>\n",
       "      <td>...</td>\n",
       "      <td>0.00250</td>\n",
       "      <td>0.0025</td>\n",
       "      <td>0.002500</td>\n",
       "      <td>0.0025</td>\n",
       "      <td>0.0025</td>\n",
       "      <td>0.002500</td>\n",
       "      <td>0.00250</td>\n",
       "      <td>0.0025</td>\n",
       "      <td>0.0025</td>\n",
       "      <td>0.002500</td>\n",
       "    </tr>\n",
       "    <tr>\n",
       "      <th>1</th>\n",
       "      <td>4</td>\n",
       "      <td>1</td>\n",
       "      <td>0</td>\n",
       "      <td>0.002500</td>\n",
       "      <td>0.002500</td>\n",
       "      <td>0.002500</td>\n",
       "      <td>0.00250</td>\n",
       "      <td>0.002500</td>\n",
       "      <td>0.0025</td>\n",
       "      <td>0.0025</td>\n",
       "      <td>...</td>\n",
       "      <td>0.00250</td>\n",
       "      <td>0.0025</td>\n",
       "      <td>0.002500</td>\n",
       "      <td>0.0025</td>\n",
       "      <td>0.0025</td>\n",
       "      <td>0.002500</td>\n",
       "      <td>0.00250</td>\n",
       "      <td>0.0025</td>\n",
       "      <td>0.0025</td>\n",
       "      <td>0.002500</td>\n",
       "    </tr>\n",
       "    <tr>\n",
       "      <th>2</th>\n",
       "      <td>8</td>\n",
       "      <td>1</td>\n",
       "      <td>0</td>\n",
       "      <td>0.002500</td>\n",
       "      <td>0.002500</td>\n",
       "      <td>0.002500</td>\n",
       "      <td>0.00250</td>\n",
       "      <td>0.002500</td>\n",
       "      <td>0.0025</td>\n",
       "      <td>0.0025</td>\n",
       "      <td>...</td>\n",
       "      <td>0.00250</td>\n",
       "      <td>0.0025</td>\n",
       "      <td>0.002500</td>\n",
       "      <td>0.0025</td>\n",
       "      <td>0.0025</td>\n",
       "      <td>0.002500</td>\n",
       "      <td>0.00250</td>\n",
       "      <td>0.0025</td>\n",
       "      <td>0.0025</td>\n",
       "      <td>0.002500</td>\n",
       "    </tr>\n",
       "    <tr>\n",
       "      <th>3</th>\n",
       "      <td>12</td>\n",
       "      <td>1</td>\n",
       "      <td>0</td>\n",
       "      <td>0.461215</td>\n",
       "      <td>0.461215</td>\n",
       "      <td>0.308310</td>\n",
       "      <td>0.30831</td>\n",
       "      <td>0.155405</td>\n",
       "      <td>0.0025</td>\n",
       "      <td>0.0025</td>\n",
       "      <td>...</td>\n",
       "      <td>0.00250</td>\n",
       "      <td>0.0025</td>\n",
       "      <td>0.002500</td>\n",
       "      <td>0.0025</td>\n",
       "      <td>0.0025</td>\n",
       "      <td>-0.150405</td>\n",
       "      <td>-0.30331</td>\n",
       "      <td>0.0025</td>\n",
       "      <td>0.0025</td>\n",
       "      <td>-0.303310</td>\n",
       "    </tr>\n",
       "    <tr>\n",
       "      <th>4</th>\n",
       "      <td>16</td>\n",
       "      <td>1</td>\n",
       "      <td>0</td>\n",
       "      <td>0.461215</td>\n",
       "      <td>0.461215</td>\n",
       "      <td>0.461215</td>\n",
       "      <td>0.30831</td>\n",
       "      <td>0.155405</td>\n",
       "      <td>0.0025</td>\n",
       "      <td>0.0025</td>\n",
       "      <td>...</td>\n",
       "      <td>-0.30331</td>\n",
       "      <td>0.0025</td>\n",
       "      <td>0.155405</td>\n",
       "      <td>0.0025</td>\n",
       "      <td>0.0025</td>\n",
       "      <td>-0.150405</td>\n",
       "      <td>-0.30331</td>\n",
       "      <td>0.0025</td>\n",
       "      <td>0.0025</td>\n",
       "      <td>-0.150405</td>\n",
       "    </tr>\n",
       "  </tbody>\n",
       "</table>\n",
       "<p>5 rows × 22 columns</p>\n",
       "</div>"
      ],
      "text/plain": [
       "   time condition  epoch       Fp2        F8        T4       T6        O2  \\\n",
       "0     0         1      0  0.002500  0.002500  0.002500  0.00250  0.002500   \n",
       "1     4         1      0  0.002500  0.002500  0.002500  0.00250  0.002500   \n",
       "2     8         1      0  0.002500  0.002500  0.002500  0.00250  0.002500   \n",
       "3    12         1      0  0.461215  0.461215  0.308310  0.30831  0.155405   \n",
       "4    16         1      0  0.461215  0.461215  0.461215  0.30831  0.155405   \n",
       "\n",
       "      Fp1      F7  ...       O1      F4        C4      P4      F3        C3  \\\n",
       "0  0.0025  0.0025  ...  0.00250  0.0025  0.002500  0.0025  0.0025  0.002500   \n",
       "1  0.0025  0.0025  ...  0.00250  0.0025  0.002500  0.0025  0.0025  0.002500   \n",
       "2  0.0025  0.0025  ...  0.00250  0.0025  0.002500  0.0025  0.0025  0.002500   \n",
       "3  0.0025  0.0025  ...  0.00250  0.0025  0.002500  0.0025  0.0025 -0.150405   \n",
       "4  0.0025  0.0025  ... -0.30331  0.0025  0.155405  0.0025  0.0025 -0.150405   \n",
       "\n",
       "        P3      Fz      Cz        Pz  \n",
       "0  0.00250  0.0025  0.0025  0.002500  \n",
       "1  0.00250  0.0025  0.0025  0.002500  \n",
       "2  0.00250  0.0025  0.0025  0.002500  \n",
       "3 -0.30331  0.0025  0.0025 -0.303310  \n",
       "4 -0.30331  0.0025  0.0025 -0.150405  \n",
       "\n",
       "[5 rows x 22 columns]"
      ]
     },
     "execution_count": 16,
     "metadata": {},
     "output_type": "execute_result"
    }
   ],
   "source": [
    "X[0].to_data_frame().head()"
   ]
  },
  {
   "cell_type": "code",
   "execution_count": 17,
   "metadata": {},
   "outputs": [
    {
     "name": "stdout",
     "output_type": "stream",
     "text": [
      "x_data shape: (4494, 19, 1250)\n",
      "column_names: Index(['Fp2', 'F8', 'T4', 'T6', 'O2', 'Fp1', 'F7', 'T3', 'T5', 'O1', 'F4',\n",
      "       'C4', 'P4', 'F3', 'C3', 'P3', 'Fz', 'Cz', 'Pz'],\n",
      "      dtype='object')\n"
     ]
    }
   ],
   "source": [
    "### Data preparation\n",
    "\n",
    "np.set_printoptions(precision=50)\n",
    "\n",
    "x_data = X.get_data()\n",
    "print('x_data shape:', x_data.shape)\n",
    "\n",
    "column_names = X[0].to_data_frame().columns\n",
    "column_names = column_names[-19:]\n",
    "print('column_names:', column_names)\n",
    "\n",
    "epoch_num, channel_num, epoch_len = x_data.shape"
   ]
  },
  {
   "cell_type": "markdown",
   "metadata": {},
   "source": [
    "### Generating spectrograms with matlab engine"
   ]
  },
  {
   "cell_type": "code",
   "execution_count": 18,
   "metadata": {},
   "outputs": [],
   "source": [
    "# create spec for all segments v3 flatten segments before creating spectrogram\n",
    "import matplotlib.pyplot as plt\n",
    "\n",
    "from math import floor\n",
    "\n",
    "from scipy.io import savemat"
   ]
  },
  {
   "cell_type": "code",
   "execution_count": 19,
   "metadata": {},
   "outputs": [],
   "source": [
    "def create_spectrogram(x, mat_path, spec_path, eng):\n",
    "\n",
    "    combined_channels_data = np.array([])\n",
    "    \n",
    "    for i in range(len(x)):\n",
    "        combined_channels_data = np.concatenate((combined_channels_data, x[i]))\n",
    "        \n",
    "#     print(combined_channels_data.shape)\n",
    "        \n",
    "    mdic = {\"data\": combined_channels_data, \"filename\": spec_path}\n",
    "\n",
    "    savemat(mat_path, mdic)\n",
    "\n",
    "                    \n",
    "#     eng = matlab.engine.start_matlab()\n",
    "\n",
    "#     channels_data_mat = eng.cell2mat(channels_data.tolist())\n",
    "    \n",
    "#     print(mat_path) \n",
    "    eng.workspace['mat_path'] = mat_path\n",
    "    \n",
    "    eng.evalc(\"M = load(mat_path);\")\n",
    "    \n",
    "#     eng.evalc(\"axes('Units','Normalize','Position',[0 0 1 1])\")\n",
    "    \n",
    "    eng.evalc(\"f = figure(Position=[0 0 224 224])\")\n",
    "    eng.evalc(\"ax = axes('Units','Normalize','Position',[0 0 1 1])\")\n",
    "    \n",
    "\n",
    "    eng.evalc(\"spectrogram(M.data, 'yaxis')\") \n",
    "#     matlab.double(s, is_complex=True)\n",
    "\n",
    "    \n",
    "        \n",
    "#     eng.spectrogram(eng.cell2mat(s),'yaxis');\n",
    "    eng.evalc(\"colormap turbo\")\n",
    "    eng.evalc(\"colorbar off\")\n",
    "    eng.evalc(\"axis off\")\n",
    "    \n",
    "#     eng.evalc(\"saveas(gcf, M.filename)\")\n",
    "    eng.evalc(\"cdata = print(gcf, '-RGBImage', '-r96')\")\n",
    "    eng.evalc(\"imwrite(cdata, turbo, M.filename)\")\n",
    "    \n",
    "#     eng.quit()"
   ]
  },
  {
   "cell_type": "code",
   "execution_count": 20,
   "metadata": {},
   "outputs": [],
   "source": [
    "def get_spectrogram(epoch_index, label, epoch_data, eng):\n",
    "#     print('get_spectrogram')\n",
    "    filename = file_name.format(\n",
    "        epoch_index,\n",
    "        label)\n",
    "\n",
    "    spec_path = specs_dir_path.format(filename)\n",
    "    mat_dir_path_path = mat_dir_path.format(filename)\n",
    "#     print(filename)\n",
    "#     print(epoch_data.shape)\n",
    "    if(not os.path.isfile(spec_path)):\n",
    "        create_spectrogram(epoch_data, mat_dir_path_path, spec_path, eng)"
   ]
  },
  {
   "cell_type": "code",
   "execution_count": 21,
   "metadata": {},
   "outputs": [],
   "source": [
    "def run_partial_loop(from_index, step):\n",
    "    to_index = from_index+step-1\n",
    "\n",
    "    if to_index > epoch_num:\n",
    "        to_index = epoch_num\n",
    "        \n",
    "    eng = matlab.engine.start_matlab()\n",
    "\n",
    "    for epoch_index in range(from_index, to_index, 1):\n",
    "        get_spectrogram(epoch_index=epoch_index,\n",
    "                        label = y[epoch_index],\n",
    "                        epoch_data=x_data[epoch_index],\n",
    "                        eng=eng\n",
    "                       )\n",
    "    eng.quit()"
   ]
  },
  {
   "cell_type": "code",
   "execution_count": 22,
   "metadata": {},
   "outputs": [],
   "source": [
    "# path = '../spectrograms/{0}_{1}'\n",
    "file_name = '{0}_{1}'\n",
    "specs_dir_path = '../spectrograms/{0}.png'\n",
    "mat_dir_path = '../mats/{0}.mat'"
   ]
  },
  {
   "cell_type": "code",
   "execution_count": 26,
   "metadata": {},
   "outputs": [
    {
     "data": {
      "text/plain": [
       "[None, None, None, None, None, None, None, None, None, None, None, None]"
      ]
     },
     "execution_count": 26,
     "metadata": {},
     "output_type": "execute_result"
    }
   ],
   "source": [
    "# generating spectrograms parallel\n",
    "n_jobs = 12\n",
    "step = floor(epoch_num/n_jobs)+1 # number of epochs/segments per thread/job\n",
    "\n",
    "Parallel(n_jobs=n_jobs)(delayed(run_partial_loop)(epoch_index, step) for epoch_index in range(0, epoch_num, step))\n"
   ]
  },
  {
   "cell_type": "code",
   "execution_count": null,
   "metadata": {},
   "outputs": [],
   "source": []
  },
  {
   "cell_type": "markdown",
   "metadata": {},
   "source": [
    "### Splitting spectrograms images to train and test datasets"
   ]
  },
  {
   "cell_type": "code",
   "execution_count": 32,
   "metadata": {},
   "outputs": [],
   "source": [
    "# defining paths\n",
    "\n",
    "generated_spectrograms_path = '../spectrograms/'\n",
    "\n",
    "dataset_path = '../spectrograms_dataset/'\n",
    "train_datase_path = dataset_path+'train/'\n",
    "train_SZ_negative_class_dir = train_datase_path+'SZ_negative/'\n",
    "train_SZ_positive_class_dir = train_datase_path+'SZ_positive/'\n",
    "\n",
    "test_datase_path = dataset_path+'test/'\n",
    "test_SZ_negative_class_dir = test_datase_path+'SZ_negative/'\n",
    "test_SZ_positive_class_dir = test_datase_path+'SZ_positive/'"
   ]
  },
  {
   "cell_type": "code",
   "execution_count": 33,
   "metadata": {},
   "outputs": [],
   "source": [
    "#creating dataset directory structure\n",
    "if os.path.exists(train_datase_path):\n",
    "    os.removedirs(train_datase_path)\n",
    "    \n",
    "os.makedirs(train_SZ_negative_class_dir)\n",
    "os.makedirs(train_SZ_positive_class_dir)  \n",
    "    \n",
    "if os.path.exists(test_datase_path):\n",
    "    os.removedirs(test_datase_path)\n",
    "\n",
    "os.makedirs(test_SZ_negative_class_dir)\n",
    "os.makedirs(test_SZ_positive_class_dir)"
   ]
  },
  {
   "cell_type": "code",
   "execution_count": 39,
   "metadata": {},
   "outputs": [],
   "source": [
    "# moving images to train dataset directory and splitting according to class belonging\n",
    "files = os.listdir(generated_spectrograms_path)\n",
    "\n",
    "for file_name in files:\n",
    "    src_img_path = generated_spectrograms_path + file_name\n",
    "\n",
    "    if file_name.split('.')[0][-1] == '0':\n",
    "        shutil.copy(src_img_path, train_SZ_negative_class_dir)\n",
    "    else:\n",
    "        shutil.copy(src_img_path, train_SZ_positive_class_dir)"
   ]
  },
  {
   "cell_type": "code",
   "execution_count": 41,
   "metadata": {},
   "outputs": [],
   "source": [
    "class_dirs = os.listdir(train_datase_path)\n",
    "\n",
    "src_class_dir_path = '../spectrograms_dataset/train/{0}'\n",
    "\n",
    "src_path = '../spectrograms_dataset/train/{0}/{1}'\n",
    "dst_path = '../spectrograms_dataset/test/{0}/{1}'\n",
    "\n",
    "test_size_ration = 0.2\n",
    "\n",
    "for class_dir in class_dirs:\n",
    "    class_dir_path = src_class_dir_path.format(class_dir)\n",
    "    img_files = os.listdir(class_dir_path)\n",
    "    _, test_img_files = train_test_split(img_files, test_size=test_size_ration, random_state=1, shuffle=True)\n",
    "    \n",
    "    \n",
    "    for img_file in test_img_files:\n",
    "        src_img_path = src_path.format(class_dir, img_file)\n",
    "        dst_img_path = dst_path.format(class_dir, img_file)\n",
    "        \n",
    "        shutil.move(src_img_path, dst_img_path)\n",
    "           "
   ]
  },
  {
   "cell_type": "code",
   "execution_count": null,
   "metadata": {},
   "outputs": [],
   "source": []
  }
 ],
 "metadata": {
  "kernelspec": {
   "display_name": "Python 3 (ipykernel)",
   "language": "python",
   "name": "python3"
  },
  "language_info": {
   "codemirror_mode": {
    "name": "ipython",
    "version": 3
   },
   "file_extension": ".py",
   "mimetype": "text/x-python",
   "name": "python",
   "nbconvert_exporter": "python",
   "pygments_lexer": "ipython3",
   "version": "3.9.12"
  }
 },
 "nbformat": 4,
 "nbformat_minor": 4
}
