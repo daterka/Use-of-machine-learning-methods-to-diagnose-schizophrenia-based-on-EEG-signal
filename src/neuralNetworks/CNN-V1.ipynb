{
 "cells": [
  {
   "cell_type": "code",
   "execution_count": 1,
   "id": "013adb54",
   "metadata": {},
   "outputs": [],
   "source": [
    "import gc\n",
    "import time\n",
    "import os\n",
    "\n",
    "import keras\n",
    "from keras.models import Sequential\n",
    "from keras.layers import Dense, Conv2D, MaxPool2D , Flatten\n",
    "from keras.preprocessing.image import ImageDataGenerator\n",
    "import numpy as np\n",
    "\n",
    "from keras.models import Model\n",
    "from keras.optimizers import Adam\n",
    "from keras.applications.vgg16 import VGG16, preprocess_input\n",
    "from keras.preprocessing.image import ImageDataGenerator\n",
    "from keras.callbacks import ModelCheckpoint, EarlyStopping\n",
    "from keras.layers import Dense, Dropout, Flatten\n",
    "from tensorflow.keras import regularizers\n",
    "from pathlib import Path\n",
    "\n",
    "import tensorflow as tf\n",
    "from tensorflow import keras\n",
    "from tensorflow.keras import layers\n",
    "\n",
    "from sklearn.metrics import accuracy_score, confusion_matrix\n",
    "import seaborn as sn\n",
    "\n",
    "from tensorflow.python.client import device_lib\n",
    "\n",
    "\n",
    "from sklearn.model_selection import cross_val_score\n",
    "\n",
    "from matplotlib import pyplot as plt\n",
    "\n",
    "import mne\n",
    "\n",
    "from sklearn.model_selection import train_test_split\n",
    "\n",
    "from tensorflow.keras.layers import Input, Flatten\n"
   ]
  },
  {
   "cell_type": "code",
   "execution_count": null,
   "id": "7bf85520",
   "metadata": {},
   "outputs": [],
   "source": []
  },
  {
   "cell_type": "code",
   "execution_count": null,
   "id": "37858209",
   "metadata": {},
   "outputs": [],
   "source": []
  },
  {
   "cell_type": "code",
   "execution_count": null,
   "id": "69de941a",
   "metadata": {},
   "outputs": [],
   "source": []
  },
  {
   "cell_type": "code",
   "execution_count": null,
   "id": "4d3d5d15",
   "metadata": {},
   "outputs": [],
   "source": []
  },
  {
   "cell_type": "code",
   "execution_count": 2,
   "id": "f5ff259d",
   "metadata": {},
   "outputs": [],
   "source": [
    "os.environ[\"CUDA_VISIBLE_DEVICES\"] = \"-1\"\n"
   ]
  },
  {
   "cell_type": "code",
   "execution_count": 3,
   "id": "1398a097",
   "metadata": {},
   "outputs": [
    {
     "data": {
      "text/plain": [
       "''"
      ]
     },
     "execution_count": 3,
     "metadata": {},
     "output_type": "execute_result"
    }
   ],
   "source": [
    "tf.test.gpu_device_name()"
   ]
  },
  {
   "cell_type": "code",
   "execution_count": null,
   "id": "833ae4f7",
   "metadata": {},
   "outputs": [],
   "source": []
  },
  {
   "cell_type": "markdown",
   "id": "31d598ef",
   "metadata": {},
   "source": [
    "### Loading edf"
   ]
  },
  {
   "cell_type": "code",
   "execution_count": 4,
   "id": "5eb29333",
   "metadata": {},
   "outputs": [],
   "source": [
    "file = \"..\\dataverse_files\\h01.edf\"\n",
    "edfs_path = \"..\\dataverse_files\"\n",
    "manifest_path = \"..\\dataverse_files\\MANIFEST.txt\""
   ]
  },
  {
   "cell_type": "code",
   "execution_count": 5,
   "id": "d0046338",
   "metadata": {},
   "outputs": [],
   "source": [
    "def load_patients_data(edfs_path):\n",
    "    raw_patients_data = []\n",
    "    \n",
    "    edfs_file_names = [f for f in os.listdir(edfs_path) if f.endswith('.edf')]\n",
    "    \n",
    "    for file_name in edfs_file_names:\n",
    "        path = edfs_path + '\\\\' + file_name \n",
    "        raw_data = mne.io.read_raw_edf(path, preload=True, verbose=False)\n",
    "        raw_patients_data.append(raw_data)\n",
    "\n",
    "    return raw_patients_data"
   ]
  },
  {
   "cell_type": "code",
   "execution_count": 6,
   "id": "6f220cd4",
   "metadata": {},
   "outputs": [],
   "source": [
    "raw_patients_data = load_patients_data(edfs_path)"
   ]
  },
  {
   "cell_type": "markdown",
   "id": "66ec70c1",
   "metadata": {},
   "source": [
    "### Filtered EEG signals segmentation"
   ]
  },
  {
   "cell_type": "code",
   "execution_count": 7,
   "id": "b8e14626",
   "metadata": {},
   "outputs": [],
   "source": [
    "def get_label(edf):\n",
    "    patient_edf_file_name = edf.filenames[0].split('\\\\')[-1]\n",
    "    isSick = patient_edf_file_name.lower().startswith('s')\n",
    "    return int(isSick == True) # 1 - is sick, 0 is healthy"
   ]
  },
  {
   "cell_type": "code",
   "execution_count": 8,
   "id": "141466d0",
   "metadata": {},
   "outputs": [],
   "source": [
    "def get_min_max_duration_for_classes(print_durations=False):\n",
    "    min_SZ_negative_duration = float(\"inf\") # healthy\n",
    "    min_SZ_positive_duration = float(\"inf\") # sick\n",
    "\n",
    "    max_SZ_negative_duration = 0 # healthy\n",
    "    max_SZ_positive_duration = 0 # sick\n",
    "\n",
    "    for edf in raw_patients_data:\n",
    "        duration = edf.times[-1]\n",
    "\n",
    "        if(get_label(edf) == 0):\n",
    "            min_SZ_negative_duration = duration if duration < min_SZ_negative_duration else min_SZ_negative_duration\n",
    "            max_SZ_negative_duration = duration if duration > max_SZ_negative_duration else max_SZ_negative_duration\n",
    "        else:\n",
    "            min_SZ_positive_duration = duration if duration < min_SZ_positive_duration else min_SZ_positive_duration\n",
    "            max_SZ_positive_duration = duration if duration > max_SZ_positive_duration else max_SZ_positive_duration\n",
    "\n",
    "\n",
    "    print('SZ_negative: min =', min_SZ_negative_duration, ', max =', max_SZ_negative_duration)\n",
    "    print('SZ_positive: min =', min_SZ_positive_duration, ', max =', max_SZ_positive_duration)\n",
    "    \n",
    "    return min_SZ_negative_duration, min_SZ_positive_duration, max_SZ_negative_duration, max_SZ_positive_duration"
   ]
  },
  {
   "cell_type": "code",
   "execution_count": 9,
   "id": "505e8b2d",
   "metadata": {},
   "outputs": [],
   "source": [
    "def crop_raw_data_to_equalize_duration_per_class():\n",
    "    print(\"Duration per class before cropping: \")\n",
    "    min_dur_neg, min_dur_pos, *_ = get_min_max_duration_for_classes(True)\n",
    "    \n",
    "    for edf in raw_patients_data:\n",
    "        duration = edf.times[-1]\n",
    "\n",
    "        if(get_label(edf) == 0):\n",
    "            if(duration > min_dur_neg):\n",
    "                edf.crop(tmin=0, tmax=min_dur_neg, include_tmax=True)\n",
    "        else:\n",
    "            if(duration > min_dur_pos):\n",
    "                edf.crop(tmin=0, tmax=min_dur_pos, include_tmax=True)\n",
    "                \n",
    "    print(\"\\nDuration per class after cropping: \")\n",
    "\n",
    "    get_min_max_duration_for_classes(True)\n"
   ]
  },
  {
   "cell_type": "code",
   "execution_count": 10,
   "id": "b81024bc",
   "metadata": {},
   "outputs": [],
   "source": [
    "def print_info(epochs_num_per_patient, labels):\n",
    "    print('\\nEpochs number per patient: ', epochs_num_per_patient)\n",
    "    \n",
    "    class_SZ_positive = sum(labels) \n",
    "    class_SZ_negative= len(labels)-sum(labels)\n",
    "\n",
    "    print('\\nnegative: ', class_SZ_positive)\n",
    "    print('positive: ', class_SZ_negative)"
   ]
  },
  {
   "cell_type": "code",
   "execution_count": 11,
   "id": "b4068381",
   "metadata": {},
   "outputs": [],
   "source": [
    "def transform_patients_data_into_X_y_sets(patients_data, segment_duration=5.0, info=True):\n",
    "    epochs_per_patient = []\n",
    "    labels = []\n",
    "    \n",
    "    epochs_num_per_patient = []\n",
    "    for edf in raw_patients_data:\n",
    "        epochs = mne.make_fixed_length_epochs(edf, duration=segment_duration, preload=True, verbose=False)\n",
    "        epochs_per_patient.append(epochs)\n",
    "        epochs_num_per_patient.append(len(epochs))\n",
    "        \n",
    "        label = get_label(edf)\n",
    "        labels.extend([label for epoch in epochs])\n",
    "    \n",
    "    epochs = mne.concatenate_epochs(epochs_per_patient)\n",
    "\n",
    "    if info:\n",
    "        print_info(epochs_num_per_patient, labels)\n",
    "        \n",
    "    del epochs_num_per_patient\n",
    "    gc.collect()\n",
    "    \n",
    "    return (epochs, np.array(labels)) # (X, y)"
   ]
  },
  {
   "cell_type": "code",
   "execution_count": 12,
   "id": "a29ba119",
   "metadata": {
    "scrolled": true
   },
   "outputs": [],
   "source": [
    "# crop_raw_data_to_equalize_duration_per_class()"
   ]
  },
  {
   "cell_type": "code",
   "execution_count": 13,
   "id": "cf262ff8",
   "metadata": {},
   "outputs": [
    {
     "name": "stdout",
     "output_type": "stream",
     "text": [
      "Not setting metadata\n",
      "5771 matching events found\n",
      "No baseline correction applied\n",
      "0 bad epochs dropped\n",
      "\n",
      "Epochs number per patient:  [185, 182, 182, 185, 189, 186, 182, 182, 181, 223, 183, 180, 193, 173, 169, 229, 192, 241, 178, 148, 269, 182, 237, 170, 272, 217, 227, 434]\n",
      "\n",
      "negative:  3165\n",
      "positive:  2606\n"
     ]
    }
   ],
   "source": [
    "X, y = transform_patients_data_into_X_y_sets(patients_data=raw_patients_data, segment_duration=5.0)"
   ]
  },
  {
   "cell_type": "code",
   "execution_count": 14,
   "id": "a090f18f",
   "metadata": {},
   "outputs": [
    {
     "data": {
      "text/plain": [
       "0"
      ]
     },
     "execution_count": 14,
     "metadata": {},
     "output_type": "execute_result"
    }
   ],
   "source": [
    "del raw_patients_data\n",
    "gc.collect()"
   ]
  },
  {
   "cell_type": "code",
   "execution_count": null,
   "id": "c3ee78e6",
   "metadata": {},
   "outputs": [],
   "source": []
  },
  {
   "cell_type": "code",
   "execution_count": 15,
   "id": "f5705716",
   "metadata": {},
   "outputs": [
    {
     "name": "stdout",
     "output_type": "stream",
     "text": [
      "5771\n",
      "5771\n",
      "(1, 19, 1250)\n"
     ]
    }
   ],
   "source": [
    "print(len(y))\n",
    "print(len(X))\n",
    "print(X[0].get_data().shape)"
   ]
  },
  {
   "cell_type": "code",
   "execution_count": 16,
   "id": "e1dccd40",
   "metadata": {},
   "outputs": [
    {
     "data": {
      "text/html": [
       "<div>\n",
       "<style scoped>\n",
       "    .dataframe tbody tr th:only-of-type {\n",
       "        vertical-align: middle;\n",
       "    }\n",
       "\n",
       "    .dataframe tbody tr th {\n",
       "        vertical-align: top;\n",
       "    }\n",
       "\n",
       "    .dataframe thead th {\n",
       "        text-align: right;\n",
       "    }\n",
       "</style>\n",
       "<table border=\"1\" class=\"dataframe\">\n",
       "  <thead>\n",
       "    <tr style=\"text-align: right;\">\n",
       "      <th></th>\n",
       "      <th>time</th>\n",
       "      <th>condition</th>\n",
       "      <th>epoch</th>\n",
       "      <th>Fp2</th>\n",
       "      <th>F8</th>\n",
       "      <th>T4</th>\n",
       "      <th>T6</th>\n",
       "      <th>O2</th>\n",
       "      <th>Fp1</th>\n",
       "      <th>F7</th>\n",
       "      <th>...</th>\n",
       "      <th>O1</th>\n",
       "      <th>F4</th>\n",
       "      <th>C4</th>\n",
       "      <th>P4</th>\n",
       "      <th>F3</th>\n",
       "      <th>C3</th>\n",
       "      <th>P3</th>\n",
       "      <th>Fz</th>\n",
       "      <th>Cz</th>\n",
       "      <th>Pz</th>\n",
       "    </tr>\n",
       "  </thead>\n",
       "  <tbody>\n",
       "    <tr>\n",
       "      <th>0</th>\n",
       "      <td>0</td>\n",
       "      <td>1</td>\n",
       "      <td>0</td>\n",
       "      <td>0.002500</td>\n",
       "      <td>0.002500</td>\n",
       "      <td>0.002500</td>\n",
       "      <td>0.00250</td>\n",
       "      <td>0.002500</td>\n",
       "      <td>0.0025</td>\n",
       "      <td>0.0025</td>\n",
       "      <td>...</td>\n",
       "      <td>0.00250</td>\n",
       "      <td>0.0025</td>\n",
       "      <td>0.002500</td>\n",
       "      <td>0.0025</td>\n",
       "      <td>0.0025</td>\n",
       "      <td>0.002500</td>\n",
       "      <td>0.00250</td>\n",
       "      <td>0.0025</td>\n",
       "      <td>0.0025</td>\n",
       "      <td>0.002500</td>\n",
       "    </tr>\n",
       "    <tr>\n",
       "      <th>1</th>\n",
       "      <td>4</td>\n",
       "      <td>1</td>\n",
       "      <td>0</td>\n",
       "      <td>0.002500</td>\n",
       "      <td>0.002500</td>\n",
       "      <td>0.002500</td>\n",
       "      <td>0.00250</td>\n",
       "      <td>0.002500</td>\n",
       "      <td>0.0025</td>\n",
       "      <td>0.0025</td>\n",
       "      <td>...</td>\n",
       "      <td>0.00250</td>\n",
       "      <td>0.0025</td>\n",
       "      <td>0.002500</td>\n",
       "      <td>0.0025</td>\n",
       "      <td>0.0025</td>\n",
       "      <td>0.002500</td>\n",
       "      <td>0.00250</td>\n",
       "      <td>0.0025</td>\n",
       "      <td>0.0025</td>\n",
       "      <td>0.002500</td>\n",
       "    </tr>\n",
       "    <tr>\n",
       "      <th>2</th>\n",
       "      <td>8</td>\n",
       "      <td>1</td>\n",
       "      <td>0</td>\n",
       "      <td>0.002500</td>\n",
       "      <td>0.002500</td>\n",
       "      <td>0.002500</td>\n",
       "      <td>0.00250</td>\n",
       "      <td>0.002500</td>\n",
       "      <td>0.0025</td>\n",
       "      <td>0.0025</td>\n",
       "      <td>...</td>\n",
       "      <td>0.00250</td>\n",
       "      <td>0.0025</td>\n",
       "      <td>0.002500</td>\n",
       "      <td>0.0025</td>\n",
       "      <td>0.0025</td>\n",
       "      <td>0.002500</td>\n",
       "      <td>0.00250</td>\n",
       "      <td>0.0025</td>\n",
       "      <td>0.0025</td>\n",
       "      <td>0.002500</td>\n",
       "    </tr>\n",
       "    <tr>\n",
       "      <th>3</th>\n",
       "      <td>12</td>\n",
       "      <td>1</td>\n",
       "      <td>0</td>\n",
       "      <td>0.461215</td>\n",
       "      <td>0.461215</td>\n",
       "      <td>0.308310</td>\n",
       "      <td>0.30831</td>\n",
       "      <td>0.155405</td>\n",
       "      <td>0.0025</td>\n",
       "      <td>0.0025</td>\n",
       "      <td>...</td>\n",
       "      <td>0.00250</td>\n",
       "      <td>0.0025</td>\n",
       "      <td>0.002500</td>\n",
       "      <td>0.0025</td>\n",
       "      <td>0.0025</td>\n",
       "      <td>-0.150405</td>\n",
       "      <td>-0.30331</td>\n",
       "      <td>0.0025</td>\n",
       "      <td>0.0025</td>\n",
       "      <td>-0.303310</td>\n",
       "    </tr>\n",
       "    <tr>\n",
       "      <th>4</th>\n",
       "      <td>16</td>\n",
       "      <td>1</td>\n",
       "      <td>0</td>\n",
       "      <td>0.461215</td>\n",
       "      <td>0.461215</td>\n",
       "      <td>0.461215</td>\n",
       "      <td>0.30831</td>\n",
       "      <td>0.155405</td>\n",
       "      <td>0.0025</td>\n",
       "      <td>0.0025</td>\n",
       "      <td>...</td>\n",
       "      <td>-0.30331</td>\n",
       "      <td>0.0025</td>\n",
       "      <td>0.155405</td>\n",
       "      <td>0.0025</td>\n",
       "      <td>0.0025</td>\n",
       "      <td>-0.150405</td>\n",
       "      <td>-0.30331</td>\n",
       "      <td>0.0025</td>\n",
       "      <td>0.0025</td>\n",
       "      <td>-0.150405</td>\n",
       "    </tr>\n",
       "  </tbody>\n",
       "</table>\n",
       "<p>5 rows × 22 columns</p>\n",
       "</div>"
      ],
      "text/plain": [
       "   time condition  epoch       Fp2        F8        T4       T6        O2  \\\n",
       "0     0         1      0  0.002500  0.002500  0.002500  0.00250  0.002500   \n",
       "1     4         1      0  0.002500  0.002500  0.002500  0.00250  0.002500   \n",
       "2     8         1      0  0.002500  0.002500  0.002500  0.00250  0.002500   \n",
       "3    12         1      0  0.461215  0.461215  0.308310  0.30831  0.155405   \n",
       "4    16         1      0  0.461215  0.461215  0.461215  0.30831  0.155405   \n",
       "\n",
       "      Fp1      F7  ...       O1      F4        C4      P4      F3        C3  \\\n",
       "0  0.0025  0.0025  ...  0.00250  0.0025  0.002500  0.0025  0.0025  0.002500   \n",
       "1  0.0025  0.0025  ...  0.00250  0.0025  0.002500  0.0025  0.0025  0.002500   \n",
       "2  0.0025  0.0025  ...  0.00250  0.0025  0.002500  0.0025  0.0025  0.002500   \n",
       "3  0.0025  0.0025  ...  0.00250  0.0025  0.002500  0.0025  0.0025 -0.150405   \n",
       "4  0.0025  0.0025  ... -0.30331  0.0025  0.155405  0.0025  0.0025 -0.150405   \n",
       "\n",
       "        P3      Fz      Cz        Pz  \n",
       "0  0.00250  0.0025  0.0025  0.002500  \n",
       "1  0.00250  0.0025  0.0025  0.002500  \n",
       "2  0.00250  0.0025  0.0025  0.002500  \n",
       "3 -0.30331  0.0025  0.0025 -0.303310  \n",
       "4 -0.30331  0.0025  0.0025 -0.150405  \n",
       "\n",
       "[5 rows x 22 columns]"
      ]
     },
     "execution_count": 16,
     "metadata": {},
     "output_type": "execute_result"
    }
   ],
   "source": [
    "X.to_data_frame().head()"
   ]
  },
  {
   "cell_type": "code",
   "execution_count": 17,
   "id": "f8633457",
   "metadata": {
    "scrolled": true
   },
   "outputs": [
    {
     "data": {
      "text/html": [
       "<div>\n",
       "<style scoped>\n",
       "    .dataframe tbody tr th:only-of-type {\n",
       "        vertical-align: middle;\n",
       "    }\n",
       "\n",
       "    .dataframe tbody tr th {\n",
       "        vertical-align: top;\n",
       "    }\n",
       "\n",
       "    .dataframe thead th {\n",
       "        text-align: right;\n",
       "    }\n",
       "</style>\n",
       "<table border=\"1\" class=\"dataframe\">\n",
       "  <thead>\n",
       "    <tr style=\"text-align: right;\">\n",
       "      <th></th>\n",
       "      <th>time</th>\n",
       "      <th>condition</th>\n",
       "      <th>epoch</th>\n",
       "      <th>Fp2</th>\n",
       "      <th>F8</th>\n",
       "      <th>T4</th>\n",
       "      <th>T6</th>\n",
       "      <th>O2</th>\n",
       "      <th>Fp1</th>\n",
       "      <th>F7</th>\n",
       "      <th>...</th>\n",
       "      <th>O1</th>\n",
       "      <th>F4</th>\n",
       "      <th>C4</th>\n",
       "      <th>P4</th>\n",
       "      <th>F3</th>\n",
       "      <th>C3</th>\n",
       "      <th>P3</th>\n",
       "      <th>Fz</th>\n",
       "      <th>Cz</th>\n",
       "      <th>Pz</th>\n",
       "    </tr>\n",
       "  </thead>\n",
       "  <tbody>\n",
       "    <tr>\n",
       "      <th>0</th>\n",
       "      <td>0</td>\n",
       "      <td>1</td>\n",
       "      <td>0</td>\n",
       "      <td>0.002500</td>\n",
       "      <td>0.002500</td>\n",
       "      <td>0.002500</td>\n",
       "      <td>0.00250</td>\n",
       "      <td>0.002500</td>\n",
       "      <td>0.0025</td>\n",
       "      <td>0.0025</td>\n",
       "      <td>...</td>\n",
       "      <td>0.00250</td>\n",
       "      <td>0.0025</td>\n",
       "      <td>0.002500</td>\n",
       "      <td>0.0025</td>\n",
       "      <td>0.0025</td>\n",
       "      <td>0.002500</td>\n",
       "      <td>0.00250</td>\n",
       "      <td>0.0025</td>\n",
       "      <td>0.0025</td>\n",
       "      <td>0.002500</td>\n",
       "    </tr>\n",
       "    <tr>\n",
       "      <th>1</th>\n",
       "      <td>4</td>\n",
       "      <td>1</td>\n",
       "      <td>0</td>\n",
       "      <td>0.002500</td>\n",
       "      <td>0.002500</td>\n",
       "      <td>0.002500</td>\n",
       "      <td>0.00250</td>\n",
       "      <td>0.002500</td>\n",
       "      <td>0.0025</td>\n",
       "      <td>0.0025</td>\n",
       "      <td>...</td>\n",
       "      <td>0.00250</td>\n",
       "      <td>0.0025</td>\n",
       "      <td>0.002500</td>\n",
       "      <td>0.0025</td>\n",
       "      <td>0.0025</td>\n",
       "      <td>0.002500</td>\n",
       "      <td>0.00250</td>\n",
       "      <td>0.0025</td>\n",
       "      <td>0.0025</td>\n",
       "      <td>0.002500</td>\n",
       "    </tr>\n",
       "    <tr>\n",
       "      <th>2</th>\n",
       "      <td>8</td>\n",
       "      <td>1</td>\n",
       "      <td>0</td>\n",
       "      <td>0.002500</td>\n",
       "      <td>0.002500</td>\n",
       "      <td>0.002500</td>\n",
       "      <td>0.00250</td>\n",
       "      <td>0.002500</td>\n",
       "      <td>0.0025</td>\n",
       "      <td>0.0025</td>\n",
       "      <td>...</td>\n",
       "      <td>0.00250</td>\n",
       "      <td>0.0025</td>\n",
       "      <td>0.002500</td>\n",
       "      <td>0.0025</td>\n",
       "      <td>0.0025</td>\n",
       "      <td>0.002500</td>\n",
       "      <td>0.00250</td>\n",
       "      <td>0.0025</td>\n",
       "      <td>0.0025</td>\n",
       "      <td>0.002500</td>\n",
       "    </tr>\n",
       "    <tr>\n",
       "      <th>3</th>\n",
       "      <td>12</td>\n",
       "      <td>1</td>\n",
       "      <td>0</td>\n",
       "      <td>0.461215</td>\n",
       "      <td>0.461215</td>\n",
       "      <td>0.308310</td>\n",
       "      <td>0.30831</td>\n",
       "      <td>0.155405</td>\n",
       "      <td>0.0025</td>\n",
       "      <td>0.0025</td>\n",
       "      <td>...</td>\n",
       "      <td>0.00250</td>\n",
       "      <td>0.0025</td>\n",
       "      <td>0.002500</td>\n",
       "      <td>0.0025</td>\n",
       "      <td>0.0025</td>\n",
       "      <td>-0.150405</td>\n",
       "      <td>-0.30331</td>\n",
       "      <td>0.0025</td>\n",
       "      <td>0.0025</td>\n",
       "      <td>-0.303310</td>\n",
       "    </tr>\n",
       "    <tr>\n",
       "      <th>4</th>\n",
       "      <td>16</td>\n",
       "      <td>1</td>\n",
       "      <td>0</td>\n",
       "      <td>0.461215</td>\n",
       "      <td>0.461215</td>\n",
       "      <td>0.461215</td>\n",
       "      <td>0.30831</td>\n",
       "      <td>0.155405</td>\n",
       "      <td>0.0025</td>\n",
       "      <td>0.0025</td>\n",
       "      <td>...</td>\n",
       "      <td>-0.30331</td>\n",
       "      <td>0.0025</td>\n",
       "      <td>0.155405</td>\n",
       "      <td>0.0025</td>\n",
       "      <td>0.0025</td>\n",
       "      <td>-0.150405</td>\n",
       "      <td>-0.30331</td>\n",
       "      <td>0.0025</td>\n",
       "      <td>0.0025</td>\n",
       "      <td>-0.150405</td>\n",
       "    </tr>\n",
       "  </tbody>\n",
       "</table>\n",
       "<p>5 rows × 22 columns</p>\n",
       "</div>"
      ],
      "text/plain": [
       "   time condition  epoch       Fp2        F8        T4       T6        O2  \\\n",
       "0     0         1      0  0.002500  0.002500  0.002500  0.00250  0.002500   \n",
       "1     4         1      0  0.002500  0.002500  0.002500  0.00250  0.002500   \n",
       "2     8         1      0  0.002500  0.002500  0.002500  0.00250  0.002500   \n",
       "3    12         1      0  0.461215  0.461215  0.308310  0.30831  0.155405   \n",
       "4    16         1      0  0.461215  0.461215  0.461215  0.30831  0.155405   \n",
       "\n",
       "      Fp1      F7  ...       O1      F4        C4      P4      F3        C3  \\\n",
       "0  0.0025  0.0025  ...  0.00250  0.0025  0.002500  0.0025  0.0025  0.002500   \n",
       "1  0.0025  0.0025  ...  0.00250  0.0025  0.002500  0.0025  0.0025  0.002500   \n",
       "2  0.0025  0.0025  ...  0.00250  0.0025  0.002500  0.0025  0.0025  0.002500   \n",
       "3  0.0025  0.0025  ...  0.00250  0.0025  0.002500  0.0025  0.0025 -0.150405   \n",
       "4  0.0025  0.0025  ... -0.30331  0.0025  0.155405  0.0025  0.0025 -0.150405   \n",
       "\n",
       "        P3      Fz      Cz        Pz  \n",
       "0  0.00250  0.0025  0.0025  0.002500  \n",
       "1  0.00250  0.0025  0.0025  0.002500  \n",
       "2  0.00250  0.0025  0.0025  0.002500  \n",
       "3 -0.30331  0.0025  0.0025 -0.303310  \n",
       "4 -0.30331  0.0025  0.0025 -0.150405  \n",
       "\n",
       "[5 rows x 22 columns]"
      ]
     },
     "execution_count": 17,
     "metadata": {},
     "output_type": "execute_result"
    }
   ],
   "source": [
    "X[0].to_data_frame().head()"
   ]
  },
  {
   "cell_type": "code",
   "execution_count": 18,
   "id": "68db9437",
   "metadata": {},
   "outputs": [
    {
     "name": "stdout",
     "output_type": "stream",
     "text": [
      "x_data shape: (5771, 19, 1250)\n",
      "column_names: Index(['Fp2', 'F8', 'T4', 'T6', 'O2', 'Fp1', 'F7', 'T3', 'T5', 'O1', 'F4',\n",
      "       'C4', 'P4', 'F3', 'C3', 'P3', 'Fz', 'Cz', 'Pz'],\n",
      "      dtype='object')\n"
     ]
    }
   ],
   "source": [
    "### Data preparation\n",
    "\n",
    "np.set_printoptions(precision=50)\n",
    "\n",
    "x_data = X.get_data()\n",
    "print('x_data shape:', x_data.shape)\n",
    "\n",
    "column_names = X[0].to_data_frame().columns\n",
    "column_names = column_names[-19:]\n",
    "print('column_names:', column_names)\n",
    "\n",
    "epoch_num, channel_num, epoch_len = x_data.shape"
   ]
  },
  {
   "cell_type": "code",
   "execution_count": 19,
   "id": "c05dc4cf",
   "metadata": {},
   "outputs": [
    {
     "data": {
      "text/plain": [
       "(5771, 1250, 19)"
      ]
     },
     "execution_count": 19,
     "metadata": {},
     "output_type": "execute_result"
    }
   ],
   "source": [
    "x_data = x_data.swapaxes(1, 2)\n",
    "x_data.shape"
   ]
  },
  {
   "cell_type": "code",
   "execution_count": 20,
   "id": "d1d16bd4",
   "metadata": {},
   "outputs": [
    {
     "data": {
      "text/plain": [
       "(1250, 19)"
      ]
     },
     "execution_count": 20,
     "metadata": {},
     "output_type": "execute_result"
    }
   ],
   "source": [
    "input_shape = x_data[0].shape\n",
    "input_shape"
   ]
  },
  {
   "cell_type": "code",
   "execution_count": 21,
   "id": "59f17c4c",
   "metadata": {},
   "outputs": [],
   "source": [
    "X_train, X_test, y_train, y_test = train_test_split(x_data, y, test_size=0.2, shuffle=True, random_state=1)"
   ]
  },
  {
   "cell_type": "code",
   "execution_count": 22,
   "id": "65493461",
   "metadata": {},
   "outputs": [
    {
     "name": "stdout",
     "output_type": "stream",
     "text": [
      "input_shape: KerasTensor(type_spec=TensorSpec(shape=(None, 1250, 19), dtype=tf.float32, name='input_1'), name='input_1', description=\"created by layer 'input_1'\")\n"
     ]
    }
   ],
   "source": [
    "validation_data_ratio = 0.2\n",
    "input_shape = Input(shape=input_shape)\n",
    "print('input_shape:', input_shape)\n",
    "batch_size = 128\n",
    "# n_steps = traingen.samples // BATCH_SIZE\n",
    "# n_val_steps = validgen.samples // BATCH_SIZE\n",
    "n_epochs = 50"
   ]
  },
  {
   "cell_type": "code",
   "execution_count": 23,
   "id": "ec915006",
   "metadata": {},
   "outputs": [
    {
     "name": "stdout",
     "output_type": "stream",
     "text": [
      "138634\n"
     ]
    }
   ],
   "source": [
    "import random\n",
    "rnd_seed = random.randint(0, 1000000)\n",
    "print(rnd_seed)"
   ]
  },
  {
   "cell_type": "code",
   "execution_count": 24,
   "id": "c5ef20c6",
   "metadata": {},
   "outputs": [],
   "source": [
    "import tensorflow as tf\n",
    "from tensorflow.keras.models import Model\n",
    "from tensorflow.keras.layers import Dense, Activation, Permute, Dropout\n",
    "from tensorflow.keras.layers import Conv2D, Conv1D, MaxPooling1D, MaxPooling2D, AveragePooling2D, AveragePooling1D\n",
    "from tensorflow.keras.layers import SeparableConv2D, DepthwiseConv2D\n",
    "from tensorflow.keras.layers import BatchNormalization\n",
    "from tensorflow.keras.layers import SpatialDropout1D\n",
    "from tensorflow.keras.regularizers import l1_l2\n",
    "from tensorflow.keras.layers import Input, Flatten\n",
    "from tensorflow.keras.constraints import max_norm"
   ]
  },
  {
   "cell_type": "code",
   "execution_count": 25,
   "id": "17d42992",
   "metadata": {},
   "outputs": [],
   "source": [
    "def CNN(input_shape, opt, fine_tune=False, chans=19, nb_classes=2, \n",
    "             dropoutRate = 0.5, kernLength = 64, F1 = 8, \n",
    "             D = 2, F2 = 16, norm_rate = 0.25, dropoutType = 'Dropout'):\n",
    "    \n",
    "    if dropoutType == 'SpatialDropout1D':\n",
    "        dropoutType = SpatialDropout2D\n",
    "    elif dropoutType == 'Dropout':\n",
    "        dropoutType = Dropout\n",
    "    else:\n",
    "        raise ValueError('dropoutType must be one of SpatialDropout1D '\n",
    "                         'or Dropout, passed as a string.')\n",
    "    \n",
    "    input1 = input_shape\n",
    "    \n",
    "    pooling_layer1_format = 'channels_first'\n",
    "    pooling_layer2_format = 'channels_last'\n",
    "   \n",
    "\n",
    "    ##################################################################\n",
    "    block1       = Conv1D(F1, (kernLength), padding = 'same',\n",
    "                                  # input_shape = ( chans, samples),\n",
    "                                   use_bias = False)(input1)\n",
    "    block1       = BatchNormalization(axis = -1)(block1)\n",
    "   \n",
    "    block1       = Conv1D(5, (chans), padding='same',\n",
    "                          use_bias = False )(block1)\n",
    "    block1       = BatchNormalization(axis = -1)(block1)\n",
    "    block1       = Activation('elu')(block1)\n",
    "    block1       = AveragePooling1D(pool_size=(4),  name='apl1')(block1)\n",
    "    block1       = dropoutType(dropoutRate)(block1)\n",
    " \n",
    "    block2       = Conv1D(5, ( 16),\n",
    "                                   use_bias = False, padding = 'same' )(block1)\n",
    "    block2       = BatchNormalization(axis = -1)(block2)\n",
    "    block2       = Activation('elu')(block2)\n",
    "    #block2       = AveragePooling1D(pool_size=(3), name='apl2')(block2)\n",
    "    block2       = dropoutType(dropoutRate)(block2)\n",
    "    \n",
    "    \n",
    "    \n",
    "    block2       = Conv1D(5, ( 16),\n",
    "                                   use_bias = False, padding = 'same' )(block2)\n",
    "    block2       = BatchNormalization(axis = -1)(block2)\n",
    "    block2       = Activation('elu')(block2)\n",
    "    block2       = dropoutType(dropoutRate)(block2)\n",
    " \n",
    "        \n",
    "    flatten      = Flatten(name = 'flatten')(block2)\n",
    "    \n",
    "    dense        = Dense(1, name = 'dense',  kernel_constraint = max_norm(norm_rate))(flatten)\n",
    "    \n",
    "    softmax      = Activation('sigmoid', name = 'sigmoid')(dense)\n",
    "    \n",
    "    model = Model(inputs=input1, outputs=softmax)\n",
    "    \n",
    "    model.compile(optimizer=opt, \n",
    "              loss='binary_crossentropy',\n",
    "              metrics=['accuracy'])\n",
    "    \n",
    "    return model"
   ]
  },
  {
   "cell_type": "code",
   "execution_count": 44,
   "id": "6020b418",
   "metadata": {},
   "outputs": [],
   "source": [
    "opt = keras.optimizers.Adam(learning_rate=0.001)"
   ]
  },
  {
   "cell_type": "code",
   "execution_count": 45,
   "id": "ca99139b",
   "metadata": {},
   "outputs": [],
   "source": [
    "model = CNN(input_shape, opt, chans=19, fine_tune=0)"
   ]
  },
  {
   "cell_type": "code",
   "execution_count": 46,
   "id": "5f612364",
   "metadata": {},
   "outputs": [
    {
     "name": "stdout",
     "output_type": "stream",
     "text": [
      "Model: \"model_1\"\n",
      "_________________________________________________________________\n",
      " Layer (type)                Output Shape              Param #   \n",
      "=================================================================\n",
      " input_1 (InputLayer)        [(None, 1250, 19)]        0         \n",
      "                                                                 \n",
      " conv1d_4 (Conv1D)           (None, 1250, 8)           9728      \n",
      "                                                                 \n",
      " batch_normalization_4 (Batc  (None, 1250, 8)          32        \n",
      " hNormalization)                                                 \n",
      "                                                                 \n",
      " conv1d_5 (Conv1D)           (None, 1250, 5)           760       \n",
      "                                                                 \n",
      " batch_normalization_5 (Batc  (None, 1250, 5)          20        \n",
      " hNormalization)                                                 \n",
      "                                                                 \n",
      " activation_3 (Activation)   (None, 1250, 5)           0         \n",
      "                                                                 \n",
      " apl1 (AveragePooling1D)     (None, 312, 5)            0         \n",
      "                                                                 \n",
      " dropout_3 (Dropout)         (None, 312, 5)            0         \n",
      "                                                                 \n",
      " conv1d_6 (Conv1D)           (None, 312, 5)            400       \n",
      "                                                                 \n",
      " batch_normalization_6 (Batc  (None, 312, 5)           20        \n",
      " hNormalization)                                                 \n",
      "                                                                 \n",
      " activation_4 (Activation)   (None, 312, 5)            0         \n",
      "                                                                 \n",
      " dropout_4 (Dropout)         (None, 312, 5)            0         \n",
      "                                                                 \n",
      " conv1d_7 (Conv1D)           (None, 312, 5)            400       \n",
      "                                                                 \n",
      " batch_normalization_7 (Batc  (None, 312, 5)           20        \n",
      " hNormalization)                                                 \n",
      "                                                                 \n",
      " activation_5 (Activation)   (None, 312, 5)            0         \n",
      "                                                                 \n",
      " dropout_5 (Dropout)         (None, 312, 5)            0         \n",
      "                                                                 \n",
      " flatten (Flatten)           (None, 1560)              0         \n",
      "                                                                 \n",
      " dense (Dense)               (None, 1)                 1561      \n",
      "                                                                 \n",
      " sigmoid (Activation)        (None, 1)                 0         \n",
      "                                                                 \n",
      "=================================================================\n",
      "Total params: 12,941\n",
      "Trainable params: 12,895\n",
      "Non-trainable params: 46\n",
      "_________________________________________________________________\n"
     ]
    }
   ],
   "source": [
    "model.summary()"
   ]
  },
  {
   "cell_type": "code",
   "execution_count": 47,
   "id": "037232f0",
   "metadata": {},
   "outputs": [],
   "source": [
    "# ModelCheckpoint callback - save best weights\n",
    "tl_checkpoint_1 = ModelCheckpoint(filepath='../vgg16/V1/weights/model.weights.best.hdf5',\n",
    "                                  save_best_only=True,\n",
    "                                  verbose=1)\n",
    "\n",
    "# EarlyStopping\n",
    "early_stop = EarlyStopping(monitor='val_loss',\n",
    "                           patience=15,\n",
    "                           restore_best_weights=True,\n",
    "                           mode='min')"
   ]
  },
  {
   "cell_type": "code",
   "execution_count": null,
   "id": "26e2d078",
   "metadata": {},
   "outputs": [],
   "source": []
  },
  {
   "cell_type": "code",
   "execution_count": 48,
   "id": "46f58bd7",
   "metadata": {
    "scrolled": true
   },
   "outputs": [
    {
     "name": "stdout",
     "output_type": "stream",
     "text": [
      "Epoch 1/50\n",
      "116/116 [==============================] - 10s 78ms/step - loss: 0.5466 - accuracy: 0.6910 - val_loss: 0.6888 - val_accuracy: 0.5541\n",
      "Epoch 2/50\n",
      "116/116 [==============================] - 9s 77ms/step - loss: 0.3480 - accuracy: 0.8432 - val_loss: 0.8391 - val_accuracy: 0.5541\n",
      "Epoch 3/50\n",
      "116/116 [==============================] - 9s 77ms/step - loss: 0.2386 - accuracy: 0.9085 - val_loss: 0.6795 - val_accuracy: 0.5541\n",
      "Epoch 4/50\n",
      "116/116 [==============================] - 9s 76ms/step - loss: 0.1972 - accuracy: 0.9285 - val_loss: 0.8761 - val_accuracy: 0.4913\n",
      "Epoch 5/50\n",
      "116/116 [==============================] - 9s 76ms/step - loss: 0.1531 - accuracy: 0.9456 - val_loss: 1.8770 - val_accuracy: 0.4686\n",
      "Epoch 6/50\n",
      "116/116 [==============================] - 9s 80ms/step - loss: 0.1239 - accuracy: 0.9607 - val_loss: 2.1848 - val_accuracy: 0.5671\n",
      "Epoch 7/50\n",
      "116/116 [==============================] - 10s 87ms/step - loss: 0.1293 - accuracy: 0.9521 - val_loss: 0.2553 - val_accuracy: 0.9654\n",
      "Epoch 8/50\n",
      "116/116 [==============================] - 9s 80ms/step - loss: 0.1174 - accuracy: 0.9615 - val_loss: 1.5655 - val_accuracy: 0.5541\n",
      "Epoch 9/50\n",
      "116/116 [==============================] - 9s 81ms/step - loss: 0.1129 - accuracy: 0.9602 - val_loss: 1.7796 - val_accuracy: 0.5541\n",
      "Epoch 10/50\n",
      "116/116 [==============================] - 9s 81ms/step - loss: 0.0974 - accuracy: 0.9691 - val_loss: 1.8057 - val_accuracy: 0.5541\n",
      "Epoch 11/50\n",
      "116/116 [==============================] - 11s 91ms/step - loss: 0.0867 - accuracy: 0.9743 - val_loss: 0.1764 - val_accuracy: 0.9448\n",
      "Epoch 12/50\n",
      "116/116 [==============================] - 9s 81ms/step - loss: 0.0823 - accuracy: 0.9748 - val_loss: 2.0357 - val_accuracy: 0.5541\n",
      "Epoch 13/50\n",
      "116/116 [==============================] - 9s 81ms/step - loss: 0.0807 - accuracy: 0.9756 - val_loss: 0.2067 - val_accuracy: 0.9329\n",
      "Epoch 14/50\n",
      "116/116 [==============================] - 11s 93ms/step - loss: 0.0861 - accuracy: 0.9705 - val_loss: 1.7635 - val_accuracy: 0.5541\n",
      "Epoch 15/50\n",
      "116/116 [==============================] - 11s 93ms/step - loss: 0.0713 - accuracy: 0.9767 - val_loss: 2.1230 - val_accuracy: 0.5541\n",
      "Epoch 16/50\n",
      "116/116 [==============================] - 10s 83ms/step - loss: 0.0666 - accuracy: 0.9800 - val_loss: 0.0695 - val_accuracy: 0.9903\n",
      "Epoch 17/50\n",
      "116/116 [==============================] - 10s 82ms/step - loss: 0.0642 - accuracy: 0.9797 - val_loss: 0.3012 - val_accuracy: 0.8582\n",
      "Epoch 18/50\n",
      "116/116 [==============================] - 9s 81ms/step - loss: 0.0598 - accuracy: 0.9805 - val_loss: 0.8203 - val_accuracy: 0.6374\n",
      "Epoch 19/50\n",
      "116/116 [==============================] - 9s 82ms/step - loss: 0.0724 - accuracy: 0.9732 - val_loss: 2.5135 - val_accuracy: 0.5552\n",
      "Epoch 20/50\n",
      "116/116 [==============================] - 10s 84ms/step - loss: 0.0842 - accuracy: 0.9743 - val_loss: 2.0170 - val_accuracy: 0.5541\n",
      "Epoch 21/50\n",
      "116/116 [==============================] - 11s 99ms/step - loss: 0.0774 - accuracy: 0.9778 - val_loss: 3.7716 - val_accuracy: 0.5541\n",
      "Epoch 22/50\n",
      "116/116 [==============================] - 9s 80ms/step - loss: 0.0696 - accuracy: 0.9794 - val_loss: 0.3773 - val_accuracy: 0.7554\n",
      "Epoch 23/50\n",
      "116/116 [==============================] - 9s 78ms/step - loss: 0.0626 - accuracy: 0.9789 - val_loss: 2.2964 - val_accuracy: 0.5541\n",
      "Epoch 24/50\n",
      "116/116 [==============================] - 10s 83ms/step - loss: 0.0815 - accuracy: 0.9735 - val_loss: 0.3168 - val_accuracy: 0.8550\n",
      "Epoch 25/50\n",
      "116/116 [==============================] - 9s 77ms/step - loss: 0.0749 - accuracy: 0.9781 - val_loss: 1.1074 - val_accuracy: 0.5541\n",
      "Epoch 26/50\n",
      "116/116 [==============================] - 9s 77ms/step - loss: 0.0512 - accuracy: 0.9856 - val_loss: 1.7237 - val_accuracy: 0.5541\n",
      "Epoch 27/50\n",
      "116/116 [==============================] - 9s 75ms/step - loss: 0.0656 - accuracy: 0.9791 - val_loss: 5.0118 - val_accuracy: 0.5541\n",
      "Epoch 28/50\n",
      "116/116 [==============================] - 9s 78ms/step - loss: 0.0545 - accuracy: 0.9813 - val_loss: 3.3944 - val_accuracy: 0.5541\n",
      "Epoch 29/50\n",
      "116/116 [==============================] - 11s 97ms/step - loss: 0.0370 - accuracy: 0.9900 - val_loss: 0.2695 - val_accuracy: 0.8820\n",
      "Epoch 30/50\n",
      "116/116 [==============================] - 9s 77ms/step - loss: 0.0493 - accuracy: 0.9878 - val_loss: 4.1154 - val_accuracy: 0.5141\n",
      "Epoch 31/50\n",
      "116/116 [==============================] - 9s 76ms/step - loss: 0.0595 - accuracy: 0.9829 - val_loss: 0.0759 - val_accuracy: 0.9968\n"
     ]
    }
   ],
   "source": [
    "history = model.fit(\n",
    "    x=X_train, \n",
    "    y=y_train.reshape(-1,1),\n",
    "    batch_size=32,\n",
    "    validation_split=0.2,\n",
    "    epochs=50, \n",
    "#     callbacks=[tl_checkpoint_1, early_stop],\n",
    "    callbacks=[early_stop],\n",
    "    verbose=1)"
   ]
  },
  {
   "cell_type": "code",
   "execution_count": 49,
   "id": "514a3efa",
   "metadata": {},
   "outputs": [],
   "source": [
    "# model.save('../vgg16/V1/model/')"
   ]
  },
  {
   "cell_type": "code",
   "execution_count": 50,
   "id": "e6103a7d",
   "metadata": {},
   "outputs": [],
   "source": [
    "def plot_accuracy(history):\n",
    "    plt.plot(history.history['accuracy'])\n",
    "    plt.plot(history.history['val_accuracy'])\n",
    "    plt.title('model accuracy')\n",
    "    plt.ylabel('accuracy')\n",
    "    plt.xlabel('epoch')\n",
    "    plt.legend(['train', 'val'], loc='upper left')\n",
    "    plt.show()"
   ]
  },
  {
   "cell_type": "code",
   "execution_count": 51,
   "id": "8ee989bb",
   "metadata": {},
   "outputs": [],
   "source": [
    "def plot_loss(history):\n",
    "    plt.plot(history.history['loss'])\n",
    "    plt.plot(history.history['val_loss'])\n",
    "    plt.title('model loss')\n",
    "    plt.ylabel('loss')\n",
    "    plt.xlabel('epoch')\n",
    "    plt.legend(['train', 'val'], loc='upper left')\n",
    "    plt.show()\n"
   ]
  },
  {
   "cell_type": "code",
   "execution_count": 52,
   "id": "9df3c63f",
   "metadata": {},
   "outputs": [
    {
     "data": {
      "image/png": "[encoded data removed]",
      "text/plain": [
       "<Figure size 432x288 with 1 Axes>"
      ]
     },
     "metadata": {
      "needs_background": "light"
     },
     "output_type": "display_data"
    }
   ],
   "source": [
    "plot_accuracy(history)"
   ]
  },
  {
   "cell_type": "code",
   "execution_count": 53,
   "id": "4a636b43",
   "metadata": {},
   "outputs": [
    {
     "data": {
      "image/png": "[encoded data removed]",
      "text/plain": [
       "<Figure size 432x288 with 1 Axes>"
      ]
     },
     "metadata": {
      "needs_background": "light"
     },
     "output_type": "display_data"
    }
   ],
   "source": [
    "plot_loss(history)"
   ]
  },
  {
   "cell_type": "code",
   "execution_count": null,
   "id": "25ba19b3",
   "metadata": {},
   "outputs": [],
   "source": []
  },
  {
   "cell_type": "code",
   "execution_count": 54,
   "id": "4314a6b5",
   "metadata": {},
   "outputs": [],
   "source": [
    "predictions = model.predict(X_test, verbose=0)\n"
   ]
  },
  {
   "cell_type": "code",
   "execution_count": 55,
   "id": "b88da262",
   "metadata": {},
   "outputs": [],
   "source": [
    "predictions = np.array([0 if x < 0.5 else 1 for x in predictions])"
   ]
  },
  {
   "cell_type": "code",
   "execution_count": 56,
   "id": "aca1cb28",
   "metadata": {},
   "outputs": [
    {
     "name": "stdout",
     "output_type": "stream",
     "text": [
      "1155\n",
      "1155\n"
     ]
    }
   ],
   "source": [
    "print(len(predictions))\n",
    "print(len(y_test))"
   ]
  },
  {
   "cell_type": "code",
   "execution_count": 57,
   "id": "264f1f15",
   "metadata": {},
   "outputs": [
    {
     "name": "stdout",
     "output_type": "stream",
     "text": [
      "[1 1 0 0 1 0 0 0 0 1 0 1 1 0 1]\n",
      "[1 1 0 0 1 0 0 0 0 1 0 1 1 0 1]\n"
     ]
    }
   ],
   "source": [
    "print(predictions[0:15])\n",
    "print(y_test[0:15])"
   ]
  },
  {
   "cell_type": "code",
   "execution_count": 58,
   "id": "48088fe0",
   "metadata": {},
   "outputs": [
    {
     "name": "stdout",
     "output_type": "stream",
     "text": [
      "Test Accuracy: 0.9852813852813853\n"
     ]
    }
   ],
   "source": [
    "accuracy = accuracy_score(y_test, predictions)\n",
    "print(\"Test Accuracy:\", accuracy)"
   ]
  },
  {
   "cell_type": "code",
   "execution_count": 59,
   "id": "232d80a8",
   "metadata": {},
   "outputs": [
    {
     "data": {
      "image/png": "[encoded data removed]",
      "text/plain": [
       "<Figure size 432x288 with 2 Axes>"
      ]
     },
     "metadata": {
      "needs_background": "light"
     },
     "output_type": "display_data"
    }
   ],
   "source": [
    "confusion_mtx = confusion_matrix(y_test, predictions)\n",
    "\n",
    "ax = plt.axes()\n",
    "sn.heatmap(confusion_mtx, annot=True,annot_kws={\"size\": 25}, cmap=\"Blues\", ax = ax, fmt='d')\n",
    "ax.set_title('Test Accuracy', size=14)\n",
    "plt.show()"
   ]
  },
  {
   "cell_type": "code",
   "execution_count": null,
   "id": "26ff4389",
   "metadata": {},
   "outputs": [],
   "source": []
  },
  {
   "cell_type": "code",
   "execution_count": 26,
   "id": "c123c56e",
   "metadata": {},
   "outputs": [],
   "source": [
    "def CNN(input_shape, opt, fine_tune=False, chans=19, nb_classes=2, \n",
    "             dropoutRate = 0.5, kernLength = 64, F1 = 8, \n",
    "             D = 2, F2 = 16, norm_rate = 0.25, dropoutType = 'Dropout'):\n",
    "    \n",
    "    if dropoutType == 'SpatialDropout1D':\n",
    "        dropoutType = SpatialDropout2D\n",
    "    elif dropoutType == 'Dropout':\n",
    "        dropoutType = Dropout\n",
    "    else:\n",
    "        raise ValueError('dropoutType must be one of SpatialDropout1D '\n",
    "                         'or Dropout, passed as a string.')\n",
    "    \n",
    "    input1 = input_shape\n",
    "    \n",
    "    pooling_layer1_format = 'channels_first'\n",
    "    pooling_layer2_format = 'channels_last'\n",
    "   \n",
    "\n",
    "    ##################################################################\n",
    "    block1       = Conv1D(F1, (kernLength), padding = 'same',\n",
    "                                  # input_shape = ( chans, samples),\n",
    "                                   use_bias = False)(input1)\n",
    "    block1       = BatchNormalization(axis = -1)(block1)\n",
    "   \n",
    "    block1       = Conv1D(5, (chans), padding='same',\n",
    "                          use_bias = False )(block1)\n",
    "    block1       = BatchNormalization(axis = -1)(block1)\n",
    "    block1       = Activation('relu')(block1)\n",
    "    block1       = AveragePooling1D(pool_size=(4),  name='apl1')(block1)\n",
    "    block1       = dropoutType(dropoutRate)(block1)\n",
    " \n",
    "    block2       = Conv1D(5, ( 16),\n",
    "                                   use_bias = False, padding = 'same' )(block1)\n",
    "    block2       = BatchNormalization(axis = -1)(block2)\n",
    "    block2       = Activation('relu')(block2)\n",
    "    #block2       = AveragePooling1D(pool_size=(3), name='apl2')(block2)\n",
    "    block2       = dropoutType(dropoutRate)(block2)\n",
    "    \n",
    "    \n",
    "    \n",
    "    block2       = Conv1D(5, ( 16),\n",
    "                                   use_bias = False, padding = 'same' )(block2)\n",
    "    block2       = BatchNormalization(axis = -1)(block2)\n",
    "    block2       = Activation('relu')(block2)\n",
    "    block2       = dropoutType(dropoutRate)(block2)\n",
    " \n",
    "        \n",
    "    flatten      = Flatten(name = 'flatten')(block2)\n",
    "    \n",
    "    dense        = Dense(1, name = 'dense',  kernel_constraint = max_norm(norm_rate))(flatten)\n",
    "    \n",
    "    softmax      = Activation('sigmoid', name = 'sigmoid')(dense)\n",
    "    \n",
    "    model = Model(inputs=input1, outputs=softmax)\n",
    "    \n",
    "    model.compile(optimizer=opt, \n",
    "              loss='binary_crossentropy',\n",
    "              metrics=['accuracy'])\n",
    "    \n",
    "    return model"
   ]
  },
  {
   "cell_type": "code",
   "execution_count": 27,
   "id": "023910bf",
   "metadata": {},
   "outputs": [],
   "source": [
    "opt = keras.optimizers.Adam(learning_rate=0.0004)"
   ]
  },
  {
   "cell_type": "code",
   "execution_count": 28,
   "id": "9a9fc923",
   "metadata": {},
   "outputs": [],
   "source": [
    "model = CNN(input_shape, opt, chans=19, fine_tune=0)"
   ]
  },
  {
   "cell_type": "code",
   "execution_count": 29,
   "id": "cae3b955",
   "metadata": {},
   "outputs": [
    {
     "name": "stdout",
     "output_type": "stream",
     "text": [
      "Model: \"model\"\n",
      "_________________________________________________________________\n",
      " Layer (type)                Output Shape              Param #   \n",
      "=================================================================\n",
      " input_1 (InputLayer)        [(None, 1250, 19)]        0         \n",
      "                                                                 \n",
      " conv1d (Conv1D)             (None, 1250, 8)           9728      \n",
      "                                                                 \n",
      " batch_normalization (BatchN  (None, 1250, 8)          32        \n",
      " ormalization)                                                   \n",
      "                                                                 \n",
      " conv1d_1 (Conv1D)           (None, 1250, 5)           760       \n",
      "                                                                 \n",
      " batch_normalization_1 (Batc  (None, 1250, 5)          20        \n",
      " hNormalization)                                                 \n",
      "                                                                 \n",
      " activation (Activation)     (None, 1250, 5)           0         \n",
      "                                                                 \n",
      " apl1 (AveragePooling1D)     (None, 312, 5)            0         \n",
      "                                                                 \n",
      " dropout (Dropout)           (None, 312, 5)            0         \n",
      "                                                                 \n",
      " conv1d_2 (Conv1D)           (None, 312, 5)            400       \n",
      "                                                                 \n",
      " batch_normalization_2 (Batc  (None, 312, 5)           20        \n",
      " hNormalization)                                                 \n",
      "                                                                 \n",
      " activation_1 (Activation)   (None, 312, 5)            0         \n",
      "                                                                 \n",
      " dropout_1 (Dropout)         (None, 312, 5)            0         \n",
      "                                                                 \n",
      " conv1d_3 (Conv1D)           (None, 312, 5)            400       \n",
      "                                                                 \n",
      " batch_normalization_3 (Batc  (None, 312, 5)           20        \n",
      " hNormalization)                                                 \n",
      "                                                                 \n",
      " activation_2 (Activation)   (None, 312, 5)            0         \n",
      "                                                                 \n",
      " dropout_2 (Dropout)         (None, 312, 5)            0         \n",
      "                                                                 \n",
      " flatten (Flatten)           (None, 1560)              0         \n",
      "                                                                 \n",
      " dense (Dense)               (None, 1)                 1561      \n",
      "                                                                 \n",
      " sigmoid (Activation)        (None, 1)                 0         \n",
      "                                                                 \n",
      "=================================================================\n",
      "Total params: 12,941\n",
      "Trainable params: 12,895\n",
      "Non-trainable params: 46\n",
      "_________________________________________________________________\n"
     ]
    }
   ],
   "source": [
    "model.summary()"
   ]
  },
  {
   "cell_type": "code",
   "execution_count": 30,
   "id": "e3d2ea46",
   "metadata": {},
   "outputs": [],
   "source": [
    "# ModelCheckpoint callback - save best weights\n",
    "tl_checkpoint_1 = ModelCheckpoint(filepath='../vgg16/V1/weights/model.weights.best.hdf5',\n",
    "                                  save_best_only=True,\n",
    "                                  verbose=1)\n",
    "\n",
    "# EarlyStopping\n",
    "early_stop = EarlyStopping(monitor='val_loss',\n",
    "                           patience=15,\n",
    "                           restore_best_weights=True,\n",
    "                           mode='min')"
   ]
  },
  {
   "cell_type": "code",
   "execution_count": null,
   "id": "43609e17",
   "metadata": {},
   "outputs": [],
   "source": []
  },
  {
   "cell_type": "code",
   "execution_count": 31,
   "id": "4525a02d",
   "metadata": {
    "scrolled": true
   },
   "outputs": [
    {
     "name": "stdout",
     "output_type": "stream",
     "text": [
      "Epoch 1/50\n",
      "116/116 [==============================] - 10s 74ms/step - loss: 0.6359 - accuracy: 0.6024 - val_loss: 0.7024 - val_accuracy: 0.4459\n",
      "Epoch 2/50\n",
      "116/116 [==============================] - 10s 87ms/step - loss: 0.4824 - accuracy: 0.7709 - val_loss: 0.8269 - val_accuracy: 0.4459\n",
      "Epoch 3/50\n",
      "116/116 [==============================] - 10s 83ms/step - loss: 0.3789 - accuracy: 0.8264 - val_loss: 0.9433 - val_accuracy: 0.4459\n",
      "Epoch 4/50\n",
      "116/116 [==============================] - 9s 79ms/step - loss: 0.2872 - accuracy: 0.8889 - val_loss: 1.0203 - val_accuracy: 0.4502\n",
      "Epoch 5/50\n",
      "116/116 [==============================] - 10s 84ms/step - loss: 0.2098 - accuracy: 0.9315 - val_loss: 0.9379 - val_accuracy: 0.5509\n",
      "Epoch 6/50\n",
      "116/116 [==============================] - 9s 81ms/step - loss: 0.1765 - accuracy: 0.9426 - val_loss: 0.3387 - val_accuracy: 0.8366\n",
      "Epoch 7/50\n",
      "116/116 [==============================] - 10s 85ms/step - loss: 0.1574 - accuracy: 0.9537 - val_loss: 0.3797 - val_accuracy: 0.8117\n",
      "Epoch 8/50\n",
      "116/116 [==============================] - 10s 82ms/step - loss: 0.1406 - accuracy: 0.9559 - val_loss: 0.8312 - val_accuracy: 0.5541\n",
      "Epoch 9/50\n",
      "116/116 [==============================] - 10s 85ms/step - loss: 0.1300 - accuracy: 0.9599 - val_loss: 1.0012 - val_accuracy: 0.5541\n",
      "Epoch 10/50\n",
      "116/116 [==============================] - 8s 73ms/step - loss: 0.1163 - accuracy: 0.9689 - val_loss: 3.7279 - val_accuracy: 0.5541\n",
      "Epoch 11/50\n",
      "116/116 [==============================] - 8s 72ms/step - loss: 0.1143 - accuracy: 0.9675 - val_loss: 1.0271 - val_accuracy: 0.5541\n",
      "Epoch 12/50\n",
      "116/116 [==============================] - 9s 77ms/step - loss: 0.1140 - accuracy: 0.9672 - val_loss: 0.8647 - val_accuracy: 0.6623\n",
      "Epoch 13/50\n",
      "116/116 [==============================] - 10s 83ms/step - loss: 0.0906 - accuracy: 0.9764 - val_loss: 0.8182 - val_accuracy: 0.6645\n",
      "Epoch 14/50\n",
      "116/116 [==============================] - 9s 77ms/step - loss: 0.0980 - accuracy: 0.9721 - val_loss: 0.6890 - val_accuracy: 0.6905\n",
      "Epoch 15/50\n",
      "116/116 [==============================] - 9s 74ms/step - loss: 0.0925 - accuracy: 0.9737 - val_loss: 1.1292 - val_accuracy: 0.5552\n",
      "Epoch 16/50\n",
      "116/116 [==============================] - 9s 75ms/step - loss: 0.0708 - accuracy: 0.9837 - val_loss: 1.0524 - val_accuracy: 0.5855\n",
      "Epoch 17/50\n",
      "116/116 [==============================] - 9s 76ms/step - loss: 0.0801 - accuracy: 0.9791 - val_loss: 0.0832 - val_accuracy: 0.9935\n",
      "Epoch 18/50\n",
      "116/116 [==============================] - 9s 76ms/step - loss: 0.0713 - accuracy: 0.9835 - val_loss: 0.1606 - val_accuracy: 0.9491\n",
      "Epoch 19/50\n",
      "116/116 [==============================] - 9s 79ms/step - loss: 0.0687 - accuracy: 0.9832 - val_loss: 0.9327 - val_accuracy: 0.5541\n",
      "Epoch 20/50\n",
      "116/116 [==============================] - 9s 75ms/step - loss: 0.0683 - accuracy: 0.9835 - val_loss: 0.2569 - val_accuracy: 0.9578\n",
      "Epoch 21/50\n",
      "116/116 [==============================] - 9s 82ms/step - loss: 0.0627 - accuracy: 0.9824 - val_loss: 5.4669 - val_accuracy: 0.5541\n",
      "Epoch 22/50\n",
      "116/116 [==============================] - 11s 91ms/step - loss: 0.0720 - accuracy: 0.9802 - val_loss: 1.0273 - val_accuracy: 0.6190\n",
      "Epoch 23/50\n",
      "116/116 [==============================] - 10s 86ms/step - loss: 0.0621 - accuracy: 0.9827 - val_loss: 0.8235 - val_accuracy: 0.6331\n",
      "Epoch 24/50\n",
      "116/116 [==============================] - 9s 78ms/step - loss: 0.0617 - accuracy: 0.9821 - val_loss: 1.4807 - val_accuracy: 0.5801\n",
      "Epoch 25/50\n",
      "116/116 [==============================] - 9s 78ms/step - loss: 0.0552 - accuracy: 0.9856 - val_loss: 0.9839 - val_accuracy: 0.6320\n",
      "Epoch 26/50\n",
      "116/116 [==============================] - 9s 78ms/step - loss: 0.0472 - accuracy: 0.9900 - val_loss: 1.1203 - val_accuracy: 0.5563\n",
      "Epoch 27/50\n",
      "116/116 [==============================] - 9s 80ms/step - loss: 0.0472 - accuracy: 0.9875 - val_loss: 0.4961 - val_accuracy: 0.7630\n",
      "Epoch 28/50\n",
      "116/116 [==============================] - 9s 80ms/step - loss: 0.0475 - accuracy: 0.9881 - val_loss: 0.1478 - val_accuracy: 0.9643\n",
      "Epoch 29/50\n",
      "116/116 [==============================] - 9s 80ms/step - loss: 0.0455 - accuracy: 0.9884 - val_loss: 3.1877 - val_accuracy: 0.5541\n",
      "Epoch 30/50\n",
      "116/116 [==============================] - 9s 77ms/step - loss: 0.0443 - accuracy: 0.9884 - val_loss: 0.6201 - val_accuracy: 0.5736\n",
      "Epoch 31/50\n",
      "116/116 [==============================] - 8s 73ms/step - loss: 0.0475 - accuracy: 0.9859 - val_loss: 2.3549 - val_accuracy: 0.5541\n",
      "Epoch 32/50\n",
      "116/116 [==============================] - 10s 86ms/step - loss: 0.0533 - accuracy: 0.9843 - val_loss: 0.4905 - val_accuracy: 0.7284\n"
     ]
    }
   ],
   "source": [
    "history = model.fit(\n",
    "    x=X_train, \n",
    "    y=y_train.reshape(-1,1),\n",
    "    batch_size=32,\n",
    "    validation_split=0.2,\n",
    "    epochs=50, \n",
    "#     callbacks=[tl_checkpoint_1, early_stop],\n",
    "    callbacks=[early_stop],\n",
    "    verbose=1)"
   ]
  },
  {
   "cell_type": "code",
   "execution_count": 32,
   "id": "db09a281",
   "metadata": {},
   "outputs": [],
   "source": [
    "# model.save('../vgg16/V1/model/')"
   ]
  },
  {
   "cell_type": "code",
   "execution_count": 33,
   "id": "bd011415",
   "metadata": {},
   "outputs": [],
   "source": [
    "def plot_accuracy(history):\n",
    "    plt.plot(history.history['accuracy'])\n",
    "    plt.plot(history.history['val_accuracy'])\n",
    "    plt.title('model accuracy')\n",
    "    plt.ylabel('accuracy')\n",
    "    plt.xlabel('epoch')\n",
    "    plt.legend(['train', 'val'], loc='upper left')\n",
    "    plt.show()"
   ]
  },
  {
   "cell_type": "code",
   "execution_count": 34,
   "id": "d9c2c1b2",
   "metadata": {},
   "outputs": [],
   "source": [
    "def plot_loss(history):\n",
    "    plt.plot(history.history['loss'])\n",
    "    plt.plot(history.history['val_loss'])\n",
    "    plt.title('model loss')\n",
    "    plt.ylabel('loss')\n",
    "    plt.xlabel('epoch')\n",
    "    plt.legend(['train', 'val'], loc='upper left')\n",
    "    plt.show()\n"
   ]
  },
  {
   "cell_type": "code",
   "execution_count": 35,
   "id": "22719899",
   "metadata": {},
   "outputs": [
    {
     "data": {
      "image/png": "[encoded data removed]",
      "text/plain": [
       "<Figure size 432x288 with 1 Axes>"
      ]
     },
     "metadata": {
      "needs_background": "light"
     },
     "output_type": "display_data"
    }
   ],
   "source": [
    "plot_accuracy(history)"
   ]
  },
  {
   "cell_type": "code",
   "execution_count": 36,
   "id": "291333df",
   "metadata": {},
   "outputs": [
    {
     "data": {
      "image/png": "[encoded data removed]",
      "text/plain": [
       "<Figure size 432x288 with 1 Axes>"
      ]
     },
     "metadata": {
      "needs_background": "light"
     },
     "output_type": "display_data"
    }
   ],
   "source": [
    "plot_loss(history)"
   ]
  },
  {
   "cell_type": "code",
   "execution_count": null,
   "id": "47fda751",
   "metadata": {},
   "outputs": [],
   "source": []
  },
  {
   "cell_type": "code",
   "execution_count": 37,
   "id": "c8a8df0c",
   "metadata": {},
   "outputs": [],
   "source": [
    "predictions = model.predict(X_test, verbose=0)\n"
   ]
  },
  {
   "cell_type": "code",
   "execution_count": 38,
   "id": "ab15d347",
   "metadata": {},
   "outputs": [],
   "source": [
    "predictions = np.array([0 if x < 0.5 else 1 for x in predictions])"
   ]
  },
  {
   "cell_type": "code",
   "execution_count": 39,
   "id": "a42b4e0e",
   "metadata": {},
   "outputs": [
    {
     "name": "stdout",
     "output_type": "stream",
     "text": [
      "1155\n",
      "1155\n"
     ]
    }
   ],
   "source": [
    "print(len(predictions))\n",
    "print(len(y_test))"
   ]
  },
  {
   "cell_type": "code",
   "execution_count": 40,
   "id": "81e0fb89",
   "metadata": {},
   "outputs": [
    {
     "name": "stdout",
     "output_type": "stream",
     "text": [
      "[1 1 0 0 1 0 0 0 0 1 0 1 1 0 1]\n",
      "[1 1 0 0 1 0 0 0 0 1 0 1 1 0 1]\n"
     ]
    }
   ],
   "source": [
    "print(predictions[0:15])\n",
    "print(y_test[0:15])"
   ]
  },
  {
   "cell_type": "code",
   "execution_count": 41,
   "id": "eba75bd0",
   "metadata": {},
   "outputs": [
    {
     "name": "stdout",
     "output_type": "stream",
     "text": [
      "Test Accuracy: 0.9904761904761905\n"
     ]
    }
   ],
   "source": [
    "accuracy = accuracy_score(y_test, predictions)\n",
    "print(\"Test Accuracy:\", accuracy)"
   ]
  },
  {
   "cell_type": "code",
   "execution_count": 42,
   "id": "597cc261",
   "metadata": {},
   "outputs": [
    {
     "data": {
      "image/png": "[encoded data removed]",
      "text/plain": [
       "<Figure size 432x288 with 2 Axes>"
      ]
     },
     "metadata": {
      "needs_background": "light"
     },
     "output_type": "display_data"
    }
   ],
   "source": [
    "confusion_mtx = confusion_matrix(y_test, predictions)\n",
    "\n",
    "ax = plt.axes()\n",
    "sn.heatmap(confusion_mtx, annot=True,annot_kws={\"size\": 25}, cmap=\"Blues\", ax = ax, fmt='d')\n",
    "ax.set_title('Test Accuracy', size=14)\n",
    "plt.show()"
   ]
  },
  {
   "cell_type": "code",
   "execution_count": null,
   "id": "6d460081",
   "metadata": {},
   "outputs": [],
   "source": []
  },
  {
   "cell_type": "markdown",
   "id": "dd22e4c5",
   "metadata": {},
   "source": [
    "# VGG16"
   ]
  },
  {
   "cell_type": "code",
   "execution_count": 42,
   "id": "6d2ca1fa",
   "metadata": {},
   "outputs": [],
   "source": [
    "def create_model(input_shape, optimizer='adam', fine_tune=0):\n",
    "    \"\"\"\n",
    "    Compiles a model integrated with VGG16 pretrained layers\n",
    "    \n",
    "    input_shape: tuple - the shape of input images (width, height, channels)\n",
    "    n_classes: int - number of classes for the output layer\n",
    "    optimizer: string - instantiated optimizer to use for training. Defaults to 'RMSProp'\n",
    "    fine_tune: int - The number of pre-trained layers to unfreeze.\n",
    "                If set to 0, all pretrained layers will freeze during training\n",
    "    \"\"\"\n",
    "    print(input_shape)\n",
    "    # Pretrained convolutional layers are loaded using the Imagenet weights.\n",
    "    # Include_top is set to False, in order to exclude the model's fully-connected layers.\n",
    "    conv_base = VGG16(include_top=False,\n",
    "                     weights='imagenet', \n",
    "                     input_shape=input_shape)\n",
    "    \n",
    "    # Defines how many layers to freeze during training.\n",
    "    # Layers in the convolutional base are switched from trainable to non-trainable\n",
    "    # depending on the size of the fine-tuning parameter.\n",
    "    if fine_tune > 0:\n",
    "        for layer in conv_base.layers[:-fine_tune]:\n",
    "            layer.trainable = False\n",
    "    else:\n",
    "        for layer in conv_base.layers:\n",
    "            layer.trainable = False\n",
    "\n",
    "    # Create a new 'top' of the model (i.e. fully-connected layers).\n",
    "    # This is 'bootstrapping' a new top_model onto the pretrained layers.\n",
    "    top_model = conv_base.output\n",
    "    \n",
    "    top_model = Flatten(name=\"flatten\")(top_model)\n",
    "            \n",
    "    top_model = Dropout(0.6)(top_model)\n",
    "\n",
    "    top_model = Dense(512, activation='relu', name=\"fc1\", \n",
    "                      kernel_regularizer=regularizers.L1L2(l1=1e-5, l2=1e-4),\n",
    "                      bias_regularizer=regularizers.L2(1e-4),\n",
    "                      activity_regularizer=regularizers.L2(1e-5))(top_model)\n",
    "    \n",
    "    top_model = Dropout(0.7)(top_model)\n",
    "    \n",
    "    output_layer = Dense(1, activation='sigmoid', name=\"prediction\")(top_model)\n",
    "    \n",
    "    # Group the convolutional base and new fully-connected layers into a Model object.\n",
    "    model = Model(inputs=conv_base.input, outputs=output_layer)\n",
    "\n",
    "    # Compiles the model for training.\n",
    "    model.compile(optimizer=optimizer, \n",
    "                  loss='binary_crossentropy',\n",
    "                  metrics=['accuracy'])\n",
    "    \n",
    "    return model"
   ]
  },
  {
   "cell_type": "code",
   "execution_count": 43,
   "id": "2801e023",
   "metadata": {},
   "outputs": [],
   "source": [
    "opt = keras.optimizers.Adam(learning_rate=0.001)"
   ]
  },
  {
   "cell_type": "code",
   "execution_count": 44,
   "id": "386210e6",
   "metadata": {},
   "outputs": [
    {
     "name": "stdout",
     "output_type": "stream",
     "text": [
      "(1, 1250, 19)\n"
     ]
    },
    {
     "ename": "ValueError",
     "evalue": "The input must have 3 channels; Received `input_shape=(1, 1250, 19)`",
     "output_type": "error",
     "traceback": [
      "\u001b[1;31m---------------------------------------------------------------------------\u001b[0m",
      "\u001b[1;31mValueError\u001b[0m                                Traceback (most recent call last)",
      "Input \u001b[1;32mIn [44]\u001b[0m, in \u001b[0;36m<cell line: 1>\u001b[1;34m()\u001b[0m\n\u001b[1;32m----> 1\u001b[0m model \u001b[38;5;241m=\u001b[39m \u001b[43mcreate_model\u001b[49m\u001b[43m(\u001b[49m\u001b[43m(\u001b[49m\u001b[38;5;241;43m1\u001b[39;49m\u001b[43m,\u001b[49m\u001b[43m \u001b[49m\u001b[38;5;241;43m1250\u001b[39;49m\u001b[43m,\u001b[49m\u001b[43m \u001b[49m\u001b[38;5;241;43m19\u001b[39;49m\u001b[43m)\u001b[49m\u001b[43m,\u001b[49m\u001b[43m \u001b[49m\u001b[43mopt\u001b[49m\u001b[43m,\u001b[49m\u001b[43m \u001b[49m\u001b[43mfine_tune\u001b[49m\u001b[38;5;241;43m=\u001b[39;49m\u001b[38;5;241;43m0\u001b[39;49m\u001b[43m)\u001b[49m\n",
      "Input \u001b[1;32mIn [42]\u001b[0m, in \u001b[0;36mcreate_model\u001b[1;34m(input_shape, optimizer, fine_tune)\u001b[0m\n\u001b[0;32m     11\u001b[0m \u001b[38;5;28mprint\u001b[39m(input_shape)\n\u001b[0;32m     12\u001b[0m \u001b[38;5;66;03m# Pretrained convolutional layers are loaded using the Imagenet weights.\u001b[39;00m\n\u001b[0;32m     13\u001b[0m \u001b[38;5;66;03m# Include_top is set to False, in order to exclude the model's fully-connected layers.\u001b[39;00m\n\u001b[1;32m---> 14\u001b[0m conv_base \u001b[38;5;241m=\u001b[39m \u001b[43mVGG16\u001b[49m\u001b[43m(\u001b[49m\u001b[43minclude_top\u001b[49m\u001b[38;5;241;43m=\u001b[39;49m\u001b[38;5;28;43;01mFalse\u001b[39;49;00m\u001b[43m,\u001b[49m\n\u001b[0;32m     15\u001b[0m \u001b[43m                 \u001b[49m\u001b[43mweights\u001b[49m\u001b[38;5;241;43m=\u001b[39;49m\u001b[38;5;124;43m'\u001b[39;49m\u001b[38;5;124;43mimagenet\u001b[39;49m\u001b[38;5;124;43m'\u001b[39;49m\u001b[43m,\u001b[49m\u001b[43m \u001b[49m\n\u001b[0;32m     16\u001b[0m \u001b[43m                 \u001b[49m\u001b[43minput_shape\u001b[49m\u001b[38;5;241;43m=\u001b[39;49m\u001b[43minput_shape\u001b[49m\u001b[43m)\u001b[49m\n\u001b[0;32m     18\u001b[0m \u001b[38;5;66;03m# Defines how many layers to freeze during training.\u001b[39;00m\n\u001b[0;32m     19\u001b[0m \u001b[38;5;66;03m# Layers in the convolutional base are switched from trainable to non-trainable\u001b[39;00m\n\u001b[0;32m     20\u001b[0m \u001b[38;5;66;03m# depending on the size of the fine-tuning parameter.\u001b[39;00m\n\u001b[0;32m     21\u001b[0m \u001b[38;5;28;01mif\u001b[39;00m fine_tune \u001b[38;5;241m>\u001b[39m \u001b[38;5;241m0\u001b[39m:\n",
      "File \u001b[1;32mE:\\Users\\dt\\anaconda3\\envs\\ml\\lib\\site-packages\\keras\\applications\\vgg16.py:128\u001b[0m, in \u001b[0;36mVGG16\u001b[1;34m(include_top, weights, input_tensor, input_shape, pooling, classes, classifier_activation)\u001b[0m\n\u001b[0;32m    124\u001b[0m   \u001b[38;5;28;01mraise\u001b[39;00m \u001b[38;5;167;01mValueError\u001b[39;00m(\u001b[38;5;124m'\u001b[39m\u001b[38;5;124mIf using `weights` as `\u001b[39m\u001b[38;5;124m\"\u001b[39m\u001b[38;5;124mimagenet\u001b[39m\u001b[38;5;124m\"\u001b[39m\u001b[38;5;124m` with `include_top` \u001b[39m\u001b[38;5;124m'\u001b[39m\n\u001b[0;32m    125\u001b[0m                    \u001b[38;5;124m'\u001b[39m\u001b[38;5;124mas true, `classes` should be 1000.  \u001b[39m\u001b[38;5;124m'\u001b[39m\n\u001b[0;32m    126\u001b[0m                    \u001b[38;5;124mf\u001b[39m\u001b[38;5;124m'\u001b[39m\u001b[38;5;124mReceived `classes=\u001b[39m\u001b[38;5;132;01m{\u001b[39;00mclasses\u001b[38;5;132;01m}\u001b[39;00m\u001b[38;5;124m`\u001b[39m\u001b[38;5;124m'\u001b[39m)\n\u001b[0;32m    127\u001b[0m \u001b[38;5;66;03m# Determine proper input shape\u001b[39;00m\n\u001b[1;32m--> 128\u001b[0m input_shape \u001b[38;5;241m=\u001b[39m \u001b[43mimagenet_utils\u001b[49m\u001b[38;5;241;43m.\u001b[39;49m\u001b[43mobtain_input_shape\u001b[49m\u001b[43m(\u001b[49m\n\u001b[0;32m    129\u001b[0m \u001b[43m    \u001b[49m\u001b[43minput_shape\u001b[49m\u001b[43m,\u001b[49m\n\u001b[0;32m    130\u001b[0m \u001b[43m    \u001b[49m\u001b[43mdefault_size\u001b[49m\u001b[38;5;241;43m=\u001b[39;49m\u001b[38;5;241;43m224\u001b[39;49m\u001b[43m,\u001b[49m\n\u001b[0;32m    131\u001b[0m \u001b[43m    \u001b[49m\u001b[43mmin_size\u001b[49m\u001b[38;5;241;43m=\u001b[39;49m\u001b[38;5;241;43m32\u001b[39;49m\u001b[43m,\u001b[49m\n\u001b[0;32m    132\u001b[0m \u001b[43m    \u001b[49m\u001b[43mdata_format\u001b[49m\u001b[38;5;241;43m=\u001b[39;49m\u001b[43mbackend\u001b[49m\u001b[38;5;241;43m.\u001b[39;49m\u001b[43mimage_data_format\u001b[49m\u001b[43m(\u001b[49m\u001b[43m)\u001b[49m\u001b[43m,\u001b[49m\n\u001b[0;32m    133\u001b[0m \u001b[43m    \u001b[49m\u001b[43mrequire_flatten\u001b[49m\u001b[38;5;241;43m=\u001b[39;49m\u001b[43minclude_top\u001b[49m\u001b[43m,\u001b[49m\n\u001b[0;32m    134\u001b[0m \u001b[43m    \u001b[49m\u001b[43mweights\u001b[49m\u001b[38;5;241;43m=\u001b[39;49m\u001b[43mweights\u001b[49m\u001b[43m)\u001b[49m\n\u001b[0;32m    136\u001b[0m \u001b[38;5;28;01mif\u001b[39;00m input_tensor \u001b[38;5;129;01mis\u001b[39;00m \u001b[38;5;28;01mNone\u001b[39;00m:\n\u001b[0;32m    137\u001b[0m   img_input \u001b[38;5;241m=\u001b[39m layers\u001b[38;5;241m.\u001b[39mInput(shape\u001b[38;5;241m=\u001b[39minput_shape)\n",
      "File \u001b[1;32mE:\\Users\\dt\\anaconda3\\envs\\ml\\lib\\site-packages\\keras\\applications\\imagenet_utils.py:372\u001b[0m, in \u001b[0;36mobtain_input_shape\u001b[1;34m(input_shape, default_size, min_size, data_format, require_flatten, weights)\u001b[0m\n\u001b[0;32m    370\u001b[0m   \u001b[38;5;28;01mraise\u001b[39;00m \u001b[38;5;167;01mValueError\u001b[39;00m(\u001b[38;5;124m'\u001b[39m\u001b[38;5;124m`input_shape` must be a tuple of three integers.\u001b[39m\u001b[38;5;124m'\u001b[39m)\n\u001b[0;32m    371\u001b[0m \u001b[38;5;28;01mif\u001b[39;00m input_shape[\u001b[38;5;241m-\u001b[39m\u001b[38;5;241m1\u001b[39m] \u001b[38;5;241m!=\u001b[39m \u001b[38;5;241m3\u001b[39m \u001b[38;5;129;01mand\u001b[39;00m weights \u001b[38;5;241m==\u001b[39m \u001b[38;5;124m'\u001b[39m\u001b[38;5;124mimagenet\u001b[39m\u001b[38;5;124m'\u001b[39m:\n\u001b[1;32m--> 372\u001b[0m   \u001b[38;5;28;01mraise\u001b[39;00m \u001b[38;5;167;01mValueError\u001b[39;00m(\u001b[38;5;124m'\u001b[39m\u001b[38;5;124mThe input must have 3 channels; Received \u001b[39m\u001b[38;5;124m'\u001b[39m\n\u001b[0;32m    373\u001b[0m                    \u001b[38;5;124mf\u001b[39m\u001b[38;5;124m'\u001b[39m\u001b[38;5;124m`input_shape=\u001b[39m\u001b[38;5;132;01m{\u001b[39;00minput_shape\u001b[38;5;132;01m}\u001b[39;00m\u001b[38;5;124m`\u001b[39m\u001b[38;5;124m'\u001b[39m)\n\u001b[0;32m    374\u001b[0m \u001b[38;5;28;01mif\u001b[39;00m ((input_shape[\u001b[38;5;241m0\u001b[39m] \u001b[38;5;129;01mis\u001b[39;00m \u001b[38;5;129;01mnot\u001b[39;00m \u001b[38;5;28;01mNone\u001b[39;00m \u001b[38;5;129;01mand\u001b[39;00m input_shape[\u001b[38;5;241m0\u001b[39m] \u001b[38;5;241m<\u001b[39m min_size) \u001b[38;5;129;01mor\u001b[39;00m\n\u001b[0;32m    375\u001b[0m     (input_shape[\u001b[38;5;241m1\u001b[39m] \u001b[38;5;129;01mis\u001b[39;00m \u001b[38;5;129;01mnot\u001b[39;00m \u001b[38;5;28;01mNone\u001b[39;00m \u001b[38;5;129;01mand\u001b[39;00m input_shape[\u001b[38;5;241m1\u001b[39m] \u001b[38;5;241m<\u001b[39m min_size)):\n\u001b[0;32m    376\u001b[0m   \u001b[38;5;28;01mraise\u001b[39;00m \u001b[38;5;167;01mValueError\u001b[39;00m(\u001b[38;5;124m'\u001b[39m\u001b[38;5;124mInput size must be at least \u001b[39m\u001b[38;5;124m'\u001b[39m\n\u001b[0;32m    377\u001b[0m                    \u001b[38;5;124mf\u001b[39m\u001b[38;5;124m'\u001b[39m\u001b[38;5;132;01m{\u001b[39;00mmin_size\u001b[38;5;132;01m}\u001b[39;00m\u001b[38;5;124mx\u001b[39m\u001b[38;5;132;01m{\u001b[39;00mmin_size\u001b[38;5;132;01m}\u001b[39;00m\u001b[38;5;124m; Received: \u001b[39m\u001b[38;5;124m'\u001b[39m\n\u001b[0;32m    378\u001b[0m                    \u001b[38;5;124mf\u001b[39m\u001b[38;5;124m'\u001b[39m\u001b[38;5;124minput_shape=\u001b[39m\u001b[38;5;132;01m{\u001b[39;00minput_shape\u001b[38;5;132;01m}\u001b[39;00m\u001b[38;5;124m'\u001b[39m)\n",
      "\u001b[1;31mValueError\u001b[0m: The input must have 3 channels; Received `input_shape=(1, 1250, 19)`"
     ]
    }
   ],
   "source": [
    "model = create_model((1, 1250, 19), opt, fine_tune=0)"
   ]
  },
  {
   "cell_type": "code",
   "execution_count": 28,
   "id": "db9d8ad0",
   "metadata": {},
   "outputs": [
    {
     "ename": "NameError",
     "evalue": "name 'model' is not defined",
     "output_type": "error",
     "traceback": [
      "\u001b[1;31m---------------------------------------------------------------------------\u001b[0m",
      "\u001b[1;31mNameError\u001b[0m                                 Traceback (most recent call last)",
      "Input \u001b[1;32mIn [28]\u001b[0m, in \u001b[0;36m<cell line: 1>\u001b[1;34m()\u001b[0m\n\u001b[1;32m----> 1\u001b[0m \u001b[43mmodel\u001b[49m\u001b[38;5;241m.\u001b[39msummary()\n",
      "\u001b[1;31mNameError\u001b[0m: name 'model' is not defined"
     ]
    }
   ],
   "source": [
    "model.summary()"
   ]
  },
  {
   "cell_type": "code",
   "execution_count": 207,
   "id": "9c538e4c",
   "metadata": {},
   "outputs": [],
   "source": [
    "# ModelCheckpoint callback - save best weights\n",
    "tl_checkpoint_1 = ModelCheckpoint(filepath='../vgg16/V7/weights/model.weights.best.hdf5',\n",
    "                                  save_best_only=True,\n",
    "                                  verbose=1)\n",
    "\n",
    "# EarlyStopping\n",
    "early_stop = EarlyStopping(monitor='val_accuracy',\n",
    "                           patience=15,\n",
    "                           restore_best_weights=True,\n",
    "                           mode='max', \n",
    "                           verbose=1)"
   ]
  },
  {
   "cell_type": "code",
   "execution_count": 208,
   "id": "a07f4eea",
   "metadata": {
    "scrolled": true
   },
   "outputs": [
    {
     "name": "stdout",
     "output_type": "stream",
     "text": [
      "Epoch 1/100\n",
      "23/23 [==============================] - 132s 6s/step - loss: 5.0990 - accuracy: 0.7031 - val_loss: 0.9837 - val_accuracy: 0.7024\n",
      "Epoch 2/100\n",
      "23/23 [==============================] - 131s 6s/step - loss: 0.8036 - accuracy: 0.7830 - val_loss: 0.8120 - val_accuracy: 0.7771\n",
      "Epoch 3/100\n",
      "23/23 [==============================] - 131s 6s/step - loss: 0.6997 - accuracy: 0.8133 - val_loss: 0.7959 - val_accuracy: 0.7969\n",
      "Epoch 4/100\n",
      "23/23 [==============================] - 131s 6s/step - loss: 0.6752 - accuracy: 0.8178 - val_loss: 0.7780 - val_accuracy: 0.7928\n",
      "Epoch 5/100\n",
      "23/23 [==============================] - 131s 6s/step - loss: 0.6363 - accuracy: 0.8268 - val_loss: 0.7094 - val_accuracy: 0.7764\n",
      "Epoch 6/100\n",
      "23/23 [==============================] - 131s 6s/step - loss: 0.6234 - accuracy: 0.8317 - val_loss: 0.7097 - val_accuracy: 0.7691\n",
      "Epoch 7/100\n",
      "23/23 [==============================] - 131s 6s/step - loss: 0.6089 - accuracy: 0.8359 - val_loss: 0.6699 - val_accuracy: 0.8122\n",
      "Epoch 8/100\n",
      "23/23 [==============================] - 131s 6s/step - loss: 0.6032 - accuracy: 0.8435 - val_loss: 0.6938 - val_accuracy: 0.7827\n",
      "Epoch 9/100\n",
      "23/23 [==============================] - 131s 6s/step - loss: 0.5799 - accuracy: 0.8522 - val_loss: 0.7583 - val_accuracy: 0.6937\n",
      "Epoch 10/100\n",
      "23/23 [==============================] - 131s 6s/step - loss: 0.5870 - accuracy: 0.8536 - val_loss: 0.6834 - val_accuracy: 0.7862\n",
      "Epoch 11/100\n",
      "23/23 [==============================] - 131s 6s/step - loss: 0.5810 - accuracy: 0.8571 - val_loss: 0.7172 - val_accuracy: 0.7594\n",
      "Epoch 12/100\n",
      "23/23 [==============================] - 131s 6s/step - loss: 0.5604 - accuracy: 0.8658 - val_loss: 0.6155 - val_accuracy: 0.8369\n",
      "Epoch 13/100\n",
      "23/23 [==============================] - 131s 6s/step - loss: 0.5495 - accuracy: 0.8609 - val_loss: 0.6917 - val_accuracy: 0.8122\n",
      "Epoch 14/100\n",
      "23/23 [==============================] - 131s 6s/step - loss: 0.5304 - accuracy: 0.8689 - val_loss: 0.6351 - val_accuracy: 0.8279\n",
      "Epoch 15/100\n",
      "23/23 [==============================] - 131s 6s/step - loss: 0.5675 - accuracy: 0.8564 - val_loss: 0.6426 - val_accuracy: 0.8136\n",
      "Epoch 16/100\n",
      "23/23 [==============================] - 131s 6s/step - loss: 0.5377 - accuracy: 0.8724 - val_loss: 0.6631 - val_accuracy: 0.7966\n",
      "Epoch 17/100\n",
      "23/23 [==============================] - 131s 6s/step - loss: 0.5301 - accuracy: 0.8724 - val_loss: 0.6601 - val_accuracy: 0.8164\n",
      "Epoch 18/100\n",
      "23/23 [==============================] - 131s 6s/step - loss: 0.5324 - accuracy: 0.8682 - val_loss: 0.6402 - val_accuracy: 0.8199\n",
      "Epoch 19/100\n",
      "23/23 [==============================] - 131s 6s/step - loss: 0.5248 - accuracy: 0.8679 - val_loss: 0.6604 - val_accuracy: 0.7691\n",
      "Epoch 20/100\n",
      "23/23 [==============================] - 131s 6s/step - loss: 0.5386 - accuracy: 0.8741 - val_loss: 0.7365 - val_accuracy: 0.7382\n",
      "Epoch 21/100\n",
      "23/23 [==============================] - 131s 6s/step - loss: 0.5233 - accuracy: 0.8654 - val_loss: 0.7121 - val_accuracy: 0.7632\n",
      "Epoch 22/100\n",
      "23/23 [==============================] - 131s 6s/step - loss: 0.5083 - accuracy: 0.8762 - val_loss: 0.7453 - val_accuracy: 0.7302\n",
      "Epoch 23/100\n",
      "23/23 [==============================] - 131s 6s/step - loss: 0.5238 - accuracy: 0.8647 - val_loss: 0.6139 - val_accuracy: 0.8268\n",
      "Epoch 24/100\n",
      "23/23 [==============================] - 131s 6s/step - loss: 0.5054 - accuracy: 0.8766 - val_loss: 0.6622 - val_accuracy: 0.8088\n",
      "Epoch 25/100\n",
      "23/23 [==============================] - 131s 6s/step - loss: 0.5159 - accuracy: 0.8700 - val_loss: 0.6520 - val_accuracy: 0.8129\n",
      "Epoch 26/100\n",
      "23/23 [==============================] - 131s 6s/step - loss: 0.5012 - accuracy: 0.8696 - val_loss: 0.6763 - val_accuracy: 0.8042\n",
      "Epoch 27/100\n",
      "23/23 [==============================] - ETA: 0s - loss: 0.5145 - accuracy: 0.8693Restoring model weights from the end of the best epoch: 12.\n",
      "23/23 [==============================] - 131s 6s/step - loss: 0.5145 - accuracy: 0.8693 - val_loss: 0.6192 - val_accuracy: 0.8286\n",
      "Epoch 27: early stopping\n"
     ]
    }
   ],
   "source": [
    "history = model.fit(\n",
    "    train_ds, \n",
    "    epochs=100, \n",
    "    validation_data=validation_ds, \n",
    "    #     callbacks=[tl_checkpoint_1, early_stop],\n",
    "    callbacks=[early_stop],\n",
    "    verbose=1)"
   ]
  },
  {
   "cell_type": "code",
   "execution_count": 209,
   "id": "1b867c7a",
   "metadata": {},
   "outputs": [],
   "source": [
    "# model.save('../models/vgg16_std_norm_2DeRe_1DeSi/model/')"
   ]
  },
  {
   "cell_type": "code",
   "execution_count": 210,
   "id": "3cdb3415",
   "metadata": {},
   "outputs": [],
   "source": [
    "def plot_accuracy(history):\n",
    "    plt.plot(history.history['accuracy'])\n",
    "    plt.plot(history.history['val_accuracy'])\n",
    "    plt.title('model accuracy')\n",
    "    plt.ylabel('accuracy')\n",
    "    plt.xlabel('epoch')\n",
    "    plt.legend(['train', 'val'], loc='upper left')\n",
    "    plt.show()"
   ]
  },
  {
   "cell_type": "code",
   "execution_count": 211,
   "id": "242a5887",
   "metadata": {},
   "outputs": [],
   "source": [
    "def plot_loss(history):\n",
    "    plt.plot(history.history['loss'])\n",
    "    plt.plot(history.history['val_loss'])\n",
    "    plt.title('model loss')\n",
    "    plt.ylabel('loss')\n",
    "    plt.xlabel('epoch')\n",
    "    plt.legend(['train', 'val'], loc='upper left')\n",
    "    plt.show()\n"
   ]
  },
  {
   "cell_type": "code",
   "execution_count": 212,
   "id": "9c336c4e",
   "metadata": {},
   "outputs": [
    {
     "data": {
      "image/png": "[encoded data removed]",
      "text/plain": [
       "<Figure size 432x288 with 1 Axes>"
      ]
     },
     "metadata": {
      "needs_background": "light"
     },
     "output_type": "display_data"
    }
   ],
   "source": [
    "plot_accuracy(history)"
   ]
  },
  {
   "cell_type": "code",
   "execution_count": 213,
   "id": "cdad9187",
   "metadata": {},
   "outputs": [
    {
     "data": {
      "image/png": "[encoded data removed]",
      "text/plain": [
       "<Figure size 432x288 with 1 Axes>"
      ]
     },
     "metadata": {
      "needs_background": "light"
     },
     "output_type": "display_data"
    }
   ],
   "source": [
    "plot_loss(history)"
   ]
  },
  {
   "cell_type": "code",
   "execution_count": null,
   "id": "73da5738",
   "metadata": {},
   "outputs": [],
   "source": []
  },
  {
   "cell_type": "code",
   "execution_count": 214,
   "id": "6886eadf",
   "metadata": {},
   "outputs": [],
   "source": [
    "predictions = np.array([])\n",
    "labels =  np.array([])\n",
    "\n",
    "for x, y in test_ds:\n",
    "    predictions = np.concatenate([predictions, model.predict(x, verbose=0).reshape(1,-1)[0]])\n",
    "    labels = np.concatenate([labels, np.array(y[0])])"
   ]
  },
  {
   "cell_type": "code",
   "execution_count": 215,
   "id": "ff77cb12",
   "metadata": {},
   "outputs": [],
   "source": [
    "predictions = [0 if x < 0.5 else 1 for x in predictions]"
   ]
  },
  {
   "cell_type": "code",
   "execution_count": 216,
   "id": "81fc44c8",
   "metadata": {},
   "outputs": [
    {
     "name": "stdout",
     "output_type": "stream",
     "text": [
      "[0, 0, 0, 0, 0, 1, 0, 0, 1, 0, 0, 0, 0, 0, 1]\n",
      "[0. 0. 0. 1. 0. 1. 0. 0. 1. 0. 0. 0. 0. 0. 1.]\n"
     ]
    }
   ],
   "source": [
    "print(predictions[0:15])\n",
    "print(labels[0:15])"
   ]
  },
  {
   "cell_type": "code",
   "execution_count": 217,
   "id": "6780ae02",
   "metadata": {},
   "outputs": [
    {
     "name": "stdout",
     "output_type": "stream",
     "text": [
      "900\n",
      "900\n"
     ]
    }
   ],
   "source": [
    "print(len(predictions))\n",
    "print(len(labels))"
   ]
  },
  {
   "cell_type": "code",
   "execution_count": 218,
   "id": "b279f21d",
   "metadata": {},
   "outputs": [
    {
     "name": "stdout",
     "output_type": "stream",
     "text": [
      "Test Accuracy: 0.8377777777777777\n"
     ]
    }
   ],
   "source": [
    "accuracy = accuracy_score(labels, predictions)\n",
    "print(\"Test Accuracy:\", accuracy)"
   ]
  },
  {
   "cell_type": "code",
   "execution_count": 219,
   "id": "5024481f",
   "metadata": {},
   "outputs": [
    {
     "data": {
      "image/png": "[encoded data removed]",
      "text/plain": [
       "<Figure size 432x288 with 2 Axes>"
      ]
     },
     "metadata": {
      "needs_background": "light"
     },
     "output_type": "display_data"
    }
   ],
   "source": [
    "confusion_mtx = confusion_matrix(labels, predictions)\n",
    "\n",
    "ax = plt.axes()\n",
    "sn.heatmap(confusion_mtx, annot=True,annot_kws={\"size\": 25}, cmap=\"Blues\", ax = ax, fmt='d')\n",
    "ax.set_title('Test Accuracy', size=14)\n",
    "plt.show()"
   ]
  },
  {
   "cell_type": "code",
   "execution_count": null,
   "id": "935267ad",
   "metadata": {},
   "outputs": [],
   "source": []
  },
  {
   "cell_type": "code",
   "execution_count": null,
   "id": "6918c746",
   "metadata": {},
   "outputs": [],
   "source": []
  },
  {
   "cell_type": "code",
   "execution_count": null,
   "id": "a688b0ef",
   "metadata": {},
   "outputs": [],
   "source": []
  },
  {
   "cell_type": "markdown",
   "id": "a423b929",
   "metadata": {},
   "source": [
    "## TESTS"
   ]
  },
  {
   "cell_type": "code",
   "execution_count": 31,
   "id": "5ba37730",
   "metadata": {},
   "outputs": [
    {
     "data": {
      "text/plain": [
       "(3595, 19, 1250)"
      ]
     },
     "execution_count": 31,
     "metadata": {},
     "output_type": "execute_result"
    }
   ],
   "source": [
    "X_train.shape\n"
   ]
  },
  {
   "cell_type": "code",
   "execution_count": 49,
   "id": "bc89bd39",
   "metadata": {},
   "outputs": [
    {
     "data": {
      "text/plain": [
       "array([[ 9.7884285256513177e-06,  1.4069772255623544e-05,\n",
       "         1.2540720923490606e-05, ..., -7.0311361278110084e-06,\n",
       "        -3.8201283303318380e-06, -5.1962745292514823e-06],\n",
       "       [ 1.2999436323130489e-05,  1.6210444120609662e-05,\n",
       "         1.5598823587756484e-05, ..., -1.2207410657058417e-06,\n",
       "         1.9902667317733296e-06,  1.6844564653467419e-06],\n",
       "       [ 1.2693626056703902e-05,  1.6974969786676128e-05,\n",
       "         1.0705859324931081e-05, ..., -7.6427566606641846e-06,\n",
       "        -5.0433693960381887e-06, -9.1493079927925389e-07],\n",
       "       ...,\n",
       "       [ 1.0552954191717786e-05,  1.1776195257424138e-05,\n",
       "         9.0239028595848496e-06, ...,  6.1412053285368482e-07,\n",
       "         3.2135077974796807e-06,  3.9780334635461497e-06],\n",
       "       [ 1.0552954191717786e-05,  1.0552954191717786e-05,\n",
       "         7.8006617938784972e-06, ..., -2.1381718649856051e-06,\n",
       "        -1.5040513321278456e-07,  2.5000000005093171e-09],\n",
       "       [ 2.1431718649866236e-06,  4.2838437299727378e-06,\n",
       "         3.0606026642663871e-06, ..., -2.2910769981988988e-06,\n",
       "        -2.2910769981988988e-06, -3.0556026642653682e-06]])"
      ]
     },
     "execution_count": 49,
     "metadata": {},
     "output_type": "execute_result"
    }
   ],
   "source": [
    "X_train[0]"
   ]
  },
  {
   "cell_type": "code",
   "execution_count": 51,
   "id": "f5bb41ff",
   "metadata": {},
   "outputs": [
    {
     "data": {
      "text/plain": [
       "(1250, 19)"
      ]
     },
     "execution_count": 51,
     "metadata": {},
     "output_type": "execute_result"
    }
   ],
   "source": [
    "X_train[0].transpose().shape"
   ]
  },
  {
   "cell_type": "code",
   "execution_count": 28,
   "id": "4ca1b41d",
   "metadata": {},
   "outputs": [
    {
     "data": {
      "text/plain": [
       "(19, 1250)"
      ]
     },
     "execution_count": 28,
     "metadata": {},
     "output_type": "execute_result"
    }
   ],
   "source": [
    "X_train[0].shape"
   ]
  },
  {
   "cell_type": "code",
   "execution_count": 44,
   "id": "9dd5abc0",
   "metadata": {},
   "outputs": [
    {
     "data": {
      "text/plain": [
       "array([[[ 9.7884285256513177e-06,  1.4069772255623544e-05,\n",
       "          1.2540720923490606e-05, ...,  3.0606026642663871e-06,\n",
       "         -1.6794564653457232e-06, -4.5846539963983070e-06],\n",
       "        [-2.5968872646254864e-06, -2.2910769981988988e-06,\n",
       "          5.6599899288923830e-06, ...,  1.0400049058504492e-05,\n",
       "          1.2540720923490606e-05,  1.4069772255623544e-05],\n",
       "        [ 1.2846531189917195e-05,  1.0552954191717786e-05,\n",
       "          9.1768079927981415e-06, ...,  5.0483693960392076e-06,\n",
       "          1.6844564653467419e-06, -1.3736461989191355e-06],\n",
       "        ...,\n",
       "        [ 9.1993079928027250e-07,  1.9902667317733296e-06,\n",
       "          1.3786461989201540e-06, ...,  1.5540513321380320e-07,\n",
       "          2.5000000005093171e-09,  1.0728359324935666e-06],\n",
       "        [-1.5040513321278456e-07, -1.5040513321278456e-07,\n",
       "         -1.9852667317723111e-06, ..., -6.1137053285312458e-06,\n",
       "         -6.4195155949578330e-06, -8.1014720603040672e-06],\n",
       "        [-9.4776182592237098e-06, -1.0395049058503473e-05,\n",
       "         -9.6305233924370052e-06, ..., -2.2910769981988988e-06,\n",
       "         -2.2910769981988988e-06, -3.0556026642653682e-06]],\n",
       "\n",
       "       [[ 2.5000000005093171e-09, -5.5020847956780696e-06,\n",
       "         -4.8904642628248951e-06, ..., -1.2841531189916176e-05,\n",
       "         -1.4829297921688997e-05, -4.2788437299717197e-06],\n",
       "        [-3.9730334635451316e-06,  1.5315513321334481e-06,\n",
       "          3.9780334635461497e-06, ..., -5.8078950621046585e-06,\n",
       "          3.5193180639062684e-06,  2.4489821314132113e-06],\n",
       "        [ 6.5774207281721465e-06,  1.2540720923490606e-05,\n",
       "          7.8006617938784972e-06, ...,  7.3419463942386146e-06,\n",
       "          1.3916867122410252e-05,  1.1470384990997549e-05],\n",
       "        ...,\n",
       "        [-6.4195155949578330e-06, -3.6672231971185435e-06,\n",
       "         -3.9730334635451316e-06, ...,  3.0606026642663871e-06,\n",
       "          1.9902667317733296e-06,  6.1412053285368482e-07],\n",
       "        [ 2.7547923978397990e-06,  1.5315513321334481e-06,\n",
       "          3.2135077974796807e-06, ...,  4.5896539963993259e-06,\n",
       "          3.0831026642709709e-07,  4.6121539964039093e-07],\n",
       "        [-6.0912053285266621e-07, -6.0912053285266621e-07,\n",
       "         -2.4439821314121928e-06, ..., -2.5968872646254864e-06,\n",
       "         -1.5040513321278456e-07,  1.2257410657068604e-06]],\n",
       "\n",
       "       [[ 4.1309385967594442e-06, -3.0331026642607842e-07,\n",
       "         -1.0678359324925478e-06, ...,  1.0728359324935666e-06,\n",
       "          2.5000000005093171e-09,  1.5540513321380320e-07],\n",
       "        [ 1.2257410657068604e-06,  2.7547923978397990e-06,\n",
       "          7.1890412610253218e-06, ..., -5.3491796624647768e-06,\n",
       "         -7.3369463942375965e-06, -6.2666104617445394e-06],\n",
       "        [-6.7253258613844211e-06, -2.1381718649856051e-06,\n",
       "         -1.8323615985590170e-06, ..., -1.1006669591356649e-05,\n",
       "         -1.0700859324930062e-05, -1.2229910657063002e-05],\n",
       "        ...,\n",
       "        [-2.4439821314121928e-06, -3.3614129306919558e-06,\n",
       "         -2.2910769981988988e-06, ...,  2.5000000005093171e-09,\n",
       "         -1.5040513321278456e-07,  1.0728359324935666e-06],\n",
       "        [ 1.3786461989201540e-06,  9.1993079928027250e-07,\n",
       "          7.6702566606697877e-07, ..., -3.2085077974786622e-06,\n",
       "         -1.3736461989191355e-06, -1.6794564653457232e-06],\n",
       "        [-2.1381718649856051e-06, -1.9852667317723111e-06,\n",
       "         -4.1259385967584252e-06, ...,  3.5193180639062684e-06,\n",
       "          3.6722231971195620e-06,  3.8251283303328561e-06]],\n",
       "\n",
       "       ...,\n",
       "\n",
       "       [[-1.8651926252021343e-05, -1.9722262184514403e-05,\n",
       "         -2.5991372646259447e-05, ...,  1.8373615985600357e-06,\n",
       "          4.8954642628259132e-06,  6.7303258613854401e-06],\n",
       "        [ 1.1623290124210845e-05,  9.0239028595848496e-06,\n",
       "          1.2082005523850724e-05, ..., -9.0189028595838306e-06,\n",
       "         -7.0311361278110084e-06, -3.2085077974786622e-06],\n",
       "        [ 1.0728359324935666e-06,  5.6599899288923830e-06,\n",
       "          8.4122823267316717e-06, ...,  5.3541796624657949e-06,\n",
       "          4.2838437299727378e-06, -4.5621539963937226e-07],\n",
       "        ...,\n",
       "        [ 1.5140108188116601e-05,  1.5140108188116601e-05,\n",
       "          1.3152341456343783e-05, ..., -5.8078950621046585e-06,\n",
       "         -3.6672231971185435e-06, -9.1493079927925389e-07],\n",
       "        [ 1.5540513321380320e-07,  1.6844564653467419e-06,\n",
       "          3.3664129306929744e-06, ..., -7.9485669270907719e-06,\n",
       "         -8.2543771935173591e-06, -6.4195155949578330e-06],\n",
       "        [-5.8078950621046585e-06, -5.8078950621046585e-06,\n",
       "         -3.0556026642653682e-06, ...,  2.6018872646265049e-06,\n",
       "          1.0728359324935666e-06,  2.5000000005093171e-09]],\n",
       "\n",
       "       [[-8.9595455793969580e-07, -3.2215364085821102e-06,\n",
       "         -6.0837909939881587e-06, ...,  1.3594209280678425e-05,\n",
       "          1.1089736518448132e-05,  6.7963546403390593e-06],\n",
       "        [ 2.5029727622299869e-06, -2.1481909390548419e-06,\n",
       "          1.6085182042905968e-06, ...,  5.7230091708117914e-06,\n",
       "          1.0374172872096620e-05,  9.3008274025693519e-06],\n",
       "        [ 5.5441182592239134e-06,  3.2185364085814988e-06,\n",
       "          5.9019000823996694e-06, ..., -6.2626819055760367e-06,\n",
       "         -2.1481909390548419e-06,  1.4296272927027186e-06],\n",
       "        ...,\n",
       "        [ 1.4296272927027186e-06,  3.0396454969936208e-06,\n",
       "          1.4296272927027186e-06, ..., -5.3682273476366468e-06,\n",
       "         -5.7260091708124028e-06, -3.4004273201699882e-06],\n",
       "        [-7.1706364635181771e-07, -1.5000000003055901e-09,\n",
       "         -7.1706364635181771e-07, ..., -3.5793182317578661e-06,\n",
       "         -5.0104455244608900e-06, -2.5059727622305978e-06],\n",
       "        [ 7.1406364635120656e-07,  2.3240818506421089e-06,\n",
       "          1.2507363811148406e-06, ..., -1.5000000003055901e-09,\n",
       "         -3.5928182317606164e-07, -1.0748454695275738e-06]],\n",
       "\n",
       "       [[ 1.5315513321334481e-06, -1.5265513321324296e-06,\n",
       "         -4.1259385967584252e-06, ...,  1.4069772255623544e-05,\n",
       "          1.3763961989196959e-05,  1.0705859324931081e-05],\n",
       "        [ 6.5774207281721465e-06,  4.5896539963993259e-06,\n",
       "          1.5540513321380320e-07, ...,  8.5651874599449670e-06,\n",
       "          9.6355233924380241e-06,  1.1623290124210845e-05],\n",
       "        [ 1.1470384990997549e-05,  9.9413336588646113e-06,\n",
       "          1.1623290124210845e-05, ..., -5.6549899288913641e-06,\n",
       "         -1.9852667317723111e-06, -3.0331026642607842e-07],\n",
       "        ...,\n",
       "        [ 1.5540513321380320e-07,  1.0728359324935666e-06,\n",
       "          1.5315513321334481e-06, ..., -1.0678359324925478e-06,\n",
       "         -6.0912053285266621e-07,  3.0831026642709709e-07],\n",
       "        [-1.5040513321278456e-07, -1.9852667317723111e-06,\n",
       "         -3.9730334635451316e-06, ...,  4.7425591296126187e-06,\n",
       "          6.7303258613854401e-06,  7.6477566606652035e-06],\n",
       "        [ 9.4826182592247288e-06,  8.1064720603050844e-06,\n",
       "          7.1890412610253218e-06, ...,  3.9780334635461497e-06,\n",
       "          3.6722231971195620e-06,  3.9780334635461497e-06]]])"
      ]
     },
     "execution_count": 44,
     "metadata": {},
     "output_type": "execute_result"
    }
   ],
   "source": [
    "X_train.reshape(3595, 1250, 19)"
   ]
  },
  {
   "cell_type": "code",
   "execution_count": 33,
   "id": "8ac48dae",
   "metadata": {},
   "outputs": [
    {
     "data": {
      "text/plain": [
       "(19, 3595)"
      ]
     },
     "execution_count": 33,
     "metadata": {},
     "output_type": "execute_result"
    }
   ],
   "source": [
    "X_train.transpose()[0].shape"
   ]
  },
  {
   "cell_type": "code",
   "execution_count": 53,
   "id": "2770dee6",
   "metadata": {},
   "outputs": [
    {
     "data": {
      "text/plain": [
       "array([[ 9.7884285256513177e-06,  1.2999436323130489e-05,\n",
       "         1.2693626056703902e-05, ...,  1.0552954191717786e-05,\n",
       "         1.0552954191717786e-05,  2.1431718649866236e-06],\n",
       "       [ 1.4069772255623544e-05,  1.6210444120609662e-05,\n",
       "         1.6974969786676128e-05, ...,  1.1776195257424138e-05,\n",
       "         1.0552954191717786e-05,  4.2838437299727378e-06],\n",
       "       [ 1.2540720923490606e-05,  1.5598823587756484e-05,\n",
       "         1.0705859324931081e-05, ...,  9.0239028595848496e-06,\n",
       "         7.8006617938784972e-06,  3.0606026642663871e-06],\n",
       "       ...,\n",
       "       [-7.0311361278110084e-06, -1.2207410657058417e-06,\n",
       "        -7.6427566606641846e-06, ...,  6.1412053285368482e-07,\n",
       "        -2.1381718649856051e-06, -2.2910769981988988e-06],\n",
       "       [-3.8201283303318380e-06,  1.9902667317733296e-06,\n",
       "        -5.0433693960381887e-06, ...,  3.2135077974796807e-06,\n",
       "        -1.5040513321278456e-07, -2.2910769981988988e-06],\n",
       "       [-5.1962745292514823e-06,  1.6844564653467419e-06,\n",
       "        -9.1493079927925389e-07, ...,  3.9780334635461497e-06,\n",
       "         2.5000000005093171e-09, -3.0556026642653682e-06]])"
      ]
     },
     "execution_count": 53,
     "metadata": {},
     "output_type": "execute_result"
    }
   ],
   "source": [
    "X_train[0].transpose()"
   ]
  },
  {
   "cell_type": "code",
   "execution_count": 52,
   "id": "5d0a4574",
   "metadata": {},
   "outputs": [
    {
     "data": {
      "text/plain": [
       "array([[[ 9.7884285256513177e-06,  1.2999436323130489e-05,\n",
       "          1.2693626056703902e-05, ...,  1.0552954191717786e-05,\n",
       "          1.0552954191717786e-05,  2.1431718649866236e-06],\n",
       "        [ 1.4069772255623544e-05,  1.6210444120609662e-05,\n",
       "          1.6974969786676128e-05, ...,  1.1776195257424138e-05,\n",
       "          1.0552954191717786e-05,  4.2838437299727378e-06],\n",
       "        [ 1.2540720923490606e-05,  1.5598823587756484e-05,\n",
       "          1.0705859324931081e-05, ...,  9.0239028595848496e-06,\n",
       "          7.8006617938784972e-06,  3.0606026642663871e-06],\n",
       "        ...,\n",
       "        [-7.0311361278110084e-06, -1.2207410657058417e-06,\n",
       "         -7.6427566606641846e-06, ...,  6.1412053285368482e-07,\n",
       "         -2.1381718649856051e-06, -2.2910769981988988e-06],\n",
       "        [-3.8201283303318380e-06,  1.9902667317733296e-06,\n",
       "         -5.0433693960381887e-06, ...,  3.2135077974796807e-06,\n",
       "         -1.5040513321278456e-07, -2.2910769981988988e-06],\n",
       "        [-5.1962745292514823e-06,  1.6844564653467419e-06,\n",
       "         -9.1493079927925389e-07, ...,  3.9780334635461497e-06,\n",
       "          2.5000000005093171e-09, -3.0556026642653682e-06]],\n",
       "\n",
       "       [[ 2.5000000005093171e-09,  1.5540513321380320e-07,\n",
       "          6.5774207281721465e-06, ..., -1.2207410657058417e-06,\n",
       "          1.5315513321334481e-06,  6.7303258613854401e-06],\n",
       "        [-5.5020847956780696e-06, -3.9730334635451316e-06,\n",
       "          5.2012745292525013e-06, ..., -6.4195155949578330e-06,\n",
       "         -3.9730334635451316e-06,  1.9902667317733296e-06],\n",
       "        [-4.8904642628248951e-06, -4.2788437299717197e-06,\n",
       "          2.6018872646265049e-06, ..., -8.8659977263705353e-06,\n",
       "         -7.4898515274508901e-06, -3.0331026642607842e-07],\n",
       "        ...,\n",
       "        [ 7.1890412610253218e-06,  4.5896539963993259e-06,\n",
       "         -9.4776182592237098e-06, ...,  8.7180925931582606e-06,\n",
       "          7.1890412610253218e-06, -2.5968872646254864e-06],\n",
       "        [ 7.9535669270917908e-06,  5.0483693960392076e-06,\n",
       "         -1.7887400585954873e-05, ...,  9.1768079927981415e-06,\n",
       "          9.9413336588646113e-06, -1.5040513321278456e-07],\n",
       "        [ 1.1623290124210845e-05,  1.0705859324931081e-05,\n",
       "         -9.9363336588635924e-06, ...,  8.5651874599449670e-06,\n",
       "          1.0400049058504492e-05,  1.2257410657068604e-06]],\n",
       "\n",
       "       [[ 4.1309385967594442e-06,  2.4489821314132113e-06,\n",
       "          2.5000000005093171e-09, ...,  1.5315513321334481e-06,\n",
       "          5.0483693960392076e-06,  3.0606026642663871e-06],\n",
       "        [-3.0331026642607842e-07,  6.1412053285368482e-07,\n",
       "          4.6121539964039093e-07, ...,  2.5000000005093171e-09,\n",
       "          4.2838437299727378e-06,  3.6722231971195620e-06],\n",
       "        [-1.0678359324925478e-06,  1.5315513321334481e-06,\n",
       "          6.1412053285368482e-07, ..., -1.3736461989191355e-06,\n",
       "          2.9076975310530930e-06,  2.2960769981999177e-06],\n",
       "        ...,\n",
       "        [-1.6794564653457232e-06,  2.9076975310530930e-06,\n",
       "          1.5540513321380320e-07, ...,  2.5000000005093171e-09,\n",
       "          2.5000000005093171e-09,  3.5193180639062684e-06],\n",
       "        [-3.2085077974786622e-06, -1.3736461989191355e-06,\n",
       "          2.5000000005093171e-09, ..., -3.0331026642607842e-07,\n",
       "          3.0831026642709709e-07,  3.6722231971195620e-06],\n",
       "        [-2.7497923978387801e-06,  3.0831026642709709e-07,\n",
       "          1.5540513321380320e-07, ...,  2.5000000005093171e-09,\n",
       "          1.5540513321380320e-07,  3.8251283303328561e-06]],\n",
       "\n",
       "       ...,\n",
       "\n",
       "       [[-1.8651926252021343e-05, -1.6205444120608641e-05,\n",
       "         -9.1493079927925389e-07, ..., -1.4982203054902291e-05,\n",
       "         -7.0311361278110084e-06, -1.5040513321278456e-07],\n",
       "        [-1.9722262184514403e-05, -1.8499021118808047e-05,\n",
       "         -3.5143180639052495e-06, ..., -1.4829297921688997e-05,\n",
       "         -4.5846539963983070e-06,  2.9076975310530930e-06],\n",
       "        [-2.5991372646259447e-05, -2.4615226447339803e-05,\n",
       "         -6.8782309945977156e-06, ..., -1.7122874919888406e-05,\n",
       "         -3.8201283303318380e-06,  3.5193180639062684e-06],\n",
       "        ...,\n",
       "        [-1.9852667317723111e-06, -1.5040513321278456e-07,\n",
       "          2.5000000005093171e-09, ..., -8.2543771935173591e-06,\n",
       "         -7.6427566606641846e-06,  2.6018872646265049e-06],\n",
       "        [-1.0678359324925478e-06,  1.0728359324935666e-06,\n",
       "          6.1412053285368482e-07, ..., -8.4072823267306527e-06,\n",
       "         -7.1840412610243029e-06,  1.0728359324935666e-06],\n",
       "        [ 1.5540513321380320e-07,  3.3664129306929744e-06,\n",
       "          2.1431718649866236e-06, ..., -8.4072823267306527e-06,\n",
       "         -6.7253258613844211e-06,  2.5000000005093171e-09]],\n",
       "\n",
       "       [[-8.9595455793969580e-07, -2.8637545854063542e-06,\n",
       "         -1.4326272927033297e-06, ..., -4.4737727896972561e-06,\n",
       "          1.7874091158784748e-06,  1.0374172872096620e-05],\n",
       "        [-3.2215364085821102e-06, -4.1159909665215001e-06,\n",
       "         -1.8039091158818361e-07, ..., -4.6526637012851340e-06,\n",
       "          1.0718454695269626e-06,  1.0374172872096620e-05],\n",
       "        [-6.0837909939881587e-06, -6.6204637287517927e-06,\n",
       "         -1.6115182042912079e-06, ..., -6.7993546403396707e-06,\n",
       "         -1.6115182042912079e-06,  6.9752455519269381e-06],\n",
       "        ...,\n",
       "        [ 6.2596819055754253e-06,  2.3240818506421089e-06,\n",
       "          3.3974273201693772e-06, ...,  2.3240818506421089e-06,\n",
       "          1.2507363811148406e-06, -1.5000000003055901e-09],\n",
       "        [ 6.0807909939875474e-06,  1.0718454695269626e-06,\n",
       "          3.5763182317572552e-06, ..., -1.5000000003055901e-09,\n",
       "          7.1406364635120656e-07, -3.5928182317606164e-07],\n",
       "        [ 5.9019000823996694e-06,  4.1129909665208887e-06,\n",
       "          3.3974273201693772e-06, ..., -1.6115182042912079e-06,\n",
       "          5.3517273476332847e-07, -1.0748454695275738e-06]],\n",
       "\n",
       "       [[ 1.5315513321334481e-06, -3.8201283303318380e-06,\n",
       "         -4.1259385967584252e-06, ..., -4.5621539963937226e-07,\n",
       "         -6.1137053285312458e-06,  3.8251283303328561e-06],\n",
       "        [-1.5265513321324296e-06, -6.8782309945977156e-06,\n",
       "         -5.6549899288913641e-06, ..., -5.0433693960381887e-06,\n",
       "         -7.1840412610243029e-06,  3.9780334635461497e-06],\n",
       "        [-4.1259385967584252e-06, -7.4898515274508901e-06,\n",
       "         -4.2788437299717197e-06, ..., -7.7956617938774782e-06,\n",
       "         -8.4072823267306527e-06,  6.7303258613854401e-06],\n",
       "        ...,\n",
       "        [-1.2077005523849707e-05, -9.3247131260104162e-06,\n",
       "         -1.9852667317723111e-06, ..., -4.4317488631850125e-06,\n",
       "          1.0400049058504492e-05,  3.9780334635461497e-06],\n",
       "        [-7.6427566606641846e-06, -5.5020847956780696e-06,\n",
       "          2.5000000005093171e-09, ..., -9.1493079927925389e-07,\n",
       "          1.2234910657064019e-05,  3.6722231971195620e-06],\n",
       "        [-2.2910769981988988e-06, -1.5265513321324296e-06,\n",
       "          4.4367488631860314e-06, ...,  2.6018872646265049e-06,\n",
       "          1.2387815790277313e-05,  3.9780334635461497e-06]]])"
      ]
     },
     "execution_count": 52,
     "metadata": {},
     "output_type": "execute_result"
    }
   ],
   "source": [
    "X_train.swapaxes(1, 2)"
   ]
  },
  {
   "cell_type": "code",
   "execution_count": 54,
   "id": "93991de7",
   "metadata": {},
   "outputs": [
    {
     "data": {
      "text/plain": [
       "(3595, 1250, 19)"
      ]
     },
     "execution_count": 54,
     "metadata": {},
     "output_type": "execute_result"
    }
   ],
   "source": [
    "X_train = X_train.swapaxes(1, 2).shape"
   ]
  }
 ],
 "metadata": {
  "kernelspec": {
   "display_name": "Python 3 (ipykernel)",
   "language": "python",
   "name": "python3"
  },
  "language_info": {
   "codemirror_mode": {
    "name": "ipython",
    "version": 3
   },
   "file_extension": ".py",
   "mimetype": "text/x-python",
   "name": "python",
   "nbconvert_exporter": "python",
   "pygments_lexer": "ipython3",
   "version": "3.9.12"
  }
 },
 "nbformat": 4,
 "nbformat_minor": 5
}
