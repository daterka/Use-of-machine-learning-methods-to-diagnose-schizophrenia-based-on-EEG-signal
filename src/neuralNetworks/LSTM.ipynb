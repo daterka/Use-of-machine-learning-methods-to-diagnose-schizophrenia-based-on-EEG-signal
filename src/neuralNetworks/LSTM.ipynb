{
 "cells": [
  {
   "cell_type": "code",
   "execution_count": 18,
   "id": "013adb54",
   "metadata": {},
   "outputs": [],
   "source": [
    "import os\n",
    "\n",
    "import tensorflow as tf\n",
    "\n",
    "from tensorflow.keras.models import Model,Sequential\n",
    "from tensorflow.keras.layers import Dense, Dropout, LSTM, Bidirectional\n",
    "from tensorflow.keras import regularizers\n",
    "\n",
    "import raw_data_loader as data_loader\n",
    "\n",
    "import model_runner"
   ]
  },
  {
   "cell_type": "code",
   "execution_count": 2,
   "id": "f5ff259d",
   "metadata": {},
   "outputs": [
    {
     "data": {
      "text/plain": [
       "'/device:GPU:0'"
      ]
     },
     "execution_count": 2,
     "metadata": {},
     "output_type": "execute_result"
    }
   ],
   "source": [
    "# os.environ[\"CUDA_VISIBLE_DEVICES\"] = \"-1\"\n",
    "tf.test.gpu_device_name()"
   ]
  },
  {
   "cell_type": "code",
   "execution_count": 3,
   "id": "833ae4f7",
   "metadata": {},
   "outputs": [],
   "source": [
    "edfs_path = \"../../../dataverse_files\"\n",
    "save_path = '../../../Results/LSTM'"
   ]
  },
  {
   "cell_type": "code",
   "execution_count": 4,
   "id": "7ce652bb",
   "metadata": {},
   "outputs": [],
   "source": [
    "signal_segment_len = 5.0\n",
    "data_split_ratio = 0.2\n",
    "seed=1337\n",
    "\n",
    "learning_rate = 0.001\n",
    "epochs_n = 150\n",
    "patience = 15\n",
    "batch_size = 32\n",
    "validation_split = 0.2\n",
    "\n",
    "input_shape=None"
   ]
  },
  {
   "cell_type": "markdown",
   "id": "31d598ef",
   "metadata": {},
   "source": [
    "### Loading data from edf files, segmenting and splitting to train and test datasets"
   ]
  },
  {
   "cell_type": "code",
   "execution_count": 5,
   "id": "5eb29333",
   "metadata": {},
   "outputs": [
    {
     "name": "stdout",
     "output_type": "stream",
     "text": [
      "Not setting metadata\n",
      "5771 matching events found\n",
      "No baseline correction applied\n",
      "0 bad epochs dropped\n",
      "\n",
      "Epochs number per patient:  [185, 182, 182, 185, 189, 186, 182, 182, 181, 223, 183, 180, 193, 173, 169, 229, 192, 241, 178, 148, 269, 182, 237, 170, 272, 217, 227, 434]\n",
      "\n",
      "negative:  3165\n",
      "positive:  2606\n",
      "\n",
      "X_train shape: (4616, 1250, 19)\n",
      "X_test shape: (1155, 1250, 19)\n",
      "\n",
      "input shape: (1250, 19)\n"
     ]
    }
   ],
   "source": [
    "X_train, X_test, y_train, y_test = data_loader.load_and_split_data(edfs_path, signal_segment_len, data_split_ratio, seed)"
   ]
  },
  {
   "cell_type": "code",
   "execution_count": 6,
   "id": "d32a289d",
   "metadata": {},
   "outputs": [
    {
     "data": {
      "text/plain": [
       "(1250, 19)"
      ]
     },
     "execution_count": 6,
     "metadata": {},
     "output_type": "execute_result"
    }
   ],
   "source": [
    "input_shape = data_loader.input_shape\n",
    "input_shape"
   ]
  },
  {
   "cell_type": "markdown",
   "id": "62dd2f58",
   "metadata": {},
   "source": [
    "## Models"
   ]
  },
  {
   "cell_type": "markdown",
   "id": "a87ee8f8",
   "metadata": {},
   "source": [
    "### No dropout"
   ]
  },
  {
   "cell_type": "code",
   "execution_count": 7,
   "id": "a690dd5e",
   "metadata": {},
   "outputs": [],
   "source": [
    "from tensorflow.keras import layers\n",
    "\n",
    "def build_model_LSTM128_Dense32(input_shape, opt):    \n",
    "    model = Sequential()\n",
    "    \n",
    "    model.add(LSTM(128,input_shape=input_shape))\n",
    "#     model.add(Dropout(0.5))\n",
    "    \n",
    "    model.add(Dense(32, activation='relu'))\n",
    "#     model.add(Dropout(0.4))\n",
    "    \n",
    "    model.add(Dense(1, activation='sigmoid'))\n",
    "    \n",
    "    model._name = 'LSTM128_Dense32'\n",
    "    \n",
    "    model.compile(optimizer=opt, \n",
    "          loss='binary_crossentropy',\n",
    "          metrics=['accuracy'])\n",
    "    \n",
    "    \n",
    "    model.summary()\n",
    "    \n",
    "    return model"
   ]
  },
  {
   "cell_type": "code",
   "execution_count": 9,
   "id": "5f612364",
   "metadata": {},
   "outputs": [
    {
     "name": "stdout",
     "output_type": "stream",
     "text": [
      "batch size: 32\n",
      "learning rate: 0.001\n",
      "epochs: 5\n",
      "Model: \"LSTM100-Drop05-Dense32-Drop04\"\n",
      "_________________________________________________________________\n",
      " Layer (type)                Output Shape              Param #   \n",
      "=================================================================\n",
      " lstm (LSTM)                 (None, 100)               48000     \n",
      "                                                                 \n",
      " dropout (Dropout)           (None, 100)               0         \n",
      "                                                                 \n",
      " dense (Dense)               (None, 32)                3232      \n",
      "                                                                 \n",
      " dropout_1 (Dropout)         (None, 32)                0         \n",
      "                                                                 \n",
      " dense_1 (Dense)             (None, 1)                 33        \n",
      "                                                                 \n",
      "=================================================================\n",
      "Total params: 51,265\n",
      "Trainable params: 51,265\n",
      "Non-trainable params: 0\n",
      "_________________________________________________________________\n",
      "Epoch 1/5\n",
      "116/116 [==============================] - 19s 122ms/step - loss: 0.6812 - accuracy: 0.5837 - val_loss: 0.6043 - val_accuracy: 0.6331\n",
      "Epoch 2/5\n",
      "116/116 [==============================] - 14s 117ms/step - loss: 0.6007 - accuracy: 0.6698 - val_loss: 0.5428 - val_accuracy: 0.6948\n",
      "Epoch 3/5\n",
      "116/116 [==============================] - 14s 117ms/step - loss: 0.5216 - accuracy: 0.7291 - val_loss: 0.4818 - val_accuracy: 0.7543\n",
      "Epoch 4/5\n",
      "116/116 [==============================] - 13s 116ms/step - loss: 0.4289 - accuracy: 0.8096 - val_loss: 0.3827 - val_accuracy: 0.8333\n",
      "Epoch 5/5\n",
      "116/116 [==============================] - 13s 116ms/step - loss: 0.3531 - accuracy: 0.8640 - val_loss: 0.3360 - val_accuracy: 0.8820\n"
     ]
    },
    {
     "data": {
      "image/png": "[encoded data removed]",
      "text/plain": [
       "<Figure size 432x288 with 1 Axes>"
      ]
     },
     "metadata": {
      "needs_background": "light"
     },
     "output_type": "display_data"
    },
    {
     "data": {
      "image/png": "[encoded data removed]",
      "text/plain": [
       "<Figure size 432x288 with 1 Axes>"
      ]
     },
     "metadata": {
      "needs_background": "light"
     },
     "output_type": "display_data"
    },
    {
     "name": "stdout",
     "output_type": "stream",
     "text": [
      "Test Accuracy: 0.8701298701298701\n",
      "F1 score: 0.883177570093458\n"
     ]
    },
    {
     "data": {
      "image/png": "[encoded data removed]",
      "text/plain": [
       "<Figure size 432x288 with 2 Axes>"
      ]
     },
     "metadata": {
      "needs_background": "light"
     },
     "output_type": "display_data"
    },
    {
     "data": {
      "image/png": "[encoded data removed]",
      "text/plain": [
       "<Figure size 432x288 with 1 Axes>"
      ]
     },
     "metadata": {
      "needs_background": "light"
     },
     "output_type": "display_data"
    }
   ],
   "source": [
    "model_runner.run(X_train, X_test, y_train, y_test, input_shape, build_model_LSTM128_Dense32, \n",
    "    learning_rate, epochs_n, patience, batch_size, validation_split, save_path)"
   ]
  },
  {
   "cell_type": "markdown",
   "id": "4c91f8b2",
   "metadata": {},
   "source": [
    "## LSTM Dropout"
   ]
  },
  {
   "cell_type": "code",
   "execution_count": null,
   "id": "26ff4389",
   "metadata": {},
   "outputs": [],
   "source": [
    "from tensorflow.keras import layers\n",
    "\n",
    "def build_model_LSTM128_Drop05_Dense32(input_shape, opt):    \n",
    "    model = Sequential()\n",
    "    \n",
    "    model.add(LSTM(128,input_shape=input_shape, dropout=0.5))\n",
    "#     model.add(Dropout(0.5))\n",
    "    \n",
    "    model.add(Dense(32, activation='relu'))\n",
    "#     model.add(Dropout(0.4))\n",
    "    \n",
    "    model.add(Dense(1, activation='sigmoid'))\n",
    "    \n",
    "    model._name = 'LSTM128_Drop05_Dense32'\n",
    "    \n",
    "    model.compile(optimizer=opt, \n",
    "          loss='binary_crossentropy',\n",
    "          metrics=['accuracy'])\n",
    "    \n",
    "    \n",
    "    model.summary()\n",
    "    \n",
    "    return model"
   ]
  },
  {
   "cell_type": "code",
   "execution_count": null,
   "id": "eb511294",
   "metadata": {},
   "outputs": [],
   "source": [
    "model_runner.run(X_train, X_test, y_train, y_test, input_shape, build_model_LSTM128_Drop05_Dense32, \n",
    "    learning_rate, epochs_n, patience, batch_size, validation_split, save_path)"
   ]
  },
  {
   "cell_type": "markdown",
   "id": "a8938af5",
   "metadata": {},
   "source": [
    "### LSTM and Dense Dropout"
   ]
  },
  {
   "cell_type": "code",
   "execution_count": 14,
   "id": "ef2531a8",
   "metadata": {},
   "outputs": [],
   "source": [
    "from tensorflow.keras import layers\n",
    "\n",
    "def build_model_LSTM128_Drop05_Dense32_Drop04(input_shape, opt):    \n",
    "    model = Sequential()\n",
    "    \n",
    "    model.add(LSTM(128,input_shape=input_shape, dropout=0.5))\n",
    "#     model.add(Dropout(0.5))\n",
    "    \n",
    "    model.add(Dense(32, activation='relu'))\n",
    "    model.add(Dropout(0.4))\n",
    "    \n",
    "    model.add(Dense(1, activation='sigmoid'))\n",
    "    \n",
    "    model._name = 'LSTM128_Drop05_Dense32_Drop04'\n",
    "    \n",
    "    model.compile(optimizer=opt, \n",
    "          loss='binary_crossentropy',\n",
    "          metrics=['accuracy'])\n",
    "    \n",
    "    \n",
    "    model.summary()\n",
    "    \n",
    "    return model"
   ]
  },
  {
   "cell_type": "code",
   "execution_count": 15,
   "id": "bb51226d",
   "metadata": {},
   "outputs": [
    {
     "name": "stdout",
     "output_type": "stream",
     "text": [
      "batch size: 32\n",
      "learning rate: 0.001\n",
      "epochs: 300\n",
      "Model: \"LSTM100-Drop05-Dense32-Drop04\"\n",
      "_________________________________________________________________\n",
      " Layer (type)                Output Shape              Param #   \n",
      "=================================================================\n",
      " lstm_3 (LSTM)               (None, 128)               75776     \n",
      "                                                                 \n",
      " dense_6 (Dense)             (None, 32)                4128      \n",
      "                                                                 \n",
      " dense_7 (Dense)             (None, 1)                 33        \n",
      "                                                                 \n",
      "=================================================================\n",
      "Total params: 79,937\n",
      "Trainable params: 79,937\n",
      "Non-trainable params: 0\n",
      "_________________________________________________________________\n",
      "Epoch 1/300\n",
      "116/116 [==============================] - 17s 132ms/step - loss: 0.5805 - accuracy: 0.6717 - val_loss: 0.4989 - val_accuracy: 0.7565\n",
      "Epoch 2/300\n",
      "116/116 [==============================] - 15s 128ms/step - loss: 0.3883 - accuracy: 0.8307 - val_loss: 0.4680 - val_accuracy: 0.7965\n",
      "Epoch 3/300\n",
      "116/116 [==============================] - 15s 128ms/step - loss: 0.2988 - accuracy: 0.8816 - val_loss: 0.3211 - val_accuracy: 0.8831\n",
      "Epoch 4/300\n",
      "116/116 [==============================] - 15s 130ms/step - loss: 0.2138 - accuracy: 0.9296 - val_loss: 0.3496 - val_accuracy: 0.8712\n",
      "Epoch 5/300\n",
      "116/116 [==============================] - 15s 127ms/step - loss: 0.1692 - accuracy: 0.9374 - val_loss: 0.3292 - val_accuracy: 0.8690\n",
      "Epoch 6/300\n",
      "116/116 [==============================] - 15s 127ms/step - loss: 0.1180 - accuracy: 0.9580 - val_loss: 0.4177 - val_accuracy: 0.8723\n",
      "Epoch 7/300\n",
      "116/116 [==============================] - 15s 130ms/step - loss: 0.0887 - accuracy: 0.9710 - val_loss: 0.3773 - val_accuracy: 0.8885\n",
      "Epoch 8/300\n",
      "116/116 [==============================] - 15s 128ms/step - loss: 0.0811 - accuracy: 0.9794 - val_loss: 0.2194 - val_accuracy: 0.9253\n",
      "Epoch 9/300\n",
      "116/116 [==============================] - 15s 127ms/step - loss: 0.0612 - accuracy: 0.9867 - val_loss: 0.2785 - val_accuracy: 0.9177\n",
      "Epoch 10/300\n",
      "116/116 [==============================] - 15s 127ms/step - loss: 0.0774 - accuracy: 0.9778 - val_loss: 0.2953 - val_accuracy: 0.8972\n",
      "Epoch 11/300\n",
      "116/116 [==============================] - 15s 127ms/step - loss: 0.1045 - accuracy: 0.9680 - val_loss: 0.2974 - val_accuracy: 0.9004\n",
      "Epoch 12/300\n",
      "116/116 [==============================] - 15s 126ms/step - loss: 0.0947 - accuracy: 0.9691 - val_loss: 0.2346 - val_accuracy: 0.9199\n",
      "Epoch 13/300\n",
      "116/116 [==============================] - 15s 126ms/step - loss: 0.0403 - accuracy: 0.9911 - val_loss: 0.2478 - val_accuracy: 0.9232\n",
      "Epoch 14/300\n",
      "116/116 [==============================] - 15s 127ms/step - loss: 0.0443 - accuracy: 0.9889 - val_loss: 0.3018 - val_accuracy: 0.9134\n",
      "Epoch 15/300\n",
      "116/116 [==============================] - 15s 127ms/step - loss: 0.0491 - accuracy: 0.9862 - val_loss: 0.2474 - val_accuracy: 0.9307\n",
      "Epoch 16/300\n",
      "116/116 [==============================] - 15s 127ms/step - loss: 0.0221 - accuracy: 0.9938 - val_loss: 0.2452 - val_accuracy: 0.9361\n",
      "Epoch 17/300\n",
      "116/116 [==============================] - 15s 130ms/step - loss: 0.0155 - accuracy: 0.9973 - val_loss: 0.2563 - val_accuracy: 0.9383\n",
      "Epoch 18/300\n",
      "116/116 [==============================] - 15s 130ms/step - loss: 0.0116 - accuracy: 0.9973 - val_loss: 0.2534 - val_accuracy: 0.9383\n",
      "Epoch 19/300\n",
      "115/116 [============================>.] - ETA: 0s - loss: 0.0074 - accuracy: 0.9981"
     ]
    },
    {
     "name": "stderr",
     "output_type": "stream",
     "text": [
      "\n",
      "KeyboardInterrupt\n",
      "\n"
     ]
    }
   ],
   "source": [
    "model_runner.run(X_train, X_test, y_train, y_test, input_shape, build_model_LSTM128_Drop05_Dense32_Drop04, \n",
    "    learning_rate, epochs_n, patience, batch_size, validation_split, save_path)"
   ]
  },
  {
   "cell_type": "code",
   "execution_count": null,
   "id": "904a8cb9",
   "metadata": {},
   "outputs": [],
   "source": []
  },
  {
   "cell_type": "markdown",
   "id": "9281297c",
   "metadata": {},
   "source": [
    "### LSTM Dropout and Recurrent Dropout Dense Dropout"
   ]
  },
  {
   "cell_type": "code",
   "execution_count": 16,
   "id": "aaf36aa7",
   "metadata": {},
   "outputs": [],
   "source": [
    "from tensorflow.keras import layers\n",
    "\n",
    "def build_model_LSTM128_Drop05_RecDrop05_Dense32_Drop04(input_shape, opt):    \n",
    "    model = Sequential()\n",
    "    \n",
    "    model.add(LSTM(128,input_shape=input_shape, dropout=0.5, recurrent_dropout=0.5))\n",
    "#     model.add(Dropout(0.5))\n",
    "    \n",
    "    model.add(Dense(32, activation='relu'))\n",
    "    model.add(Dropout(0.4))\n",
    "    \n",
    "    model.add(Dense(1, activation='sigmoid'))\n",
    "    \n",
    "    model._name = 'LSTM128_Drop05_RecDrop05_Dense32_Drop04'\n",
    "    \n",
    "    model.compile(optimizer=opt, \n",
    "          loss='binary_crossentropy',\n",
    "          metrics=['accuracy'])\n",
    "    \n",
    "    \n",
    "    model.summary()\n",
    "    \n",
    "    return model"
   ]
  },
  {
   "cell_type": "code",
   "execution_count": 17,
   "id": "d403883e",
   "metadata": {},
   "outputs": [
    {
     "name": "stdout",
     "output_type": "stream",
     "text": [
      "batch size: 32\n",
      "learning rate: 0.001\n",
      "epochs: 300\n",
      "Model: \"LSTM100-Drop05-Dense32-Drop04\"\n",
      "_________________________________________________________________\n",
      " Layer (type)                Output Shape              Param #   \n",
      "=================================================================\n",
      " lstm_4 (LSTM)               (None, 128)               75776     \n",
      "                                                                 \n",
      " dense_8 (Dense)             (None, 32)                4128      \n",
      "                                                                 \n",
      " dense_9 (Dense)             (None, 1)                 33        \n",
      "                                                                 \n",
      "=================================================================\n",
      "Total params: 79,937\n",
      "Trainable params: 79,937\n",
      "Non-trainable params: 0\n",
      "_________________________________________________________________\n",
      "Epoch 1/300\n",
      "116/116 [==============================] - 17s 130ms/step - loss: 0.5866 - accuracy: 0.6693 - val_loss: 0.5187 - val_accuracy: 0.7175\n",
      "Epoch 2/300\n",
      " 15/116 [==>...........................] - ETA: 11s - loss: 0.4267 - accuracy: 0.8229"
     ]
    },
    {
     "ename": "KeyboardInterrupt",
     "evalue": "",
     "output_type": "error",
     "traceback": [
      "\u001b[1;31m---------------------------------------------------------------------------\u001b[0m",
      "\u001b[1;31mKeyboardInterrupt\u001b[0m                         Traceback (most recent call last)",
      "Input \u001b[1;32mIn [17]\u001b[0m, in \u001b[0;36m<cell line: 1>\u001b[1;34m()\u001b[0m\n\u001b[1;32m----> 1\u001b[0m \u001b[43mmodel_runner\u001b[49m\u001b[38;5;241;43m.\u001b[39;49m\u001b[43mrun\u001b[49m\u001b[43m(\u001b[49m\u001b[43mX_train\u001b[49m\u001b[43m,\u001b[49m\u001b[43m \u001b[49m\u001b[43mX_test\u001b[49m\u001b[43m,\u001b[49m\u001b[43m \u001b[49m\u001b[43my_train\u001b[49m\u001b[43m,\u001b[49m\u001b[43m \u001b[49m\u001b[43my_test\u001b[49m\u001b[43m,\u001b[49m\u001b[43m \u001b[49m\u001b[43minput_shape\u001b[49m\u001b[43m,\u001b[49m\u001b[43m \u001b[49m\u001b[43mbuild_model_LSTM128_Dense_16\u001b[49m\u001b[43m,\u001b[49m\u001b[43m \u001b[49m\n\u001b[0;32m      2\u001b[0m \u001b[43m    \u001b[49m\u001b[43mlearning_rate\u001b[49m\u001b[43m,\u001b[49m\u001b[43m \u001b[49m\u001b[43mepochs_n\u001b[49m\u001b[43m,\u001b[49m\u001b[43m \u001b[49m\u001b[43mpatience\u001b[49m\u001b[43m,\u001b[49m\u001b[43m \u001b[49m\u001b[43mbatch_size\u001b[49m\u001b[43m,\u001b[49m\u001b[43m \u001b[49m\u001b[43mvalidation_split\u001b[49m\u001b[43m,\u001b[49m\u001b[43m \u001b[49m\u001b[43msave_path\u001b[49m\u001b[43m)\u001b[49m\n",
      "File \u001b[1;32mE:\\Magisterka\\repo\\Use-of-machine-learning-methods-to-diagnose-schizophrenia-based-on-EEG-signal\\src\\neuralNetworks\\model_runner.py:166\u001b[0m, in \u001b[0;36mrun\u001b[1;34m(X_train, X_test, y_train, y_test, input_shape, build_model, lr, epochs, patience, batch_size, val_split, save_path)\u001b[0m\n\u001b[0;32m    162\u001b[0m opt \u001b[38;5;241m=\u001b[39m Adam(learning_rate\u001b[38;5;241m=\u001b[39mlr)\n\u001b[0;32m    164\u001b[0m model \u001b[38;5;241m=\u001b[39m build_model(input_shape, opt)\n\u001b[1;32m--> 166\u001b[0m history \u001b[38;5;241m=\u001b[39m \u001b[43mmodel\u001b[49m\u001b[38;5;241;43m.\u001b[39;49m\u001b[43mfit\u001b[49m\u001b[43m(\u001b[49m\n\u001b[0;32m    167\u001b[0m \u001b[43m    \u001b[49m\u001b[43mx\u001b[49m\u001b[38;5;241;43m=\u001b[39;49m\u001b[43mX_train\u001b[49m\u001b[43m,\u001b[49m\u001b[43m \u001b[49m\n\u001b[0;32m    168\u001b[0m \u001b[43m    \u001b[49m\u001b[43my\u001b[49m\u001b[38;5;241;43m=\u001b[39;49m\u001b[43my_train\u001b[49m\u001b[38;5;241;43m.\u001b[39;49m\u001b[43mreshape\u001b[49m\u001b[43m(\u001b[49m\u001b[38;5;241;43m-\u001b[39;49m\u001b[38;5;241;43m1\u001b[39;49m\u001b[43m,\u001b[49m\u001b[38;5;241;43m1\u001b[39;49m\u001b[43m)\u001b[49m\u001b[43m,\u001b[49m\n\u001b[0;32m    169\u001b[0m \u001b[43m    \u001b[49m\u001b[43mbatch_size\u001b[49m\u001b[38;5;241;43m=\u001b[39;49m\u001b[43mbatch_size\u001b[49m\u001b[43m,\u001b[49m\n\u001b[0;32m    170\u001b[0m \u001b[43m    \u001b[49m\u001b[43mvalidation_split\u001b[49m\u001b[38;5;241;43m=\u001b[39;49m\u001b[43mval_split\u001b[49m\u001b[43m,\u001b[49m\n\u001b[0;32m    171\u001b[0m \u001b[43m    \u001b[49m\u001b[43mepochs\u001b[49m\u001b[38;5;241;43m=\u001b[39;49m\u001b[43mepochs\u001b[49m\u001b[43m,\u001b[49m\u001b[43m \u001b[49m\n\u001b[0;32m    172\u001b[0m \u001b[43m    \u001b[49m\u001b[43mcallbacks\u001b[49m\u001b[38;5;241;43m=\u001b[39;49m\u001b[43m[\u001b[49m\u001b[43mearly_stop\u001b[49m\u001b[43m(\u001b[49m\u001b[43mpatience\u001b[49m\u001b[43m)\u001b[49m\u001b[43m]\u001b[49m\u001b[43m,\u001b[49m\n\u001b[0;32m    173\u001b[0m \u001b[43m    \u001b[49m\u001b[43mverbose\u001b[49m\u001b[38;5;241;43m=\u001b[39;49m\u001b[38;5;241;43m1\u001b[39;49m\u001b[43m)\u001b[49m\n\u001b[0;32m    175\u001b[0m plot_accuracy(history, save_path, model\u001b[38;5;241m.\u001b[39mname)\n\u001b[0;32m    177\u001b[0m plot_loss(history, save_path, model\u001b[38;5;241m.\u001b[39mname)\n",
      "File \u001b[1;32mE:\\Users\\dt\\anaconda3\\envs\\ml\\lib\\site-packages\\keras\\utils\\traceback_utils.py:64\u001b[0m, in \u001b[0;36mfilter_traceback.<locals>.error_handler\u001b[1;34m(*args, **kwargs)\u001b[0m\n\u001b[0;32m     62\u001b[0m filtered_tb \u001b[38;5;241m=\u001b[39m \u001b[38;5;28;01mNone\u001b[39;00m\n\u001b[0;32m     63\u001b[0m \u001b[38;5;28;01mtry\u001b[39;00m:\n\u001b[1;32m---> 64\u001b[0m   \u001b[38;5;28;01mreturn\u001b[39;00m fn(\u001b[38;5;241m*\u001b[39margs, \u001b[38;5;241m*\u001b[39m\u001b[38;5;241m*\u001b[39mkwargs)\n\u001b[0;32m     65\u001b[0m \u001b[38;5;28;01mexcept\u001b[39;00m \u001b[38;5;167;01mException\u001b[39;00m \u001b[38;5;28;01mas\u001b[39;00m e:  \u001b[38;5;66;03m# pylint: disable=broad-except\u001b[39;00m\n\u001b[0;32m     66\u001b[0m   filtered_tb \u001b[38;5;241m=\u001b[39m _process_traceback_frames(e\u001b[38;5;241m.\u001b[39m__traceback__)\n",
      "File \u001b[1;32mE:\\Users\\dt\\anaconda3\\envs\\ml\\lib\\site-packages\\keras\\engine\\training.py:1414\u001b[0m, in \u001b[0;36mModel.fit\u001b[1;34m(self, x, y, batch_size, epochs, verbose, callbacks, validation_split, validation_data, shuffle, class_weight, sample_weight, initial_epoch, steps_per_epoch, validation_steps, validation_batch_size, validation_freq, max_queue_size, workers, use_multiprocessing)\u001b[0m\n\u001b[0;32m   1412\u001b[0m logs \u001b[38;5;241m=\u001b[39m tmp_logs  \u001b[38;5;66;03m# No error, now safe to assign to logs.\u001b[39;00m\n\u001b[0;32m   1413\u001b[0m end_step \u001b[38;5;241m=\u001b[39m step \u001b[38;5;241m+\u001b[39m data_handler\u001b[38;5;241m.\u001b[39mstep_increment\n\u001b[1;32m-> 1414\u001b[0m \u001b[43mcallbacks\u001b[49m\u001b[38;5;241;43m.\u001b[39;49m\u001b[43mon_train_batch_end\u001b[49m\u001b[43m(\u001b[49m\u001b[43mend_step\u001b[49m\u001b[43m,\u001b[49m\u001b[43m \u001b[49m\u001b[43mlogs\u001b[49m\u001b[43m)\u001b[49m\n\u001b[0;32m   1415\u001b[0m \u001b[38;5;28;01mif\u001b[39;00m \u001b[38;5;28mself\u001b[39m\u001b[38;5;241m.\u001b[39mstop_training:\n\u001b[0;32m   1416\u001b[0m   \u001b[38;5;28;01mbreak\u001b[39;00m\n",
      "File \u001b[1;32mE:\\Users\\dt\\anaconda3\\envs\\ml\\lib\\site-packages\\keras\\callbacks.py:438\u001b[0m, in \u001b[0;36mCallbackList.on_train_batch_end\u001b[1;34m(self, batch, logs)\u001b[0m\n\u001b[0;32m    431\u001b[0m \u001b[38;5;124;03m\"\"\"Calls the `on_train_batch_end` methods of its callbacks.\u001b[39;00m\n\u001b[0;32m    432\u001b[0m \n\u001b[0;32m    433\u001b[0m \u001b[38;5;124;03mArgs:\u001b[39;00m\n\u001b[0;32m    434\u001b[0m \u001b[38;5;124;03m    batch: Integer, index of batch within the current epoch.\u001b[39;00m\n\u001b[0;32m    435\u001b[0m \u001b[38;5;124;03m    logs: Dict. Aggregated metric results up until this batch.\u001b[39;00m\n\u001b[0;32m    436\u001b[0m \u001b[38;5;124;03m\"\"\"\u001b[39;00m\n\u001b[0;32m    437\u001b[0m \u001b[38;5;28;01mif\u001b[39;00m \u001b[38;5;28mself\u001b[39m\u001b[38;5;241m.\u001b[39m_should_call_train_batch_hooks:\n\u001b[1;32m--> 438\u001b[0m   \u001b[38;5;28;43mself\u001b[39;49m\u001b[38;5;241;43m.\u001b[39;49m\u001b[43m_call_batch_hook\u001b[49m\u001b[43m(\u001b[49m\u001b[43mModeKeys\u001b[49m\u001b[38;5;241;43m.\u001b[39;49m\u001b[43mTRAIN\u001b[49m\u001b[43m,\u001b[49m\u001b[43m \u001b[49m\u001b[38;5;124;43m'\u001b[39;49m\u001b[38;5;124;43mend\u001b[39;49m\u001b[38;5;124;43m'\u001b[39;49m\u001b[43m,\u001b[49m\u001b[43m \u001b[49m\u001b[43mbatch\u001b[49m\u001b[43m,\u001b[49m\u001b[43m \u001b[49m\u001b[43mlogs\u001b[49m\u001b[38;5;241;43m=\u001b[39;49m\u001b[43mlogs\u001b[49m\u001b[43m)\u001b[49m\n",
      "File \u001b[1;32mE:\\Users\\dt\\anaconda3\\envs\\ml\\lib\\site-packages\\keras\\callbacks.py:297\u001b[0m, in \u001b[0;36mCallbackList._call_batch_hook\u001b[1;34m(self, mode, hook, batch, logs)\u001b[0m\n\u001b[0;32m    295\u001b[0m   \u001b[38;5;28mself\u001b[39m\u001b[38;5;241m.\u001b[39m_call_batch_begin_hook(mode, batch, logs)\n\u001b[0;32m    296\u001b[0m \u001b[38;5;28;01melif\u001b[39;00m hook \u001b[38;5;241m==\u001b[39m \u001b[38;5;124m'\u001b[39m\u001b[38;5;124mend\u001b[39m\u001b[38;5;124m'\u001b[39m:\n\u001b[1;32m--> 297\u001b[0m   \u001b[38;5;28;43mself\u001b[39;49m\u001b[38;5;241;43m.\u001b[39;49m\u001b[43m_call_batch_end_hook\u001b[49m\u001b[43m(\u001b[49m\u001b[43mmode\u001b[49m\u001b[43m,\u001b[49m\u001b[43m \u001b[49m\u001b[43mbatch\u001b[49m\u001b[43m,\u001b[49m\u001b[43m \u001b[49m\u001b[43mlogs\u001b[49m\u001b[43m)\u001b[49m\n\u001b[0;32m    298\u001b[0m \u001b[38;5;28;01melse\u001b[39;00m:\n\u001b[0;32m    299\u001b[0m   \u001b[38;5;28;01mraise\u001b[39;00m \u001b[38;5;167;01mValueError\u001b[39;00m(\n\u001b[0;32m    300\u001b[0m       \u001b[38;5;124mf\u001b[39m\u001b[38;5;124m'\u001b[39m\u001b[38;5;124mUnrecognized hook: \u001b[39m\u001b[38;5;132;01m{\u001b[39;00mhook\u001b[38;5;132;01m}\u001b[39;00m\u001b[38;5;124m. Expected values are [\u001b[39m\u001b[38;5;124m\"\u001b[39m\u001b[38;5;124mbegin\u001b[39m\u001b[38;5;124m\"\u001b[39m\u001b[38;5;124m, \u001b[39m\u001b[38;5;124m\"\u001b[39m\u001b[38;5;124mend\u001b[39m\u001b[38;5;124m\"\u001b[39m\u001b[38;5;124m]\u001b[39m\u001b[38;5;124m'\u001b[39m)\n",
      "File \u001b[1;32mE:\\Users\\dt\\anaconda3\\envs\\ml\\lib\\site-packages\\keras\\callbacks.py:318\u001b[0m, in \u001b[0;36mCallbackList._call_batch_end_hook\u001b[1;34m(self, mode, batch, logs)\u001b[0m\n\u001b[0;32m    315\u001b[0m   batch_time \u001b[38;5;241m=\u001b[39m time\u001b[38;5;241m.\u001b[39mtime() \u001b[38;5;241m-\u001b[39m \u001b[38;5;28mself\u001b[39m\u001b[38;5;241m.\u001b[39m_batch_start_time\n\u001b[0;32m    316\u001b[0m   \u001b[38;5;28mself\u001b[39m\u001b[38;5;241m.\u001b[39m_batch_times\u001b[38;5;241m.\u001b[39mappend(batch_time)\n\u001b[1;32m--> 318\u001b[0m \u001b[38;5;28;43mself\u001b[39;49m\u001b[38;5;241;43m.\u001b[39;49m\u001b[43m_call_batch_hook_helper\u001b[49m\u001b[43m(\u001b[49m\u001b[43mhook_name\u001b[49m\u001b[43m,\u001b[49m\u001b[43m \u001b[49m\u001b[43mbatch\u001b[49m\u001b[43m,\u001b[49m\u001b[43m \u001b[49m\u001b[43mlogs\u001b[49m\u001b[43m)\u001b[49m\n\u001b[0;32m    320\u001b[0m \u001b[38;5;28;01mif\u001b[39;00m \u001b[38;5;28mlen\u001b[39m(\u001b[38;5;28mself\u001b[39m\u001b[38;5;241m.\u001b[39m_batch_times) \u001b[38;5;241m>\u001b[39m\u001b[38;5;241m=\u001b[39m \u001b[38;5;28mself\u001b[39m\u001b[38;5;241m.\u001b[39m_num_batches_for_timing_check:\n\u001b[0;32m    321\u001b[0m   end_hook_name \u001b[38;5;241m=\u001b[39m hook_name\n",
      "File \u001b[1;32mE:\\Users\\dt\\anaconda3\\envs\\ml\\lib\\site-packages\\keras\\callbacks.py:356\u001b[0m, in \u001b[0;36mCallbackList._call_batch_hook_helper\u001b[1;34m(self, hook_name, batch, logs)\u001b[0m\n\u001b[0;32m    354\u001b[0m \u001b[38;5;28;01mfor\u001b[39;00m callback \u001b[38;5;129;01min\u001b[39;00m \u001b[38;5;28mself\u001b[39m\u001b[38;5;241m.\u001b[39mcallbacks:\n\u001b[0;32m    355\u001b[0m   hook \u001b[38;5;241m=\u001b[39m \u001b[38;5;28mgetattr\u001b[39m(callback, hook_name)\n\u001b[1;32m--> 356\u001b[0m   \u001b[43mhook\u001b[49m\u001b[43m(\u001b[49m\u001b[43mbatch\u001b[49m\u001b[43m,\u001b[49m\u001b[43m \u001b[49m\u001b[43mlogs\u001b[49m\u001b[43m)\u001b[49m\n\u001b[0;32m    358\u001b[0m \u001b[38;5;28;01mif\u001b[39;00m \u001b[38;5;28mself\u001b[39m\u001b[38;5;241m.\u001b[39m_check_timing:\n\u001b[0;32m    359\u001b[0m   \u001b[38;5;28;01mif\u001b[39;00m hook_name \u001b[38;5;129;01mnot\u001b[39;00m \u001b[38;5;129;01min\u001b[39;00m \u001b[38;5;28mself\u001b[39m\u001b[38;5;241m.\u001b[39m_hook_times:\n",
      "File \u001b[1;32mE:\\Users\\dt\\anaconda3\\envs\\ml\\lib\\site-packages\\keras\\callbacks.py:1034\u001b[0m, in \u001b[0;36mProgbarLogger.on_train_batch_end\u001b[1;34m(self, batch, logs)\u001b[0m\n\u001b[0;32m   1033\u001b[0m \u001b[38;5;28;01mdef\u001b[39;00m \u001b[38;5;21mon_train_batch_end\u001b[39m(\u001b[38;5;28mself\u001b[39m, batch, logs\u001b[38;5;241m=\u001b[39m\u001b[38;5;28;01mNone\u001b[39;00m):\n\u001b[1;32m-> 1034\u001b[0m   \u001b[38;5;28;43mself\u001b[39;49m\u001b[38;5;241;43m.\u001b[39;49m\u001b[43m_batch_update_progbar\u001b[49m\u001b[43m(\u001b[49m\u001b[43mbatch\u001b[49m\u001b[43m,\u001b[49m\u001b[43m \u001b[49m\u001b[43mlogs\u001b[49m\u001b[43m)\u001b[49m\n",
      "File \u001b[1;32mE:\\Users\\dt\\anaconda3\\envs\\ml\\lib\\site-packages\\keras\\callbacks.py:1106\u001b[0m, in \u001b[0;36mProgbarLogger._batch_update_progbar\u001b[1;34m(self, batch, logs)\u001b[0m\n\u001b[0;32m   1102\u001b[0m   \u001b[38;5;28mself\u001b[39m\u001b[38;5;241m.\u001b[39mseen \u001b[38;5;241m+\u001b[39m\u001b[38;5;241m=\u001b[39m add_seen\n\u001b[0;32m   1104\u001b[0m \u001b[38;5;28;01mif\u001b[39;00m \u001b[38;5;28mself\u001b[39m\u001b[38;5;241m.\u001b[39mverbose \u001b[38;5;241m==\u001b[39m \u001b[38;5;241m1\u001b[39m:\n\u001b[0;32m   1105\u001b[0m   \u001b[38;5;66;03m# Only block async when verbose = 1.\u001b[39;00m\n\u001b[1;32m-> 1106\u001b[0m   logs \u001b[38;5;241m=\u001b[39m \u001b[43mtf_utils\u001b[49m\u001b[38;5;241;43m.\u001b[39;49m\u001b[43msync_to_numpy_or_python_type\u001b[49m\u001b[43m(\u001b[49m\u001b[43mlogs\u001b[49m\u001b[43m)\u001b[49m\n\u001b[0;32m   1107\u001b[0m   \u001b[38;5;28mself\u001b[39m\u001b[38;5;241m.\u001b[39mprogbar\u001b[38;5;241m.\u001b[39mupdate(\u001b[38;5;28mself\u001b[39m\u001b[38;5;241m.\u001b[39mseen, \u001b[38;5;28mlist\u001b[39m(logs\u001b[38;5;241m.\u001b[39mitems()), finalize\u001b[38;5;241m=\u001b[39m\u001b[38;5;28;01mFalse\u001b[39;00m)\n",
      "File \u001b[1;32mE:\\Users\\dt\\anaconda3\\envs\\ml\\lib\\site-packages\\keras\\utils\\tf_utils.py:607\u001b[0m, in \u001b[0;36msync_to_numpy_or_python_type\u001b[1;34m(tensors)\u001b[0m\n\u001b[0;32m    604\u001b[0m     \u001b[38;5;28;01mreturn\u001b[39;00m t\n\u001b[0;32m    605\u001b[0m   \u001b[38;5;28;01mreturn\u001b[39;00m t\u001b[38;5;241m.\u001b[39mitem() \u001b[38;5;28;01mif\u001b[39;00m np\u001b[38;5;241m.\u001b[39mndim(t) \u001b[38;5;241m==\u001b[39m \u001b[38;5;241m0\u001b[39m \u001b[38;5;28;01melse\u001b[39;00m t\n\u001b[1;32m--> 607\u001b[0m \u001b[38;5;28;01mreturn\u001b[39;00m \u001b[43mtf\u001b[49m\u001b[38;5;241;43m.\u001b[39;49m\u001b[43mnest\u001b[49m\u001b[38;5;241;43m.\u001b[39;49m\u001b[43mmap_structure\u001b[49m\u001b[43m(\u001b[49m\u001b[43m_to_single_numpy_or_python_type\u001b[49m\u001b[43m,\u001b[49m\u001b[43m \u001b[49m\u001b[43mtensors\u001b[49m\u001b[43m)\u001b[49m\n",
      "File \u001b[1;32mE:\\Users\\dt\\anaconda3\\envs\\ml\\lib\\site-packages\\tensorflow\\python\\util\\nest.py:916\u001b[0m, in \u001b[0;36mmap_structure\u001b[1;34m(func, *structure, **kwargs)\u001b[0m\n\u001b[0;32m    912\u001b[0m flat_structure \u001b[38;5;241m=\u001b[39m (flatten(s, expand_composites) \u001b[38;5;28;01mfor\u001b[39;00m s \u001b[38;5;129;01min\u001b[39;00m structure)\n\u001b[0;32m    913\u001b[0m entries \u001b[38;5;241m=\u001b[39m \u001b[38;5;28mzip\u001b[39m(\u001b[38;5;241m*\u001b[39mflat_structure)\n\u001b[0;32m    915\u001b[0m \u001b[38;5;28;01mreturn\u001b[39;00m pack_sequence_as(\n\u001b[1;32m--> 916\u001b[0m     structure[\u001b[38;5;241m0\u001b[39m], [func(\u001b[38;5;241m*\u001b[39mx) \u001b[38;5;28;01mfor\u001b[39;00m x \u001b[38;5;129;01min\u001b[39;00m entries],\n\u001b[0;32m    917\u001b[0m     expand_composites\u001b[38;5;241m=\u001b[39mexpand_composites)\n",
      "File \u001b[1;32mE:\\Users\\dt\\anaconda3\\envs\\ml\\lib\\site-packages\\tensorflow\\python\\util\\nest.py:916\u001b[0m, in \u001b[0;36m<listcomp>\u001b[1;34m(.0)\u001b[0m\n\u001b[0;32m    912\u001b[0m flat_structure \u001b[38;5;241m=\u001b[39m (flatten(s, expand_composites) \u001b[38;5;28;01mfor\u001b[39;00m s \u001b[38;5;129;01min\u001b[39;00m structure)\n\u001b[0;32m    913\u001b[0m entries \u001b[38;5;241m=\u001b[39m \u001b[38;5;28mzip\u001b[39m(\u001b[38;5;241m*\u001b[39mflat_structure)\n\u001b[0;32m    915\u001b[0m \u001b[38;5;28;01mreturn\u001b[39;00m pack_sequence_as(\n\u001b[1;32m--> 916\u001b[0m     structure[\u001b[38;5;241m0\u001b[39m], [\u001b[43mfunc\u001b[49m\u001b[43m(\u001b[49m\u001b[38;5;241;43m*\u001b[39;49m\u001b[43mx\u001b[49m\u001b[43m)\u001b[49m \u001b[38;5;28;01mfor\u001b[39;00m x \u001b[38;5;129;01min\u001b[39;00m entries],\n\u001b[0;32m    917\u001b[0m     expand_composites\u001b[38;5;241m=\u001b[39mexpand_composites)\n",
      "File \u001b[1;32mE:\\Users\\dt\\anaconda3\\envs\\ml\\lib\\site-packages\\keras\\utils\\tf_utils.py:601\u001b[0m, in \u001b[0;36msync_to_numpy_or_python_type.<locals>._to_single_numpy_or_python_type\u001b[1;34m(t)\u001b[0m\n\u001b[0;32m    598\u001b[0m \u001b[38;5;28;01mdef\u001b[39;00m \u001b[38;5;21m_to_single_numpy_or_python_type\u001b[39m(t):\n\u001b[0;32m    599\u001b[0m   \u001b[38;5;66;03m# Don't turn ragged or sparse tensors to NumPy.\u001b[39;00m\n\u001b[0;32m    600\u001b[0m   \u001b[38;5;28;01mif\u001b[39;00m \u001b[38;5;28misinstance\u001b[39m(t, tf\u001b[38;5;241m.\u001b[39mTensor):\n\u001b[1;32m--> 601\u001b[0m     t \u001b[38;5;241m=\u001b[39m \u001b[43mt\u001b[49m\u001b[38;5;241;43m.\u001b[39;49m\u001b[43mnumpy\u001b[49m\u001b[43m(\u001b[49m\u001b[43m)\u001b[49m\n\u001b[0;32m    602\u001b[0m   \u001b[38;5;66;03m# Strings, ragged and sparse tensors don't have .item(). Return them as-is.\u001b[39;00m\n\u001b[0;32m    603\u001b[0m   \u001b[38;5;28;01mif\u001b[39;00m \u001b[38;5;129;01mnot\u001b[39;00m \u001b[38;5;28misinstance\u001b[39m(t, (np\u001b[38;5;241m.\u001b[39mndarray, np\u001b[38;5;241m.\u001b[39mgeneric)):\n",
      "File \u001b[1;32mE:\\Users\\dt\\anaconda3\\envs\\ml\\lib\\site-packages\\tensorflow\\python\\framework\\ops.py:1159\u001b[0m, in \u001b[0;36m_EagerTensorBase.numpy\u001b[1;34m(self)\u001b[0m\n\u001b[0;32m   1136\u001b[0m \u001b[38;5;124;03m\"\"\"Copy of the contents of this Tensor into a NumPy array or scalar.\u001b[39;00m\n\u001b[0;32m   1137\u001b[0m \n\u001b[0;32m   1138\u001b[0m \u001b[38;5;124;03mUnlike NumPy arrays, Tensors are immutable, so this method has to copy\u001b[39;00m\n\u001b[1;32m   (...)\u001b[0m\n\u001b[0;32m   1156\u001b[0m \u001b[38;5;124;03m    NumPy dtype.\u001b[39;00m\n\u001b[0;32m   1157\u001b[0m \u001b[38;5;124;03m\"\"\"\u001b[39;00m\n\u001b[0;32m   1158\u001b[0m \u001b[38;5;66;03m# TODO(slebedev): Consider avoiding a copy for non-CPU or remote tensors.\u001b[39;00m\n\u001b[1;32m-> 1159\u001b[0m maybe_arr \u001b[38;5;241m=\u001b[39m \u001b[38;5;28;43mself\u001b[39;49m\u001b[38;5;241;43m.\u001b[39;49m\u001b[43m_numpy\u001b[49m\u001b[43m(\u001b[49m\u001b[43m)\u001b[49m  \u001b[38;5;66;03m# pylint: disable=protected-access\u001b[39;00m\n\u001b[0;32m   1160\u001b[0m \u001b[38;5;28;01mreturn\u001b[39;00m maybe_arr\u001b[38;5;241m.\u001b[39mcopy() \u001b[38;5;28;01mif\u001b[39;00m \u001b[38;5;28misinstance\u001b[39m(maybe_arr, np\u001b[38;5;241m.\u001b[39mndarray) \u001b[38;5;28;01melse\u001b[39;00m maybe_arr\n",
      "File \u001b[1;32mE:\\Users\\dt\\anaconda3\\envs\\ml\\lib\\site-packages\\tensorflow\\python\\framework\\ops.py:1125\u001b[0m, in \u001b[0;36m_EagerTensorBase._numpy\u001b[1;34m(self)\u001b[0m\n\u001b[0;32m   1123\u001b[0m \u001b[38;5;28;01mdef\u001b[39;00m \u001b[38;5;21m_numpy\u001b[39m(\u001b[38;5;28mself\u001b[39m):\n\u001b[0;32m   1124\u001b[0m   \u001b[38;5;28;01mtry\u001b[39;00m:\n\u001b[1;32m-> 1125\u001b[0m     \u001b[38;5;28;01mreturn\u001b[39;00m \u001b[38;5;28;43mself\u001b[39;49m\u001b[38;5;241;43m.\u001b[39;49m\u001b[43m_numpy_internal\u001b[49m\u001b[43m(\u001b[49m\u001b[43m)\u001b[49m\n\u001b[0;32m   1126\u001b[0m   \u001b[38;5;28;01mexcept\u001b[39;00m core\u001b[38;5;241m.\u001b[39m_NotOkStatusException \u001b[38;5;28;01mas\u001b[39;00m e:  \u001b[38;5;66;03m# pylint: disable=protected-access\u001b[39;00m\n\u001b[0;32m   1127\u001b[0m     \u001b[38;5;28;01mraise\u001b[39;00m core\u001b[38;5;241m.\u001b[39m_status_to_exception(e) \u001b[38;5;28;01mfrom\u001b[39;00m \u001b[38;5;28mNone\u001b[39m\n",
      "\u001b[1;31mKeyboardInterrupt\u001b[0m: "
     ]
    }
   ],
   "source": [
    "model_runner.run(X_train, X_test, y_train, y_test, input_shape, build_model_LSTM128_Drop05_RecDrop05_Dense32_Drop04, \n",
    "    learning_rate, epochs_n, patience, batch_size, validation_split, save_path)"
   ]
  },
  {
   "cell_type": "code",
   "execution_count": null,
   "id": "a5830371",
   "metadata": {},
   "outputs": [],
   "source": []
  },
  {
   "cell_type": "markdown",
   "id": "477c5c34",
   "metadata": {},
   "source": [
    "### Bidirectional LSTM Dropout and Recurrent Dropout Dense Dropout"
   ]
  },
  {
   "cell_type": "code",
   "execution_count": 29,
   "id": "b49d03eb",
   "metadata": {},
   "outputs": [],
   "source": [
    "from tensorflow.keras import layers\n",
    "\n",
    "def build_model_Bidirectional_LSTM128_Drop05_RecDrop05_Dense10(input_shape, opt):    \n",
    "    \n",
    "    model = Sequential()\n",
    "\n",
    "    model.add(Bidirectional(\n",
    "        LSTM(128,input_shape=input_shape, dropout=0.5, return_sequences=True),\n",
    "        input_shape=input_shape))\n",
    "    \n",
    "    model.add(Bidirectional(LSTM(32, dropout=0.5)))\n",
    "    \n",
    "    model.add(Dense(10))\n",
    "    \n",
    "    model.add(Dense(1, activation='sigmoid'))\n",
    "    \n",
    "    model._name = 'Bidirectional_LSTM128_Drop05_RecDrop05_Dense10'\n",
    "    \n",
    "    model.compile(optimizer=opt, \n",
    "          loss='binary_crossentropy',\n",
    "          metrics=['accuracy'])\n",
    "    \n",
    "    \n",
    "    model.summary()\n",
    "    \n",
    "    return model"
   ]
  },
  {
   "cell_type": "code",
   "execution_count": 30,
   "id": "0db0c6f6",
   "metadata": {},
   "outputs": [
    {
     "name": "stdout",
     "output_type": "stream",
     "text": [
      "batch size: 32\n",
      "learning rate: 0.001\n",
      "epochs: 300\n",
      "Model: \"Bidirectional_LSTM128_Drop05_RecDrop05_Dense10\"\n",
      "_________________________________________________________________\n",
      " Layer (type)                Output Shape              Param #   \n",
      "=================================================================\n",
      " bidirectional_8 (Bidirectio  (None, 1250, 256)        151552    \n",
      " nal)                                                            \n",
      "                                                                 \n",
      " bidirectional_9 (Bidirectio  (None, 64)               73984     \n",
      " nal)                                                            \n",
      "                                                                 \n",
      " dense_20 (Dense)            (None, 10)                650       \n",
      "                                                                 \n",
      " dense_21 (Dense)            (None, 1)                 11        \n",
      "                                                                 \n",
      "=================================================================\n",
      "Total params: 226,197\n",
      "Trainable params: 226,197\n",
      "Non-trainable params: 0\n",
      "_________________________________________________________________\n",
      "Epoch 1/300\n",
      "116/116 [==============================] - 67s 532ms/step - loss: 0.4965 - accuracy: 0.7449 - val_loss: 0.3377 - val_accuracy: 0.8615\n",
      "Epoch 2/300\n",
      "116/116 [==============================] - 61s 525ms/step - loss: 0.3512 - accuracy: 0.8375 - val_loss: 0.3298 - val_accuracy: 0.8582\n",
      "Epoch 3/300\n",
      "116/116 [==============================] - 60s 517ms/step - loss: 0.3819 - accuracy: 0.8323 - val_loss: 0.4575 - val_accuracy: 0.8095\n",
      "Epoch 4/300\n",
      "116/116 [==============================] - 61s 523ms/step - loss: 0.3498 - accuracy: 0.8478 - val_loss: 0.3101 - val_accuracy: 0.8799\n",
      "Epoch 5/300\n",
      "116/116 [==============================] - 53s 454ms/step - loss: 0.2723 - accuracy: 0.8927 - val_loss: 0.2601 - val_accuracy: 0.8874\n",
      "Epoch 6/300\n",
      "116/116 [==============================] - 60s 520ms/step - loss: 0.2497 - accuracy: 0.9041 - val_loss: 0.6698 - val_accuracy: 0.6926\n",
      "Epoch 7/300\n",
      "116/116 [==============================] - 60s 516ms/step - loss: 0.3612 - accuracy: 0.8478 - val_loss: 0.3009 - val_accuracy: 0.8820\n",
      "Epoch 8/300\n",
      "116/116 [==============================] - 59s 510ms/step - loss: 0.2755 - accuracy: 0.8881 - val_loss: 0.3196 - val_accuracy: 0.8755\n",
      "Epoch 9/300\n",
      "116/116 [==============================] - 59s 511ms/step - loss: 0.2437 - accuracy: 0.9122 - val_loss: 0.3527 - val_accuracy: 0.8106\n",
      "Epoch 10/300\n",
      "116/116 [==============================] - 59s 512ms/step - loss: 0.2169 - accuracy: 0.9206 - val_loss: 0.1937 - val_accuracy: 0.9221\n",
      "Epoch 11/300\n",
      "116/116 [==============================] - 59s 511ms/step - loss: 0.1521 - accuracy: 0.9475 - val_loss: 0.1946 - val_accuracy: 0.9156\n",
      "Epoch 12/300\n",
      "116/116 [==============================] - 59s 511ms/step - loss: 0.1568 - accuracy: 0.9445 - val_loss: 0.1629 - val_accuracy: 0.9307\n",
      "Epoch 13/300\n",
      "116/116 [==============================] - 59s 508ms/step - loss: 0.1455 - accuracy: 0.9464 - val_loss: 0.1926 - val_accuracy: 0.9297\n",
      "Epoch 14/300\n",
      "116/116 [==============================] - 59s 513ms/step - loss: 0.1382 - accuracy: 0.9556 - val_loss: 0.3165 - val_accuracy: 0.8745\n",
      "Epoch 15/300\n",
      "116/116 [==============================] - 60s 516ms/step - loss: 0.1778 - accuracy: 0.9342 - val_loss: 0.3002 - val_accuracy: 0.8820\n",
      "Epoch 16/300\n",
      "116/116 [==============================] - 59s 513ms/step - loss: 0.1610 - accuracy: 0.9431 - val_loss: 0.3210 - val_accuracy: 0.8874\n",
      "Epoch 17/300\n",
      "116/116 [==============================] - ETA: 0s - loss: 0.1310 - accuracy: 0.9496"
     ]
    },
    {
     "name": "stderr",
     "output_type": "stream",
     "text": [
      "\n",
      "KeyboardInterrupt\n",
      "\n"
     ]
    }
   ],
   "source": [
    "model_runner.run(X_train, X_test, y_train, y_test, input_shape, build_model_Bidirectional_LSTM128_Drop05_RecDrop05_Dense10, \n",
    "    learning_rate, epochs_n, patience, batch_size, validation_split, save_path)"
   ]
  },
  {
   "cell_type": "code",
   "execution_count": null,
   "id": "406c90ac",
   "metadata": {},
   "outputs": [],
   "source": []
  }
 ],
 "metadata": {
  "kernelspec": {
   "display_name": "Python 3 (ipykernel)",
   "language": "python",
   "name": "python3"
  },
  "language_info": {
   "codemirror_mode": {
    "name": "ipython",
    "version": 3
   },
   "file_extension": ".py",
   "mimetype": "text/x-python",
   "name": "python",
   "nbconvert_exporter": "python",
   "pygments_lexer": "ipython3",
   "version": "3.9.12"
  }
 },
 "nbformat": 4,
 "nbformat_minor": 5
}
