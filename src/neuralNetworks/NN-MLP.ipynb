{
 "cells": [
  {
   "cell_type": "markdown",
   "metadata": {},
   "source": [
    "### Imports"
   ]
  },
  {
   "cell_type": "code",
   "execution_count": 1,
   "metadata": {},
   "outputs": [],
   "source": [
    "# !pip install mne\n",
    "# !pip install mne-connectivity"
   ]
  },
  {
   "cell_type": "code",
   "execution_count": 2,
   "metadata": {},
   "outputs": [],
   "source": [
    "import os\n",
    "\n",
    "import numpy as np\n",
    "\n",
    "import mne\n",
    "from mne.time_frequency import psd_welch\n",
    "\n",
    "from sklearn.model_selection import train_test_split\n",
    "from sklearn.ensemble import RandomForestClassifier\n",
    "from sklearn.metrics import accuracy_score\n",
    "from sklearn.metrics import confusion_matrix\n",
    "from sklearn.metrics import classification_report\n",
    "from sklearn.pipeline import make_pipeline\n",
    "from sklearn.preprocessing import FunctionTransformer\n",
    "from sklearn.model_selection import cross_val_score\n",
    "\n",
    "from matplotlib import pyplot as plt\n",
    "\n",
    "import gc\n",
    "\n",
    "from joblib import Parallel\n",
    "import time"
   ]
  },
  {
   "cell_type": "code",
   "execution_count": 29,
   "metadata": {},
   "outputs": [],
   "source": [
    "import gc\n",
    "import time\n",
    "import os\n",
    "\n",
    "import keras\n",
    "from keras.models import Sequential\n",
    "from keras.layers import Dense, Conv2D, MaxPool2D , Flatten\n",
    "from keras.preprocessing.image import ImageDataGenerator\n",
    "import numpy as np\n",
    "\n",
    "from keras.models import Model\n",
    "from keras.optimizers import Adam\n",
    "from keras.applications.vgg16 import VGG16, preprocess_input\n",
    "from keras.preprocessing.image import ImageDataGenerator\n",
    "from keras.callbacks import ModelCheckpoint, EarlyStopping\n",
    "from keras.layers import Dense, Dropout, Flatten\n",
    "from tensorflow.keras import regularizers\n",
    "from pathlib import Path\n",
    "\n",
    "import tensorflow as tf\n",
    "from tensorflow import keras\n",
    "from tensorflow.keras import layers\n",
    "\n",
    "from sklearn.metrics import accuracy_score, confusion_matrix\n",
    "import seaborn as sn\n",
    "\n",
    "from tensorflow.python.client import device_lib\n",
    "\n",
    "\n",
    "from sklearn.model_selection import cross_val_score\n",
    "\n",
    "from matplotlib import pyplot as plt"
   ]
  },
  {
   "cell_type": "markdown",
   "metadata": {},
   "source": [
    "## Preprocessing"
   ]
  },
  {
   "cell_type": "markdown",
   "metadata": {},
   "source": [
    "### Loading edf"
   ]
  },
  {
   "cell_type": "code",
   "execution_count": 3,
   "metadata": {},
   "outputs": [],
   "source": [
    "file = \"..\\dataverse_files\\h01.edf\"\n",
    "edfs_path = \"..\\dataverse_files\"\n",
    "manifest_path = \"..\\dataverse_files\\MANIFEST.txt\""
   ]
  },
  {
   "cell_type": "code",
   "execution_count": 4,
   "metadata": {},
   "outputs": [],
   "source": [
    "def load_patients_data(edfs_path):\n",
    "    raw_patients_data = []\n",
    "    \n",
    "    edfs_file_names = [f for f in os.listdir(edfs_path) if f.endswith('.edf')]\n",
    "    \n",
    "    for file_name in edfs_file_names:\n",
    "        path = edfs_path + '\\\\' + file_name \n",
    "        raw_data = mne.io.read_raw_edf(path, preload=True, verbose=False)\n",
    "        raw_patients_data.append(raw_data)\n",
    "\n",
    "    return raw_patients_data"
   ]
  },
  {
   "cell_type": "code",
   "execution_count": 5,
   "metadata": {},
   "outputs": [],
   "source": [
    "raw_patients_data = load_patients_data(edfs_path)"
   ]
  },
  {
   "cell_type": "markdown",
   "metadata": {},
   "source": [
    "### Filtered EEG signals segmentation"
   ]
  },
  {
   "cell_type": "code",
   "execution_count": 6,
   "metadata": {},
   "outputs": [],
   "source": [
    "def get_label(edf):\n",
    "    patient_edf_file_name = edf.filenames[0].split('\\\\')[-1]\n",
    "    isSick = patient_edf_file_name.lower().startswith('s')\n",
    "    return int(isSick == True) # 1 - is sick, 0 is healthy"
   ]
  },
  {
   "cell_type": "code",
   "execution_count": 7,
   "metadata": {},
   "outputs": [],
   "source": [
    "def print_info(epochs_num_per_patient, labels):\n",
    "    print('\\nEpochs number per patient: ', epochs_num_per_patient)\n",
    "    \n",
    "    class_0_num = sum(labels) \n",
    "    class_1_num = len(labels)-sum(labels)\n",
    "\n",
    "    print('\\nnegative: ', class_0_num)\n",
    "    print('positive: ', class_1_num)"
   ]
  },
  {
   "cell_type": "code",
   "execution_count": 8,
   "metadata": {},
   "outputs": [],
   "source": [
    "segment_duration = 1.0 # seconds\n",
    "\n",
    "def transform_patients_data_into_X_y_sets(patients_data, info=True):\n",
    "    epochs_per_patient = []\n",
    "    labels = []\n",
    "    \n",
    "    epochs_num_per_patient = []\n",
    "    for edf in raw_patients_data:\n",
    "        epochs = mne.make_fixed_length_epochs(edf, duration=segment_duration, preload=True, verbose=False)\n",
    "        epochs_per_patient.append(epochs)\n",
    "        epochs_num_per_patient.append(len(epochs))\n",
    "        \n",
    "        label = get_label(edf)\n",
    "        labels.extend([label for epoch in epochs])\n",
    "    \n",
    "    epochs = mne.concatenate_epochs(epochs_per_patient)\n",
    "\n",
    "    if info:\n",
    "        print_info(epochs_num_per_patient, labels)\n",
    "        \n",
    "    del epochs_num_per_patient\n",
    "    gc.collect()\n",
    "    \n",
    "    return (epochs, np.array(labels)) # (X, y)"
   ]
  },
  {
   "cell_type": "code",
   "execution_count": 9,
   "metadata": {},
   "outputs": [
    {
     "name": "stdout",
     "output_type": "stream",
     "text": [
      "Not setting metadata\n",
      "28863 matching events found\n",
      "No baseline correction applied\n",
      "0 bad epochs dropped\n",
      "\n",
      "Epochs number per patient:  [925, 910, 910, 925, 945, 930, 910, 910, 905, 1115, 915, 900, 965, 865, 845, 1145, 964, 1205, 890, 740, 1346, 911, 1185, 850, 1360, 1087, 1135, 2170]\n",
      "\n",
      "negative:  15833\n",
      "positive:  13030\n"
     ]
    },
    {
     "data": {
      "text/plain": [
       "0"
      ]
     },
     "execution_count": 9,
     "metadata": {},
     "output_type": "execute_result"
    }
   ],
   "source": [
    "X, y = transform_patients_data_into_X_y_sets(raw_patients_data)\n",
    "del raw_patients_data\n",
    "gc.collect()"
   ]
  },
  {
   "cell_type": "code",
   "execution_count": 10,
   "metadata": {},
   "outputs": [
    {
     "name": "stdout",
     "output_type": "stream",
     "text": [
      "28863\n",
      "28863\n",
      "(1, 19, 250)\n"
     ]
    }
   ],
   "source": [
    "print(len(y))\n",
    "print(len(X))\n",
    "print(X[0].get_data().shape)"
   ]
  },
  {
   "cell_type": "code",
   "execution_count": 11,
   "metadata": {},
   "outputs": [
    {
     "data": {
      "text/html": [
       "<div>\n",
       "<style scoped>\n",
       "    .dataframe tbody tr th:only-of-type {\n",
       "        vertical-align: middle;\n",
       "    }\n",
       "\n",
       "    .dataframe tbody tr th {\n",
       "        vertical-align: top;\n",
       "    }\n",
       "\n",
       "    .dataframe thead th {\n",
       "        text-align: right;\n",
       "    }\n",
       "</style>\n",
       "<table border=\"1\" class=\"dataframe\">\n",
       "  <thead>\n",
       "    <tr style=\"text-align: right;\">\n",
       "      <th></th>\n",
       "      <th>time</th>\n",
       "      <th>condition</th>\n",
       "      <th>epoch</th>\n",
       "      <th>Fp2</th>\n",
       "      <th>F8</th>\n",
       "      <th>T4</th>\n",
       "      <th>T6</th>\n",
       "      <th>O2</th>\n",
       "      <th>Fp1</th>\n",
       "      <th>F7</th>\n",
       "      <th>...</th>\n",
       "      <th>O1</th>\n",
       "      <th>F4</th>\n",
       "      <th>C4</th>\n",
       "      <th>P4</th>\n",
       "      <th>F3</th>\n",
       "      <th>C3</th>\n",
       "      <th>P3</th>\n",
       "      <th>Fz</th>\n",
       "      <th>Cz</th>\n",
       "      <th>Pz</th>\n",
       "    </tr>\n",
       "  </thead>\n",
       "  <tbody>\n",
       "    <tr>\n",
       "      <th>0</th>\n",
       "      <td>0</td>\n",
       "      <td>1</td>\n",
       "      <td>0</td>\n",
       "      <td>0.002500</td>\n",
       "      <td>0.002500</td>\n",
       "      <td>0.002500</td>\n",
       "      <td>0.00250</td>\n",
       "      <td>0.002500</td>\n",
       "      <td>0.0025</td>\n",
       "      <td>0.0025</td>\n",
       "      <td>...</td>\n",
       "      <td>0.00250</td>\n",
       "      <td>0.0025</td>\n",
       "      <td>0.002500</td>\n",
       "      <td>0.0025</td>\n",
       "      <td>0.0025</td>\n",
       "      <td>0.002500</td>\n",
       "      <td>0.00250</td>\n",
       "      <td>0.0025</td>\n",
       "      <td>0.0025</td>\n",
       "      <td>0.002500</td>\n",
       "    </tr>\n",
       "    <tr>\n",
       "      <th>1</th>\n",
       "      <td>4</td>\n",
       "      <td>1</td>\n",
       "      <td>0</td>\n",
       "      <td>0.002500</td>\n",
       "      <td>0.002500</td>\n",
       "      <td>0.002500</td>\n",
       "      <td>0.00250</td>\n",
       "      <td>0.002500</td>\n",
       "      <td>0.0025</td>\n",
       "      <td>0.0025</td>\n",
       "      <td>...</td>\n",
       "      <td>0.00250</td>\n",
       "      <td>0.0025</td>\n",
       "      <td>0.002500</td>\n",
       "      <td>0.0025</td>\n",
       "      <td>0.0025</td>\n",
       "      <td>0.002500</td>\n",
       "      <td>0.00250</td>\n",
       "      <td>0.0025</td>\n",
       "      <td>0.0025</td>\n",
       "      <td>0.002500</td>\n",
       "    </tr>\n",
       "    <tr>\n",
       "      <th>2</th>\n",
       "      <td>8</td>\n",
       "      <td>1</td>\n",
       "      <td>0</td>\n",
       "      <td>0.002500</td>\n",
       "      <td>0.002500</td>\n",
       "      <td>0.002500</td>\n",
       "      <td>0.00250</td>\n",
       "      <td>0.002500</td>\n",
       "      <td>0.0025</td>\n",
       "      <td>0.0025</td>\n",
       "      <td>...</td>\n",
       "      <td>0.00250</td>\n",
       "      <td>0.0025</td>\n",
       "      <td>0.002500</td>\n",
       "      <td>0.0025</td>\n",
       "      <td>0.0025</td>\n",
       "      <td>0.002500</td>\n",
       "      <td>0.00250</td>\n",
       "      <td>0.0025</td>\n",
       "      <td>0.0025</td>\n",
       "      <td>0.002500</td>\n",
       "    </tr>\n",
       "    <tr>\n",
       "      <th>3</th>\n",
       "      <td>12</td>\n",
       "      <td>1</td>\n",
       "      <td>0</td>\n",
       "      <td>0.461215</td>\n",
       "      <td>0.461215</td>\n",
       "      <td>0.308310</td>\n",
       "      <td>0.30831</td>\n",
       "      <td>0.155405</td>\n",
       "      <td>0.0025</td>\n",
       "      <td>0.0025</td>\n",
       "      <td>...</td>\n",
       "      <td>0.00250</td>\n",
       "      <td>0.0025</td>\n",
       "      <td>0.002500</td>\n",
       "      <td>0.0025</td>\n",
       "      <td>0.0025</td>\n",
       "      <td>-0.150405</td>\n",
       "      <td>-0.30331</td>\n",
       "      <td>0.0025</td>\n",
       "      <td>0.0025</td>\n",
       "      <td>-0.303310</td>\n",
       "    </tr>\n",
       "    <tr>\n",
       "      <th>4</th>\n",
       "      <td>16</td>\n",
       "      <td>1</td>\n",
       "      <td>0</td>\n",
       "      <td>0.461215</td>\n",
       "      <td>0.461215</td>\n",
       "      <td>0.461215</td>\n",
       "      <td>0.30831</td>\n",
       "      <td>0.155405</td>\n",
       "      <td>0.0025</td>\n",
       "      <td>0.0025</td>\n",
       "      <td>...</td>\n",
       "      <td>-0.30331</td>\n",
       "      <td>0.0025</td>\n",
       "      <td>0.155405</td>\n",
       "      <td>0.0025</td>\n",
       "      <td>0.0025</td>\n",
       "      <td>-0.150405</td>\n",
       "      <td>-0.30331</td>\n",
       "      <td>0.0025</td>\n",
       "      <td>0.0025</td>\n",
       "      <td>-0.150405</td>\n",
       "    </tr>\n",
       "  </tbody>\n",
       "</table>\n",
       "<p>5 rows × 22 columns</p>\n",
       "</div>"
      ],
      "text/plain": [
       "   time condition  epoch       Fp2        F8        T4       T6        O2  \\\n",
       "0     0         1      0  0.002500  0.002500  0.002500  0.00250  0.002500   \n",
       "1     4         1      0  0.002500  0.002500  0.002500  0.00250  0.002500   \n",
       "2     8         1      0  0.002500  0.002500  0.002500  0.00250  0.002500   \n",
       "3    12         1      0  0.461215  0.461215  0.308310  0.30831  0.155405   \n",
       "4    16         1      0  0.461215  0.461215  0.461215  0.30831  0.155405   \n",
       "\n",
       "      Fp1      F7  ...       O1      F4        C4      P4      F3        C3  \\\n",
       "0  0.0025  0.0025  ...  0.00250  0.0025  0.002500  0.0025  0.0025  0.002500   \n",
       "1  0.0025  0.0025  ...  0.00250  0.0025  0.002500  0.0025  0.0025  0.002500   \n",
       "2  0.0025  0.0025  ...  0.00250  0.0025  0.002500  0.0025  0.0025  0.002500   \n",
       "3  0.0025  0.0025  ...  0.00250  0.0025  0.002500  0.0025  0.0025 -0.150405   \n",
       "4  0.0025  0.0025  ... -0.30331  0.0025  0.155405  0.0025  0.0025 -0.150405   \n",
       "\n",
       "        P3      Fz      Cz        Pz  \n",
       "0  0.00250  0.0025  0.0025  0.002500  \n",
       "1  0.00250  0.0025  0.0025  0.002500  \n",
       "2  0.00250  0.0025  0.0025  0.002500  \n",
       "3 -0.30331  0.0025  0.0025 -0.303310  \n",
       "4 -0.30331  0.0025  0.0025 -0.150405  \n",
       "\n",
       "[5 rows x 22 columns]"
      ]
     },
     "execution_count": 11,
     "metadata": {},
     "output_type": "execute_result"
    }
   ],
   "source": [
    "X.to_data_frame().head()"
   ]
  },
  {
   "cell_type": "code",
   "execution_count": 12,
   "metadata": {
    "scrolled": true
   },
   "outputs": [
    {
     "data": {
      "text/html": [
       "<div>\n",
       "<style scoped>\n",
       "    .dataframe tbody tr th:only-of-type {\n",
       "        vertical-align: middle;\n",
       "    }\n",
       "\n",
       "    .dataframe tbody tr th {\n",
       "        vertical-align: top;\n",
       "    }\n",
       "\n",
       "    .dataframe thead th {\n",
       "        text-align: right;\n",
       "    }\n",
       "</style>\n",
       "<table border=\"1\" class=\"dataframe\">\n",
       "  <thead>\n",
       "    <tr style=\"text-align: right;\">\n",
       "      <th></th>\n",
       "      <th>time</th>\n",
       "      <th>condition</th>\n",
       "      <th>epoch</th>\n",
       "      <th>Fp2</th>\n",
       "      <th>F8</th>\n",
       "      <th>T4</th>\n",
       "      <th>T6</th>\n",
       "      <th>O2</th>\n",
       "      <th>Fp1</th>\n",
       "      <th>F7</th>\n",
       "      <th>...</th>\n",
       "      <th>O1</th>\n",
       "      <th>F4</th>\n",
       "      <th>C4</th>\n",
       "      <th>P4</th>\n",
       "      <th>F3</th>\n",
       "      <th>C3</th>\n",
       "      <th>P3</th>\n",
       "      <th>Fz</th>\n",
       "      <th>Cz</th>\n",
       "      <th>Pz</th>\n",
       "    </tr>\n",
       "  </thead>\n",
       "  <tbody>\n",
       "    <tr>\n",
       "      <th>0</th>\n",
       "      <td>0</td>\n",
       "      <td>1</td>\n",
       "      <td>0</td>\n",
       "      <td>0.002500</td>\n",
       "      <td>0.002500</td>\n",
       "      <td>0.002500</td>\n",
       "      <td>0.00250</td>\n",
       "      <td>0.002500</td>\n",
       "      <td>0.0025</td>\n",
       "      <td>0.0025</td>\n",
       "      <td>...</td>\n",
       "      <td>0.00250</td>\n",
       "      <td>0.0025</td>\n",
       "      <td>0.002500</td>\n",
       "      <td>0.0025</td>\n",
       "      <td>0.0025</td>\n",
       "      <td>0.002500</td>\n",
       "      <td>0.00250</td>\n",
       "      <td>0.0025</td>\n",
       "      <td>0.0025</td>\n",
       "      <td>0.002500</td>\n",
       "    </tr>\n",
       "    <tr>\n",
       "      <th>1</th>\n",
       "      <td>4</td>\n",
       "      <td>1</td>\n",
       "      <td>0</td>\n",
       "      <td>0.002500</td>\n",
       "      <td>0.002500</td>\n",
       "      <td>0.002500</td>\n",
       "      <td>0.00250</td>\n",
       "      <td>0.002500</td>\n",
       "      <td>0.0025</td>\n",
       "      <td>0.0025</td>\n",
       "      <td>...</td>\n",
       "      <td>0.00250</td>\n",
       "      <td>0.0025</td>\n",
       "      <td>0.002500</td>\n",
       "      <td>0.0025</td>\n",
       "      <td>0.0025</td>\n",
       "      <td>0.002500</td>\n",
       "      <td>0.00250</td>\n",
       "      <td>0.0025</td>\n",
       "      <td>0.0025</td>\n",
       "      <td>0.002500</td>\n",
       "    </tr>\n",
       "    <tr>\n",
       "      <th>2</th>\n",
       "      <td>8</td>\n",
       "      <td>1</td>\n",
       "      <td>0</td>\n",
       "      <td>0.002500</td>\n",
       "      <td>0.002500</td>\n",
       "      <td>0.002500</td>\n",
       "      <td>0.00250</td>\n",
       "      <td>0.002500</td>\n",
       "      <td>0.0025</td>\n",
       "      <td>0.0025</td>\n",
       "      <td>...</td>\n",
       "      <td>0.00250</td>\n",
       "      <td>0.0025</td>\n",
       "      <td>0.002500</td>\n",
       "      <td>0.0025</td>\n",
       "      <td>0.0025</td>\n",
       "      <td>0.002500</td>\n",
       "      <td>0.00250</td>\n",
       "      <td>0.0025</td>\n",
       "      <td>0.0025</td>\n",
       "      <td>0.002500</td>\n",
       "    </tr>\n",
       "    <tr>\n",
       "      <th>3</th>\n",
       "      <td>12</td>\n",
       "      <td>1</td>\n",
       "      <td>0</td>\n",
       "      <td>0.461215</td>\n",
       "      <td>0.461215</td>\n",
       "      <td>0.308310</td>\n",
       "      <td>0.30831</td>\n",
       "      <td>0.155405</td>\n",
       "      <td>0.0025</td>\n",
       "      <td>0.0025</td>\n",
       "      <td>...</td>\n",
       "      <td>0.00250</td>\n",
       "      <td>0.0025</td>\n",
       "      <td>0.002500</td>\n",
       "      <td>0.0025</td>\n",
       "      <td>0.0025</td>\n",
       "      <td>-0.150405</td>\n",
       "      <td>-0.30331</td>\n",
       "      <td>0.0025</td>\n",
       "      <td>0.0025</td>\n",
       "      <td>-0.303310</td>\n",
       "    </tr>\n",
       "    <tr>\n",
       "      <th>4</th>\n",
       "      <td>16</td>\n",
       "      <td>1</td>\n",
       "      <td>0</td>\n",
       "      <td>0.461215</td>\n",
       "      <td>0.461215</td>\n",
       "      <td>0.461215</td>\n",
       "      <td>0.30831</td>\n",
       "      <td>0.155405</td>\n",
       "      <td>0.0025</td>\n",
       "      <td>0.0025</td>\n",
       "      <td>...</td>\n",
       "      <td>-0.30331</td>\n",
       "      <td>0.0025</td>\n",
       "      <td>0.155405</td>\n",
       "      <td>0.0025</td>\n",
       "      <td>0.0025</td>\n",
       "      <td>-0.150405</td>\n",
       "      <td>-0.30331</td>\n",
       "      <td>0.0025</td>\n",
       "      <td>0.0025</td>\n",
       "      <td>-0.150405</td>\n",
       "    </tr>\n",
       "  </tbody>\n",
       "</table>\n",
       "<p>5 rows × 22 columns</p>\n",
       "</div>"
      ],
      "text/plain": [
       "   time condition  epoch       Fp2        F8        T4       T6        O2  \\\n",
       "0     0         1      0  0.002500  0.002500  0.002500  0.00250  0.002500   \n",
       "1     4         1      0  0.002500  0.002500  0.002500  0.00250  0.002500   \n",
       "2     8         1      0  0.002500  0.002500  0.002500  0.00250  0.002500   \n",
       "3    12         1      0  0.461215  0.461215  0.308310  0.30831  0.155405   \n",
       "4    16         1      0  0.461215  0.461215  0.461215  0.30831  0.155405   \n",
       "\n",
       "      Fp1      F7  ...       O1      F4        C4      P4      F3        C3  \\\n",
       "0  0.0025  0.0025  ...  0.00250  0.0025  0.002500  0.0025  0.0025  0.002500   \n",
       "1  0.0025  0.0025  ...  0.00250  0.0025  0.002500  0.0025  0.0025  0.002500   \n",
       "2  0.0025  0.0025  ...  0.00250  0.0025  0.002500  0.0025  0.0025  0.002500   \n",
       "3  0.0025  0.0025  ...  0.00250  0.0025  0.002500  0.0025  0.0025 -0.150405   \n",
       "4  0.0025  0.0025  ... -0.30331  0.0025  0.155405  0.0025  0.0025 -0.150405   \n",
       "\n",
       "        P3      Fz      Cz        Pz  \n",
       "0  0.00250  0.0025  0.0025  0.002500  \n",
       "1  0.00250  0.0025  0.0025  0.002500  \n",
       "2  0.00250  0.0025  0.0025  0.002500  \n",
       "3 -0.30331  0.0025  0.0025 -0.303310  \n",
       "4 -0.30331  0.0025  0.0025 -0.150405  \n",
       "\n",
       "[5 rows x 22 columns]"
      ]
     },
     "execution_count": 12,
     "metadata": {},
     "output_type": "execute_result"
    }
   ],
   "source": [
    "X[0].to_data_frame().head()"
   ]
  },
  {
   "cell_type": "markdown",
   "metadata": {},
   "source": [
    "### Feature Extraction (Variance)"
   ]
  },
  {
   "cell_type": "code",
   "execution_count": 13,
   "metadata": {},
   "outputs": [],
   "source": [
    "np.set_printoptions(precision=50)"
   ]
  },
  {
   "cell_type": "code",
   "execution_count": 14,
   "metadata": {},
   "outputs": [
    {
     "name": "stdout",
     "output_type": "stream",
     "text": [
      "(19, 250)\n"
     ]
    }
   ],
   "source": [
    "for epoch in X:\n",
    "    print (epoch.shape)\n",
    "#     print(epoch)\n",
    "#     print(epoch)\n",
    "    break"
   ]
  },
  {
   "cell_type": "code",
   "execution_count": 15,
   "metadata": {},
   "outputs": [
    {
     "name": "stdout",
     "output_type": "stream",
     "text": [
      "Input_N:  19\n",
      "Output_N:  2\n",
      "Hidden_N:  6\n"
     ]
    }
   ],
   "source": [
    "Input_N = X[0].get_data().shape[1] # input layer neurons number\n",
    "print('Input_N: ', Input_N)\n",
    "\n",
    "Output_N = 2 # classes: sick/positive = 1, not sick/negative = 0 // len(np.unique(y))\n",
    "print('Output_N: ', Output_N)\n",
    "\n",
    "Hidden_N = int(np.sqrt(Input_N*Output_N)) # neurons in hidden layer\n",
    "print('Hidden_N: ', Hidden_N)"
   ]
  },
  {
   "cell_type": "code",
   "execution_count": 16,
   "metadata": {},
   "outputs": [
    {
     "name": "stdout",
     "output_type": "stream",
     "text": [
      "250\n",
      "1.0368472474442286e-10\n",
      "1.0410112926146874e-10\n",
      "1.0410112926146874e-10\n"
     ]
    }
   ],
   "source": [
    "import statistics\n",
    "from scipy import signal\n",
    "\n",
    "for epoch in X:\n",
    "    for channel in epoch:\n",
    "        print(len(channel))\n",
    "        print(np.var(channel))\n",
    "\n",
    "        print(statistics.variance(channel)) \n",
    "        \n",
    "        meanValue = statistics.mean(channel)\n",
    "        print(statistics.variance(channel, meanValue))\n",
    "        \n",
    "#         welch = signal.welch(channel, fs=250.0, window='hann', \n",
    "#                            nperseg=None, noverlap=None, nfft=None, \n",
    "#                            detrend='constant', return_onesided=True, \n",
    "#                            scaling='density', axis=- 1, average='mean')\n",
    "#         print(welch)\n",
    "        \n",
    "        break \n",
    "    break"
   ]
  },
  {
   "cell_type": "code",
   "execution_count": 17,
   "metadata": {},
   "outputs": [],
   "source": [
    "# Calculating energy for signal segments\n",
    "# X = np.array([[np.sqrt(statistics.variance(channel_data)) for channel_data in epoch] for epoch in X])\n",
    "X = np.array([[np.sqrt(np.var(channel_data)) for channel_data in epoch] for epoch in X])\n",
    "\n",
    "# X = np.array([[np.var(channel_data) for channel_data in epoch] for epoch in X])"
   ]
  },
  {
   "cell_type": "code",
   "execution_count": 18,
   "metadata": {},
   "outputs": [
    {
     "name": "stdout",
     "output_type": "stream",
     "text": [
      "0.0038604188705202718\n",
      "0.0\n"
     ]
    }
   ],
   "source": [
    "print(np.max(X))\n",
    "print(np.min(X))"
   ]
  },
  {
   "cell_type": "code",
   "execution_count": 19,
   "metadata": {},
   "outputs": [
    {
     "name": "stdout",
     "output_type": "stream",
     "text": [
      "0.0038604188705202718\n",
      "0.0\n"
     ]
    }
   ],
   "source": [
    "print(np.max(X))\n",
    "print(np.min(X))"
   ]
  },
  {
   "cell_type": "code",
   "execution_count": 20,
   "metadata": {},
   "outputs": [
    {
     "name": "stdout",
     "output_type": "stream",
     "text": [
      "1.0\n",
      "0.0\n"
     ]
    }
   ],
   "source": [
    "from sklearn.preprocessing import MinMaxScaler\n",
    "\n",
    "min_max_range = (0,1)\n",
    "scaler = MinMaxScaler()\n",
    "X = scaler.fit_transform(X)\n",
    "\n",
    "# from sklearn.preprocessing import StandardScaler\n",
    "# scaler = StandardScaler()\n",
    "# X = scaler.fit_transform(X)\n",
    "\n",
    "print(np.max(X))\n",
    "print(np.min(X))"
   ]
  },
  {
   "cell_type": "code",
   "execution_count": 21,
   "metadata": {},
   "outputs": [
    {
     "data": {
      "text/plain": [
       "(28863, 19)"
      ]
     },
     "execution_count": 21,
     "metadata": {},
     "output_type": "execute_result"
    }
   ],
   "source": [
    "X.shape"
   ]
  },
  {
   "cell_type": "code",
   "execution_count": 22,
   "metadata": {},
   "outputs": [
    {
     "name": "stdout",
     "output_type": "stream",
     "text": [
      "28863\n",
      "28863\n"
     ]
    }
   ],
   "source": [
    "print(len(X))\n",
    "print(len(y))"
   ]
  },
  {
   "cell_type": "code",
   "execution_count": 23,
   "metadata": {},
   "outputs": [],
   "source": [
    "X_train, X_test, y_train, y_test = train_test_split(X, y, test_size=0.15, shuffle=True, random_state=1)"
   ]
  },
  {
   "cell_type": "code",
   "execution_count": 24,
   "metadata": {},
   "outputs": [
    {
     "name": "stdout",
     "output_type": "stream",
     "text": [
      "X_train:  (24533, 19)\n",
      "y_train:  (24533,)\n",
      "X_test:  (4330, 19)\n",
      "y_test:  (4330,)\n"
     ]
    }
   ],
   "source": [
    "print('X_train: ', X_train.shape)\n",
    "print('y_train: ', y_train.shape)\n",
    "print('X_test: ', X_test.shape)\n",
    "print('y_test: ', y_test.shape)"
   ]
  },
  {
   "cell_type": "code",
   "execution_count": 25,
   "metadata": {},
   "outputs": [],
   "source": [
    "# X_train, X_validation, y_train, y_validation = train_test_split(X_train, y_train, test_size=0.18, shuffle=True, random_state=1)"
   ]
  },
  {
   "cell_type": "code",
   "execution_count": 26,
   "metadata": {},
   "outputs": [],
   "source": [
    "# print('X_train: ', len(X_train))\n",
    "# print('y_train: ', len(y_train))\n",
    "# print('X_validation: ', len(X_validation))\n",
    "# print('y_validation: ', len(y_validation))"
   ]
  },
  {
   "cell_type": "markdown",
   "metadata": {},
   "source": [
    "# MLP with Keras - binary cross entropy"
   ]
  },
  {
   "cell_type": "code",
   "execution_count": 31,
   "metadata": {},
   "outputs": [
    {
     "name": "stdout",
     "output_type": "stream",
     "text": [
      "Model: \"sequential_1\"\n",
      "_________________________________________________________________\n",
      " Layer (type)                Output Shape              Param #   \n",
      "=================================================================\n",
      " dense_4 (Dense)             (None, 100)               2000      \n",
      "                                                                 \n",
      " dense_5 (Dense)             (None, 100)               10100     \n",
      "                                                                 \n",
      " dense_6 (Dense)             (None, 100)               10100     \n",
      "                                                                 \n",
      " dense_7 (Dense)             (None, 1)                 101       \n",
      "                                                                 \n",
      "=================================================================\n",
      "Total params: 22,301\n",
      "Trainable params: 22,301\n",
      "Non-trainable params: 0\n",
      "_________________________________________________________________\n"
     ]
    }
   ],
   "source": [
    "from tensorflow.keras.models import Sequential\n",
    "from keras.layers import Dense, Dropout\n",
    "\n",
    "# Input shape\n",
    "input_shape = (Input_N,)\n",
    "\n",
    "model = Sequential()\n",
    "# tanh\n",
    "model.add(Dense(100, input_shape=input_shape, activation='relu'))\n",
    "model.add(Dense(100, input_shape=input_shape, activation='relu'))\n",
    "model.add(Dense(100, input_shape=input_shape, activation='relu'))\n",
    "# model.add(Dense(100, activation='relu'))\n",
    "model.add(Dense(1, activation='sigmoid'))\n",
    "\n",
    "model.compile()\n",
    "\n",
    "model.summary()"
   ]
  },
  {
   "cell_type": "code",
   "execution_count": 32,
   "metadata": {},
   "outputs": [],
   "source": [
    "opt = tf.keras.optimizers.Adam(lr=0.001)"
   ]
  },
  {
   "cell_type": "code",
   "execution_count": 33,
   "metadata": {},
   "outputs": [
    {
     "name": "stdout",
     "output_type": "stream",
     "text": [
      "Epoch 1/100\n",
      "81/81 [==============================] - 3s 9ms/step - loss: 0.6819 - accuracy: 0.5534 - val_loss: 0.6579 - val_accuracy: 0.5550\n",
      "Epoch 2/100\n",
      "81/81 [==============================] - 0s 6ms/step - loss: 0.6122 - accuracy: 0.6711 - val_loss: 0.5709 - val_accuracy: 0.6866\n",
      "Epoch 3/100\n",
      "81/81 [==============================] - 0s 5ms/step - loss: 0.5407 - accuracy: 0.7250 - val_loss: 0.4965 - val_accuracy: 0.7756\n",
      "Epoch 4/100\n",
      "81/81 [==============================] - 0s 5ms/step - loss: 0.4686 - accuracy: 0.7915 - val_loss: 0.4304 - val_accuracy: 0.8127\n",
      "Epoch 5/100\n",
      "81/81 [==============================] - 0s 5ms/step - loss: 0.4161 - accuracy: 0.8239 - val_loss: 0.3878 - val_accuracy: 0.8419\n",
      "Epoch 6/100\n",
      "81/81 [==============================] - 0s 5ms/step - loss: 0.3871 - accuracy: 0.8349 - val_loss: 0.3689 - val_accuracy: 0.8512\n",
      "Epoch 7/100\n",
      "81/81 [==============================] - 0s 5ms/step - loss: 0.3673 - accuracy: 0.8443 - val_loss: 0.3597 - val_accuracy: 0.8521\n",
      "Epoch 8/100\n",
      "81/81 [==============================] - 0s 5ms/step - loss: 0.3541 - accuracy: 0.8505 - val_loss: 0.3421 - val_accuracy: 0.8587\n",
      "Epoch 9/100\n",
      "81/81 [==============================] - 0s 6ms/step - loss: 0.3488 - accuracy: 0.8533 - val_loss: 0.3803 - val_accuracy: 0.8408\n",
      "Epoch 10/100\n",
      "81/81 [==============================] - 0s 6ms/step - loss: 0.3475 - accuracy: 0.8537 - val_loss: 0.3296 - val_accuracy: 0.8641\n",
      "Epoch 11/100\n",
      "81/81 [==============================] - 0s 6ms/step - loss: 0.3354 - accuracy: 0.8604 - val_loss: 0.3261 - val_accuracy: 0.8662\n",
      "Epoch 12/100\n",
      "81/81 [==============================] - 0s 5ms/step - loss: 0.3301 - accuracy: 0.8625 - val_loss: 0.3225 - val_accuracy: 0.8664\n",
      "Epoch 13/100\n",
      "81/81 [==============================] - 0s 5ms/step - loss: 0.3304 - accuracy: 0.8629 - val_loss: 0.3457 - val_accuracy: 0.8596\n",
      "Epoch 14/100\n",
      "81/81 [==============================] - 0s 6ms/step - loss: 0.3215 - accuracy: 0.8688 - val_loss: 0.3062 - val_accuracy: 0.8761\n",
      "Epoch 15/100\n",
      "81/81 [==============================] - 0s 6ms/step - loss: 0.3280 - accuracy: 0.8634 - val_loss: 0.3046 - val_accuracy: 0.8818\n",
      "Epoch 16/100\n",
      "81/81 [==============================] - 0s 5ms/step - loss: 0.3144 - accuracy: 0.8703 - val_loss: 0.2985 - val_accuracy: 0.8804\n",
      "Epoch 17/100\n",
      "81/81 [==============================] - 0s 5ms/step - loss: 0.3103 - accuracy: 0.8735 - val_loss: 0.3063 - val_accuracy: 0.8750\n",
      "Epoch 18/100\n",
      "81/81 [==============================] - 0s 5ms/step - loss: 0.3020 - accuracy: 0.8764 - val_loss: 0.2987 - val_accuracy: 0.8802\n",
      "Epoch 19/100\n",
      "81/81 [==============================] - 0s 6ms/step - loss: 0.2952 - accuracy: 0.8826 - val_loss: 0.2820 - val_accuracy: 0.8902\n",
      "Epoch 20/100\n",
      "81/81 [==============================] - 0s 6ms/step - loss: 0.2985 - accuracy: 0.8811 - val_loss: 0.2895 - val_accuracy: 0.8859\n",
      "Epoch 21/100\n",
      "81/81 [==============================] - 0s 6ms/step - loss: 0.2908 - accuracy: 0.8855 - val_loss: 0.2776 - val_accuracy: 0.8906\n",
      "Epoch 22/100\n",
      "81/81 [==============================] - 0s 6ms/step - loss: 0.2895 - accuracy: 0.8855 - val_loss: 0.2716 - val_accuracy: 0.8949\n",
      "Epoch 23/100\n",
      "81/81 [==============================] - 0s 5ms/step - loss: 0.2786 - accuracy: 0.8925 - val_loss: 0.2818 - val_accuracy: 0.8872\n",
      "Epoch 24/100\n",
      "81/81 [==============================] - 0s 5ms/step - loss: 0.2755 - accuracy: 0.8931 - val_loss: 0.2680 - val_accuracy: 0.8945\n",
      "Epoch 25/100\n",
      "81/81 [==============================] - 0s 6ms/step - loss: 0.2722 - accuracy: 0.8935 - val_loss: 0.2599 - val_accuracy: 0.8981\n",
      "Epoch 26/100\n",
      "81/81 [==============================] - 0s 5ms/step - loss: 0.2715 - accuracy: 0.8937 - val_loss: 0.2616 - val_accuracy: 0.8945\n",
      "Epoch 27/100\n",
      "81/81 [==============================] - 0s 6ms/step - loss: 0.2675 - accuracy: 0.8945 - val_loss: 0.2562 - val_accuracy: 0.9031\n",
      "Epoch 28/100\n",
      "81/81 [==============================] - 0s 5ms/step - loss: 0.2629 - accuracy: 0.8979 - val_loss: 0.2511 - val_accuracy: 0.9013\n",
      "Epoch 29/100\n",
      "81/81 [==============================] - 0s 5ms/step - loss: 0.2560 - accuracy: 0.9021 - val_loss: 0.2985 - val_accuracy: 0.8798\n",
      "Epoch 30/100\n",
      "81/81 [==============================] - 0s 6ms/step - loss: 0.2644 - accuracy: 0.8958 - val_loss: 0.2562 - val_accuracy: 0.9029\n",
      "Epoch 31/100\n",
      "81/81 [==============================] - 1s 6ms/step - loss: 0.2507 - accuracy: 0.9024 - val_loss: 0.2417 - val_accuracy: 0.9083\n",
      "Epoch 32/100\n",
      "81/81 [==============================] - 0s 6ms/step - loss: 0.2538 - accuracy: 0.9004 - val_loss: 0.2375 - val_accuracy: 0.9065\n",
      "Epoch 33/100\n",
      "81/81 [==============================] - 0s 5ms/step - loss: 0.2418 - accuracy: 0.9074 - val_loss: 0.2301 - val_accuracy: 0.9139\n",
      "Epoch 34/100\n",
      "81/81 [==============================] - 0s 5ms/step - loss: 0.2373 - accuracy: 0.9092 - val_loss: 0.2215 - val_accuracy: 0.9185\n",
      "Epoch 35/100\n",
      "81/81 [==============================] - 0s 5ms/step - loss: 0.2441 - accuracy: 0.9052 - val_loss: 0.2200 - val_accuracy: 0.9187\n",
      "Epoch 36/100\n",
      "81/81 [==============================] - 0s 6ms/step - loss: 0.2514 - accuracy: 0.9007 - val_loss: 0.2277 - val_accuracy: 0.9117\n",
      "Epoch 37/100\n",
      "81/81 [==============================] - 0s 6ms/step - loss: 0.2359 - accuracy: 0.9106 - val_loss: 0.2169 - val_accuracy: 0.9153\n",
      "Epoch 38/100\n",
      "81/81 [==============================] - 0s 5ms/step - loss: 0.2349 - accuracy: 0.9088 - val_loss: 0.2259 - val_accuracy: 0.9162\n",
      "Epoch 39/100\n",
      "81/81 [==============================] - 0s 6ms/step - loss: 0.2286 - accuracy: 0.9142 - val_loss: 0.2037 - val_accuracy: 0.9214\n",
      "Epoch 40/100\n",
      "81/81 [==============================] - 0s 5ms/step - loss: 0.2205 - accuracy: 0.9163 - val_loss: 0.2101 - val_accuracy: 0.9223\n",
      "Epoch 41/100\n",
      "81/81 [==============================] - 0s 5ms/step - loss: 0.2162 - accuracy: 0.9183 - val_loss: 0.2148 - val_accuracy: 0.9183\n",
      "Epoch 42/100\n",
      "81/81 [==============================] - 0s 5ms/step - loss: 0.2196 - accuracy: 0.9174 - val_loss: 0.2072 - val_accuracy: 0.9205\n",
      "Epoch 43/100\n",
      "81/81 [==============================] - 0s 5ms/step - loss: 0.2165 - accuracy: 0.9155 - val_loss: 0.2372 - val_accuracy: 0.9062\n",
      "Epoch 44/100\n",
      "81/81 [==============================] - 0s 5ms/step - loss: 0.2169 - accuracy: 0.9165 - val_loss: 0.2300 - val_accuracy: 0.9096\n",
      "Epoch 45/100\n",
      "81/81 [==============================] - 0s 5ms/step - loss: 0.2208 - accuracy: 0.9154 - val_loss: 0.2042 - val_accuracy: 0.9237\n",
      "Epoch 46/100\n",
      "81/81 [==============================] - 0s 5ms/step - loss: 0.2099 - accuracy: 0.9184 - val_loss: 0.1870 - val_accuracy: 0.9316\n",
      "Epoch 47/100\n",
      "81/81 [==============================] - 0s 5ms/step - loss: 0.2046 - accuracy: 0.9218 - val_loss: 0.1896 - val_accuracy: 0.9284\n",
      "Epoch 48/100\n",
      "81/81 [==============================] - 0s 5ms/step - loss: 0.2043 - accuracy: 0.9218 - val_loss: 0.2078 - val_accuracy: 0.9173\n",
      "Epoch 49/100\n",
      "81/81 [==============================] - 0s 5ms/step - loss: 0.2023 - accuracy: 0.9234 - val_loss: 0.1875 - val_accuracy: 0.9291\n",
      "Epoch 50/100\n",
      "81/81 [==============================] - 0s 5ms/step - loss: 0.2016 - accuracy: 0.9219 - val_loss: 0.1800 - val_accuracy: 0.9343\n",
      "Epoch 51/100\n",
      "81/81 [==============================] - 0s 5ms/step - loss: 0.1983 - accuracy: 0.9230 - val_loss: 0.2006 - val_accuracy: 0.9230\n",
      "Epoch 52/100\n",
      "81/81 [==============================] - 0s 5ms/step - loss: 0.1961 - accuracy: 0.9242 - val_loss: 0.1898 - val_accuracy: 0.9282\n",
      "Epoch 53/100\n",
      "81/81 [==============================] - 0s 5ms/step - loss: 0.2020 - accuracy: 0.9218 - val_loss: 0.1744 - val_accuracy: 0.9334\n",
      "Epoch 54/100\n",
      "81/81 [==============================] - 0s 5ms/step - loss: 0.1911 - accuracy: 0.9261 - val_loss: 0.1753 - val_accuracy: 0.9330\n",
      "Epoch 55/100\n",
      "81/81 [==============================] - 0s 5ms/step - loss: 0.1875 - accuracy: 0.9297 - val_loss: 0.1953 - val_accuracy: 0.9207\n",
      "Epoch 56/100\n",
      "81/81 [==============================] - 0s 5ms/step - loss: 0.1819 - accuracy: 0.9313 - val_loss: 0.1647 - val_accuracy: 0.9418\n",
      "Epoch 57/100\n",
      "81/81 [==============================] - 0s 5ms/step - loss: 0.1846 - accuracy: 0.9300 - val_loss: 0.1832 - val_accuracy: 0.9305\n",
      "Epoch 58/100\n",
      "81/81 [==============================] - 0s 5ms/step - loss: 0.1790 - accuracy: 0.9310 - val_loss: 0.1743 - val_accuracy: 0.9357\n"
     ]
    },
    {
     "name": "stdout",
     "output_type": "stream",
     "text": [
      "Epoch 59/100\n",
      "81/81 [==============================] - 0s 5ms/step - loss: 0.1765 - accuracy: 0.9339 - val_loss: 0.1656 - val_accuracy: 0.9368\n",
      "Epoch 60/100\n",
      "81/81 [==============================] - 0s 5ms/step - loss: 0.1802 - accuracy: 0.9316 - val_loss: 0.1640 - val_accuracy: 0.9398\n",
      "Epoch 61/100\n",
      "81/81 [==============================] - 0s 5ms/step - loss: 0.1778 - accuracy: 0.9325 - val_loss: 0.1565 - val_accuracy: 0.9434\n",
      "Epoch 62/100\n",
      "81/81 [==============================] - 0s 5ms/step - loss: 0.1718 - accuracy: 0.9355 - val_loss: 0.1607 - val_accuracy: 0.9400\n",
      "Epoch 63/100\n",
      "81/81 [==============================] - 0s 5ms/step - loss: 0.1688 - accuracy: 0.9356 - val_loss: 0.1621 - val_accuracy: 0.9389\n",
      "Epoch 64/100\n",
      "81/81 [==============================] - 0s 5ms/step - loss: 0.1725 - accuracy: 0.9334 - val_loss: 0.1659 - val_accuracy: 0.9373\n",
      "Epoch 65/100\n",
      "81/81 [==============================] - 0s 5ms/step - loss: 0.1737 - accuracy: 0.9333 - val_loss: 0.1510 - val_accuracy: 0.9447\n",
      "Epoch 66/100\n",
      "81/81 [==============================] - 0s 5ms/step - loss: 0.1713 - accuracy: 0.9354 - val_loss: 0.1638 - val_accuracy: 0.9350\n",
      "Epoch 67/100\n",
      "81/81 [==============================] - 0s 5ms/step - loss: 0.1603 - accuracy: 0.9401 - val_loss: 0.1531 - val_accuracy: 0.9418\n",
      "Epoch 68/100\n",
      "81/81 [==============================] - 0s 5ms/step - loss: 0.1646 - accuracy: 0.9380 - val_loss: 0.1536 - val_accuracy: 0.9470\n",
      "Epoch 69/100\n",
      "81/81 [==============================] - 0s 5ms/step - loss: 0.1620 - accuracy: 0.9402 - val_loss: 0.1485 - val_accuracy: 0.9479\n",
      "Epoch 70/100\n",
      "81/81 [==============================] - 0s 6ms/step - loss: 0.1650 - accuracy: 0.9381 - val_loss: 0.1412 - val_accuracy: 0.9511\n",
      "Epoch 71/100\n",
      "81/81 [==============================] - 0s 6ms/step - loss: 0.1702 - accuracy: 0.9351 - val_loss: 0.1526 - val_accuracy: 0.9432\n",
      "Epoch 72/100\n",
      "81/81 [==============================] - 0s 5ms/step - loss: 0.1585 - accuracy: 0.9404 - val_loss: 0.1682 - val_accuracy: 0.9359\n",
      "Epoch 73/100\n",
      "81/81 [==============================] - 0s 5ms/step - loss: 0.1590 - accuracy: 0.9397 - val_loss: 0.1630 - val_accuracy: 0.9413\n",
      "Epoch 74/100\n",
      "81/81 [==============================] - 0s 5ms/step - loss: 0.1625 - accuracy: 0.9389 - val_loss: 0.1608 - val_accuracy: 0.9432\n",
      "Epoch 75/100\n",
      "81/81 [==============================] - 0s 5ms/step - loss: 0.1537 - accuracy: 0.9413 - val_loss: 0.1469 - val_accuracy: 0.9477\n",
      "Epoch 76/100\n",
      "81/81 [==============================] - 0s 5ms/step - loss: 0.1545 - accuracy: 0.9408 - val_loss: 0.1338 - val_accuracy: 0.9599\n",
      "Epoch 77/100\n",
      "81/81 [==============================] - 0s 5ms/step - loss: 0.1533 - accuracy: 0.9422 - val_loss: 0.1521 - val_accuracy: 0.9413\n",
      "Epoch 78/100\n",
      "81/81 [==============================] - 0s 5ms/step - loss: 0.1557 - accuracy: 0.9418 - val_loss: 0.1682 - val_accuracy: 0.9355\n",
      "Epoch 79/100\n",
      "81/81 [==============================] - 0s 5ms/step - loss: 0.1534 - accuracy: 0.9411 - val_loss: 0.2098 - val_accuracy: 0.9153\n",
      "Epoch 80/100\n",
      "81/81 [==============================] - 0s 5ms/step - loss: 0.1535 - accuracy: 0.9434 - val_loss: 0.1629 - val_accuracy: 0.9382\n",
      "Epoch 81/100\n",
      "81/81 [==============================] - 0s 5ms/step - loss: 0.1481 - accuracy: 0.9441 - val_loss: 0.1355 - val_accuracy: 0.9511\n",
      "Epoch 82/100\n",
      "81/81 [==============================] - 1s 6ms/step - loss: 0.1528 - accuracy: 0.9442 - val_loss: 0.1616 - val_accuracy: 0.9416\n",
      "Epoch 83/100\n",
      "81/81 [==============================] - 0s 6ms/step - loss: 0.1523 - accuracy: 0.9418 - val_loss: 0.1473 - val_accuracy: 0.9429\n",
      "Epoch 84/100\n",
      "81/81 [==============================] - 0s 6ms/step - loss: 0.1495 - accuracy: 0.9418 - val_loss: 0.1364 - val_accuracy: 0.9556\n",
      "Epoch 85/100\n",
      "81/81 [==============================] - 0s 6ms/step - loss: 0.1447 - accuracy: 0.9446 - val_loss: 0.1431 - val_accuracy: 0.9493\n",
      "Epoch 86/100\n",
      "81/81 [==============================] - 0s 6ms/step - loss: 0.1464 - accuracy: 0.9459 - val_loss: 0.1830 - val_accuracy: 0.9300\n",
      "Epoch 87/100\n",
      "81/81 [==============================] - 0s 6ms/step - loss: 0.1476 - accuracy: 0.9460 - val_loss: 0.1407 - val_accuracy: 0.9466\n",
      "Epoch 88/100\n",
      "81/81 [==============================] - 0s 6ms/step - loss: 0.1402 - accuracy: 0.9477 - val_loss: 0.1285 - val_accuracy: 0.9547\n",
      "Epoch 89/100\n",
      "81/81 [==============================] - 0s 6ms/step - loss: 0.1512 - accuracy: 0.9424 - val_loss: 0.1479 - val_accuracy: 0.9479\n",
      "Epoch 90/100\n",
      "81/81 [==============================] - 0s 5ms/step - loss: 0.1504 - accuracy: 0.9444 - val_loss: 0.1652 - val_accuracy: 0.9368\n",
      "Epoch 91/100\n",
      "81/81 [==============================] - 1s 6ms/step - loss: 0.1499 - accuracy: 0.9440 - val_loss: 0.1243 - val_accuracy: 0.9574\n",
      "Epoch 92/100\n",
      "81/81 [==============================] - 0s 6ms/step - loss: 0.1390 - accuracy: 0.9470 - val_loss: 0.1191 - val_accuracy: 0.9597\n",
      "Epoch 93/100\n",
      "81/81 [==============================] - 0s 6ms/step - loss: 0.1361 - accuracy: 0.9492 - val_loss: 0.1209 - val_accuracy: 0.9595\n",
      "Epoch 94/100\n",
      "81/81 [==============================] - 0s 5ms/step - loss: 0.1352 - accuracy: 0.9500 - val_loss: 0.1446 - val_accuracy: 0.9459\n",
      "Epoch 95/100\n",
      "81/81 [==============================] - 0s 5ms/step - loss: 0.1412 - accuracy: 0.9471 - val_loss: 0.1222 - val_accuracy: 0.9592\n",
      "Epoch 96/100\n",
      "81/81 [==============================] - 0s 6ms/step - loss: 0.1388 - accuracy: 0.9480 - val_loss: 0.1228 - val_accuracy: 0.9592\n",
      "Epoch 97/100\n",
      "81/81 [==============================] - 0s 6ms/step - loss: 0.1310 - accuracy: 0.9511 - val_loss: 0.1254 - val_accuracy: 0.9577\n",
      "Epoch 98/100\n",
      "81/81 [==============================] - 0s 6ms/step - loss: 0.1317 - accuracy: 0.9501 - val_loss: 0.1236 - val_accuracy: 0.9586\n",
      "Epoch 99/100\n",
      "81/81 [==============================] - 0s 6ms/step - loss: 0.1544 - accuracy: 0.9401 - val_loss: 0.1181 - val_accuracy: 0.9599\n",
      "Epoch 100/100\n",
      "81/81 [==============================] - 0s 5ms/step - loss: 0.1282 - accuracy: 0.9505 - val_loss: 0.1195 - val_accuracy: 0.9590\n"
     ]
    }
   ],
   "source": [
    "# Hyperparameters and training\n",
    "model.compile(loss='binary_crossentropy', optimizer=opt, metrics=['accuracy'])\n",
    "history = model.fit(X_train, y_train, epochs=100, batch_size=32, verbose=1, validation_split=0.18)"
   ]
  },
  {
   "cell_type": "code",
   "execution_count": null,
   "metadata": {},
   "outputs": [],
   "source": []
  },
  {
   "cell_type": "code",
   "execution_count": 42,
   "id": "e6103a7d",
   "metadata": {},
   "outputs": [],
   "source": [
    "def plot_accuracy(history):\n",
    "    plt.plot(history.history['accuracy'])\n",
    "    plt.plot(history.history['val_accuracy'])\n",
    "    plt.title('model accuracy')\n",
    "    plt.ylabel('accuracy')\n",
    "    plt.xlabel('epoch')\n",
    "    plt.legend(['train', 'val'], loc='upper left')\n",
    "    plt.show()"
   ]
  },
  {
   "cell_type": "code",
   "execution_count": 43,
   "id": "8ee989bb",
   "metadata": {},
   "outputs": [],
   "source": [
    "def plot_loss(history):\n",
    "    plt.plot(history.history['loss'])\n",
    "    plt.plot(history.history['val_loss'])\n",
    "    plt.title('model loss')\n",
    "    plt.ylabel('loss')\n",
    "    plt.xlabel('epoch')\n",
    "    plt.legend(['train', 'val'], loc='upper left')\n",
    "    plt.show()\n"
   ]
  },
  {
   "cell_type": "code",
   "execution_count": 44,
   "id": "9df3c63f",
   "metadata": {},
   "outputs": [
    {
     "data": {
      "image/png": "[encoded data removed]",
      "text/plain": [
       "<Figure size 432x288 with 1 Axes>"
      ]
     },
     "metadata": {
      "needs_background": "light"
     },
     "output_type": "display_data"
    }
   ],
   "source": [
    "plot_accuracy(history)"
   ]
  },
  {
   "cell_type": "code",
   "execution_count": 45,
   "id": "4a636b43",
   "metadata": {},
   "outputs": [
    {
     "data": {
      "image/png": "[encoded data removed]",
      "text/plain": [
       "<Figure size 432x288 with 1 Axes>"
      ]
     },
     "metadata": {
      "needs_background": "light"
     },
     "output_type": "display_data"
    }
   ],
   "source": [
    "plot_loss(history)"
   ]
  },
  {
   "cell_type": "code",
   "execution_count": null,
   "id": "25ba19b3",
   "metadata": {},
   "outputs": [],
   "source": []
  },
  {
   "cell_type": "code",
   "execution_count": 46,
   "id": "4314a6b5",
   "metadata": {},
   "outputs": [],
   "source": [
    "predictions = model.predict(X_test, verbose=0)\n"
   ]
  },
  {
   "cell_type": "code",
   "execution_count": 47,
   "id": "b88da262",
   "metadata": {},
   "outputs": [],
   "source": [
    "predictions = np.array([0 if x < 0.5 else 1 for x in predictions])"
   ]
  },
  {
   "cell_type": "code",
   "execution_count": 48,
   "id": "aca1cb28",
   "metadata": {},
   "outputs": [
    {
     "name": "stdout",
     "output_type": "stream",
     "text": [
      "4330\n",
      "4330\n"
     ]
    }
   ],
   "source": [
    "print(len(predictions))\n",
    "print(len(y_test))"
   ]
  },
  {
   "cell_type": "code",
   "execution_count": 49,
   "id": "264f1f15",
   "metadata": {},
   "outputs": [
    {
     "name": "stdout",
     "output_type": "stream",
     "text": [
      "[0 1 0 0 0 1 0 0 1 1 1 0 0 0 1]\n",
      "[0 1 0 0 0 1 0 0 1 1 1 0 0 0 1]\n"
     ]
    }
   ],
   "source": [
    "print(predictions[0:15])\n",
    "print(y_test[0:15])"
   ]
  },
  {
   "cell_type": "code",
   "execution_count": 50,
   "id": "48088fe0",
   "metadata": {},
   "outputs": [
    {
     "name": "stdout",
     "output_type": "stream",
     "text": [
      "Test Accuracy: 0.9517321016166281\n"
     ]
    }
   ],
   "source": [
    "accuracy = accuracy_score(y_test, predictions)\n",
    "print(\"Test Accuracy:\", accuracy)"
   ]
  },
  {
   "cell_type": "code",
   "execution_count": 51,
   "id": "232d80a8",
   "metadata": {},
   "outputs": [
    {
     "data": {
      "image/png": "[encoded data removed]",
      "text/plain": [
       "<Figure size 432x288 with 2 Axes>"
      ]
     },
     "metadata": {
      "needs_background": "light"
     },
     "output_type": "display_data"
    }
   ],
   "source": [
    "confusion_mtx = confusion_matrix(y_test, predictions)\n",
    "\n",
    "ax = plt.axes()\n",
    "sn.heatmap(confusion_mtx, annot=True,annot_kws={\"size\": 25}, cmap=\"Blues\", ax = ax, fmt='d')\n",
    "ax.set_title('Test Accuracy', size=14)\n",
    "plt.show()"
   ]
  },
  {
   "cell_type": "code",
   "execution_count": null,
   "id": "26ff4389",
   "metadata": {},
   "outputs": [],
   "source": []
  },
  {
   "cell_type": "code",
   "execution_count": null,
   "metadata": {},
   "outputs": [],
   "source": []
  },
  {
   "cell_type": "code",
   "execution_count": null,
   "metadata": {},
   "outputs": [],
   "source": []
  },
  {
   "cell_type": "code",
   "execution_count": null,
   "metadata": {},
   "outputs": [],
   "source": []
  },
  {
   "cell_type": "code",
   "execution_count": 34,
   "metadata": {},
   "outputs": [
    {
     "name": "stdout",
     "output_type": "stream",
     "text": [
      "136/136 [==============================] - 1s 4ms/step - loss: 0.1421 - accuracy: 0.9517\n",
      "Test results - Loss: 0.14207203686237335 - Accuracy: 0.9517320990562439%\n"
     ]
    }
   ],
   "source": [
    "# Evaluation\n",
    "test_results = model.evaluate(X_test, y_test, verbose=1)\n",
    "print(f'Test results - Loss: {test_results[0]} - Accuracy: {test_results[1]}%')"
   ]
  },
  {
   "cell_type": "code",
   "execution_count": 37,
   "metadata": {},
   "outputs": [
    {
     "data": {
      "text/plain": [
       "[0.14207203686237335, 0.9517320990562439]"
      ]
     },
     "execution_count": 37,
     "metadata": {},
     "output_type": "execute_result"
    }
   ],
   "source": [
    "test_results"
   ]
  },
  {
   "cell_type": "code",
   "execution_count": 38,
   "metadata": {},
   "outputs": [
    {
     "name": "stdout",
     "output_type": "stream",
     "text": [
      "136/136 [==============================] - 0s 2ms/step\n"
     ]
    }
   ],
   "source": [
    "y_test_pred = model.predict(X_test, verbose=1)"
   ]
  },
  {
   "cell_type": "code",
   "execution_count": 39,
   "metadata": {},
   "outputs": [
    {
     "data": {
      "text/plain": [
       "array([[0.010252134 ],\n",
       "       [0.8212989   ],\n",
       "       [0.001059531 ],\n",
       "       ...,\n",
       "       [0.0055555357],\n",
       "       [0.039224602 ],\n",
       "       [0.99913627  ]], dtype=float32)"
      ]
     },
     "execution_count": 39,
     "metadata": {},
     "output_type": "execute_result"
    }
   ],
   "source": [
    "y_test_pred"
   ]
  },
  {
   "cell_type": "code",
   "execution_count": 40,
   "metadata": {},
   "outputs": [
    {
     "data": {
      "text/plain": [
       "array([0.010252134 , 0.8212989   , 0.001059531 , ..., 0.0055555357,\n",
       "       0.039224602 , 0.99913627  ], dtype=float32)"
      ]
     },
     "execution_count": 40,
     "metadata": {},
     "output_type": "execute_result"
    }
   ],
   "source": [
    "y_test_pred.reshape(4330, )"
   ]
  },
  {
   "cell_type": "code",
   "execution_count": 41,
   "metadata": {},
   "outputs": [
    {
     "data": {
      "text/plain": [
       "array([0, 1, 0, ..., 0, 0, 1])"
      ]
     },
     "execution_count": 41,
     "metadata": {},
     "output_type": "execute_result"
    }
   ],
   "source": [
    "y_test"
   ]
  },
  {
   "cell_type": "code",
   "execution_count": 436,
   "metadata": {},
   "outputs": [
    {
     "data": {
      "text/plain": [
       "(4330,)"
      ]
     },
     "execution_count": 436,
     "metadata": {},
     "output_type": "execute_result"
    }
   ],
   "source": [
    "y_test_pred.reshape(4330, ).shape"
   ]
  },
  {
   "cell_type": "code",
   "execution_count": 437,
   "metadata": {},
   "outputs": [
    {
     "data": {
      "text/plain": [
       "(4330,)"
      ]
     },
     "execution_count": 437,
     "metadata": {},
     "output_type": "execute_result"
    }
   ],
   "source": [
    "y_test.shape"
   ]
  },
  {
   "cell_type": "code",
   "execution_count": 438,
   "metadata": {},
   "outputs": [
    {
     "data": {
      "text/plain": [
       "array([[   0, 1956],\n",
       "       [   0, 2374]], dtype=int64)"
      ]
     },
     "execution_count": 438,
     "metadata": {},
     "output_type": "execute_result"
    }
   ],
   "source": [
    "from sklearn.metrics import confusion_matrix\n",
    "conf_matrix = cm=confusion_matrix(y_test, y_test_pred.reshape(4330, ))\n",
    "conf_matrix"
   ]
  },
  {
   "cell_type": "code",
   "execution_count": 439,
   "metadata": {},
   "outputs": [
    {
     "data": {
      "image/png": "[encoded data removed]",
      "text/plain": [
       "<Figure size 432x288 with 2 Axes>"
      ]
     },
     "metadata": {},
     "output_type": "display_data"
    }
   ],
   "source": [
    "import seaborn as sn\n",
    "import pandas as pd\n",
    "import matplotlib.pyplot as plt\n",
    "\n",
    "\n",
    "# plt.figure(figsize=(10,7))\n",
    "sn.set(font_scale=1.4) # for label size\n",
    "sn.heatmap(conf_matrix, annot=True, annot_kws={\"size\": 16}) # font size\n",
    "\n",
    "\n",
    "plt.title('Confusion Matrix')\n",
    "plt.xlabel('Predicted')\n",
    "plt.ylabel('True')\n",
    "plt.show()"
   ]
  },
  {
   "cell_type": "code",
   "execution_count": 440,
   "metadata": {},
   "outputs": [
    {
     "data": {
      "image/png": "[encoded data removed]",
      "text/plain": [
       "<Figure size 576x720 with 2 Axes>"
      ]
     },
     "metadata": {},
     "output_type": "display_data"
    }
   ],
   "source": [
    "plt.figure(figsize=(8,10))\n",
    "plt.subplot(2,1,1)\n",
    "\n",
    "# summarize history for accuracy\n",
    "plt.plot(history.history['accuracy'])\n",
    "plt.plot(history.history['val_accuracy'])\n",
    "plt.title('model accuracy')\n",
    "plt.ylabel('accuracy')\n",
    "plt.xlabel('epoch')\n",
    "plt.legend(['train', 'validation'], loc='lower right')\n",
    "\n",
    "plt.subplot(2,1,2)\n",
    "# summarize history for loss\n",
    "plt.plot(history.history['loss'])\n",
    "plt.plot(history.history['val_loss'])\n",
    "plt.title('model loss')\n",
    "plt.ylabel('loss')\n",
    "plt.xlabel('epoch')\n",
    "plt.legend(['train', 'validation'], loc='upper right')\n",
    "plt.show()"
   ]
  },
  {
   "cell_type": "markdown",
   "metadata": {},
   "source": [
    "# MLP with Keras - categorical cross entropy"
   ]
  },
  {
   "cell_type": "code",
   "execution_count": 23,
   "metadata": {},
   "outputs": [],
   "source": [
    "y_train = y_train.reshape((-1,1))\n",
    "y_test = y_test.reshape((-1,1))"
   ]
  },
  {
   "cell_type": "code",
   "execution_count": 24,
   "metadata": {},
   "outputs": [],
   "source": [
    "from tensorflow.keras.utils import to_categorical\n",
    "y_train = to_categorical(y_train, Output_N)\n",
    "y_test = to_categorical(y_test, Output_N)"
   ]
  },
  {
   "cell_type": "code",
   "execution_count": 25,
   "metadata": {},
   "outputs": [
    {
     "name": "stdout",
     "output_type": "stream",
     "text": [
      "y_test:  (4330, 2)\n",
      "y_train:  (24533, 2)\n"
     ]
    }
   ],
   "source": [
    "print('y_test: ', y_test.shape)\n",
    "print('y_train: ', y_train.shape)"
   ]
  },
  {
   "cell_type": "code",
   "execution_count": 48,
   "metadata": {},
   "outputs": [
    {
     "name": "stdout",
     "output_type": "stream",
     "text": [
      "[[1. 0.]\n",
      " [0. 1.]\n",
      " [1. 0.]\n",
      " [1. 0.]\n",
      " [1. 0.]]\n",
      "[[1. 0.]\n",
      " [1. 0.]\n",
      " [1. 0.]\n",
      " [0. 1.]\n",
      " [0. 1.]]\n"
     ]
    }
   ],
   "source": [
    "print(y_test[:5])\n",
    "print(y_train[:5])"
   ]
  },
  {
   "cell_type": "code",
   "execution_count": 136,
   "metadata": {},
   "outputs": [],
   "source": [
    "from tensorflow.keras.models import Sequential\n",
    "from keras.layers import Dense, Dropout\n",
    "\n",
    "# Input shape\n",
    "input_shape = (Input_N,)\n",
    "\n",
    "model = Sequential()\n",
    "# tanh\n",
    "model.add(Dense(19, activation='relu', kernel_initializer='he_normal'))\n",
    "model.add(Dense(8, activation='relu', kernel_initializer='he_normal'))\n",
    "model.add(Dense(Output_N, activation='sigmoid'))\n",
    "\n",
    "model.compile()\n",
    "# model.build()\n",
    "# model.summary()"
   ]
  },
  {
   "cell_type": "code",
   "execution_count": 137,
   "metadata": {},
   "outputs": [
    {
     "data": {
      "text/plain": [
       "array([7.6116724437902457e-06, 7.6289325676352933e-06,\n",
       "       4.7564604591893677e-06, 7.5360800474250402e-06,\n",
       "       1.1849037506697505e-05, 8.9119453875280071e-06,\n",
       "       9.7819357688341433e-06, 8.6886691563892504e-06,\n",
       "       9.3811530319419248e-06, 1.0974306340387697e-05,\n",
       "       6.8729003172278782e-06, 3.7655481722531202e-06,\n",
       "       4.0515972295815452e-06, 7.0632732477763004e-06,\n",
       "       4.5645178041536195e-06, 4.1881695617535823e-06,\n",
       "       7.0817885865331797e-06, 4.6595055882064664e-06,\n",
       "       3.5234543079113983e-06])"
      ]
     },
     "execution_count": 137,
     "metadata": {},
     "output_type": "execute_result"
    }
   ],
   "source": [
    "X_train[0]"
   ]
  },
  {
   "cell_type": "code",
   "execution_count": 138,
   "metadata": {},
   "outputs": [
    {
     "data": {
      "text/plain": [
       "array([[1., 0.],\n",
       "       [1., 0.],\n",
       "       [1., 0.],\n",
       "       [0., 1.],\n",
       "       [0., 1.]], dtype=float32)"
      ]
     },
     "execution_count": 138,
     "metadata": {},
     "output_type": "execute_result"
    }
   ],
   "source": [
    "y_train[:5]"
   ]
  },
  {
   "cell_type": "code",
   "execution_count": 139,
   "metadata": {},
   "outputs": [
    {
     "name": "stdout",
     "output_type": "stream",
     "text": [
      "Epoch 1/10\n",
      "81/81 [==============================] - 0s 3ms/step - loss: 0.6889 - accuracy: 0.5473 - val_loss: 0.6891 - val_accuracy: 0.5453\n",
      "Epoch 2/10\n",
      "81/81 [==============================] - 0s 1ms/step - loss: 0.6884 - accuracy: 0.5493 - val_loss: 0.6891 - val_accuracy: 0.5453\n",
      "Epoch 3/10\n",
      "81/81 [==============================] - 0s 1ms/step - loss: 0.6883 - accuracy: 0.5493 - val_loss: 0.6890 - val_accuracy: 0.5453\n",
      "Epoch 4/10\n",
      "81/81 [==============================] - 0s 1ms/step - loss: 0.6884 - accuracy: 0.5493 - val_loss: 0.6890 - val_accuracy: 0.5453\n",
      "Epoch 5/10\n",
      "81/81 [==============================] - 0s 1ms/step - loss: 0.6884 - accuracy: 0.5493 - val_loss: 0.6890 - val_accuracy: 0.5453\n",
      "Epoch 6/10\n",
      "81/81 [==============================] - 0s 1ms/step - loss: 0.6883 - accuracy: 0.5493 - val_loss: 0.6892 - val_accuracy: 0.5453\n",
      "Epoch 7/10\n",
      "81/81 [==============================] - 0s 1ms/step - loss: 0.6883 - accuracy: 0.5493 - val_loss: 0.6890 - val_accuracy: 0.5453\n",
      "Epoch 8/10\n",
      "81/81 [==============================] - 0s 1ms/step - loss: 0.6883 - accuracy: 0.5493 - val_loss: 0.6891 - val_accuracy: 0.5453\n",
      "Epoch 9/10\n",
      "81/81 [==============================] - 0s 1ms/step - loss: 0.6884 - accuracy: 0.5493 - val_loss: 0.6891 - val_accuracy: 0.5453\n",
      "Epoch 10/10\n",
      "81/81 [==============================] - 0s 1ms/step - loss: 0.6884 - accuracy: 0.5493 - val_loss: 0.6891 - val_accuracy: 0.5453\n"
     ]
    }
   ],
   "source": [
    "# Hyperparameters and training\n",
    "from keras.optimizers import SGD\n",
    "opt = SGD(learning_rate=0.1)\n",
    "model.compile(loss='categorical_crossentropy', optimizer=opt, metrics=['accuracy'])\n",
    "history = model.fit(X_train, y_train, epochs=10, batch_size=250, verbose=1, validation_split=0.18)"
   ]
  },
  {
   "cell_type": "code",
   "execution_count": 123,
   "metadata": {},
   "outputs": [
    {
     "name": "stdout",
     "output_type": "stream",
     "text": [
      "Model: \"sequential_9\"\n",
      "_________________________________________________________________\n",
      " Layer (type)                Output Shape              Param #   \n",
      "=================================================================\n",
      " dense_27 (Dense)            (None, 19)                380       \n",
      "                                                                 \n",
      " dense_28 (Dense)            (None, 8)                 160       \n",
      "                                                                 \n",
      " dense_29 (Dense)            (None, 2)                 18        \n",
      "                                                                 \n",
      "=================================================================\n",
      "Total params: 558\n",
      "Trainable params: 558\n",
      "Non-trainable params: 0\n",
      "_________________________________________________________________\n"
     ]
    }
   ],
   "source": [
    "model.summary()"
   ]
  },
  {
   "cell_type": "code",
   "execution_count": 124,
   "metadata": {},
   "outputs": [
    {
     "name": "stdout",
     "output_type": "stream",
     "text": [
      "136/136 [==============================] - 0s 831us/step - loss: 0.6886 - accuracy: 0.5483\n",
      "Test results - Loss: 0.6885995268821716 - Accuracy: 0.5482679009437561%\n"
     ]
    }
   ],
   "source": [
    "# Evaluation\n",
    "test_results = model.evaluate(X_test, y_test, verbose=1)\n",
    "print(f'Test results - Loss: {test_results[0]} - Accuracy: {test_results[1]}%')"
   ]
  },
  {
   "cell_type": "code",
   "execution_count": 125,
   "metadata": {},
   "outputs": [
    {
     "data": {
      "image/png": "[encoded data removed]",
      "text/plain": [
       "<Figure size 576x720 with 2 Axes>"
      ]
     },
     "metadata": {},
     "output_type": "display_data"
    }
   ],
   "source": [
    "plt.figure(figsize=(8,10))\n",
    "plt.subplot(2,1,1)\n",
    "\n",
    "# summarize history for accuracy\n",
    "plt.plot(history.history['accuracy'])\n",
    "plt.plot(history.history['val_accuracy'])\n",
    "plt.title('model accuracy')\n",
    "plt.ylabel('accuracy')\n",
    "plt.xlabel('epoch')\n",
    "plt.legend(['train', 'validation'], loc='lower right')\n",
    "\n",
    "plt.subplot(2,1,2)\n",
    "# summarize history for loss\n",
    "plt.plot(history.history['loss'])\n",
    "plt.plot(history.history['val_loss'])\n",
    "plt.title('model loss')\n",
    "plt.ylabel('loss')\n",
    "plt.xlabel('epoch')\n",
    "plt.legend(['train', 'validation'], loc='upper right')\n",
    "plt.show()"
   ]
  },
  {
   "cell_type": "code",
   "execution_count": 126,
   "metadata": {},
   "outputs": [
    {
     "name": "stdout",
     "output_type": "stream",
     "text": [
      "136/136 [==============================] - 0s 643us/step\n"
     ]
    }
   ],
   "source": [
    "y_test_pred = model.predict(X_test, verbose=1)"
   ]
  },
  {
   "cell_type": "code",
   "execution_count": 127,
   "metadata": {},
   "outputs": [
    {
     "data": {
      "text/plain": [
       "(4330, 2)"
      ]
     },
     "execution_count": 127,
     "metadata": {},
     "output_type": "execute_result"
    }
   ],
   "source": [
    "y_test.shape"
   ]
  },
  {
   "cell_type": "code",
   "execution_count": 128,
   "metadata": {},
   "outputs": [
    {
     "name": "stdout",
     "output_type": "stream",
     "text": [
      "[[1. 0.]\n",
      " [0. 1.]\n",
      " [1. 0.]\n",
      " ...\n",
      " [1. 0.]\n",
      " [1. 0.]\n",
      " [0. 1.]]\n"
     ]
    }
   ],
   "source": [
    "print(y_test)"
   ]
  },
  {
   "cell_type": "code",
   "execution_count": 129,
   "metadata": {},
   "outputs": [
    {
     "data": {
      "text/plain": [
       "(4330, 2)"
      ]
     },
     "execution_count": 129,
     "metadata": {},
     "output_type": "execute_result"
    }
   ],
   "source": [
    "y_test_pred.shape"
   ]
  },
  {
   "cell_type": "code",
   "execution_count": 130,
   "metadata": {},
   "outputs": [
    {
     "name": "stdout",
     "output_type": "stream",
     "text": [
      "[[0.5659718  0.6201466 ]\n",
      " [0.5659718  0.6201465 ]\n",
      " [0.56597143 0.6201466 ]\n",
      " ...\n",
      " [0.5659718  0.6201466 ]\n",
      " [0.5659719  0.6201466 ]\n",
      " [0.5659719  0.62014645]]\n"
     ]
    }
   ],
   "source": [
    "print(y_test_pred)"
   ]
  },
  {
   "cell_type": "code",
   "execution_count": 131,
   "metadata": {},
   "outputs": [
    {
     "data": {
      "text/plain": [
       "array([[1, 1],\n",
       "       [1, 1],\n",
       "       [1, 1],\n",
       "       ...,\n",
       "       [1, 1],\n",
       "       [1, 1],\n",
       "       [1, 1]])"
      ]
     },
     "execution_count": 131,
     "metadata": {},
     "output_type": "execute_result"
    }
   ],
   "source": [
    "(y_test_pred > 0.5).astype(int)"
   ]
  },
  {
   "cell_type": "code",
   "execution_count": 132,
   "metadata": {},
   "outputs": [],
   "source": [
    "y_test_pred_continuous = np.array([0 if val[0]==1 else 1 for val in (y_test_pred > 0.5).astype(int)])"
   ]
  },
  {
   "cell_type": "code",
   "execution_count": 133,
   "metadata": {},
   "outputs": [],
   "source": [
    "y_test_continuous = np.array([0 if val[0]==1 else 1 for val in (y_test > 0.5).astype(int)])"
   ]
  },
  {
   "cell_type": "code",
   "execution_count": 134,
   "metadata": {},
   "outputs": [
    {
     "data": {
      "text/plain": [
       "array([[1956,    0],\n",
       "       [2374,    0]], dtype=int64)"
      ]
     },
     "execution_count": 134,
     "metadata": {},
     "output_type": "execute_result"
    }
   ],
   "source": [
    "from sklearn.metrics import confusion_matrix\n",
    "conf_matrix = confusion_matrix(y_test_continuous, y_test_pred_continuous)\n",
    "conf_matrix"
   ]
  },
  {
   "cell_type": "code",
   "execution_count": 58,
   "metadata": {},
   "outputs": [
    {
     "data": {
      "image/png": "[encoded data removed]",
      "text/plain": [
       "<Figure size 432x288 with 2 Axes>"
      ]
     },
     "metadata": {},
     "output_type": "display_data"
    }
   ],
   "source": [
    "import seaborn as sn\n",
    "import pandas as pd\n",
    "import matplotlib.pyplot as plt\n",
    "\n",
    "\n",
    "# plt.figure(figsize=(10,7))\n",
    "sn.set(font_scale=1.4) # for label size\n",
    "sn.heatmap(conf_matrix, annot=True, annot_kws={\"size\": 16}, fmt='d') # font size\n",
    "\n",
    "\n",
    "plt.title('Confusion Matrix')\n",
    "plt.xlabel('Predicted')\n",
    "plt.ylabel('True')\n",
    "plt.show()"
   ]
  },
  {
   "cell_type": "markdown",
   "metadata": {},
   "source": [
    "### Sklearn MLP Classifier"
   ]
  },
  {
   "cell_type": "code",
   "execution_count": 47,
   "metadata": {},
   "outputs": [
    {
     "name": "stderr",
     "output_type": "stream",
     "text": [
      "E:\\Users\\dt\\anaconda3\\envs\\ml\\lib\\site-packages\\sklearn\\neural_network\\_multilayer_perceptron.py:692: ConvergenceWarning: Stochastic Optimizer: Maximum iterations (300) reached and the optimization hasn't converged yet.\n",
      "  warnings.warn(\n"
     ]
    }
   ],
   "source": [
    "from sklearn.neural_network import MLPClassifier\n",
    "from sklearn.datasets import make_classification\n",
    "from sklearn.model_selection import train_test_split\n",
    "# X, y = make_classification(n_samples=100, random_state=1)\n",
    "# X_train, X_test, y_train, y_test = train_test_split(X, y, stratify=y,\n",
    "#                                                      random_state=1)\n",
    "\n",
    "clf = MLPClassifier(random_state=1, max_iter=300).fit(X_train, y_train)\n",
    "# clf.predict_proba(X_test[:1])\n",
    "\n",
    "# clf.predict(X_test[:5, :])\n",
    "\n",
    "# clf.score(X_test, y_test)\n"
   ]
  },
  {
   "cell_type": "code",
   "execution_count": 50,
   "metadata": {},
   "outputs": [],
   "source": [
    "train_loss_ = clf.loss_curve_"
   ]
  },
  {
   "cell_type": "code",
   "execution_count": null,
   "metadata": {},
   "outputs": [],
   "source": []
  },
  {
   "cell_type": "code",
   "execution_count": 25,
   "metadata": {},
   "outputs": [
    {
     "data": {
      "text/plain": [
       "array([[0.9441024535253673  , 0.055897546474632694]])"
      ]
     },
     "execution_count": 25,
     "metadata": {},
     "output_type": "execute_result"
    }
   ],
   "source": [
    "clf.predict_proba(X_test[:1])\n"
   ]
  },
  {
   "cell_type": "code",
   "execution_count": 55,
   "metadata": {},
   "outputs": [],
   "source": [
    "y_test_pred = clf.predict(X_test)\n"
   ]
  },
  {
   "cell_type": "code",
   "execution_count": 56,
   "metadata": {},
   "outputs": [
    {
     "data": {
      "text/plain": [
       "array([[1749,  207],\n",
       "       [ 199, 2175]], dtype=int64)"
      ]
     },
     "execution_count": 56,
     "metadata": {},
     "output_type": "execute_result"
    }
   ],
   "source": [
    "from sklearn.metrics import confusion_matrix\n",
    "conf_matrix = confusion_matrix(y_test, y_test_pred)\n",
    "conf_matrix"
   ]
  },
  {
   "cell_type": "code",
   "execution_count": 51,
   "metadata": {},
   "outputs": [
    {
     "data": {
      "text/plain": [
       "0.9062355658198614"
      ]
     },
     "execution_count": 51,
     "metadata": {},
     "output_type": "execute_result"
    }
   ],
   "source": [
    "clf.score(X_test, y_test)\n"
   ]
  },
  {
   "cell_type": "code",
   "execution_count": 29,
   "metadata": {},
   "outputs": [
    {
     "data": {
      "text/plain": [
       "{'activation': 'relu',\n",
       " 'alpha': 0.0001,\n",
       " 'batch_size': 'auto',\n",
       " 'beta_1': 0.9,\n",
       " 'beta_2': 0.999,\n",
       " 'early_stopping': False,\n",
       " 'epsilon': 1e-08,\n",
       " 'hidden_layer_sizes': (100,),\n",
       " 'learning_rate': 'constant',\n",
       " 'learning_rate_init': 0.001,\n",
       " 'max_fun': 15000,\n",
       " 'max_iter': 300,\n",
       " 'momentum': 0.9,\n",
       " 'n_iter_no_change': 10,\n",
       " 'nesterovs_momentum': True,\n",
       " 'power_t': 0.5,\n",
       " 'random_state': 1,\n",
       " 'shuffle': True,\n",
       " 'solver': 'adam',\n",
       " 'tol': 0.0001,\n",
       " 'validation_fraction': 0.1,\n",
       " 'verbose': False,\n",
       " 'warm_start': False}"
      ]
     },
     "execution_count": 29,
     "metadata": {},
     "output_type": "execute_result"
    }
   ],
   "source": [
    "clf.get_params()"
   ]
  },
  {
   "cell_type": "code",
   "execution_count": null,
   "metadata": {},
   "outputs": [],
   "source": [
    "clf.loss_curve_"
   ]
  },
  {
   "cell_type": "code",
   "execution_count": 46,
   "metadata": {},
   "outputs": [
    {
     "data": {
      "text/plain": [
       "'log_loss'"
      ]
     },
     "execution_count": 46,
     "metadata": {},
     "output_type": "execute_result"
    }
   ],
   "source": [
    "# clf.loss_curve_\n",
    "clf.predict()"
   ]
  },
  {
   "cell_type": "code",
   "execution_count": 53,
   "metadata": {},
   "outputs": [
    {
     "data": {
      "image/png": "[encoded data removed]",
      "text/plain": [
       "<Figure size 576x720 with 1 Axes>"
      ]
     },
     "metadata": {
      "needs_background": "light"
     },
     "output_type": "display_data"
    }
   ],
   "source": [
    "plt.figure(figsize=(8,10))\n",
    "\n",
    "plt.subplot(2,1,2)\n",
    "# summarize history for loss\n",
    "plt.plot(train_loss_)\n",
    "plt.title('model loss')\n",
    "plt.ylabel('loss')\n",
    "plt.xlabel('epoch')\n",
    "plt.legend(['train', 'validation'], loc='upper right')\n",
    "plt.show()"
   ]
  },
  {
   "cell_type": "code",
   "execution_count": 57,
   "metadata": {},
   "outputs": [
    {
     "data": {
      "image/png": "[encoded data removed]",
      "text/plain": [
       "<Figure size 432x288 with 2 Axes>"
      ]
     },
     "metadata": {},
     "output_type": "display_data"
    }
   ],
   "source": [
    "import seaborn as sn\n",
    "import pandas as pd\n",
    "import matplotlib.pyplot as plt\n",
    "\n",
    "\n",
    "# plt.figure(figsize=(10,7))\n",
    "sn.set(font_scale=1.4) # for label size\n",
    "sn.heatmap(conf_matrix, annot=True, annot_kws={\"size\": 16}) # font size\n",
    "\n",
    "\n",
    "plt.title('Confusion Matrix')\n",
    "plt.xlabel('Predicted')\n",
    "plt.ylabel('True')\n",
    "plt.show()"
   ]
  },
  {
   "cell_type": "markdown",
   "metadata": {},
   "source": [
    "### Data preparation"
   ]
  },
  {
   "cell_type": "code",
   "execution_count": 2,
   "metadata": {},
   "outputs": [
    {
     "ename": "AttributeError",
     "evalue": "'numpy.ndarray' object has no attribute 'get_data'",
     "output_type": "error",
     "traceback": [
      "\u001b[1;31m---------------------------------------------------------------------------\u001b[0m",
      "\u001b[1;31mAttributeError\u001b[0m                            Traceback (most recent call last)",
      "Input \u001b[1;32mIn [2]\u001b[0m, in \u001b[0;36m<cell line: 1>\u001b[1;34m()\u001b[0m\n\u001b[1;32m----> 1\u001b[0m x_data \u001b[38;5;241m=\u001b[39m \u001b[43mX\u001b[49m\u001b[38;5;241;43m.\u001b[39;49m\u001b[43mget_data\u001b[49m()\n\u001b[0;32m      2\u001b[0m x_data\u001b[38;5;241m.\u001b[39mshape\n",
      "\u001b[1;31mAttributeError\u001b[0m: 'numpy.ndarray' object has no attribute 'get_data'"
     ]
    }
   ],
   "source": [
    "x_data = X.get_data()\n",
    "x_data.shape"
   ]
  },
  {
   "cell_type": "code",
   "execution_count": null,
   "metadata": {},
   "outputs": [],
   "source": [
    "column_names = X[0].to_data_frame().columns\n",
    "column_names = column_names[-19:]\n",
    "column_names"
   ]
  },
  {
   "cell_type": "code",
   "execution_count": null,
   "metadata": {},
   "outputs": [],
   "source": [
    "epoch_num, channel_num, epoch_len = x_data.shape"
   ]
  },
  {
   "cell_type": "code",
   "execution_count": null,
   "metadata": {},
   "outputs": [],
   "source": [
    "def shift_bit_length(x):\n",
    "    return 1<<(x-1).bit_length()"
   ]
  },
  {
   "cell_type": "code",
   "execution_count": null,
   "metadata": {},
   "outputs": [],
   "source": [
    "shift_bit_length(16)"
   ]
  },
  {
   "cell_type": "code",
   "execution_count": null,
   "metadata": {},
   "outputs": [],
   "source": [
    "# create spec for all segments v3 flatten segments before creating spectrogram\n",
    "from scipy import signal\n",
    "\n",
    "from scipy.fft import fftshift\n",
    "\n",
    "import matplotlib.pyplot as plt\n",
    "\n",
    "from matplotlib import mlab\n",
    "\n",
    "from matplotlib.colors import Normalize as norm\n",
    "\n",
    "from sklearn.preprocessing import MinMaxScaler\n",
    "\n",
    "from math import floor\n",
    "\n",
    "from scipy.io import savemat\n",
    "\n",
    "\n",
    "#single_channel = np.array(epoch[:, 3], dtype=np.float64)\n",
    "\n",
    "dpi = 100\n",
    "px = 1/dpi\n",
    "\n",
    "def create_spectrogram(x, filename):\n",
    "    print(x.shape)\n",
    "\n",
    "    signal_data = np.array([])\n",
    "    \n",
    "    for i in range(len(x)):\n",
    "        signal_data = np.concatenate((signal_data, x[i]))\n",
    "        \n",
    "\n",
    "    mdic = {\"signal_data\": signal_data, \"label\": \"eeg\"}\n",
    "\n",
    "    savemat(\"../files/matlab_matrix.mat\", mdic)\n",
    "    \n",
    "    x = signal_data\n",
    "\n",
    "\n",
    "    fs = 250\n",
    "    Nx = len(x);\n",
    "    nsc = floor(Nx/4.5);\n",
    "    nov = floor(nsc/2);\n",
    "    nff = max(256,shift_bit_length(nsc));\n",
    "    window=('hamming')\n",
    "    mode='psd'\n",
    "    \n",
    "    print('Nx: ', Nx)\n",
    "    print('nsc: ', nsc)\n",
    "    print('nov: ', nov)\n",
    "    print('nff: ', nff)\n",
    "    print('shift_bit_length(nsc): ', shift_bit_length(nsc))\n",
    "\n",
    "#     n_per_seg = floor(len(signal_data)/4.5)\n",
    "#     no_overlap = floor(n_per_seg/2) # 5s long\n",
    "    \n",
    "#     print(no_overlap)\n",
    "    \n",
    "#     N = 1024;\n",
    "#     n = 0:N-1;\n",
    "\n",
    "#     w0 = 2*pi/5;\n",
    "#     x = sin(w0*n)+10*sin(2*w0*n);\n",
    "\n",
    "\n",
    "#     w0 = 2*np.pi/5;\n",
    "#     x = np.sin(w0*signal_data)+10*np.sin(2*w0*signal_data);\n",
    "\n",
    "    f, t, Sxx = signal.spectrogram(x=x, fs=fs, nperseg=nsc, noverlap=nov, nfft=nff,\n",
    "                                   window=window,return_onesided=False, mode=mode) #scaling='spectrum'\n",
    "    \n",
    "    np.savetxt('../files/scipy_Sxx', Sxx)\n",
    "    np.savetxt('../files/scipy_f', f)\n",
    "    np.savetxt('../files/scipy_t', t)\n",
    "    \n",
    "#     f = np.sort(f)\n",
    "\n",
    "    f1 = f\n",
    "    Sxx1= Sxx\n",
    "\n",
    "    plt.figure(figsize=(8, 4), dpi=1200)\n",
    "\n",
    "    plt.pcolormesh(t, fftshift(f), fftshift(Sxx, axes=0), shading='auto', cmap='jet')\n",
    "\n",
    "    plt.ylabel('Frequency [Hz]')\n",
    "\n",
    "    plt.xlabel('Time [sec]')\n",
    "\n",
    "#     plt.axis('off')\n",
    "\n",
    "    plt.show()\n",
    "    \n",
    "\n",
    "    \n",
    "    print('x', type(signal_data), signal_data.shape)\n",
    "    \n",
    "    print('f', type(f), f.shape)\n",
    "#     print(f)\n",
    "    print('t', type(t), t.shape)\n",
    "    #     print(t)\n",
    "    print('sxx', type(Sxx), Sxx.shape)\n",
    "    print(Sxx)\n",
    "    \n",
    "#     Fs = 250\n",
    "# #     tWindow = 64e-3\n",
    "#     tWindow = 1\n",
    "#     NWindow = Fs*tWindow\n",
    "    window = np.hamming(nff)\n",
    "#     NFFT = 250\n",
    "#     NOverlap = NWindow/2\n",
    "#     mode='psd'\n",
    "    \n",
    "#     print('window', window.shape, ' tWindow ', tWindow)\n",
    "\n",
    "    Sxx, f, t = mlab.specgram(x, NFFT = nff, Fs = fs, \n",
    "                              window = window, noverlap = nov, mode=mode, sides='twosided') #scale_by_freq=True\n",
    "    \n",
    "    np.savetxt('../files/mlab_Sxx', Sxx)\n",
    "    np.savetxt('../files/mlab_f', f)\n",
    "    np.savetxt('../files/mlab_t', t)\n",
    "    \n",
    "    \n",
    "#     plt.specgram(signal_data, NFFT = NFFT, Fs = Fs, \n",
    "#                  window = window, noverlap = NOverlap, mode='psd', sides='twosided', scale_by_freq=True)\n",
    "#     f, t, Sxx = mlab.specgram(signal_data, Fs = Fs)\n",
    "\n",
    "\n",
    "\n",
    "    print('f', type(f), f.shape)\n",
    "#     print(f)\n",
    "    print('t', type(t), t.shape)\n",
    "    #     print(t)\n",
    "    print('sxx', type(Sxx), Sxx.shape)\n",
    "#     print(Sxx)\n",
    "        \n",
    "    \n",
    "#     freq = np.sort(freq)\n",
    "#     print('f', type(f), f.shape)\n",
    "#     print(f)\n",
    "#     print('t', type(t), t.shape)\n",
    "#     print(t)\n",
    "#     print('Sxx', type(Sxx), Sxx.shape)\n",
    "#     print(Sxx)\n",
    "\n",
    "    print('min', np.amin(f))\n",
    "    print('max', np.amax(f))\n",
    "\n",
    "#     f = f*2*3.14/250\n",
    "    \n",
    "#     f = f.reshape(-1, 1)\n",
    "\n",
    "#     scaler = MinMaxScaler(feature_range=(0, 1), copy=True)\n",
    "#     scaler.fit(f)\n",
    "#     f = scaler.transform(f)\n",
    "\n",
    "\n",
    "#     f = f.reshape(1, -1)[0]\n",
    "\n",
    "    print('min', np.amin(f))\n",
    "    print('max', np.amax(f))\n",
    "\n",
    "\n",
    "    plt.figure(figsize=(8, 4), dpi=1200)\n",
    "\n",
    "    plt.pcolormesh(t, fftshift(f1), fftshift(Sxx, axes=0), shading='auto', cmap='jet')\n",
    "\n",
    "    plt.ylabel('Frequency [Hz]')\n",
    "\n",
    "    plt.xlabel('Time [sec]')\n",
    "\n",
    "#     plt.axis('off')\n",
    "\n",
    "    plt.show()\n",
    "#     plt.savefig(filename + '.png', bbox_inches='tight', pad_inches=0, transparent=True, dpi=1000)\n",
    "    \n",
    "#     plt.close()\n",
    "    \n",
    "#     plt.cla()\n",
    "#     plt.clf()\n",
    "\n",
    "    np.setdiff1d(Sxx, Sxx1)"
   ]
  },
  {
   "cell_type": "code",
   "execution_count": null,
   "metadata": {
    "scrolled": false
   },
   "outputs": [],
   "source": [
    "create_spectrogram(x_data[0], '../spectrograms/aaa')"
   ]
  },
  {
   "cell_type": "code",
   "execution_count": null,
   "metadata": {},
   "outputs": [],
   "source": []
  },
  {
   "cell_type": "code",
   "execution_count": null,
   "metadata": {},
   "outputs": [],
   "source": [
    "def get_spectrogram(epoch_index, label, epoch_data):\n",
    "    print('get_spectrogram')\n",
    "    filename = path.format(\n",
    "        epoch_index,\n",
    "        label)\n",
    "\n",
    "    print(filename)\n",
    "    print(epoch_data.shape)\n",
    "    if(not os.path.isfile(filename+png_extension)):\n",
    "        create_spectrogram(epoch_data, filename)"
   ]
  },
  {
   "cell_type": "code",
   "execution_count": null,
   "metadata": {},
   "outputs": [],
   "source": [
    "from joblib import Parallel, delayed\n",
    "\n",
    "# generating spectrograms parallel\n",
    "\n",
    "path = '../spectrograms/{0}_{1}'\n",
    "png_extension = '.png'\n",
    "\n",
    "Parallel(n_jobs=1)(delayed(get_spectrogram)(epoch_index=epoch_index,\n",
    "                                    label = y[epoch_index],\n",
    "                                    epoch_data=x_data[epoch_index]\n",
    "                                   ) for epoch_index in range(1))"
   ]
  },
  {
   "cell_type": "code",
   "execution_count": null,
   "metadata": {},
   "outputs": [],
   "source": [
    "'''\n",
    "  TensorFlow 2 based Keras model discussing Binary Cross Entropy loss.\n",
    "'''\n",
    "import tensorflow\n",
    "from tensorflow.keras.models import Sequential\n",
    "from tensorflow.keras.layers import Dense\n",
    "from tensorflow.keras.losses import BinaryCrossentropy\n",
    "import matplotlib.pyplot as plt\n",
    "import numpy as np\n",
    "from sklearn.datasets import make_circles\n",
    "\n",
    "# Configuration options\n",
    "num_samples_total = 1000\n",
    "training_split = 250\n",
    "loss_function_used = BinaryCrossentropy()\n",
    "\n",
    "# Configuration options\n",
    "num_samples_total = 1000\n",
    "training_split = 250\n",
    "loss_function_used = BinaryCrossentropy()"
   ]
  },
  {
   "cell_type": "code",
   "execution_count": 3,
   "metadata": {},
   "outputs": [
    {
     "ename": "NameError",
     "evalue": "name 'make_circles' is not defined",
     "output_type": "error",
     "traceback": [
      "\u001b[1;31m---------------------------------------------------------------------------\u001b[0m",
      "\u001b[1;31mNameError\u001b[0m                                 Traceback (most recent call last)",
      "Input \u001b[1;32mIn [3]\u001b[0m, in \u001b[0;36m<cell line: 2>\u001b[1;34m()\u001b[0m\n\u001b[0;32m      1\u001b[0m \u001b[38;5;66;03m# Generate data\u001b[39;00m\n\u001b[1;32m----> 2\u001b[0m X, targets \u001b[38;5;241m=\u001b[39m \u001b[43mmake_circles\u001b[49m(n_samples \u001b[38;5;241m=\u001b[39m num_samples_total, factor\u001b[38;5;241m=\u001b[39m\u001b[38;5;241m0.1\u001b[39m)\n\u001b[0;32m      3\u001b[0m X_training \u001b[38;5;241m=\u001b[39m X[training_split:, :]\n\u001b[0;32m      4\u001b[0m X_testing \u001b[38;5;241m=\u001b[39m X[:training_split, :]\n",
      "\u001b[1;31mNameError\u001b[0m: name 'make_circles' is not defined"
     ]
    }
   ],
   "source": [
    "# Generate data\n",
    "X, targets = make_circles(n_samples = num_samples_total, factor=0.1)\n",
    "X_training = X[training_split:, :]\n",
    "X_testing = X[:training_split, :]\n",
    "Targets_training = targets[training_split:]\n",
    "Targets_testing = targets[:training_split]"
   ]
  },
  {
   "cell_type": "code",
   "execution_count": 195,
   "metadata": {},
   "outputs": [
    {
     "data": {
      "text/plain": [
       "(1000, 2)"
      ]
     },
     "execution_count": 195,
     "metadata": {},
     "output_type": "execute_result"
    }
   ],
   "source": [
    "X.shape"
   ]
  },
  {
   "cell_type": "code",
   "execution_count": 196,
   "metadata": {},
   "outputs": [
    {
     "data": {
      "text/plain": [
       "(1000,)"
      ]
     },
     "execution_count": 196,
     "metadata": {},
     "output_type": "execute_result"
    }
   ],
   "source": [
    "targets.shape"
   ]
  },
  {
   "cell_type": "code",
   "execution_count": 198,
   "metadata": {},
   "outputs": [
    {
     "data": {
      "text/plain": [
       "array([[-0.0754251380736104  ,  0.06565857557529564 ],\n",
       "       [-0.8163392507171838  , -0.5775727034222677  ],\n",
       "       [ 0.41437558099328403 ,  0.9101059706849958  ],\n",
       "       ...,\n",
       "       [ 0.693653305812805   , -0.7203090248879068  ],\n",
       "       [-0.025130095443336987, -0.9996841892833     ],\n",
       "       [-0.7459411454241821  ,  0.6660118674342517  ]])"
      ]
     },
     "execution_count": 198,
     "metadata": {},
     "output_type": "execute_result"
    }
   ],
   "source": [
    "X"
   ]
  },
  {
   "cell_type": "code",
   "execution_count": 199,
   "metadata": {},
   "outputs": [
    {
     "data": {
      "text/plain": [
       "array([1, 0, 0, 0, 0, 0, 0, 1, 0, 0, 1, 1, 1, 0, 1, 0, 0, 1, 0, 1, 1, 1,\n",
       "       1, 0, 1, 1, 1, 0, 0, 0, 0, 1, 1, 1, 1, 0, 1, 0, 0, 1, 0, 0, 1, 1,\n",
       "       1, 1, 1, 0, 1, 0, 0, 0, 0, 1, 0, 1, 1, 1, 0, 0, 0, 0, 1, 0, 0, 0,\n",
       "       0, 1, 0, 1, 1, 0, 1, 0, 1, 1, 0, 1, 0, 0, 0, 0, 1, 0, 1, 0, 1, 1,\n",
       "       0, 1, 0, 0, 1, 1, 1, 0, 0, 0, 1, 0, 0, 1, 0, 1, 0, 0, 1, 0, 0, 1,\n",
       "       0, 0, 1, 1, 0, 1, 1, 0, 0, 0, 1, 1, 1, 1, 1, 0, 0, 1, 0, 1, 0, 1,\n",
       "       0, 1, 1, 0, 0, 0, 0, 0, 1, 1, 0, 0, 0, 1, 1, 1, 0, 0, 0, 0, 1, 1,\n",
       "       1, 0, 1, 1, 0, 0, 0, 0, 1, 1, 1, 0, 1, 0, 0, 1, 0, 0, 1, 1, 0, 0,\n",
       "       1, 1, 0, 0, 1, 1, 0, 1, 0, 1, 0, 1, 1, 1, 0, 0, 0, 1, 0, 1, 1, 1,\n",
       "       1, 1, 0, 0, 1, 0, 0, 1, 0, 0, 0, 0, 1, 1, 1, 0, 1, 0, 0, 1, 0, 1,\n",
       "       0, 0, 0, 1, 0, 1, 1, 0, 1, 1, 0, 1, 1, 0, 0, 1, 1, 1, 1, 1, 0, 1,\n",
       "       0, 0, 0, 0, 1, 1, 1, 1, 1, 0, 1, 1, 0, 0, 0, 0, 1, 0, 1, 0, 0, 0,\n",
       "       1, 1, 1, 1, 1, 0, 0, 1, 1, 0, 0, 0, 0, 0, 1, 1, 0, 1, 1, 1, 0, 1,\n",
       "       0, 1, 0, 0, 0, 1, 0, 0, 1, 0, 1, 1, 1, 0, 1, 1, 0, 1, 0, 0, 1, 0,\n",
       "       1, 1, 0, 1, 0, 1, 0, 0, 0, 1, 1, 1, 1, 0, 0, 1, 1, 0, 0, 0, 0, 1,\n",
       "       1, 1, 1, 0, 0, 0, 1, 0, 1, 0, 0, 1, 1, 1, 0, 1, 0, 0, 0, 0, 1, 0,\n",
       "       0, 0, 0, 0, 0, 1, 1, 0, 0, 0, 0, 0, 1, 1, 0, 1, 0, 0, 0, 0, 0, 0,\n",
       "       1, 1, 0, 1, 0, 0, 0, 1, 1, 0, 0, 1, 0, 0, 0, 0, 0, 0, 0, 1, 1, 1,\n",
       "       1, 0, 1, 0, 1, 0, 0, 0, 0, 0, 1, 1, 0, 1, 0, 1, 0, 0, 1, 0, 1, 0,\n",
       "       1, 0, 1, 1, 1, 1, 1, 0, 1, 0, 1, 1, 0, 1, 1, 0, 0, 1, 1, 1, 0, 1,\n",
       "       0, 1, 0, 0, 0, 0, 1, 1, 1, 0, 1, 1, 1, 0, 0, 1, 1, 1, 0, 0, 0, 1,\n",
       "       1, 1, 0, 0, 1, 1, 0, 1, 1, 0, 0, 1, 1, 0, 1, 1, 0, 1, 0, 1, 1, 0,\n",
       "       0, 1, 0, 1, 0, 1, 1, 0, 0, 1, 0, 0, 1, 0, 1, 0, 0, 0, 1, 1, 1, 0,\n",
       "       1, 0, 1, 0, 1, 1, 1, 0, 0, 1, 1, 1, 1, 1, 1, 0, 1, 0, 1, 1, 1, 0,\n",
       "       1, 1, 0, 1, 0, 0, 0, 1, 0, 0, 0, 1, 1, 0, 1, 0, 0, 0, 0, 0, 1, 1,\n",
       "       0, 1, 1, 1, 0, 1, 0, 0, 0, 0, 0, 1, 1, 1, 0, 0, 0, 1, 1, 0, 1, 0,\n",
       "       0, 1, 1, 1, 0, 0, 1, 0, 1, 1, 1, 1, 0, 0, 1, 1, 1, 0, 0, 0, 1, 0,\n",
       "       0, 0, 1, 1, 0, 0, 1, 0, 1, 1, 0, 1, 1, 1, 1, 1, 1, 1, 1, 0, 0, 0,\n",
       "       0, 1, 0, 1, 0, 1, 1, 1, 1, 0, 0, 0, 1, 1, 0, 1, 0, 1, 0, 1, 0, 0,\n",
       "       1, 1, 0, 0, 1, 1, 1, 0, 0, 1, 0, 1, 1, 0, 0, 1, 0, 0, 0, 0, 1, 1,\n",
       "       0, 0, 1, 0, 0, 0, 1, 0, 1, 0, 1, 0, 0, 0, 1, 1, 1, 0, 1, 1, 1, 0,\n",
       "       0, 1, 0, 0, 0, 0, 1, 0, 1, 1, 1, 1, 1, 0, 1, 0, 0, 0, 0, 1, 0, 1,\n",
       "       1, 0, 0, 1, 1, 1, 1, 1, 1, 0, 0, 0, 1, 1, 1, 0, 1, 1, 1, 1, 1, 0,\n",
       "       0, 1, 0, 0, 0, 0, 0, 1, 0, 1, 1, 0, 1, 0, 0, 0, 1, 1, 1, 1, 0, 1,\n",
       "       1, 0, 1, 1, 0, 1, 1, 0, 0, 0, 1, 0, 1, 1, 1, 1, 1, 1, 1, 0, 1, 0,\n",
       "       0, 1, 1, 1, 1, 1, 1, 0, 0, 0, 0, 0, 0, 0, 1, 0, 0, 0, 1, 0, 0, 1,\n",
       "       0, 0, 0, 0, 1, 1, 0, 0, 0, 1, 0, 0, 1, 1, 1, 0, 0, 1, 0, 0, 0, 1,\n",
       "       1, 0, 1, 1, 1, 1, 1, 1, 0, 0, 1, 1, 1, 0, 0, 0, 1, 0, 1, 0, 0, 1,\n",
       "       0, 1, 1, 1, 0, 0, 1, 0, 0, 0, 1, 1, 0, 1, 1, 1, 1, 0, 0, 0, 1, 0,\n",
       "       1, 0, 1, 1, 0, 0, 1, 1, 0, 0, 1, 0, 1, 1, 0, 0, 1, 1, 0, 1, 1, 0,\n",
       "       0, 1, 0, 1, 0, 0, 1, 1, 0, 0, 1, 1, 1, 0, 1, 1, 1, 1, 0, 0, 1, 0,\n",
       "       1, 1, 1, 0, 1, 1, 1, 1, 0, 1, 0, 0, 1, 1, 1, 1, 1, 0, 0, 0, 0, 1,\n",
       "       1, 0, 1, 0, 0, 1, 0, 1, 0, 1, 1, 1, 1, 0, 1, 0, 0, 1, 1, 1, 1, 1,\n",
       "       1, 0, 0, 1, 1, 0, 1, 1, 1, 0, 1, 0, 0, 1, 0, 0, 0, 0, 1, 1, 0, 1,\n",
       "       0, 1, 1, 1, 1, 0, 0, 0, 0, 0, 0, 0, 1, 0, 1, 1, 1, 0, 1, 0, 1, 0,\n",
       "       0, 0, 0, 1, 1, 0, 1, 0, 0, 0], dtype=int64)"
      ]
     },
     "execution_count": 199,
     "metadata": {},
     "output_type": "execute_result"
    }
   ],
   "source": [
    "targets"
   ]
  },
  {
   "cell_type": "code",
   "execution_count": null,
   "metadata": {},
   "outputs": [],
   "source": []
  },
  {
   "cell_type": "code",
   "execution_count": null,
   "metadata": {},
   "outputs": [],
   "source": []
  },
  {
   "cell_type": "code",
   "execution_count": null,
   "metadata": {},
   "outputs": [],
   "source": []
  },
  {
   "cell_type": "code",
   "execution_count": null,
   "metadata": {},
   "outputs": [],
   "source": []
  },
  {
   "cell_type": "code",
   "execution_count": null,
   "metadata": {},
   "outputs": [],
   "source": []
  },
  {
   "cell_type": "code",
   "execution_count": null,
   "metadata": {},
   "outputs": [],
   "source": []
  }
 ],
 "metadata": {
  "kernelspec": {
   "display_name": "Python 3 (ipykernel)",
   "language": "python",
   "name": "python3"
  },
  "language_info": {
   "codemirror_mode": {
    "name": "ipython",
    "version": 3
   },
   "file_extension": ".py",
   "mimetype": "text/x-python",
   "name": "python",
   "nbconvert_exporter": "python",
   "pygments_lexer": "ipython3",
   "version": "3.9.12"
  }
 },
 "nbformat": 4,
 "nbformat_minor": 4
}
