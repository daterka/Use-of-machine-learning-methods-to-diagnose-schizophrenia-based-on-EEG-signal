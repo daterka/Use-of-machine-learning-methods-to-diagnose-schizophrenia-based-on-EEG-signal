{
 "cells": [
  {
   "cell_type": "code",
   "execution_count": 2,
   "id": "013adb54",
   "metadata": {},
   "outputs": [],
   "source": [
    "import os\n",
    "\n",
    "import tensorflow as tf\n",
    "\n",
    "from tensorflow.keras.models import Model,Sequential\n",
    "from tensorflow.keras.layers import Dense, Dropout, Flatten\n",
    "from tensorflow.keras import regularizers\n",
    "\n",
    "import raw_data_loader as data_loader\n",
    "\n",
    "import model_runner"
   ]
  },
  {
   "cell_type": "code",
   "execution_count": 3,
   "id": "f5ff259d",
   "metadata": {},
   "outputs": [
    {
     "data": {
      "text/plain": [
       "'/device:GPU:0'"
      ]
     },
     "execution_count": 3,
     "metadata": {},
     "output_type": "execute_result"
    }
   ],
   "source": [
    "# os.environ[\"CUDA_VISIBLE_DEVICES\"] = \"-1\"\n",
    "tf.test.gpu_device_name()"
   ]
  },
  {
   "cell_type": "code",
   "execution_count": 4,
   "id": "833ae4f7",
   "metadata": {},
   "outputs": [],
   "source": [
    "edfs_path = \"../../../dataverse_files\"\n",
    "save_path = '../../../Results/FCNN'"
   ]
  },
  {
   "cell_type": "code",
   "execution_count": 5,
   "id": "ea30fe77",
   "metadata": {},
   "outputs": [],
   "source": [
    "signal_segment_len = 5.0\n",
    "data_split_ratio = 0.2\n",
    "seed=1337\n",
    "\n",
    "learning_rate = 0.001\n",
    "epochs_n = 150\n",
    "patience = 25\n",
    "batch_size = 32\n",
    "validation_split = 0.2\n",
    "\n",
    "input_shape=None"
   ]
  },
  {
   "cell_type": "markdown",
   "id": "31d598ef",
   "metadata": {},
   "source": [
    "### Loading data from edf files, segmenting and splitting to train and test datasets"
   ]
  },
  {
   "cell_type": "code",
   "execution_count": 6,
   "id": "5eb29333",
   "metadata": {},
   "outputs": [
    {
     "name": "stdout",
     "output_type": "stream",
     "text": [
      "Not setting metadata\n",
      "5771 matching events found\n",
      "No baseline correction applied\n",
      "0 bad epochs dropped\n",
      "\n",
      "Epochs number per patient:  [185, 182, 182, 185, 189, 186, 182, 182, 181, 223, 183, 180, 193, 173, 169, 229, 192, 241, 178, 148, 269, 182, 237, 170, 272, 217, 227, 434]\n",
      "\n",
      "negative:  3165\n",
      "positive:  2606\n",
      "\n",
      "X_train shape: (4616, 1250, 19)\n",
      "X_test shape: (1155, 1250, 19)\n",
      "\n",
      "input shape: (1250, 19)\n"
     ]
    }
   ],
   "source": [
    "X_train, X_test, y_train, y_test = data_loader.load_and_split_data(edfs_path, signal_segment_len, data_split_ratio, seed)"
   ]
  },
  {
   "cell_type": "code",
   "execution_count": 7,
   "id": "a1c6d184",
   "metadata": {},
   "outputs": [
    {
     "data": {
      "text/plain": [
       "(1250, 19)"
      ]
     },
     "execution_count": 7,
     "metadata": {},
     "output_type": "execute_result"
    }
   ],
   "source": [
    "input_shape = data_loader.input_shape\n",
    "input_shape"
   ]
  },
  {
   "cell_type": "markdown",
   "id": "4f5e0ab1",
   "metadata": {},
   "source": [
    "## Models"
   ]
  },
  {
   "cell_type": "code",
   "execution_count": 18,
   "id": "a690dd5e",
   "metadata": {},
   "outputs": [],
   "source": [
    "from tensorflow.keras import layers\n",
    "\n",
    "def build_model_FCNN(input_shape, opt):    \n",
    "    model = Sequential()\n",
    "    \n",
    "    model.add(Flatten(input_shape=input_shape))\n",
    "    \n",
    "    model.add(Dense(256, activation='relu'))\n",
    "    model.add(Dropout(0.5))\n",
    "    \n",
    "    model.add(Dense(256, activation='relu'))\n",
    "    model.add(Dropout(0.5))\n",
    "    \n",
    "    model.add(Dense(128, activation='relu'))\n",
    "    model.add(Dropout(0.5))\n",
    "    \n",
    "    model.add(Dense(64, activation='relu'))\n",
    "    model.add(Dropout(0.5))\n",
    "    \n",
    "    model.add(Dense(1, activation='sigmoid'))\n",
    "    \n",
    "    model._name = 'FCNN'\n",
    "    \n",
    "    model.compile(optimizer=opt, \n",
    "          loss='binary_crossentropy',\n",
    "          metrics=['accuracy'])\n",
    "    \n",
    "    \n",
    "    model.summary()\n",
    "    \n",
    "    return model"
   ]
  },
  {
   "cell_type": "code",
   "execution_count": null,
   "id": "5f612364",
   "metadata": {},
   "outputs": [
    {
     "name": "stdout",
     "output_type": "stream",
     "text": [
      "batch size: 32\n",
      "learning rate: 0.001\n",
      "epochs: 150\n",
      "Model: \"FCNN\"\n",
      "_________________________________________________________________\n",
      " Layer (type)                Output Shape              Param #   \n",
      "=================================================================\n",
      " flatten_5 (Flatten)         (None, 23750)             0         \n",
      "                                                                 \n",
      " dense_25 (Dense)            (None, 256)               6080256   \n",
      "                                                                 \n",
      " dropout_15 (Dropout)        (None, 256)               0         \n",
      "                                                                 \n",
      " dense_26 (Dense)            (None, 256)               65792     \n",
      "                                                                 \n",
      " dropout_16 (Dropout)        (None, 256)               0         \n",
      "                                                                 \n",
      " dense_27 (Dense)            (None, 128)               32896     \n",
      "                                                                 \n",
      " dropout_17 (Dropout)        (None, 128)               0         \n",
      "                                                                 \n",
      " dense_28 (Dense)            (None, 64)                8256      \n",
      "                                                                 \n",
      " dropout_18 (Dropout)        (None, 64)                0         \n",
      "                                                                 \n",
      " dense_29 (Dense)            (None, 1)                 65        \n",
      "                                                                 \n",
      "=================================================================\n",
      "Total params: 6,187,265\n",
      "Trainable params: 6,187,265\n",
      "Non-trainable params: 0\n",
      "_________________________________________________________________\n",
      "Epoch 1/150\n",
      "116/116 [==============================] - 3s 19ms/step - loss: 24.3220 - accuracy: 0.5320 - val_loss: 2.1287 - val_accuracy: 0.5541\n",
      "Epoch 2/150\n",
      "116/116 [==============================] - 2s 17ms/step - loss: 12.5658 - accuracy: 0.5615 - val_loss: 1.3821 - val_accuracy: 0.5455\n",
      "Epoch 3/150\n",
      "116/116 [==============================] - 2s 16ms/step - loss: 8.4209 - accuracy: 0.5601 - val_loss: 0.6926 - val_accuracy: 0.5628\n",
      "Epoch 4/150\n",
      "116/116 [==============================] - 2s 17ms/step - loss: 4.3813 - accuracy: 0.5680 - val_loss: 0.5467 - val_accuracy: 0.6623\n",
      "Epoch 5/150\n",
      "116/116 [==============================] - 2s 17ms/step - loss: 3.5712 - accuracy: 0.5655 - val_loss: 0.5763 - val_accuracy: 0.6677\n",
      "Epoch 6/150\n",
      "116/116 [==============================] - 2s 17ms/step - loss: 2.1270 - accuracy: 0.5807 - val_loss: 0.5777 - val_accuracy: 0.6623\n",
      "Epoch 7/150\n",
      "116/116 [==============================] - 2s 18ms/step - loss: 1.4703 - accuracy: 0.5818 - val_loss: 0.6539 - val_accuracy: 0.5747\n",
      "Epoch 8/150\n",
      "116/116 [==============================] - 2s 19ms/step - loss: 1.1731 - accuracy: 0.5921 - val_loss: 0.6690 - val_accuracy: 0.5682\n",
      "Epoch 9/150\n",
      "116/116 [==============================] - 2s 18ms/step - loss: 1.0568 - accuracy: 0.5924 - val_loss: 0.6301 - val_accuracy: 0.6180\n",
      "Epoch 10/150\n",
      "116/116 [==============================] - 2s 17ms/step - loss: 1.2653 - accuracy: 0.6032 - val_loss: 0.6725 - val_accuracy: 0.5725\n",
      "Epoch 11/150\n",
      "116/116 [==============================] - 2s 17ms/step - loss: 0.9018 - accuracy: 0.5986 - val_loss: 0.6617 - val_accuracy: 0.5823\n",
      "Epoch 12/150\n",
      "116/116 [==============================] - 2s 17ms/step - loss: 1.1251 - accuracy: 0.5878 - val_loss: 0.6122 - val_accuracy: 0.6212\n",
      "Epoch 13/150\n",
      "116/116 [==============================] - 2s 16ms/step - loss: 0.8633 - accuracy: 0.5905 - val_loss: 0.6680 - val_accuracy: 0.5584\n",
      "Epoch 14/150\n",
      "116/116 [==============================] - 2s 17ms/step - loss: 0.8791 - accuracy: 0.5850 - val_loss: 0.6394 - val_accuracy: 0.5909\n",
      "Epoch 15/150\n",
      "116/116 [==============================] - 2s 16ms/step - loss: 0.7511 - accuracy: 0.5742 - val_loss: 0.6719 - val_accuracy: 0.5498\n",
      "Epoch 16/150\n",
      "116/116 [==============================] - 2s 16ms/step - loss: 0.7207 - accuracy: 0.5899 - val_loss: 0.6460 - val_accuracy: 0.5736\n",
      "Epoch 17/150\n",
      "116/116 [==============================] - 2s 16ms/step - loss: 0.8923 - accuracy: 0.6140 - val_loss: 0.6242 - val_accuracy: 0.5985\n",
      "Epoch 18/150\n",
      "116/116 [==============================] - 2s 16ms/step - loss: 0.7233 - accuracy: 0.5986 - val_loss: 0.6195 - val_accuracy: 0.6115\n",
      "Epoch 19/150\n",
      "116/116 [==============================] - 2s 16ms/step - loss: 0.6747 - accuracy: 0.6027 - val_loss: 0.6122 - val_accuracy: 0.6223\n",
      "Epoch 20/150\n",
      "116/116 [==============================] - 2s 17ms/step - loss: 0.7570 - accuracy: 0.6203 - val_loss: 0.5709 - val_accuracy: 0.6688\n",
      "Epoch 21/150\n",
      "116/116 [==============================] - 2s 17ms/step - loss: 0.7294 - accuracy: 0.6176 - val_loss: 0.5768 - val_accuracy: 0.6634\n",
      "Epoch 22/150\n",
      "116/116 [==============================] - 2s 17ms/step - loss: 0.6426 - accuracy: 0.6398 - val_loss: 0.5655 - val_accuracy: 0.6688\n",
      "Epoch 23/150\n",
      "116/116 [==============================] - 2s 16ms/step - loss: 0.6484 - accuracy: 0.6425 - val_loss: 0.5601 - val_accuracy: 0.6721\n",
      "Epoch 24/150\n",
      "116/116 [==============================] - 2s 16ms/step - loss: 0.6403 - accuracy: 0.6300 - val_loss: 0.5891 - val_accuracy: 0.6418\n",
      "Epoch 25/150\n",
      "116/116 [==============================] - 2s 16ms/step - loss: 0.6128 - accuracy: 0.6452 - val_loss: 0.5513 - val_accuracy: 0.6829\n",
      "Epoch 26/150\n",
      "116/116 [==============================] - 2s 16ms/step - loss: 0.5971 - accuracy: 0.6501 - val_loss: 0.5423 - val_accuracy: 0.6916\n",
      "Epoch 27/150\n",
      "116/116 [==============================] - 2s 16ms/step - loss: 0.5975 - accuracy: 0.6628 - val_loss: 0.5380 - val_accuracy: 0.6981\n",
      "Epoch 28/150\n",
      "116/116 [==============================] - 2s 16ms/step - loss: 0.5901 - accuracy: 0.6736 - val_loss: 0.5412 - val_accuracy: 0.6926\n",
      "Epoch 29/150\n",
      "116/116 [==============================] - 2s 16ms/step - loss: 0.5858 - accuracy: 0.6863 - val_loss: 0.5319 - val_accuracy: 0.7013\n",
      "Epoch 30/150\n",
      "116/116 [==============================] - 2s 16ms/step - loss: 0.5986 - accuracy: 0.6817 - val_loss: 0.5384 - val_accuracy: 0.6926\n",
      "Epoch 31/150\n",
      "116/116 [==============================] - 2s 19ms/step - loss: 0.5521 - accuracy: 0.6953 - val_loss: 0.5234 - val_accuracy: 0.7100\n",
      "Epoch 32/150\n",
      "116/116 [==============================] - 2s 19ms/step - loss: 0.5464 - accuracy: 0.6915 - val_loss: 0.5332 - val_accuracy: 0.6926\n",
      "Epoch 33/150\n",
      " 58/116 [==============>...............] - ETA: 0s - loss: 0.5523 - accuracy: 0.6870"
     ]
    }
   ],
   "source": [
    "model_runner.run(X_train, X_test, y_train, y_test, input_shape, build_model_FCNN, \n",
    "    learning_rate, epochs_n, patience, batch_size, validation_split, save_path)"
   ]
  },
  {
   "cell_type": "code",
   "execution_count": null,
   "id": "168b3cf7",
   "metadata": {},
   "outputs": [],
   "source": []
  },
  {
   "cell_type": "code",
   "execution_count": 8,
   "id": "1a81bf7f",
   "metadata": {},
   "outputs": [],
   "source": [
    "from tensorflow.keras import layers\n",
    "\n",
    "def build_model_FCNN(input_shape, opt):    \n",
    "    model = Sequential()\n",
    "    \n",
    "    model.add(Flatten(input_shape=input_shape))\n",
    "    \n",
    "    model.add(Dense(256, activation='relu'))\n",
    "    model.add(Dropout(0.5))\n",
    "    \n",
    "    model.add(Dense(256, activation='relu'))\n",
    "    model.add(Dropout(0.5))\n",
    "    \n",
    "    model.add(Dense(128, activation='relu'))\n",
    "    model.add(Dropout(0.5))\n",
    "    \n",
    "    model.add(Dense(64, activation='relu'))\n",
    "    \n",
    "    model.add(Dense(1, activation='sigmoid'))\n",
    "    \n",
    "    model._name = 'FCNN'\n",
    "    \n",
    "    model.compile(optimizer=opt, \n",
    "          loss='binary_crossentropy',\n",
    "          metrics=['accuracy'])\n",
    "    \n",
    "    \n",
    "    model.summary()\n",
    "    \n",
    "    return model"
   ]
  },
  {
   "cell_type": "code",
   "execution_count": 9,
   "id": "55363385",
   "metadata": {},
   "outputs": [
    {
     "name": "stdout",
     "output_type": "stream",
     "text": [
      "batch size: 32\n",
      "learning rate: 0.001\n",
      "epochs: 150\n",
      "Model: \"FCNN\"\n",
      "_________________________________________________________________\n",
      " Layer (type)                Output Shape              Param #   \n",
      "=================================================================\n",
      " flatten (Flatten)           (None, 23750)             0         \n",
      "                                                                 \n",
      " dense (Dense)               (None, 256)               6080256   \n",
      "                                                                 \n",
      " dropout (Dropout)           (None, 256)               0         \n",
      "                                                                 \n",
      " dense_1 (Dense)             (None, 256)               65792     \n",
      "                                                                 \n",
      " dropout_1 (Dropout)         (None, 256)               0         \n",
      "                                                                 \n",
      " dense_2 (Dense)             (None, 128)               32896     \n",
      "                                                                 \n",
      " dropout_2 (Dropout)         (None, 128)               0         \n",
      "                                                                 \n",
      " dense_3 (Dense)             (None, 64)                8256      \n",
      "                                                                 \n",
      " dense_4 (Dense)             (None, 1)                 65        \n",
      "                                                                 \n",
      "=================================================================\n",
      "Total params: 6,187,265\n",
      "Trainable params: 6,187,265\n",
      "Non-trainable params: 0\n",
      "_________________________________________________________________\n",
      "Epoch 1/150\n",
      "116/116 [==============================] - 3s 20ms/step - loss: 12.2232 - accuracy: 0.5525 - val_loss: 1.7615 - val_accuracy: 0.6017\n",
      "Epoch 2/150\n",
      "116/116 [==============================] - 2s 17ms/step - loss: 8.2172 - accuracy: 0.5848 - val_loss: 1.2171 - val_accuracy: 0.6277\n",
      "Epoch 3/150\n",
      "116/116 [==============================] - 2s 17ms/step - loss: 5.9605 - accuracy: 0.5832 - val_loss: 0.9316 - val_accuracy: 0.6461\n",
      "Epoch 4/150\n",
      "116/116 [==============================] - 2s 17ms/step - loss: 5.4465 - accuracy: 0.5907 - val_loss: 0.6800 - val_accuracy: 0.6558\n",
      "Epoch 5/150\n",
      "116/116 [==============================] - 2s 17ms/step - loss: 3.3316 - accuracy: 0.5718 - val_loss: 0.6077 - val_accuracy: 0.6634\n",
      "Epoch 6/150\n",
      "116/116 [==============================] - 2s 16ms/step - loss: 2.4695 - accuracy: 0.5943 - val_loss: 0.6601 - val_accuracy: 0.6364\n",
      "Epoch 7/150\n",
      "116/116 [==============================] - 2s 18ms/step - loss: 1.5957 - accuracy: 0.5986 - val_loss: 0.6925 - val_accuracy: 0.6017\n",
      "Epoch 8/150\n",
      "116/116 [==============================] - 2s 16ms/step - loss: 1.1299 - accuracy: 0.5948 - val_loss: 0.6400 - val_accuracy: 0.6126\n",
      "Epoch 9/150\n",
      "116/116 [==============================] - 2s 16ms/step - loss: 1.1299 - accuracy: 0.5929 - val_loss: 0.6339 - val_accuracy: 0.5942\n",
      "Epoch 10/150\n",
      "116/116 [==============================] - 2s 17ms/step - loss: 0.8947 - accuracy: 0.5799 - val_loss: 0.6305 - val_accuracy: 0.5833\n",
      "Epoch 11/150\n",
      "116/116 [==============================] - 2s 17ms/step - loss: 0.7900 - accuracy: 0.5761 - val_loss: 0.6378 - val_accuracy: 0.5693\n",
      "Epoch 12/150\n",
      "116/116 [==============================] - 2s 16ms/step - loss: 0.8078 - accuracy: 0.5618 - val_loss: 0.6287 - val_accuracy: 0.5725\n",
      "Epoch 13/150\n",
      "116/116 [==============================] - 2s 17ms/step - loss: 0.7731 - accuracy: 0.5626 - val_loss: 0.6495 - val_accuracy: 0.5433\n",
      "Epoch 14/150\n",
      "116/116 [==============================] - 2s 17ms/step - loss: 0.6996 - accuracy: 0.5517 - val_loss: 0.6648 - val_accuracy: 0.5249\n",
      "Epoch 15/150\n",
      "116/116 [==============================] - 2s 17ms/step - loss: 0.6685 - accuracy: 0.5628 - val_loss: 0.6236 - val_accuracy: 0.5714\n",
      "Epoch 16/150\n",
      "116/116 [==============================] - 2s 16ms/step - loss: 0.6888 - accuracy: 0.5753 - val_loss: 0.6125 - val_accuracy: 0.5844\n",
      "Epoch 17/150\n",
      "116/116 [==============================] - 2s 17ms/step - loss: 0.6525 - accuracy: 0.5910 - val_loss: 0.5994 - val_accuracy: 0.6050\n",
      "Epoch 18/150\n",
      "116/116 [==============================] - 2s 17ms/step - loss: 0.6538 - accuracy: 0.5915 - val_loss: 0.5959 - val_accuracy: 0.6093\n",
      "Epoch 19/150\n",
      "116/116 [==============================] - 2s 17ms/step - loss: 0.6582 - accuracy: 0.5934 - val_loss: 0.5985 - val_accuracy: 0.6071\n",
      "Epoch 20/150\n",
      "116/116 [==============================] - 2s 17ms/step - loss: 0.6531 - accuracy: 0.5886 - val_loss: 0.5786 - val_accuracy: 0.6320\n",
      "Epoch 21/150\n",
      "116/116 [==============================] - 2s 17ms/step - loss: 0.6450 - accuracy: 0.5926 - val_loss: 0.6023 - val_accuracy: 0.6245\n",
      "Epoch 22/150\n",
      "116/116 [==============================] - 2s 16ms/step - loss: 0.6441 - accuracy: 0.6010 - val_loss: 0.5702 - val_accuracy: 0.6439\n",
      "Epoch 23/150\n",
      "116/116 [==============================] - 2s 17ms/step - loss: 0.6708 - accuracy: 0.6075 - val_loss: 0.5870 - val_accuracy: 0.6104\n",
      "Epoch 24/150\n",
      "116/116 [==============================] - 2s 16ms/step - loss: 0.6896 - accuracy: 0.5834 - val_loss: 0.5933 - val_accuracy: 0.6050\n",
      "Epoch 25/150\n",
      "116/116 [==============================] - 2s 17ms/step - loss: 0.6243 - accuracy: 0.5878 - val_loss: 0.5919 - val_accuracy: 0.6050\n",
      "Epoch 26/150\n",
      "116/116 [==============================] - 2s 17ms/step - loss: 0.6347 - accuracy: 0.5951 - val_loss: 0.5727 - val_accuracy: 0.6353\n",
      "Epoch 27/150\n",
      "116/116 [==============================] - 2s 18ms/step - loss: 0.5966 - accuracy: 0.6224 - val_loss: 0.5640 - val_accuracy: 0.6450\n",
      "Epoch 28/150\n",
      "116/116 [==============================] - 2s 17ms/step - loss: 0.6136 - accuracy: 0.6246 - val_loss: 0.5831 - val_accuracy: 0.6169\n",
      "Epoch 29/150\n",
      "116/116 [==============================] - 2s 17ms/step - loss: 0.6108 - accuracy: 0.6081 - val_loss: 0.5774 - val_accuracy: 0.6277\n",
      "Epoch 30/150\n",
      "114/116 [============================>.] - ETA: 0s - loss: 0.9753 - accuracy: 0.6069Restoring model weights from the end of the best epoch: 5.\n",
      "116/116 [==============================] - 2s 17ms/step - loss: 0.9726 - accuracy: 0.6075 - val_loss: 0.5620 - val_accuracy: 0.6461\n",
      "Epoch 30: early stopping\n"
     ]
    },
    {
     "data": {
      "image/png": "[encoded data removed]",
      "text/plain": [
       "<Figure size 432x288 with 1 Axes>"
      ]
     },
     "metadata": {
      "needs_background": "light"
     },
     "output_type": "display_data"
    },
    {
     "data": {
      "image/png": "[encoded data removed]",
      "text/plain": [
       "<Figure size 432x288 with 1 Axes>"
      ]
     },
     "metadata": {
      "needs_background": "light"
     },
     "output_type": "display_data"
    },
    {
     "name": "stdout",
     "output_type": "stream",
     "text": [
      "Test Accuracy: 0.6398268398268399\n",
      "F1 score: 0.5478260869565218\n"
     ]
    },
    {
     "data": {
      "image/png": "[encoded data removed]",
      "text/plain": [
       "<Figure size 432x288 with 2 Axes>"
      ]
     },
     "metadata": {
      "needs_background": "light"
     },
     "output_type": "display_data"
    },
    {
     "data": {
      "image/png": "[encoded data removed]",
      "text/plain": [
       "<Figure size 432x288 with 1 Axes>"
      ]
     },
     "metadata": {
      "needs_background": "light"
     },
     "output_type": "display_data"
    }
   ],
   "source": [
    "model_runner.run(X_train, X_test, y_train, y_test, input_shape, build_model_FCNN, \n",
    "    learning_rate, epochs_n, patience, batch_size, validation_split, save_path)"
   ]
  },
  {
   "cell_type": "code",
   "execution_count": null,
   "id": "749bd813",
   "metadata": {},
   "outputs": [],
   "source": []
  },
  {
   "cell_type": "code",
   "execution_count": null,
   "id": "e2198a49",
   "metadata": {},
   "outputs": [],
   "source": []
  }
 ],
 "metadata": {
  "kernelspec": {
   "display_name": "Python 3 (ipykernel)",
   "language": "python",
   "name": "python3"
  },
  "language_info": {
   "codemirror_mode": {
    "name": "ipython",
    "version": 3
   },
   "file_extension": ".py",
   "mimetype": "text/x-python",
   "name": "python",
   "nbconvert_exporter": "python",
   "pygments_lexer": "ipython3",
   "version": "3.9.12"
  }
 },
 "nbformat": 4,
 "nbformat_minor": 5
}
