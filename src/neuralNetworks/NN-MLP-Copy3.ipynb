{
 "cells": [
  {
   "cell_type": "markdown",
   "metadata": {},
   "source": [
    "### Imports"
   ]
  },
  {
   "cell_type": "code",
   "execution_count": 1,
   "metadata": {},
   "outputs": [],
   "source": [
    "import gc\n",
    "import time\n",
    "import os\n",
    "\n",
    "import numpy as np\n",
    "from matplotlib import pyplot as plt\n",
    "\n",
    "import mne\n",
    "\n",
    "from sklearn.model_selection import train_test_split\n",
    "from sklearn.metrics import accuracy_score, ConfusionMatrixDisplay, RocCurveDisplay, f1_score\n",
    "from sklearn.model_selection import cross_val_score\n",
    "\n",
    "from sklearn.preprocessing import MinMaxScaler"
   ]
  },
  {
   "cell_type": "code",
   "execution_count": 2,
   "metadata": {},
   "outputs": [],
   "source": [
    "from keras.models import Sequential, Model\n",
    "from keras.layers import Dense, Conv2D, MaxPool2D , Flatten\n",
    "\n",
    "from keras.optimizers import Adam\n",
    "from keras.callbacks import EarlyStopping\n",
    "from keras.layers import Dense, Dropout, Flatten\n",
    "from tensorflow.keras import regularizers\n",
    "from pathlib import Path\n",
    "\n",
    "import tensorflow as tf"
   ]
  },
  {
   "cell_type": "code",
   "execution_count": null,
   "metadata": {},
   "outputs": [],
   "source": []
  },
  {
   "cell_type": "code",
   "execution_count": 3,
   "metadata": {},
   "outputs": [
    {
     "data": {
      "text/plain": [
       "'/device:GPU:0'"
      ]
     },
     "execution_count": 3,
     "metadata": {},
     "output_type": "execute_result"
    }
   ],
   "source": [
    "# os.environ[\"CUDA_VISIBLE_DEVICES\"] = \"-1\"\n",
    "tf.test.gpu_device_name()"
   ]
  },
  {
   "cell_type": "markdown",
   "metadata": {},
   "source": [
    "## Preprocessing"
   ]
  },
  {
   "cell_type": "markdown",
   "metadata": {},
   "source": [
    "### Loading edf"
   ]
  },
  {
   "cell_type": "code",
   "execution_count": 5,
   "metadata": {},
   "outputs": [],
   "source": [
    "edfs_path = \"..\\..\\..\\dataverse_files\""
   ]
  },
  {
   "cell_type": "code",
   "execution_count": 6,
   "metadata": {},
   "outputs": [],
   "source": [
    "def load_patients_data(edfs_path):\n",
    "    raw_patients_data = []\n",
    "    \n",
    "    edfs_file_names = [f for f in os.listdir(edfs_path) if f.endswith('.edf')]\n",
    "    \n",
    "    for file_name in edfs_file_names:\n",
    "        path = edfs_path + '\\\\' + file_name \n",
    "        raw_data = mne.io.read_raw_edf(path, preload=True, verbose=False)\n",
    "        raw_patients_data.append(raw_data)\n",
    "\n",
    "    return raw_patients_data"
   ]
  },
  {
   "cell_type": "code",
   "execution_count": 7,
   "metadata": {},
   "outputs": [],
   "source": [
    "raw_patients_data = load_patients_data(edfs_path)"
   ]
  },
  {
   "cell_type": "markdown",
   "metadata": {},
   "source": [
    "### Filtered EEG signals segmentation"
   ]
  },
  {
   "cell_type": "code",
   "execution_count": 8,
   "metadata": {},
   "outputs": [],
   "source": [
    "def get_label(edf):\n",
    "    patient_edf_file_name = edf.filenames[0].split('\\\\')[-1]\n",
    "    isSick = patient_edf_file_name.lower().startswith('s')\n",
    "    return int(isSick == True) # 1 - is sick, 0 is healthy"
   ]
  },
  {
   "cell_type": "code",
   "execution_count": 9,
   "metadata": {},
   "outputs": [],
   "source": [
    "def print_info(epochs_num_per_patient, labels):\n",
    "    print('\\nEpochs number per patient: ', epochs_num_per_patient)\n",
    "    \n",
    "    class_0_num = sum(labels) \n",
    "    class_1_num = len(labels)-sum(labels)\n",
    "\n",
    "    print('\\nnegative: ', class_0_num)\n",
    "    print('positive: ', class_1_num)"
   ]
  },
  {
   "cell_type": "code",
   "execution_count": 10,
   "metadata": {},
   "outputs": [],
   "source": [
    "def transform_patients_data_into_X_y_sets(patients_data, info=True):\n",
    "    epochs_per_patient = []\n",
    "    labels = []\n",
    "    \n",
    "    epochs_num_per_patient = []\n",
    "    for edf in raw_patients_data:\n",
    "        epochs = mne.make_fixed_length_epochs(edf, duration=5.0, preload=True, verbose=False)\n",
    "        epochs_per_patient.append(epochs)\n",
    "        epochs_num_per_patient.append(len(epochs))\n",
    "        \n",
    "        label = get_label(edf)\n",
    "        labels.extend([label for epoch in epochs])\n",
    "    \n",
    "    epochs = mne.concatenate_epochs(epochs_per_patient)\n",
    "\n",
    "    if info:\n",
    "        print_info(epochs_num_per_patient, labels)\n",
    "        \n",
    "    del epochs_num_per_patient\n",
    "    gc.collect()\n",
    "    \n",
    "    return (epochs, np.array(labels)) # (X, y)"
   ]
  },
  {
   "cell_type": "code",
   "execution_count": 11,
   "metadata": {},
   "outputs": [
    {
     "name": "stdout",
     "output_type": "stream",
     "text": [
      "Not setting metadata\n",
      "5771 matching events found\n",
      "No baseline correction applied\n",
      "0 bad epochs dropped\n",
      "\n",
      "Epochs number per patient:  [185, 182, 182, 185, 189, 186, 182, 182, 181, 223, 183, 180, 193, 173, 169, 229, 192, 241, 178, 148, 269, 182, 237, 170, 272, 217, 227, 434]\n",
      "\n",
      "negative:  3165\n",
      "positive:  2606\n"
     ]
    },
    {
     "data": {
      "text/plain": [
       "0"
      ]
     },
     "execution_count": 11,
     "metadata": {},
     "output_type": "execute_result"
    }
   ],
   "source": [
    "X, y = transform_patients_data_into_X_y_sets(raw_patients_data)\n",
    "del raw_patients_data\n",
    "gc.collect()"
   ]
  },
  {
   "cell_type": "code",
   "execution_count": 12,
   "metadata": {},
   "outputs": [
    {
     "name": "stdout",
     "output_type": "stream",
     "text": [
      "5771\n",
      "5771\n",
      "(1, 19, 1250)\n"
     ]
    }
   ],
   "source": [
    "print(len(y))\n",
    "print(len(X))\n",
    "print(X[0].get_data().shape)"
   ]
  },
  {
   "cell_type": "code",
   "execution_count": 13,
   "metadata": {},
   "outputs": [
    {
     "data": {
      "text/html": [
       "<div>\n",
       "<style scoped>\n",
       "    .dataframe tbody tr th:only-of-type {\n",
       "        vertical-align: middle;\n",
       "    }\n",
       "\n",
       "    .dataframe tbody tr th {\n",
       "        vertical-align: top;\n",
       "    }\n",
       "\n",
       "    .dataframe thead th {\n",
       "        text-align: right;\n",
       "    }\n",
       "</style>\n",
       "<table border=\"1\" class=\"dataframe\">\n",
       "  <thead>\n",
       "    <tr style=\"text-align: right;\">\n",
       "      <th></th>\n",
       "      <th>time</th>\n",
       "      <th>condition</th>\n",
       "      <th>epoch</th>\n",
       "      <th>Fp2</th>\n",
       "      <th>F8</th>\n",
       "      <th>T4</th>\n",
       "      <th>T6</th>\n",
       "      <th>O2</th>\n",
       "      <th>Fp1</th>\n",
       "      <th>F7</th>\n",
       "      <th>...</th>\n",
       "      <th>O1</th>\n",
       "      <th>F4</th>\n",
       "      <th>C4</th>\n",
       "      <th>P4</th>\n",
       "      <th>F3</th>\n",
       "      <th>C3</th>\n",
       "      <th>P3</th>\n",
       "      <th>Fz</th>\n",
       "      <th>Cz</th>\n",
       "      <th>Pz</th>\n",
       "    </tr>\n",
       "  </thead>\n",
       "  <tbody>\n",
       "    <tr>\n",
       "      <th>0</th>\n",
       "      <td>0</td>\n",
       "      <td>1</td>\n",
       "      <td>0</td>\n",
       "      <td>0.002500</td>\n",
       "      <td>0.002500</td>\n",
       "      <td>0.002500</td>\n",
       "      <td>0.00250</td>\n",
       "      <td>0.002500</td>\n",
       "      <td>0.0025</td>\n",
       "      <td>0.0025</td>\n",
       "      <td>...</td>\n",
       "      <td>0.00250</td>\n",
       "      <td>0.0025</td>\n",
       "      <td>0.002500</td>\n",
       "      <td>0.0025</td>\n",
       "      <td>0.0025</td>\n",
       "      <td>0.002500</td>\n",
       "      <td>0.00250</td>\n",
       "      <td>0.0025</td>\n",
       "      <td>0.0025</td>\n",
       "      <td>0.002500</td>\n",
       "    </tr>\n",
       "    <tr>\n",
       "      <th>1</th>\n",
       "      <td>4</td>\n",
       "      <td>1</td>\n",
       "      <td>0</td>\n",
       "      <td>0.002500</td>\n",
       "      <td>0.002500</td>\n",
       "      <td>0.002500</td>\n",
       "      <td>0.00250</td>\n",
       "      <td>0.002500</td>\n",
       "      <td>0.0025</td>\n",
       "      <td>0.0025</td>\n",
       "      <td>...</td>\n",
       "      <td>0.00250</td>\n",
       "      <td>0.0025</td>\n",
       "      <td>0.002500</td>\n",
       "      <td>0.0025</td>\n",
       "      <td>0.0025</td>\n",
       "      <td>0.002500</td>\n",
       "      <td>0.00250</td>\n",
       "      <td>0.0025</td>\n",
       "      <td>0.0025</td>\n",
       "      <td>0.002500</td>\n",
       "    </tr>\n",
       "    <tr>\n",
       "      <th>2</th>\n",
       "      <td>8</td>\n",
       "      <td>1</td>\n",
       "      <td>0</td>\n",
       "      <td>0.002500</td>\n",
       "      <td>0.002500</td>\n",
       "      <td>0.002500</td>\n",
       "      <td>0.00250</td>\n",
       "      <td>0.002500</td>\n",
       "      <td>0.0025</td>\n",
       "      <td>0.0025</td>\n",
       "      <td>...</td>\n",
       "      <td>0.00250</td>\n",
       "      <td>0.0025</td>\n",
       "      <td>0.002500</td>\n",
       "      <td>0.0025</td>\n",
       "      <td>0.0025</td>\n",
       "      <td>0.002500</td>\n",
       "      <td>0.00250</td>\n",
       "      <td>0.0025</td>\n",
       "      <td>0.0025</td>\n",
       "      <td>0.002500</td>\n",
       "    </tr>\n",
       "    <tr>\n",
       "      <th>3</th>\n",
       "      <td>12</td>\n",
       "      <td>1</td>\n",
       "      <td>0</td>\n",
       "      <td>0.461215</td>\n",
       "      <td>0.461215</td>\n",
       "      <td>0.308310</td>\n",
       "      <td>0.30831</td>\n",
       "      <td>0.155405</td>\n",
       "      <td>0.0025</td>\n",
       "      <td>0.0025</td>\n",
       "      <td>...</td>\n",
       "      <td>0.00250</td>\n",
       "      <td>0.0025</td>\n",
       "      <td>0.002500</td>\n",
       "      <td>0.0025</td>\n",
       "      <td>0.0025</td>\n",
       "      <td>-0.150405</td>\n",
       "      <td>-0.30331</td>\n",
       "      <td>0.0025</td>\n",
       "      <td>0.0025</td>\n",
       "      <td>-0.303310</td>\n",
       "    </tr>\n",
       "    <tr>\n",
       "      <th>4</th>\n",
       "      <td>16</td>\n",
       "      <td>1</td>\n",
       "      <td>0</td>\n",
       "      <td>0.461215</td>\n",
       "      <td>0.461215</td>\n",
       "      <td>0.461215</td>\n",
       "      <td>0.30831</td>\n",
       "      <td>0.155405</td>\n",
       "      <td>0.0025</td>\n",
       "      <td>0.0025</td>\n",
       "      <td>...</td>\n",
       "      <td>-0.30331</td>\n",
       "      <td>0.0025</td>\n",
       "      <td>0.155405</td>\n",
       "      <td>0.0025</td>\n",
       "      <td>0.0025</td>\n",
       "      <td>-0.150405</td>\n",
       "      <td>-0.30331</td>\n",
       "      <td>0.0025</td>\n",
       "      <td>0.0025</td>\n",
       "      <td>-0.150405</td>\n",
       "    </tr>\n",
       "  </tbody>\n",
       "</table>\n",
       "<p>5 rows × 22 columns</p>\n",
       "</div>"
      ],
      "text/plain": [
       "   time condition  epoch       Fp2        F8        T4       T6        O2  \\\n",
       "0     0         1      0  0.002500  0.002500  0.002500  0.00250  0.002500   \n",
       "1     4         1      0  0.002500  0.002500  0.002500  0.00250  0.002500   \n",
       "2     8         1      0  0.002500  0.002500  0.002500  0.00250  0.002500   \n",
       "3    12         1      0  0.461215  0.461215  0.308310  0.30831  0.155405   \n",
       "4    16         1      0  0.461215  0.461215  0.461215  0.30831  0.155405   \n",
       "\n",
       "      Fp1      F7  ...       O1      F4        C4      P4      F3        C3  \\\n",
       "0  0.0025  0.0025  ...  0.00250  0.0025  0.002500  0.0025  0.0025  0.002500   \n",
       "1  0.0025  0.0025  ...  0.00250  0.0025  0.002500  0.0025  0.0025  0.002500   \n",
       "2  0.0025  0.0025  ...  0.00250  0.0025  0.002500  0.0025  0.0025  0.002500   \n",
       "3  0.0025  0.0025  ...  0.00250  0.0025  0.002500  0.0025  0.0025 -0.150405   \n",
       "4  0.0025  0.0025  ... -0.30331  0.0025  0.155405  0.0025  0.0025 -0.150405   \n",
       "\n",
       "        P3      Fz      Cz        Pz  \n",
       "0  0.00250  0.0025  0.0025  0.002500  \n",
       "1  0.00250  0.0025  0.0025  0.002500  \n",
       "2  0.00250  0.0025  0.0025  0.002500  \n",
       "3 -0.30331  0.0025  0.0025 -0.303310  \n",
       "4 -0.30331  0.0025  0.0025 -0.150405  \n",
       "\n",
       "[5 rows x 22 columns]"
      ]
     },
     "execution_count": 13,
     "metadata": {},
     "output_type": "execute_result"
    }
   ],
   "source": [
    "X.to_data_frame().head()"
   ]
  },
  {
   "cell_type": "markdown",
   "metadata": {},
   "source": [
    "### Feature Extraction (Variance)"
   ]
  },
  {
   "cell_type": "code",
   "execution_count": 14,
   "metadata": {},
   "outputs": [],
   "source": [
    "np.set_printoptions(precision=50)"
   ]
  },
  {
   "cell_type": "code",
   "execution_count": 15,
   "metadata": {},
   "outputs": [
    {
     "name": "stdout",
     "output_type": "stream",
     "text": [
      "(19, 1250)\n"
     ]
    }
   ],
   "source": [
    "for epoch in X:\n",
    "    print (epoch.shape)\n",
    "    break"
   ]
  },
  {
   "cell_type": "code",
   "execution_count": 16,
   "metadata": {},
   "outputs": [
    {
     "name": "stdout",
     "output_type": "stream",
     "text": [
      "Input_N:  19\n",
      "Output_N:  2\n",
      "Hidden_N:  6\n"
     ]
    }
   ],
   "source": [
    "Input_N = X[0].get_data().shape[1] # input layer neurons number\n",
    "print('Input_N: ', Input_N)\n",
    "\n",
    "Output_N = 2 # classes: sick/positive = 1, not sick/negative = 0 // len(np.unique(y))\n",
    "print('Output_N: ', Output_N)\n",
    "\n",
    "Hidden_N = int(np.sqrt(Input_N*Output_N)) # neurons in hidden layer\n",
    "print('Hidden_N: ', Hidden_N)"
   ]
  },
  {
   "cell_type": "code",
   "execution_count": 17,
   "metadata": {},
   "outputs": [],
   "source": [
    "# Calculating energy for signal segments\n",
    "# X = np.array([[np.sqrt(statistics.variance(channel_data)) for channel_data in epoch] for epoch in X])\n",
    "X = np.array([[np.sqrt(np.var(channel_data)) for channel_data in epoch] for epoch in X])\n",
    "\n",
    "# X = np.array([[np.var(channel_data) for channel_data in epoch] for epoch in X])"
   ]
  },
  {
   "cell_type": "code",
   "execution_count": 18,
   "metadata": {},
   "outputs": [
    {
     "name": "stdout",
     "output_type": "stream",
     "text": [
      "0.0019119929414324517\n",
      "2.0679515313825692e-25\n"
     ]
    }
   ],
   "source": [
    "print(np.max(X))\n",
    "print(np.min(X))"
   ]
  },
  {
   "cell_type": "code",
   "execution_count": 18,
   "metadata": {},
   "outputs": [],
   "source": [
    "min_max_range = (0,1)\n",
    "scaler = MinMaxScaler()\n",
    "X = scaler.fit_transform(X)"
   ]
  },
  {
   "cell_type": "code",
   "execution_count": 19,
   "metadata": {},
   "outputs": [
    {
     "name": "stdout",
     "output_type": "stream",
     "text": [
      "1.0000000000000002\n",
      "0.0\n"
     ]
    }
   ],
   "source": [
    "print(np.max(X))\n",
    "print(np.min(X))"
   ]
  },
  {
   "cell_type": "code",
   "execution_count": 20,
   "metadata": {},
   "outputs": [
    {
     "data": {
      "text/plain": [
       "(5771, 19)"
      ]
     },
     "execution_count": 20,
     "metadata": {},
     "output_type": "execute_result"
    }
   ],
   "source": [
    "X.shape"
   ]
  },
  {
   "cell_type": "code",
   "execution_count": 21,
   "metadata": {},
   "outputs": [],
   "source": [
    "X_train, X_test, y_train, y_test = train_test_split(X, y, test_size=0.2, shuffle=True, random_state=1)"
   ]
  },
  {
   "cell_type": "code",
   "execution_count": 22,
   "metadata": {},
   "outputs": [
    {
     "name": "stdout",
     "output_type": "stream",
     "text": [
      "X_train:  (4616, 19)\n",
      "y_train:  (4616,)\n",
      "X_test:  (1155, 19)\n",
      "y_test:  (1155,)\n"
     ]
    }
   ],
   "source": [
    "print('X_train: ', X_train.shape)\n",
    "print('y_train: ', y_train.shape)\n",
    "print('X_test: ', X_test.shape)\n",
    "print('y_test: ', y_test.shape)"
   ]
  },
  {
   "cell_type": "markdown",
   "metadata": {},
   "source": [
    "# MLP with Keras - binary cross entropy"
   ]
  },
  {
   "cell_type": "code",
   "execution_count": 23,
   "id": "e6103a7d",
   "metadata": {},
   "outputs": [],
   "source": [
    "def plot_accuracy(history):\n",
    "    plt.plot(history.history['accuracy'])\n",
    "    plt.plot(history.history['val_accuracy'])\n",
    "    plt.title('model accuracy')\n",
    "    plt.ylabel('accuracy')\n",
    "    plt.xlabel('epoch')\n",
    "    plt.legend(['train', 'val'], loc='upper left')\n",
    "    plt.show()"
   ]
  },
  {
   "cell_type": "code",
   "execution_count": 24,
   "id": "8ee989bb",
   "metadata": {},
   "outputs": [],
   "source": [
    "def plot_loss(history):\n",
    "    plt.plot(history.history['loss'])\n",
    "    plt.plot(history.history['val_loss'])\n",
    "    plt.title('model loss')\n",
    "    plt.ylabel('loss')\n",
    "    plt.xlabel('epoch')\n",
    "    plt.legend(['train', 'val'], loc='upper left')\n",
    "    plt.show()\n"
   ]
  },
  {
   "cell_type": "code",
   "execution_count": 25,
   "id": "26ff4389",
   "metadata": {},
   "outputs": [],
   "source": [
    "def test_model_raw_data(X_test, y_test, model, save_path = ''):\n",
    "    predictions = model.predict(X_test, verbose=0)\n",
    "\n",
    "    predictions = [0 if x < 0.5 else 1 for x in predictions]\n",
    "\n",
    "    accuracy = accuracy_score(y_test, predictions)\n",
    "    print(\"Test Accuracy:\", accuracy)\n",
    "    \n",
    "    f1score = f1_score(y_test, predictions)\n",
    "    print(\"F1 score:\", f1score)\n",
    "    \n",
    "    ConfusionMatrixDisplay.from_predictions(y_test, predictions)\n",
    "    \n",
    "    to_file = len(save_path) > 0\n",
    "    \n",
    "    if to_file:\n",
    "        plt.savefig(f'{save_path}/{model.name}-confussion-matrix.png', facecolor='white', transparent=False, dpi=500)\n",
    "    \n",
    "    RocCurveDisplay.from_predictions(y_test, predictions)\n",
    "    \n",
    "    if to_file:\n",
    "        plt.savefig(f'{save_path}/{model.name}-roc-curve.png', facecolor='white', transparent=False, dpi=500)\n",
    "    "
   ]
  },
  {
   "cell_type": "code",
   "execution_count": null,
   "metadata": {},
   "outputs": [],
   "source": []
  },
  {
   "cell_type": "code",
   "execution_count": 19,
   "metadata": {},
   "outputs": [
    {
     "name": "stdout",
     "output_type": "stream",
     "text": [
      "Model: \"sequential\"\n",
      "_________________________________________________________________\n",
      " Layer (type)                Output Shape              Param #   \n",
      "=================================================================\n",
      " dense (Dense)               (None, 100)               2000      \n",
      "                                                                 \n",
      " dense_1 (Dense)             (None, 1)                 101       \n",
      "                                                                 \n",
      "=================================================================\n",
      "Total params: 2,101\n",
      "Trainable params: 2,101\n",
      "Non-trainable params: 0\n",
      "_________________________________________________________________\n"
     ]
    }
   ],
   "source": [
    "# Input shape\n",
    "input_shape = (Input_N,)\n",
    "\n",
    "model = Sequential()\n",
    "\n",
    "model.add(Dense(100, input_shape=input_shape, activation='relu'))\n",
    "\n",
    "model.add(Dense(1, activation='sigmoid'))\n",
    "\n",
    "model.compile()\n",
    "\n",
    "model.summary()"
   ]
  },
  {
   "cell_type": "code",
   "execution_count": 20,
   "metadata": {},
   "outputs": [
    {
     "data": {
      "image/png": "[encoded data removed]",
      "text/plain": [
       "<IPython.core.display.Image object>"
      ]
     },
     "execution_count": 20,
     "metadata": {},
     "output_type": "execute_result"
    }
   ],
   "source": [
    "tf.keras.utils.plot_model(model, to_file='model_plot_mlp.png', show_shapes=True, show_layer_names=True)\n"
   ]
  },
  {
   "cell_type": "code",
   "execution_count": 27,
   "metadata": {},
   "outputs": [],
   "source": [
    "opt = Adam(learning_rate=0.001)"
   ]
  },
  {
   "cell_type": "code",
   "execution_count": 28,
   "metadata": {},
   "outputs": [],
   "source": [
    "early_stopping = EarlyStopping(monitor='val_accuracy',\n",
    "                           patience=15,\n",
    "                           restore_best_weights=True,\n",
    "                           mode='max', \n",
    "                           verbose=1)"
   ]
  },
  {
   "cell_type": "code",
   "execution_count": 29,
   "metadata": {
    "scrolled": true
   },
   "outputs": [
    {
     "name": "stdout",
     "output_type": "stream",
     "text": [
      "Epoch 1/300\n",
      "116/116 [==============================] - 1s 5ms/step - loss: 0.6870 - accuracy: 0.5447 - val_loss: 0.6806 - val_accuracy: 0.5541\n",
      "Epoch 2/300\n",
      "116/116 [==============================] - 0s 4ms/step - loss: 0.6779 - accuracy: 0.5474 - val_loss: 0.6703 - val_accuracy: 0.5541\n",
      "Epoch 3/300\n",
      "116/116 [==============================] - 0s 4ms/step - loss: 0.6656 - accuracy: 0.5848 - val_loss: 0.6592 - val_accuracy: 0.5541\n",
      "Epoch 4/300\n",
      "116/116 [==============================] - 0s 4ms/step - loss: 0.6519 - accuracy: 0.6414 - val_loss: 0.6400 - val_accuracy: 0.6710\n",
      "Epoch 5/300\n",
      "116/116 [==============================] - 0s 4ms/step - loss: 0.6363 - accuracy: 0.6845 - val_loss: 0.6259 - val_accuracy: 0.6558\n",
      "Epoch 6/300\n",
      "116/116 [==============================] - 1s 4ms/step - loss: 0.6230 - accuracy: 0.6991 - val_loss: 0.6137 - val_accuracy: 0.6645\n",
      "Epoch 7/300\n",
      "116/116 [==============================] - 0s 4ms/step - loss: 0.6103 - accuracy: 0.7002 - val_loss: 0.6016 - val_accuracy: 0.6699\n",
      "Epoch 8/300\n",
      "116/116 [==============================] - 0s 4ms/step - loss: 0.5991 - accuracy: 0.7056 - val_loss: 0.5912 - val_accuracy: 0.6775\n",
      "Epoch 9/300\n",
      "116/116 [==============================] - 0s 4ms/step - loss: 0.5898 - accuracy: 0.7140 - val_loss: 0.5830 - val_accuracy: 0.6905\n",
      "Epoch 10/300\n",
      "116/116 [==============================] - 0s 4ms/step - loss: 0.5795 - accuracy: 0.7226 - val_loss: 0.5729 - val_accuracy: 0.6894\n",
      "Epoch 11/300\n",
      "116/116 [==============================] - 0s 4ms/step - loss: 0.5700 - accuracy: 0.7272 - val_loss: 0.5665 - val_accuracy: 0.7175\n",
      "Epoch 12/300\n",
      "116/116 [==============================] - 0s 4ms/step - loss: 0.5602 - accuracy: 0.7327 - val_loss: 0.5569 - val_accuracy: 0.7121\n",
      "Epoch 13/300\n",
      "116/116 [==============================] - 1s 4ms/step - loss: 0.5528 - accuracy: 0.7443 - val_loss: 0.5478 - val_accuracy: 0.7229\n",
      "Epoch 14/300\n",
      "116/116 [==============================] - 0s 4ms/step - loss: 0.5441 - accuracy: 0.7503 - val_loss: 0.5383 - val_accuracy: 0.7403\n",
      "Epoch 15/300\n",
      "116/116 [==============================] - 0s 4ms/step - loss: 0.5350 - accuracy: 0.7679 - val_loss: 0.5301 - val_accuracy: 0.7532\n",
      "Epoch 16/300\n",
      "116/116 [==============================] - 0s 4ms/step - loss: 0.5276 - accuracy: 0.7690 - val_loss: 0.5237 - val_accuracy: 0.7630\n",
      "Epoch 17/300\n",
      "116/116 [==============================] - 0s 4ms/step - loss: 0.5199 - accuracy: 0.7763 - val_loss: 0.5214 - val_accuracy: 0.7522\n",
      "Epoch 18/300\n",
      "116/116 [==============================] - 0s 4ms/step - loss: 0.5126 - accuracy: 0.7855 - val_loss: 0.5088 - val_accuracy: 0.7630\n",
      "Epoch 19/300\n",
      "116/116 [==============================] - 0s 4ms/step - loss: 0.5045 - accuracy: 0.7909 - val_loss: 0.5019 - val_accuracy: 0.7706\n",
      "Epoch 20/300\n",
      "116/116 [==============================] - 1s 4ms/step - loss: 0.4975 - accuracy: 0.7925 - val_loss: 0.4953 - val_accuracy: 0.7857\n",
      "Epoch 21/300\n",
      "116/116 [==============================] - 0s 4ms/step - loss: 0.4913 - accuracy: 0.7974 - val_loss: 0.4939 - val_accuracy: 0.7890\n",
      "Epoch 22/300\n",
      "116/116 [==============================] - 0s 4ms/step - loss: 0.4858 - accuracy: 0.8066 - val_loss: 0.4841 - val_accuracy: 0.7879\n",
      "Epoch 23/300\n",
      "116/116 [==============================] - 0s 4ms/step - loss: 0.4775 - accuracy: 0.8139 - val_loss: 0.4776 - val_accuracy: 0.8074\n",
      "Epoch 24/300\n",
      "116/116 [==============================] - 0s 4ms/step - loss: 0.4717 - accuracy: 0.8177 - val_loss: 0.4720 - val_accuracy: 0.7955\n",
      "Epoch 25/300\n",
      "116/116 [==============================] - 1s 4ms/step - loss: 0.4657 - accuracy: 0.8215 - val_loss: 0.4682 - val_accuracy: 0.8009\n",
      "Epoch 26/300\n",
      "116/116 [==============================] - 0s 4ms/step - loss: 0.4595 - accuracy: 0.8269 - val_loss: 0.4609 - val_accuracy: 0.8149\n",
      "Epoch 27/300\n",
      "116/116 [==============================] - 1s 4ms/step - loss: 0.4548 - accuracy: 0.8323 - val_loss: 0.4542 - val_accuracy: 0.8160\n",
      "Epoch 28/300\n",
      "116/116 [==============================] - 0s 4ms/step - loss: 0.4481 - accuracy: 0.8340 - val_loss: 0.4503 - val_accuracy: 0.8182\n",
      "Epoch 29/300\n",
      "116/116 [==============================] - 0s 4ms/step - loss: 0.4440 - accuracy: 0.8334 - val_loss: 0.4434 - val_accuracy: 0.8247\n",
      "Epoch 30/300\n",
      "116/116 [==============================] - 1s 4ms/step - loss: 0.4389 - accuracy: 0.8418 - val_loss: 0.4390 - val_accuracy: 0.8268\n",
      "Epoch 31/300\n",
      "116/116 [==============================] - 0s 4ms/step - loss: 0.4343 - accuracy: 0.8410 - val_loss: 0.4345 - val_accuracy: 0.8268\n",
      "Epoch 32/300\n",
      "116/116 [==============================] - 1s 4ms/step - loss: 0.4285 - accuracy: 0.8480 - val_loss: 0.4309 - val_accuracy: 0.8258\n",
      "Epoch 33/300\n",
      "116/116 [==============================] - 0s 4ms/step - loss: 0.4246 - accuracy: 0.8451 - val_loss: 0.4298 - val_accuracy: 0.8496\n",
      "Epoch 34/300\n",
      "116/116 [==============================] - 1s 4ms/step - loss: 0.4218 - accuracy: 0.8489 - val_loss: 0.4211 - val_accuracy: 0.8355\n",
      "Epoch 35/300\n",
      "116/116 [==============================] - 0s 4ms/step - loss: 0.4166 - accuracy: 0.8489 - val_loss: 0.4193 - val_accuracy: 0.8431\n",
      "Epoch 36/300\n",
      "116/116 [==============================] - 0s 4ms/step - loss: 0.4128 - accuracy: 0.8521 - val_loss: 0.4132 - val_accuracy: 0.8355\n",
      "Epoch 37/300\n",
      "116/116 [==============================] - 0s 4ms/step - loss: 0.4085 - accuracy: 0.8532 - val_loss: 0.4091 - val_accuracy: 0.8387\n",
      "Epoch 38/300\n",
      "116/116 [==============================] - 0s 3ms/step - loss: 0.4063 - accuracy: 0.8586 - val_loss: 0.4082 - val_accuracy: 0.8387\n",
      "Epoch 39/300\n",
      "116/116 [==============================] - 1s 4ms/step - loss: 0.4012 - accuracy: 0.8581 - val_loss: 0.4022 - val_accuracy: 0.8506\n",
      "Epoch 40/300\n",
      "116/116 [==============================] - 0s 4ms/step - loss: 0.3976 - accuracy: 0.8632 - val_loss: 0.3986 - val_accuracy: 0.8506\n",
      "Epoch 41/300\n",
      "116/116 [==============================] - 0s 4ms/step - loss: 0.3940 - accuracy: 0.8621 - val_loss: 0.3952 - val_accuracy: 0.8517\n",
      "Epoch 42/300\n",
      "116/116 [==============================] - 0s 4ms/step - loss: 0.3907 - accuracy: 0.8624 - val_loss: 0.3975 - val_accuracy: 0.8701\n",
      "Epoch 43/300\n",
      "116/116 [==============================] - 0s 4ms/step - loss: 0.3888 - accuracy: 0.8616 - val_loss: 0.3930 - val_accuracy: 0.8452\n",
      "Epoch 44/300\n",
      "116/116 [==============================] - 0s 4ms/step - loss: 0.3855 - accuracy: 0.8621 - val_loss: 0.3862 - val_accuracy: 0.8571\n",
      "Epoch 45/300\n",
      "116/116 [==============================] - 0s 3ms/step - loss: 0.3820 - accuracy: 0.8676 - val_loss: 0.3847 - val_accuracy: 0.8680\n",
      "Epoch 46/300\n",
      "116/116 [==============================] - 0s 4ms/step - loss: 0.3829 - accuracy: 0.8678 - val_loss: 0.3810 - val_accuracy: 0.8636\n",
      "Epoch 47/300\n",
      "116/116 [==============================] - 0s 4ms/step - loss: 0.3774 - accuracy: 0.8694 - val_loss: 0.3803 - val_accuracy: 0.8528\n",
      "Epoch 48/300\n",
      "116/116 [==============================] - 0s 4ms/step - loss: 0.3765 - accuracy: 0.8676 - val_loss: 0.3806 - val_accuracy: 0.8755\n",
      "Epoch 49/300\n",
      "116/116 [==============================] - 1s 4ms/step - loss: 0.3732 - accuracy: 0.8692 - val_loss: 0.3741 - val_accuracy: 0.8571\n",
      "Epoch 50/300\n",
      "116/116 [==============================] - 0s 4ms/step - loss: 0.3704 - accuracy: 0.8716 - val_loss: 0.3715 - val_accuracy: 0.8582\n",
      "Epoch 51/300\n",
      "116/116 [==============================] - 0s 4ms/step - loss: 0.3677 - accuracy: 0.8722 - val_loss: 0.3740 - val_accuracy: 0.8755\n",
      "Epoch 52/300\n",
      "116/116 [==============================] - 0s 4ms/step - loss: 0.3672 - accuracy: 0.8681 - val_loss: 0.3696 - val_accuracy: 0.8593\n",
      "Epoch 53/300\n",
      "116/116 [==============================] - 1s 4ms/step - loss: 0.3644 - accuracy: 0.8732 - val_loss: 0.3663 - val_accuracy: 0.8669\n",
      "Epoch 54/300\n",
      "116/116 [==============================] - 1s 5ms/step - loss: 0.3628 - accuracy: 0.8735 - val_loss: 0.3631 - val_accuracy: 0.8680\n",
      "Epoch 55/300\n",
      "116/116 [==============================] - 0s 4ms/step - loss: 0.3593 - accuracy: 0.8768 - val_loss: 0.3622 - val_accuracy: 0.8636\n",
      "Epoch 56/300\n",
      "116/116 [==============================] - 0s 4ms/step - loss: 0.3579 - accuracy: 0.8762 - val_loss: 0.3608 - val_accuracy: 0.8799\n",
      "Epoch 57/300\n",
      "116/116 [==============================] - 0s 4ms/step - loss: 0.3561 - accuracy: 0.8741 - val_loss: 0.3588 - val_accuracy: 0.8810\n"
     ]
    },
    {
     "name": "stdout",
     "output_type": "stream",
     "text": [
      "Epoch 58/300\n",
      "116/116 [==============================] - 1s 4ms/step - loss: 0.3541 - accuracy: 0.8781 - val_loss: 0.3563 - val_accuracy: 0.8701\n",
      "Epoch 59/300\n",
      "116/116 [==============================] - 0s 4ms/step - loss: 0.3536 - accuracy: 0.8778 - val_loss: 0.3602 - val_accuracy: 0.8604\n",
      "Epoch 60/300\n",
      "116/116 [==============================] - 0s 4ms/step - loss: 0.3506 - accuracy: 0.8814 - val_loss: 0.3544 - val_accuracy: 0.8755\n",
      "Epoch 61/300\n",
      "116/116 [==============================] - 0s 4ms/step - loss: 0.3482 - accuracy: 0.8819 - val_loss: 0.3582 - val_accuracy: 0.8755\n",
      "Epoch 62/300\n",
      "116/116 [==============================] - 0s 4ms/step - loss: 0.3481 - accuracy: 0.8814 - val_loss: 0.3504 - val_accuracy: 0.8723\n",
      "Epoch 63/300\n",
      "116/116 [==============================] - 0s 4ms/step - loss: 0.3466 - accuracy: 0.8841 - val_loss: 0.3489 - val_accuracy: 0.8701\n",
      "Epoch 64/300\n",
      "116/116 [==============================] - 0s 4ms/step - loss: 0.3442 - accuracy: 0.8838 - val_loss: 0.3472 - val_accuracy: 0.8788\n",
      "Epoch 65/300\n",
      "116/116 [==============================] - 1s 4ms/step - loss: 0.3428 - accuracy: 0.8822 - val_loss: 0.3513 - val_accuracy: 0.8799\n",
      "Epoch 66/300\n",
      "116/116 [==============================] - 0s 4ms/step - loss: 0.3422 - accuracy: 0.8822 - val_loss: 0.3445 - val_accuracy: 0.8853\n",
      "Epoch 67/300\n",
      "116/116 [==============================] - 0s 4ms/step - loss: 0.3408 - accuracy: 0.8816 - val_loss: 0.3432 - val_accuracy: 0.8885\n",
      "Epoch 68/300\n",
      "116/116 [==============================] - 0s 4ms/step - loss: 0.3393 - accuracy: 0.8849 - val_loss: 0.3420 - val_accuracy: 0.8885\n",
      "Epoch 69/300\n",
      "116/116 [==============================] - 0s 4ms/step - loss: 0.3385 - accuracy: 0.8835 - val_loss: 0.3545 - val_accuracy: 0.8582\n",
      "Epoch 70/300\n",
      "116/116 [==============================] - 1s 4ms/step - loss: 0.3359 - accuracy: 0.8800 - val_loss: 0.3422 - val_accuracy: 0.8864\n",
      "Epoch 71/300\n",
      "116/116 [==============================] - 0s 4ms/step - loss: 0.3366 - accuracy: 0.8811 - val_loss: 0.3368 - val_accuracy: 0.8907\n",
      "Epoch 72/300\n",
      "116/116 [==============================] - 0s 4ms/step - loss: 0.3327 - accuracy: 0.8868 - val_loss: 0.3359 - val_accuracy: 0.8939\n",
      "Epoch 73/300\n",
      "116/116 [==============================] - 0s 4ms/step - loss: 0.3321 - accuracy: 0.8838 - val_loss: 0.3381 - val_accuracy: 0.8788\n",
      "Epoch 74/300\n",
      "116/116 [==============================] - 0s 4ms/step - loss: 0.3315 - accuracy: 0.8868 - val_loss: 0.3357 - val_accuracy: 0.8810\n",
      "Epoch 75/300\n",
      "116/116 [==============================] - 1s 4ms/step - loss: 0.3311 - accuracy: 0.8854 - val_loss: 0.3339 - val_accuracy: 0.8961\n",
      "Epoch 76/300\n",
      "116/116 [==============================] - 0s 4ms/step - loss: 0.3309 - accuracy: 0.8841 - val_loss: 0.3457 - val_accuracy: 0.8723\n",
      "Epoch 77/300\n",
      "116/116 [==============================] - 0s 4ms/step - loss: 0.3310 - accuracy: 0.8814 - val_loss: 0.3363 - val_accuracy: 0.8810\n",
      "Epoch 78/300\n",
      "116/116 [==============================] - 0s 4ms/step - loss: 0.3279 - accuracy: 0.8876 - val_loss: 0.3353 - val_accuracy: 0.8799\n",
      "Epoch 79/300\n",
      "116/116 [==============================] - 0s 4ms/step - loss: 0.3279 - accuracy: 0.8873 - val_loss: 0.3341 - val_accuracy: 0.8831\n",
      "Epoch 80/300\n",
      "116/116 [==============================] - 1s 4ms/step - loss: 0.3265 - accuracy: 0.8892 - val_loss: 0.3314 - val_accuracy: 0.8950\n",
      "Epoch 81/300\n",
      "116/116 [==============================] - 0s 4ms/step - loss: 0.3268 - accuracy: 0.8871 - val_loss: 0.3337 - val_accuracy: 0.8885\n",
      "Epoch 82/300\n",
      "116/116 [==============================] - 0s 4ms/step - loss: 0.3265 - accuracy: 0.8873 - val_loss: 0.3298 - val_accuracy: 0.8961\n",
      "Epoch 83/300\n",
      "116/116 [==============================] - 0s 4ms/step - loss: 0.3258 - accuracy: 0.8862 - val_loss: 0.3334 - val_accuracy: 0.8766\n",
      "Epoch 84/300\n",
      "116/116 [==============================] - 0s 4ms/step - loss: 0.3229 - accuracy: 0.8860 - val_loss: 0.3270 - val_accuracy: 0.8983\n",
      "Epoch 85/300\n",
      "116/116 [==============================] - 0s 4ms/step - loss: 0.3222 - accuracy: 0.8911 - val_loss: 0.3324 - val_accuracy: 0.8853\n",
      "Epoch 86/300\n",
      "116/116 [==============================] - 0s 4ms/step - loss: 0.3234 - accuracy: 0.8873 - val_loss: 0.3312 - val_accuracy: 0.8907\n",
      "Epoch 87/300\n",
      "116/116 [==============================] - 0s 4ms/step - loss: 0.3213 - accuracy: 0.8868 - val_loss: 0.3301 - val_accuracy: 0.8907\n",
      "Epoch 88/300\n",
      "116/116 [==============================] - 0s 4ms/step - loss: 0.3205 - accuracy: 0.8911 - val_loss: 0.3288 - val_accuracy: 0.8939\n",
      "Epoch 89/300\n",
      "116/116 [==============================] - 0s 4ms/step - loss: 0.3192 - accuracy: 0.8889 - val_loss: 0.3265 - val_accuracy: 0.8983\n",
      "Epoch 90/300\n",
      "116/116 [==============================] - 0s 4ms/step - loss: 0.3186 - accuracy: 0.8917 - val_loss: 0.3264 - val_accuracy: 0.8972\n",
      "Epoch 91/300\n",
      "116/116 [==============================] - 0s 4ms/step - loss: 0.3173 - accuracy: 0.8911 - val_loss: 0.3273 - val_accuracy: 0.8896\n",
      "Epoch 92/300\n",
      "116/116 [==============================] - 0s 4ms/step - loss: 0.3175 - accuracy: 0.8914 - val_loss: 0.3289 - val_accuracy: 0.8810\n",
      "Epoch 93/300\n",
      "116/116 [==============================] - 0s 4ms/step - loss: 0.3155 - accuracy: 0.8917 - val_loss: 0.3248 - val_accuracy: 0.8961\n",
      "Epoch 94/300\n",
      "116/116 [==============================] - 0s 4ms/step - loss: 0.3160 - accuracy: 0.8917 - val_loss: 0.3251 - val_accuracy: 0.8972\n",
      "Epoch 95/300\n",
      "116/116 [==============================] - 0s 4ms/step - loss: 0.3152 - accuracy: 0.8927 - val_loss: 0.3366 - val_accuracy: 0.8745\n",
      "Epoch 96/300\n",
      "116/116 [==============================] - 0s 4ms/step - loss: 0.3143 - accuracy: 0.8895 - val_loss: 0.3288 - val_accuracy: 0.8961\n",
      "Epoch 97/300\n",
      "116/116 [==============================] - 0s 4ms/step - loss: 0.3141 - accuracy: 0.8908 - val_loss: 0.3284 - val_accuracy: 0.8885\n",
      "Epoch 98/300\n",
      "116/116 [==============================] - 0s 4ms/step - loss: 0.3130 - accuracy: 0.8911 - val_loss: 0.3278 - val_accuracy: 0.8874\n",
      "Epoch 99/300\n",
      "110/116 [===========================>..] - ETA: 0s - loss: 0.3093 - accuracy: 0.8918Restoring model weights from the end of the best epoch: 84.\n",
      "116/116 [==============================] - 1s 4ms/step - loss: 0.3120 - accuracy: 0.8903 - val_loss: 0.3308 - val_accuracy: 0.8864\n",
      "Epoch 99: early stopping\n"
     ]
    }
   ],
   "source": [
    "# Hyperparameters and training\n",
    "model.compile(loss='binary_crossentropy', optimizer=opt, metrics=['accuracy'])\n",
    "history = model.fit(\n",
    "    X_train, \n",
    "    y_train, \n",
    "    epochs=300, \n",
    "    batch_size=32, \n",
    "    verbose=1, \n",
    "    validation_split=0.2,\n",
    "    callbacks=[early_stopping])"
   ]
  },
  {
   "cell_type": "code",
   "execution_count": null,
   "metadata": {},
   "outputs": [],
   "source": []
  },
  {
   "cell_type": "code",
   "execution_count": 30,
   "id": "9df3c63f",
   "metadata": {},
   "outputs": [
    {
     "data": {
      "image/png": "[encoded data removed]",
      "text/plain": [
       "<Figure size 432x288 with 1 Axes>"
      ]
     },
     "metadata": {
      "needs_background": "light"
     },
     "output_type": "display_data"
    }
   ],
   "source": [
    "plot_accuracy(history)"
   ]
  },
  {
   "cell_type": "code",
   "execution_count": 31,
   "id": "4a636b43",
   "metadata": {},
   "outputs": [
    {
     "data": {
      "image/png": "[encoded data removed]",
      "text/plain": [
       "<Figure size 432x288 with 1 Axes>"
      ]
     },
     "metadata": {
      "needs_background": "light"
     },
     "output_type": "display_data"
    }
   ],
   "source": [
    "plot_loss(history)"
   ]
  },
  {
   "cell_type": "code",
   "execution_count": 32,
   "id": "25ba19b3",
   "metadata": {},
   "outputs": [],
   "source": [
    "# 765 101 866"
   ]
  },
  {
   "cell_type": "code",
   "execution_count": 33,
   "metadata": {},
   "outputs": [
    {
     "name": "stdout",
     "output_type": "stream",
     "text": [
      "Test Accuracy: 0.8813852813852814\n",
      "F1 score: 0.8892481810832661\n"
     ]
    },
    {
     "data": {
      "image/png": "[encoded data removed]",
      "text/plain": [
       "<Figure size 432x288 with 2 Axes>"
      ]
     },
     "metadata": {
      "needs_background": "light"
     },
     "output_type": "display_data"
    },
    {
     "data": {
      "image/png": "[encoded data removed]",
      "text/plain": [
       "<Figure size 432x288 with 1 Axes>"
      ]
     },
     "metadata": {
      "needs_background": "light"
     },
     "output_type": "display_data"
    }
   ],
   "source": [
    "test_model_raw_data(X_test, y_test, model)"
   ]
  },
  {
   "cell_type": "code",
   "execution_count": 1,
   "metadata": {},
   "outputs": [
    {
     "data": {
      "text/plain": [
       "0.11861471861471862"
      ]
     },
     "execution_count": 1,
     "metadata": {},
     "output_type": "execute_result"
    }
   ],
   "source": [
    "(82+55)/1155"
   ]
  },
  {
   "cell_type": "markdown",
   "metadata": {},
   "source": [
    "### Sklearn MLP Classifier"
   ]
  },
  {
   "cell_type": "code",
   "execution_count": 34,
   "metadata": {
    "scrolled": true
   },
   "outputs": [
    {
     "name": "stdout",
     "output_type": "stream",
     "text": [
      "Iteration 1, loss = 0.68616040\n",
      "Validation score: 0.548701\n",
      "Iteration 2, loss = 0.68104565\n",
      "Validation score: 0.548701\n",
      "Iteration 3, loss = 0.67432024\n",
      "Validation score: 0.548701\n",
      "Iteration 4, loss = 0.66614120\n",
      "Validation score: 0.557359\n",
      "Iteration 5, loss = 0.65677921\n",
      "Validation score: 0.687229\n",
      "Iteration 6, loss = 0.64645604\n",
      "Validation score: 0.683983\n",
      "Iteration 7, loss = 0.63528018\n",
      "Validation score: 0.680736\n",
      "Iteration 8, loss = 0.62515815\n",
      "Validation score: 0.690476\n",
      "Iteration 9, loss = 0.61570089\n",
      "Validation score: 0.696970\n",
      "Iteration 10, loss = 0.60555869\n",
      "Validation score: 0.711039\n",
      "Iteration 11, loss = 0.59750554\n",
      "Validation score: 0.677489\n",
      "Iteration 12, loss = 0.59003943\n",
      "Validation score: 0.712121\n",
      "Iteration 13, loss = 0.58065377\n",
      "Validation score: 0.693723\n",
      "Iteration 14, loss = 0.57475955\n",
      "Validation score: 0.726190\n",
      "Iteration 15, loss = 0.56688441\n",
      "Validation score: 0.728355\n",
      "Iteration 16, loss = 0.55985894\n",
      "Validation score: 0.732684\n",
      "Iteration 17, loss = 0.55329232\n",
      "Validation score: 0.752165\n",
      "Iteration 18, loss = 0.54647299\n",
      "Validation score: 0.754329\n",
      "Iteration 19, loss = 0.54010015\n",
      "Validation score: 0.746753\n",
      "Iteration 20, loss = 0.53287677\n",
      "Validation score: 0.761905\n",
      "Iteration 21, loss = 0.52765967\n",
      "Validation score: 0.768398\n",
      "Iteration 22, loss = 0.51975999\n",
      "Validation score: 0.779221\n",
      "Iteration 23, loss = 0.51360493\n",
      "Validation score: 0.784632\n",
      "Iteration 24, loss = 0.50870216\n",
      "Validation score: 0.788961\n",
      "Iteration 25, loss = 0.50234355\n",
      "Validation score: 0.796537\n",
      "Iteration 26, loss = 0.49567085\n",
      "Validation score: 0.803030\n",
      "Iteration 27, loss = 0.49020750\n",
      "Validation score: 0.808442\n",
      "Iteration 28, loss = 0.48456343\n",
      "Validation score: 0.810606\n",
      "Iteration 29, loss = 0.47964761\n",
      "Validation score: 0.812771\n",
      "Iteration 30, loss = 0.47304437\n",
      "Validation score: 0.819264\n",
      "Iteration 31, loss = 0.46875814\n",
      "Validation score: 0.822511\n",
      "Iteration 32, loss = 0.46377259\n",
      "Validation score: 0.825758\n",
      "Iteration 33, loss = 0.45789339\n",
      "Validation score: 0.825758\n",
      "Iteration 34, loss = 0.45295932\n",
      "Validation score: 0.837662\n",
      "Iteration 35, loss = 0.44861201\n",
      "Validation score: 0.834416\n",
      "Iteration 36, loss = 0.44379007\n",
      "Validation score: 0.841991\n",
      "Iteration 37, loss = 0.43876462\n",
      "Validation score: 0.835498\n",
      "Iteration 38, loss = 0.43465488\n",
      "Validation score: 0.848485\n",
      "Iteration 39, loss = 0.43021040\n",
      "Validation score: 0.844156\n",
      "Iteration 40, loss = 0.42611252\n",
      "Validation score: 0.847403\n",
      "Iteration 41, loss = 0.42223606\n",
      "Validation score: 0.838745\n",
      "Iteration 42, loss = 0.41991575\n",
      "Validation score: 0.851732\n",
      "Iteration 43, loss = 0.41417084\n",
      "Validation score: 0.854978\n",
      "Iteration 44, loss = 0.41291236\n",
      "Validation score: 0.853896\n",
      "Iteration 45, loss = 0.40736371\n",
      "Validation score: 0.869048\n",
      "Iteration 46, loss = 0.40513768\n",
      "Validation score: 0.857143\n",
      "Iteration 47, loss = 0.40120108\n",
      "Validation score: 0.861472\n",
      "Iteration 48, loss = 0.39835335\n",
      "Validation score: 0.852814\n",
      "Iteration 49, loss = 0.39528151\n",
      "Validation score: 0.854978\n",
      "Iteration 50, loss = 0.39227096\n",
      "Validation score: 0.864719\n",
      "Iteration 51, loss = 0.38889366\n",
      "Validation score: 0.856061\n",
      "Iteration 52, loss = 0.38906006\n",
      "Validation score: 0.851732\n",
      "Iteration 53, loss = 0.38596306\n",
      "Validation score: 0.860390\n",
      "Iteration 54, loss = 0.38355534\n",
      "Validation score: 0.863636\n",
      "Iteration 55, loss = 0.38154168\n",
      "Validation score: 0.859307\n",
      "Iteration 56, loss = 0.37946377\n",
      "Validation score: 0.865801\n",
      "Iteration 57, loss = 0.37723816\n",
      "Validation score: 0.867965\n",
      "Iteration 58, loss = 0.37496045\n",
      "Validation score: 0.871212\n",
      "Iteration 59, loss = 0.37361121\n",
      "Validation score: 0.849567\n",
      "Iteration 60, loss = 0.37378324\n",
      "Validation score: 0.887446\n",
      "Iteration 61, loss = 0.37104897\n",
      "Validation score: 0.867965\n",
      "Iteration 62, loss = 0.36878372\n",
      "Validation score: 0.872294\n",
      "Iteration 63, loss = 0.36685488\n",
      "Validation score: 0.880952\n",
      "Iteration 64, loss = 0.36610146\n",
      "Validation score: 0.871212\n",
      "Iteration 65, loss = 0.36499493\n",
      "Validation score: 0.872294\n",
      "Iteration 66, loss = 0.36377961\n",
      "Validation score: 0.869048\n",
      "Iteration 67, loss = 0.36332518\n",
      "Validation score: 0.872294\n",
      "Iteration 68, loss = 0.36087169\n",
      "Validation score: 0.854978\n",
      "Iteration 69, loss = 0.36112485\n",
      "Validation score: 0.870130\n",
      "Iteration 70, loss = 0.35927486\n",
      "Validation score: 0.879870\n",
      "Iteration 71, loss = 0.35958401\n",
      "Validation score: 0.874459\n",
      "Iteration 72, loss = 0.35710993\n",
      "Validation score: 0.876623\n",
      "Iteration 73, loss = 0.35739552\n",
      "Validation score: 0.882035\n",
      "Iteration 74, loss = 0.35703123\n",
      "Validation score: 0.876623\n",
      "Iteration 75, loss = 0.35433349\n",
      "Validation score: 0.885281\n",
      "Iteration 76, loss = 0.35304640\n",
      "Validation score: 0.882035\n",
      "Validation score did not improve more than tol=0.000100 for 15 consecutive epochs. Stopping.\n",
      "F1 Score: 0.8789514263685428\n",
      "ACC: 0.8640692640692641\n"
     ]
    },
    {
     "data": {
      "text/plain": [
       "<sklearn.metrics._plot.roc_curve.RocCurveDisplay at 0x22006a63190>"
      ]
     },
     "execution_count": 34,
     "metadata": {},
     "output_type": "execute_result"
    },
    {
     "data": {
      "image/png": "[encoded data removed]",
      "text/plain": [
       "<Figure size 432x288 with 2 Axes>"
      ]
     },
     "metadata": {
      "needs_background": "light"
     },
     "output_type": "display_data"
    },
    {
     "data": {
      "image/png": "[encoded data removed]",
      "text/plain": [
       "<Figure size 432x288 with 1 Axes>"
      ]
     },
     "metadata": {
      "needs_background": "light"
     },
     "output_type": "display_data"
    }
   ],
   "source": [
    "from sklearn.neural_network import MLPClassifier\n",
    "from sklearn.datasets import make_classification\n",
    "from sklearn.model_selection import train_test_split\n",
    "\n",
    "clf = MLPClassifier(random_state=1337, max_iter=300, early_stopping=True, batch_size=32,\n",
    "                    validation_fraction=0.2, n_iter_no_change=15, verbose=1).fit(X_train, y_train)\n",
    "\n",
    "y_pred = clf.predict(X_test)\n",
    "res_f1_score = f1_score(y_test, y_pred)\n",
    "res_acc = clf.score(X_test, y_test)\n",
    "\n",
    "print(f\"F1 Score: {res_f1_score}\")\n",
    "print(f\"ACC: {res_acc}\")\n",
    "\n",
    "\n",
    "ConfusionMatrixDisplay.from_predictions(y_test, y_pred)\n",
    "\n",
    "RocCurveDisplay.from_predictions(y_test, y_pred)\n"
   ]
  },
  {
   "cell_type": "code",
   "execution_count": 2,
   "metadata": {},
   "outputs": [
    {
     "data": {
      "text/plain": [
       "0.13593073593073593"
      ]
     },
     "execution_count": 2,
     "metadata": {},
     "output_type": "execute_result"
    }
   ],
   "source": [
    "(62+95)/1155"
   ]
  },
  {
   "cell_type": "code",
   "execution_count": 35,
   "metadata": {},
   "outputs": [
    {
     "data": {
      "image/png": "[encoded data removed]",
      "text/plain": [
       "<Figure size 576x720 with 1 Axes>"
      ]
     },
     "metadata": {
      "needs_background": "light"
     },
     "output_type": "display_data"
    }
   ],
   "source": [
    "plt.figure(figsize=(8,10))\n",
    "\n",
    "plt.subplot(2,1,2)\n",
    "# summarize history for loss\n",
    "plt.plot(clf.loss_curve_)\n",
    "plt.title('model loss')\n",
    "plt.ylabel('loss')\n",
    "plt.xlabel('epoch')\n",
    "plt.legend(['train', 'validation'], loc='upper right')\n",
    "plt.show()"
   ]
  },
  {
   "cell_type": "code",
   "execution_count": 36,
   "metadata": {},
   "outputs": [
    {
     "data": {
      "text/plain": [
       "{'activation': 'relu',\n",
       " 'alpha': 0.0001,\n",
       " 'batch_size': 32,\n",
       " 'beta_1': 0.9,\n",
       " 'beta_2': 0.999,\n",
       " 'early_stopping': True,\n",
       " 'epsilon': 1e-08,\n",
       " 'hidden_layer_sizes': (100,),\n",
       " 'learning_rate': 'constant',\n",
       " 'learning_rate_init': 0.001,\n",
       " 'max_fun': 15000,\n",
       " 'max_iter': 300,\n",
       " 'momentum': 0.9,\n",
       " 'n_iter_no_change': 15,\n",
       " 'nesterovs_momentum': True,\n",
       " 'power_t': 0.5,\n",
       " 'random_state': 1337,\n",
       " 'shuffle': True,\n",
       " 'solver': 'adam',\n",
       " 'tol': 0.0001,\n",
       " 'validation_fraction': 0.2,\n",
       " 'verbose': 1,\n",
       " 'warm_start': False}"
      ]
     },
     "execution_count": 36,
     "metadata": {},
     "output_type": "execute_result"
    }
   ],
   "source": [
    "clf.get_params()"
   ]
  },
  {
   "cell_type": "code",
   "execution_count": null,
   "metadata": {},
   "outputs": [],
   "source": []
  },
  {
   "cell_type": "code",
   "execution_count": null,
   "metadata": {},
   "outputs": [],
   "source": []
  },
  {
   "cell_type": "code",
   "execution_count": null,
   "metadata": {},
   "outputs": [],
   "source": []
  }
 ],
 "metadata": {
  "kernelspec": {
   "display_name": "Python 3 (ipykernel)",
   "language": "python",
   "name": "python3"
  },
  "language_info": {
   "codemirror_mode": {
    "name": "ipython",
    "version": 3
   },
   "file_extension": ".py",
   "mimetype": "text/x-python",
   "name": "python",
   "nbconvert_exporter": "python",
   "pygments_lexer": "ipython3",
   "version": "3.9.12"
  }
 },
 "nbformat": 4,
 "nbformat_minor": 4
}
