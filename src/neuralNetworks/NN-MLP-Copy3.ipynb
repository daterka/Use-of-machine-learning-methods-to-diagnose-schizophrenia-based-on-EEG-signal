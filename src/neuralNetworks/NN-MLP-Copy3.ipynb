{
 "cells": [
  {
   "cell_type": "markdown",
   "metadata": {},
   "source": [
    "### Imports"
   ]
  },
  {
   "cell_type": "code",
   "execution_count": 1,
   "metadata": {},
   "outputs": [],
   "source": [
    "import gc\n",
    "import time\n",
    "import os\n",
    "\n",
    "import numpy as np\n",
    "from matplotlib import pyplot as plt\n",
    "\n",
    "import mne\n",
    "\n",
    "from sklearn.model_selection import train_test_split\n",
    "from sklearn.metrics import accuracy_score, ConfusionMatrixDisplay, RocCurveDisplay, f1_score\n",
    "from sklearn.model_selection import cross_val_score\n",
    "\n",
    "from sklearn.preprocessing import MinMaxScaler"
   ]
  },
  {
   "cell_type": "code",
   "execution_count": 2,
   "metadata": {},
   "outputs": [],
   "source": [
    "from keras.models import Sequential, Model\n",
    "from keras.layers import Dense, Conv2D, MaxPool2D , Flatten\n",
    "\n",
    "from keras.optimizers import Adam\n",
    "from keras.callbacks import EarlyStopping\n",
    "from keras.layers import Dense, Dropout, Flatten\n",
    "from tensorflow.keras import regularizers\n",
    "from pathlib import Path\n",
    "\n",
    "import tensorflow as tf"
   ]
  },
  {
   "cell_type": "code",
   "execution_count": null,
   "metadata": {},
   "outputs": [],
   "source": []
  },
  {
   "cell_type": "code",
   "execution_count": 3,
   "metadata": {},
   "outputs": [
    {
     "data": {
      "text/plain": [
       "''"
      ]
     },
     "execution_count": 3,
     "metadata": {},
     "output_type": "execute_result"
    }
   ],
   "source": [
    "os.environ[\"CUDA_VISIBLE_DEVICES\"] = \"-1\"\n",
    "tf.test.gpu_device_name()"
   ]
  },
  {
   "cell_type": "markdown",
   "metadata": {},
   "source": [
    "## Preprocessing"
   ]
  },
  {
   "cell_type": "markdown",
   "metadata": {},
   "source": [
    "### Loading edf"
   ]
  },
  {
   "cell_type": "code",
   "execution_count": 4,
   "metadata": {},
   "outputs": [],
   "source": [
    "edfs_path = \"..\\dataverse_files\""
   ]
  },
  {
   "cell_type": "code",
   "execution_count": 5,
   "metadata": {},
   "outputs": [],
   "source": [
    "def load_patients_data(edfs_path):\n",
    "    raw_patients_data = []\n",
    "    \n",
    "    edfs_file_names = [f for f in os.listdir(edfs_path) if f.endswith('.edf')]\n",
    "    \n",
    "    for file_name in edfs_file_names:\n",
    "        path = edfs_path + '\\\\' + file_name \n",
    "        raw_data = mne.io.read_raw_edf(path, preload=True, verbose=False)\n",
    "        raw_patients_data.append(raw_data)\n",
    "\n",
    "    return raw_patients_data"
   ]
  },
  {
   "cell_type": "code",
   "execution_count": 6,
   "metadata": {},
   "outputs": [],
   "source": [
    "raw_patients_data = load_patients_data(edfs_path)"
   ]
  },
  {
   "cell_type": "markdown",
   "metadata": {},
   "source": [
    "### Filtered EEG signals segmentation"
   ]
  },
  {
   "cell_type": "code",
   "execution_count": 7,
   "metadata": {},
   "outputs": [],
   "source": [
    "def get_label(edf):\n",
    "    patient_edf_file_name = edf.filenames[0].split('\\\\')[-1]\n",
    "    isSick = patient_edf_file_name.lower().startswith('s')\n",
    "    return int(isSick == True) # 1 - is sick, 0 is healthy"
   ]
  },
  {
   "cell_type": "code",
   "execution_count": 8,
   "metadata": {},
   "outputs": [],
   "source": [
    "def print_info(epochs_num_per_patient, labels):\n",
    "    print('\\nEpochs number per patient: ', epochs_num_per_patient)\n",
    "    \n",
    "    class_0_num = sum(labels) \n",
    "    class_1_num = len(labels)-sum(labels)\n",
    "\n",
    "    print('\\nnegative: ', class_0_num)\n",
    "    print('positive: ', class_1_num)"
   ]
  },
  {
   "cell_type": "code",
   "execution_count": 9,
   "metadata": {},
   "outputs": [],
   "source": [
    "def transform_patients_data_into_X_y_sets(patients_data, info=True):\n",
    "    epochs_per_patient = []\n",
    "    labels = []\n",
    "    \n",
    "    epochs_num_per_patient = []\n",
    "    for edf in raw_patients_data:\n",
    "        epochs = mne.make_fixed_length_epochs(edf, duration=5.0, preload=True, verbose=False)\n",
    "        epochs_per_patient.append(epochs)\n",
    "        epochs_num_per_patient.append(len(epochs))\n",
    "        \n",
    "        label = get_label(edf)\n",
    "        labels.extend([label for epoch in epochs])\n",
    "    \n",
    "    epochs = mne.concatenate_epochs(epochs_per_patient)\n",
    "\n",
    "    if info:\n",
    "        print_info(epochs_num_per_patient, labels)\n",
    "        \n",
    "    del epochs_num_per_patient\n",
    "    gc.collect()\n",
    "    \n",
    "    return (epochs, np.array(labels)) # (X, y)"
   ]
  },
  {
   "cell_type": "code",
   "execution_count": 10,
   "metadata": {},
   "outputs": [
    {
     "name": "stdout",
     "output_type": "stream",
     "text": [
      "Not setting metadata\n",
      "5771 matching events found\n",
      "No baseline correction applied\n",
      "0 bad epochs dropped\n",
      "\n",
      "Epochs number per patient:  [185, 182, 182, 185, 189, 186, 182, 182, 181, 223, 183, 180, 193, 173, 169, 229, 192, 241, 178, 148, 269, 182, 237, 170, 272, 217, 227, 434]\n",
      "\n",
      "negative:  3165\n",
      "positive:  2606\n"
     ]
    },
    {
     "data": {
      "text/plain": [
       "0"
      ]
     },
     "execution_count": 10,
     "metadata": {},
     "output_type": "execute_result"
    }
   ],
   "source": [
    "X, y = transform_patients_data_into_X_y_sets(raw_patients_data)\n",
    "del raw_patients_data\n",
    "gc.collect()"
   ]
  },
  {
   "cell_type": "code",
   "execution_count": 11,
   "metadata": {},
   "outputs": [
    {
     "name": "stdout",
     "output_type": "stream",
     "text": [
      "5771\n",
      "5771\n",
      "(1, 19, 1250)\n"
     ]
    }
   ],
   "source": [
    "print(len(y))\n",
    "print(len(X))\n",
    "print(X[0].get_data().shape)"
   ]
  },
  {
   "cell_type": "code",
   "execution_count": 12,
   "metadata": {},
   "outputs": [
    {
     "data": {
      "text/html": [
       "<div>\n",
       "<style scoped>\n",
       "    .dataframe tbody tr th:only-of-type {\n",
       "        vertical-align: middle;\n",
       "    }\n",
       "\n",
       "    .dataframe tbody tr th {\n",
       "        vertical-align: top;\n",
       "    }\n",
       "\n",
       "    .dataframe thead th {\n",
       "        text-align: right;\n",
       "    }\n",
       "</style>\n",
       "<table border=\"1\" class=\"dataframe\">\n",
       "  <thead>\n",
       "    <tr style=\"text-align: right;\">\n",
       "      <th></th>\n",
       "      <th>time</th>\n",
       "      <th>condition</th>\n",
       "      <th>epoch</th>\n",
       "      <th>Fp2</th>\n",
       "      <th>F8</th>\n",
       "      <th>T4</th>\n",
       "      <th>T6</th>\n",
       "      <th>O2</th>\n",
       "      <th>Fp1</th>\n",
       "      <th>F7</th>\n",
       "      <th>...</th>\n",
       "      <th>O1</th>\n",
       "      <th>F4</th>\n",
       "      <th>C4</th>\n",
       "      <th>P4</th>\n",
       "      <th>F3</th>\n",
       "      <th>C3</th>\n",
       "      <th>P3</th>\n",
       "      <th>Fz</th>\n",
       "      <th>Cz</th>\n",
       "      <th>Pz</th>\n",
       "    </tr>\n",
       "  </thead>\n",
       "  <tbody>\n",
       "    <tr>\n",
       "      <th>0</th>\n",
       "      <td>0</td>\n",
       "      <td>1</td>\n",
       "      <td>0</td>\n",
       "      <td>0.002500</td>\n",
       "      <td>0.002500</td>\n",
       "      <td>0.002500</td>\n",
       "      <td>0.00250</td>\n",
       "      <td>0.002500</td>\n",
       "      <td>0.0025</td>\n",
       "      <td>0.0025</td>\n",
       "      <td>...</td>\n",
       "      <td>0.00250</td>\n",
       "      <td>0.0025</td>\n",
       "      <td>0.002500</td>\n",
       "      <td>0.0025</td>\n",
       "      <td>0.0025</td>\n",
       "      <td>0.002500</td>\n",
       "      <td>0.00250</td>\n",
       "      <td>0.0025</td>\n",
       "      <td>0.0025</td>\n",
       "      <td>0.002500</td>\n",
       "    </tr>\n",
       "    <tr>\n",
       "      <th>1</th>\n",
       "      <td>4</td>\n",
       "      <td>1</td>\n",
       "      <td>0</td>\n",
       "      <td>0.002500</td>\n",
       "      <td>0.002500</td>\n",
       "      <td>0.002500</td>\n",
       "      <td>0.00250</td>\n",
       "      <td>0.002500</td>\n",
       "      <td>0.0025</td>\n",
       "      <td>0.0025</td>\n",
       "      <td>...</td>\n",
       "      <td>0.00250</td>\n",
       "      <td>0.0025</td>\n",
       "      <td>0.002500</td>\n",
       "      <td>0.0025</td>\n",
       "      <td>0.0025</td>\n",
       "      <td>0.002500</td>\n",
       "      <td>0.00250</td>\n",
       "      <td>0.0025</td>\n",
       "      <td>0.0025</td>\n",
       "      <td>0.002500</td>\n",
       "    </tr>\n",
       "    <tr>\n",
       "      <th>2</th>\n",
       "      <td>8</td>\n",
       "      <td>1</td>\n",
       "      <td>0</td>\n",
       "      <td>0.002500</td>\n",
       "      <td>0.002500</td>\n",
       "      <td>0.002500</td>\n",
       "      <td>0.00250</td>\n",
       "      <td>0.002500</td>\n",
       "      <td>0.0025</td>\n",
       "      <td>0.0025</td>\n",
       "      <td>...</td>\n",
       "      <td>0.00250</td>\n",
       "      <td>0.0025</td>\n",
       "      <td>0.002500</td>\n",
       "      <td>0.0025</td>\n",
       "      <td>0.0025</td>\n",
       "      <td>0.002500</td>\n",
       "      <td>0.00250</td>\n",
       "      <td>0.0025</td>\n",
       "      <td>0.0025</td>\n",
       "      <td>0.002500</td>\n",
       "    </tr>\n",
       "    <tr>\n",
       "      <th>3</th>\n",
       "      <td>12</td>\n",
       "      <td>1</td>\n",
       "      <td>0</td>\n",
       "      <td>0.461215</td>\n",
       "      <td>0.461215</td>\n",
       "      <td>0.308310</td>\n",
       "      <td>0.30831</td>\n",
       "      <td>0.155405</td>\n",
       "      <td>0.0025</td>\n",
       "      <td>0.0025</td>\n",
       "      <td>...</td>\n",
       "      <td>0.00250</td>\n",
       "      <td>0.0025</td>\n",
       "      <td>0.002500</td>\n",
       "      <td>0.0025</td>\n",
       "      <td>0.0025</td>\n",
       "      <td>-0.150405</td>\n",
       "      <td>-0.30331</td>\n",
       "      <td>0.0025</td>\n",
       "      <td>0.0025</td>\n",
       "      <td>-0.303310</td>\n",
       "    </tr>\n",
       "    <tr>\n",
       "      <th>4</th>\n",
       "      <td>16</td>\n",
       "      <td>1</td>\n",
       "      <td>0</td>\n",
       "      <td>0.461215</td>\n",
       "      <td>0.461215</td>\n",
       "      <td>0.461215</td>\n",
       "      <td>0.30831</td>\n",
       "      <td>0.155405</td>\n",
       "      <td>0.0025</td>\n",
       "      <td>0.0025</td>\n",
       "      <td>...</td>\n",
       "      <td>-0.30331</td>\n",
       "      <td>0.0025</td>\n",
       "      <td>0.155405</td>\n",
       "      <td>0.0025</td>\n",
       "      <td>0.0025</td>\n",
       "      <td>-0.150405</td>\n",
       "      <td>-0.30331</td>\n",
       "      <td>0.0025</td>\n",
       "      <td>0.0025</td>\n",
       "      <td>-0.150405</td>\n",
       "    </tr>\n",
       "  </tbody>\n",
       "</table>\n",
       "<p>5 rows × 22 columns</p>\n",
       "</div>"
      ],
      "text/plain": [
       "   time condition  epoch       Fp2        F8        T4       T6        O2  \\\n",
       "0     0         1      0  0.002500  0.002500  0.002500  0.00250  0.002500   \n",
       "1     4         1      0  0.002500  0.002500  0.002500  0.00250  0.002500   \n",
       "2     8         1      0  0.002500  0.002500  0.002500  0.00250  0.002500   \n",
       "3    12         1      0  0.461215  0.461215  0.308310  0.30831  0.155405   \n",
       "4    16         1      0  0.461215  0.461215  0.461215  0.30831  0.155405   \n",
       "\n",
       "      Fp1      F7  ...       O1      F4        C4      P4      F3        C3  \\\n",
       "0  0.0025  0.0025  ...  0.00250  0.0025  0.002500  0.0025  0.0025  0.002500   \n",
       "1  0.0025  0.0025  ...  0.00250  0.0025  0.002500  0.0025  0.0025  0.002500   \n",
       "2  0.0025  0.0025  ...  0.00250  0.0025  0.002500  0.0025  0.0025  0.002500   \n",
       "3  0.0025  0.0025  ...  0.00250  0.0025  0.002500  0.0025  0.0025 -0.150405   \n",
       "4  0.0025  0.0025  ... -0.30331  0.0025  0.155405  0.0025  0.0025 -0.150405   \n",
       "\n",
       "        P3      Fz      Cz        Pz  \n",
       "0  0.00250  0.0025  0.0025  0.002500  \n",
       "1  0.00250  0.0025  0.0025  0.002500  \n",
       "2  0.00250  0.0025  0.0025  0.002500  \n",
       "3 -0.30331  0.0025  0.0025 -0.303310  \n",
       "4 -0.30331  0.0025  0.0025 -0.150405  \n",
       "\n",
       "[5 rows x 22 columns]"
      ]
     },
     "execution_count": 12,
     "metadata": {},
     "output_type": "execute_result"
    }
   ],
   "source": [
    "X.to_data_frame().head()"
   ]
  },
  {
   "cell_type": "markdown",
   "metadata": {},
   "source": [
    "### Feature Extraction (Variance)"
   ]
  },
  {
   "cell_type": "code",
   "execution_count": 13,
   "metadata": {},
   "outputs": [],
   "source": [
    "np.set_printoptions(precision=50)"
   ]
  },
  {
   "cell_type": "code",
   "execution_count": 14,
   "metadata": {},
   "outputs": [
    {
     "name": "stdout",
     "output_type": "stream",
     "text": [
      "(19, 1250)\n"
     ]
    }
   ],
   "source": [
    "for epoch in X:\n",
    "    print (epoch.shape)\n",
    "    break"
   ]
  },
  {
   "cell_type": "code",
   "execution_count": 15,
   "metadata": {},
   "outputs": [
    {
     "name": "stdout",
     "output_type": "stream",
     "text": [
      "Input_N:  19\n",
      "Output_N:  2\n",
      "Hidden_N:  6\n"
     ]
    }
   ],
   "source": [
    "Input_N = X[0].get_data().shape[1] # input layer neurons number\n",
    "print('Input_N: ', Input_N)\n",
    "\n",
    "Output_N = 2 # classes: sick/positive = 1, not sick/negative = 0 // len(np.unique(y))\n",
    "print('Output_N: ', Output_N)\n",
    "\n",
    "Hidden_N = int(np.sqrt(Input_N*Output_N)) # neurons in hidden layer\n",
    "print('Hidden_N: ', Hidden_N)"
   ]
  },
  {
   "cell_type": "code",
   "execution_count": 16,
   "metadata": {},
   "outputs": [],
   "source": [
    "# Calculating energy for signal segments\n",
    "# X = np.array([[np.sqrt(statistics.variance(channel_data)) for channel_data in epoch] for epoch in X])\n",
    "X = np.array([[np.sqrt(np.var(channel_data)) for channel_data in epoch] for epoch in X])\n",
    "\n",
    "# X = np.array([[np.var(channel_data) for channel_data in epoch] for epoch in X])"
   ]
  },
  {
   "cell_type": "code",
   "execution_count": 17,
   "metadata": {},
   "outputs": [
    {
     "name": "stdout",
     "output_type": "stream",
     "text": [
      "0.0019119929414324517\n",
      "2.0679515313825692e-25\n"
     ]
    }
   ],
   "source": [
    "print(np.max(X))\n",
    "print(np.min(X))"
   ]
  },
  {
   "cell_type": "code",
   "execution_count": 18,
   "metadata": {},
   "outputs": [],
   "source": [
    "min_max_range = (0,1)\n",
    "scaler = MinMaxScaler()\n",
    "X = scaler.fit_transform(X)"
   ]
  },
  {
   "cell_type": "code",
   "execution_count": 19,
   "metadata": {},
   "outputs": [
    {
     "name": "stdout",
     "output_type": "stream",
     "text": [
      "1.0000000000000002\n",
      "0.0\n"
     ]
    }
   ],
   "source": [
    "print(np.max(X))\n",
    "print(np.min(X))"
   ]
  },
  {
   "cell_type": "code",
   "execution_count": 20,
   "metadata": {},
   "outputs": [
    {
     "data": {
      "text/plain": [
       "(5771, 19)"
      ]
     },
     "execution_count": 20,
     "metadata": {},
     "output_type": "execute_result"
    }
   ],
   "source": [
    "X.shape"
   ]
  },
  {
   "cell_type": "code",
   "execution_count": 21,
   "metadata": {},
   "outputs": [],
   "source": [
    "X_train, X_test, y_train, y_test = train_test_split(X, y, test_size=0.15, shuffle=True, random_state=1)"
   ]
  },
  {
   "cell_type": "code",
   "execution_count": 22,
   "metadata": {},
   "outputs": [
    {
     "name": "stdout",
     "output_type": "stream",
     "text": [
      "X_train:  (4905, 19)\n",
      "y_train:  (4905,)\n",
      "X_test:  (866, 19)\n",
      "y_test:  (866,)\n"
     ]
    }
   ],
   "source": [
    "print('X_train: ', X_train.shape)\n",
    "print('y_train: ', y_train.shape)\n",
    "print('X_test: ', X_test.shape)\n",
    "print('y_test: ', y_test.shape)"
   ]
  },
  {
   "cell_type": "markdown",
   "metadata": {},
   "source": [
    "# MLP with Keras - binary cross entropy"
   ]
  },
  {
   "cell_type": "code",
   "execution_count": 23,
   "id": "e6103a7d",
   "metadata": {},
   "outputs": [],
   "source": [
    "def plot_accuracy(history):\n",
    "    plt.plot(history.history['accuracy'])\n",
    "    plt.plot(history.history['val_accuracy'])\n",
    "    plt.title('model accuracy')\n",
    "    plt.ylabel('accuracy')\n",
    "    plt.xlabel('epoch')\n",
    "    plt.legend(['train', 'val'], loc='upper left')\n",
    "    plt.show()"
   ]
  },
  {
   "cell_type": "code",
   "execution_count": 24,
   "id": "8ee989bb",
   "metadata": {},
   "outputs": [],
   "source": [
    "def plot_loss(history):\n",
    "    plt.plot(history.history['loss'])\n",
    "    plt.plot(history.history['val_loss'])\n",
    "    plt.title('model loss')\n",
    "    plt.ylabel('loss')\n",
    "    plt.xlabel('epoch')\n",
    "    plt.legend(['train', 'val'], loc='upper left')\n",
    "    plt.show()\n"
   ]
  },
  {
   "cell_type": "code",
   "execution_count": 25,
   "id": "26ff4389",
   "metadata": {},
   "outputs": [],
   "source": [
    "def test_model_raw_data(X_test, y_test, model, save_path = ''):\n",
    "    predictions = model.predict(X_test, verbose=0)\n",
    "\n",
    "    predictions = [0 if x < 0.5 else 1 for x in predictions]\n",
    "\n",
    "    accuracy = accuracy_score(y_test, predictions)\n",
    "    print(\"Test Accuracy:\", accuracy)\n",
    "    \n",
    "    f1score = f1_score(y_test, predictions)\n",
    "    print(\"F1 score:\", f1score)\n",
    "    \n",
    "    ConfusionMatrixDisplay.from_predictions(y_test, predictions)\n",
    "    \n",
    "    to_file = len(save_path) > 0\n",
    "    \n",
    "    if to_file:\n",
    "        plt.savefig(f'{save_path}/{model.name}-confussion-matrix.png', facecolor='white', transparent=False, dpi=500)\n",
    "    \n",
    "    RocCurveDisplay.from_predictions(y_test, predictions)\n",
    "    \n",
    "    if to_file:\n",
    "        plt.savefig(f'{save_path}/{model.name}-roc-curve.png', facecolor='white', transparent=False, dpi=500)\n",
    "    "
   ]
  },
  {
   "cell_type": "code",
   "execution_count": null,
   "metadata": {},
   "outputs": [],
   "source": []
  },
  {
   "cell_type": "code",
   "execution_count": 26,
   "metadata": {},
   "outputs": [
    {
     "name": "stdout",
     "output_type": "stream",
     "text": [
      "Model: \"sequential\"\n",
      "_________________________________________________________________\n",
      " Layer (type)                Output Shape              Param #   \n",
      "=================================================================\n",
      " dense (Dense)               (None, 100)               2000      \n",
      "                                                                 \n",
      " dense_1 (Dense)             (None, 1)                 101       \n",
      "                                                                 \n",
      "=================================================================\n",
      "Total params: 2,101\n",
      "Trainable params: 2,101\n",
      "Non-trainable params: 0\n",
      "_________________________________________________________________\n"
     ]
    }
   ],
   "source": [
    "# Input shape\n",
    "input_shape = (Input_N,)\n",
    "\n",
    "model = Sequential()\n",
    "\n",
    "model.add(Dense(100, input_shape=input_shape, activation='relu'))\n",
    "\n",
    "model.add(Dense(1, activation='sigmoid'))\n",
    "\n",
    "model.compile()\n",
    "\n",
    "model.summary()"
   ]
  },
  {
   "cell_type": "code",
   "execution_count": 27,
   "metadata": {},
   "outputs": [],
   "source": [
    "opt = Adam(learning_rate=0.001)"
   ]
  },
  {
   "cell_type": "code",
   "execution_count": 28,
   "metadata": {},
   "outputs": [],
   "source": [
    "early_stopping = EarlyStopping(monitor='val_accuracy',\n",
    "                           patience=15,\n",
    "                           restore_best_weights=True,\n",
    "                           mode='max', \n",
    "                           verbose=1)"
   ]
  },
  {
   "cell_type": "code",
   "execution_count": 29,
   "metadata": {
    "scrolled": true
   },
   "outputs": [
    {
     "name": "stdout",
     "output_type": "stream",
     "text": [
      "Epoch 1/300\n",
      "123/123 [==============================] - 1s 2ms/step - loss: 0.6842 - accuracy: 0.5487 - val_loss: 0.6797 - val_accuracy: 0.5474\n",
      "Epoch 2/300\n",
      "123/123 [==============================] - 0s 1ms/step - loss: 0.6736 - accuracy: 0.5489 - val_loss: 0.6666 - val_accuracy: 0.5474\n",
      "Epoch 3/300\n",
      "123/123 [==============================] - 0s 1ms/step - loss: 0.6590 - accuracy: 0.6050 - val_loss: 0.6508 - val_accuracy: 0.5780\n",
      "Epoch 4/300\n",
      "123/123 [==============================] - 0s 1ms/step - loss: 0.6416 - accuracy: 0.6583 - val_loss: 0.6349 - val_accuracy: 0.6504\n",
      "Epoch 5/300\n",
      "123/123 [==============================] - 0s 1ms/step - loss: 0.6263 - accuracy: 0.6830 - val_loss: 0.6207 - val_accuracy: 0.6656\n",
      "Epoch 6/300\n",
      "123/123 [==============================] - 0s 1ms/step - loss: 0.6125 - accuracy: 0.6980 - val_loss: 0.6085 - val_accuracy: 0.6595\n",
      "Epoch 7/300\n",
      "123/123 [==============================] - 0s 1ms/step - loss: 0.6007 - accuracy: 0.6972 - val_loss: 0.5971 - val_accuracy: 0.6809\n",
      "Epoch 8/300\n",
      "123/123 [==============================] - 0s 1ms/step - loss: 0.5885 - accuracy: 0.7097 - val_loss: 0.5896 - val_accuracy: 0.6748\n",
      "Epoch 9/300\n",
      "123/123 [==============================] - 0s 1ms/step - loss: 0.5788 - accuracy: 0.7105 - val_loss: 0.5775 - val_accuracy: 0.6962\n",
      "Epoch 10/300\n",
      "123/123 [==============================] - 0s 1ms/step - loss: 0.5694 - accuracy: 0.7159 - val_loss: 0.5731 - val_accuracy: 0.6993\n",
      "Epoch 11/300\n",
      "123/123 [==============================] - 0s 1ms/step - loss: 0.5588 - accuracy: 0.7362 - val_loss: 0.5597 - val_accuracy: 0.7074\n",
      "Epoch 12/300\n",
      "123/123 [==============================] - 0s 1ms/step - loss: 0.5496 - accuracy: 0.7396 - val_loss: 0.5517 - val_accuracy: 0.7166\n",
      "Epoch 13/300\n",
      "123/123 [==============================] - 0s 1ms/step - loss: 0.5393 - accuracy: 0.7492 - val_loss: 0.5410 - val_accuracy: 0.7390\n",
      "Epoch 14/300\n",
      "123/123 [==============================] - 0s 1ms/step - loss: 0.5310 - accuracy: 0.7597 - val_loss: 0.5325 - val_accuracy: 0.7441\n",
      "Epoch 15/300\n",
      "123/123 [==============================] - 0s 1ms/step - loss: 0.5224 - accuracy: 0.7696 - val_loss: 0.5257 - val_accuracy: 0.7411\n",
      "Epoch 16/300\n",
      "123/123 [==============================] - 0s 1ms/step - loss: 0.5127 - accuracy: 0.7729 - val_loss: 0.5174 - val_accuracy: 0.7441\n",
      "Epoch 17/300\n",
      "123/123 [==============================] - 0s 1ms/step - loss: 0.5056 - accuracy: 0.7839 - val_loss: 0.5092 - val_accuracy: 0.7604\n",
      "Epoch 18/300\n",
      "123/123 [==============================] - 0s 1ms/step - loss: 0.4971 - accuracy: 0.7900 - val_loss: 0.5036 - val_accuracy: 0.7798\n",
      "Epoch 19/300\n",
      "123/123 [==============================] - 0s 1ms/step - loss: 0.4905 - accuracy: 0.8048 - val_loss: 0.4936 - val_accuracy: 0.7768\n",
      "Epoch 20/300\n",
      "123/123 [==============================] - 0s 1ms/step - loss: 0.4837 - accuracy: 0.8050 - val_loss: 0.4871 - val_accuracy: 0.7890\n",
      "Epoch 21/300\n",
      "123/123 [==============================] - 0s 1ms/step - loss: 0.4748 - accuracy: 0.8084 - val_loss: 0.4813 - val_accuracy: 0.8002\n",
      "Epoch 22/300\n",
      "123/123 [==============================] - 0s 1ms/step - loss: 0.4691 - accuracy: 0.8117 - val_loss: 0.4731 - val_accuracy: 0.7982\n",
      "Epoch 23/300\n",
      "123/123 [==============================] - 0s 1ms/step - loss: 0.4612 - accuracy: 0.8211 - val_loss: 0.4676 - val_accuracy: 0.8012\n",
      "Epoch 24/300\n",
      "123/123 [==============================] - 0s 2ms/step - loss: 0.4551 - accuracy: 0.8254 - val_loss: 0.4617 - val_accuracy: 0.8084\n",
      "Epoch 25/300\n",
      "123/123 [==============================] - 0s 1ms/step - loss: 0.4490 - accuracy: 0.8295 - val_loss: 0.4571 - val_accuracy: 0.8155\n",
      "Epoch 26/300\n",
      "123/123 [==============================] - 0s 1ms/step - loss: 0.4437 - accuracy: 0.8344 - val_loss: 0.4491 - val_accuracy: 0.8135\n",
      "Epoch 27/300\n",
      "123/123 [==============================] - 0s 1ms/step - loss: 0.4383 - accuracy: 0.8336 - val_loss: 0.4439 - val_accuracy: 0.8175\n",
      "Epoch 28/300\n",
      "123/123 [==============================] - 0s 1ms/step - loss: 0.4342 - accuracy: 0.8354 - val_loss: 0.4416 - val_accuracy: 0.8135\n",
      "Epoch 29/300\n",
      "123/123 [==============================] - 0s 2ms/step - loss: 0.4276 - accuracy: 0.8372 - val_loss: 0.4340 - val_accuracy: 0.8226\n",
      "Epoch 30/300\n",
      "123/123 [==============================] - 0s 2ms/step - loss: 0.4226 - accuracy: 0.8448 - val_loss: 0.4301 - val_accuracy: 0.8236\n",
      "Epoch 31/300\n",
      "123/123 [==============================] - 0s 1ms/step - loss: 0.4193 - accuracy: 0.8458 - val_loss: 0.4263 - val_accuracy: 0.8369\n",
      "Epoch 32/300\n",
      "123/123 [==============================] - 0s 1ms/step - loss: 0.4153 - accuracy: 0.8448 - val_loss: 0.4205 - val_accuracy: 0.8338\n",
      "Epoch 33/300\n",
      "123/123 [==============================] - 0s 2ms/step - loss: 0.4088 - accuracy: 0.8517 - val_loss: 0.4183 - val_accuracy: 0.8420\n",
      "Epoch 34/300\n",
      "123/123 [==============================] - 0s 2ms/step - loss: 0.4057 - accuracy: 0.8522 - val_loss: 0.4118 - val_accuracy: 0.8338\n",
      "Epoch 35/300\n",
      "123/123 [==============================] - 0s 2ms/step - loss: 0.4008 - accuracy: 0.8552 - val_loss: 0.4073 - val_accuracy: 0.8440\n",
      "Epoch 36/300\n",
      "123/123 [==============================] - 0s 2ms/step - loss: 0.3976 - accuracy: 0.8558 - val_loss: 0.4055 - val_accuracy: 0.8338\n",
      "Epoch 37/300\n",
      "123/123 [==============================] - 0s 2ms/step - loss: 0.3932 - accuracy: 0.8654 - val_loss: 0.4020 - val_accuracy: 0.8359\n",
      "Epoch 38/300\n",
      "123/123 [==============================] - 0s 1ms/step - loss: 0.3903 - accuracy: 0.8586 - val_loss: 0.3969 - val_accuracy: 0.8410\n",
      "Epoch 39/300\n",
      "123/123 [==============================] - 0s 1ms/step - loss: 0.3869 - accuracy: 0.8588 - val_loss: 0.3933 - val_accuracy: 0.8573\n",
      "Epoch 40/300\n",
      "123/123 [==============================] - 0s 1ms/step - loss: 0.3826 - accuracy: 0.8631 - val_loss: 0.3907 - val_accuracy: 0.8593\n",
      "Epoch 41/300\n",
      "123/123 [==============================] - 0s 1ms/step - loss: 0.3811 - accuracy: 0.8611 - val_loss: 0.3869 - val_accuracy: 0.8389\n",
      "Epoch 42/300\n",
      "123/123 [==============================] - 0s 1ms/step - loss: 0.3781 - accuracy: 0.8575 - val_loss: 0.3831 - val_accuracy: 0.8542\n",
      "Epoch 43/300\n",
      "123/123 [==============================] - 0s 1ms/step - loss: 0.3745 - accuracy: 0.8657 - val_loss: 0.3794 - val_accuracy: 0.8563\n",
      "Epoch 44/300\n",
      "123/123 [==============================] - 0s 1ms/step - loss: 0.3725 - accuracy: 0.8690 - val_loss: 0.3774 - val_accuracy: 0.8532\n",
      "Epoch 45/300\n",
      "123/123 [==============================] - 0s 1ms/step - loss: 0.3699 - accuracy: 0.8629 - val_loss: 0.3759 - val_accuracy: 0.8624\n",
      "Epoch 46/300\n",
      "123/123 [==============================] - 0s 1ms/step - loss: 0.3668 - accuracy: 0.8672 - val_loss: 0.3737 - val_accuracy: 0.8522\n",
      "Epoch 47/300\n",
      "123/123 [==============================] - 0s 1ms/step - loss: 0.3626 - accuracy: 0.8700 - val_loss: 0.3702 - val_accuracy: 0.8634\n",
      "Epoch 48/300\n",
      "123/123 [==============================] - 0s 1ms/step - loss: 0.3633 - accuracy: 0.8728 - val_loss: 0.3695 - val_accuracy: 0.8685\n",
      "Epoch 49/300\n",
      "123/123 [==============================] - 0s 1ms/step - loss: 0.3609 - accuracy: 0.8723 - val_loss: 0.3719 - val_accuracy: 0.8451\n",
      "Epoch 50/300\n",
      "123/123 [==============================] - 0s 1ms/step - loss: 0.3578 - accuracy: 0.8741 - val_loss: 0.3651 - val_accuracy: 0.8716\n",
      "Epoch 51/300\n",
      "123/123 [==============================] - 0s 1ms/step - loss: 0.3555 - accuracy: 0.8739 - val_loss: 0.3632 - val_accuracy: 0.8736\n",
      "Epoch 52/300\n",
      "123/123 [==============================] - 0s 1ms/step - loss: 0.3533 - accuracy: 0.8759 - val_loss: 0.3606 - val_accuracy: 0.8756\n",
      "Epoch 53/300\n",
      "123/123 [==============================] - 0s 1ms/step - loss: 0.3523 - accuracy: 0.8749 - val_loss: 0.3608 - val_accuracy: 0.8777\n",
      "Epoch 54/300\n",
      "123/123 [==============================] - 0s 1ms/step - loss: 0.3492 - accuracy: 0.8792 - val_loss: 0.3570 - val_accuracy: 0.8614\n",
      "Epoch 55/300\n",
      "123/123 [==============================] - 0s 1ms/step - loss: 0.3482 - accuracy: 0.8820 - val_loss: 0.3545 - val_accuracy: 0.8644\n",
      "Epoch 56/300\n",
      "123/123 [==============================] - 0s 1ms/step - loss: 0.3451 - accuracy: 0.8795 - val_loss: 0.3525 - val_accuracy: 0.8797\n",
      "Epoch 57/300\n",
      "123/123 [==============================] - 0s 1ms/step - loss: 0.3438 - accuracy: 0.8805 - val_loss: 0.3546 - val_accuracy: 0.8777\n"
     ]
    },
    {
     "name": "stdout",
     "output_type": "stream",
     "text": [
      "Epoch 58/300\n",
      "123/123 [==============================] - 0s 1ms/step - loss: 0.3426 - accuracy: 0.8805 - val_loss: 0.3500 - val_accuracy: 0.8624\n",
      "Epoch 59/300\n",
      "123/123 [==============================] - 0s 1ms/step - loss: 0.3403 - accuracy: 0.8810 - val_loss: 0.3470 - val_accuracy: 0.8695\n",
      "Epoch 60/300\n",
      "123/123 [==============================] - 0s 1ms/step - loss: 0.3391 - accuracy: 0.8846 - val_loss: 0.3509 - val_accuracy: 0.8777\n",
      "Epoch 61/300\n",
      "123/123 [==============================] - 0s 2ms/step - loss: 0.3378 - accuracy: 0.8795 - val_loss: 0.3480 - val_accuracy: 0.8644\n",
      "Epoch 62/300\n",
      "123/123 [==============================] - 0s 1ms/step - loss: 0.3349 - accuracy: 0.8848 - val_loss: 0.3426 - val_accuracy: 0.8726\n",
      "Epoch 63/300\n",
      "123/123 [==============================] - 0s 2ms/step - loss: 0.3348 - accuracy: 0.8856 - val_loss: 0.3433 - val_accuracy: 0.8665\n",
      "Epoch 64/300\n",
      "123/123 [==============================] - 0s 1ms/step - loss: 0.3334 - accuracy: 0.8818 - val_loss: 0.3419 - val_accuracy: 0.8726\n",
      "Epoch 65/300\n",
      "123/123 [==============================] - 0s 2ms/step - loss: 0.3322 - accuracy: 0.8830 - val_loss: 0.3395 - val_accuracy: 0.8848\n",
      "Epoch 66/300\n",
      "123/123 [==============================] - 0s 1ms/step - loss: 0.3307 - accuracy: 0.8846 - val_loss: 0.3388 - val_accuracy: 0.8869\n",
      "Epoch 67/300\n",
      "123/123 [==============================] - 0s 1ms/step - loss: 0.3288 - accuracy: 0.8840 - val_loss: 0.3438 - val_accuracy: 0.8807\n",
      "Epoch 68/300\n",
      "123/123 [==============================] - 0s 1ms/step - loss: 0.3297 - accuracy: 0.8828 - val_loss: 0.3385 - val_accuracy: 0.8838\n",
      "Epoch 69/300\n",
      "123/123 [==============================] - 0s 1ms/step - loss: 0.3262 - accuracy: 0.8863 - val_loss: 0.3363 - val_accuracy: 0.8797\n",
      "Epoch 70/300\n",
      "123/123 [==============================] - 0s 2ms/step - loss: 0.3257 - accuracy: 0.8891 - val_loss: 0.3442 - val_accuracy: 0.8756\n",
      "Epoch 71/300\n",
      "123/123 [==============================] - 0s 2ms/step - loss: 0.3248 - accuracy: 0.8881 - val_loss: 0.3418 - val_accuracy: 0.8675\n",
      "Epoch 72/300\n",
      "123/123 [==============================] - 0s 1ms/step - loss: 0.3239 - accuracy: 0.8891 - val_loss: 0.3323 - val_accuracy: 0.8909\n",
      "Epoch 73/300\n",
      "123/123 [==============================] - 0s 1ms/step - loss: 0.3229 - accuracy: 0.8846 - val_loss: 0.3347 - val_accuracy: 0.8726\n",
      "Epoch 74/300\n",
      "123/123 [==============================] - 0s 1ms/step - loss: 0.3217 - accuracy: 0.8866 - val_loss: 0.3304 - val_accuracy: 0.8858\n",
      "Epoch 75/300\n",
      "123/123 [==============================] - 0s 1ms/step - loss: 0.3217 - accuracy: 0.8853 - val_loss: 0.3344 - val_accuracy: 0.8869\n",
      "Epoch 76/300\n",
      "123/123 [==============================] - 0s 1ms/step - loss: 0.3204 - accuracy: 0.8866 - val_loss: 0.3347 - val_accuracy: 0.8736\n",
      "Epoch 77/300\n",
      "123/123 [==============================] - 0s 1ms/step - loss: 0.3185 - accuracy: 0.8889 - val_loss: 0.3311 - val_accuracy: 0.8838\n",
      "Epoch 78/300\n",
      "123/123 [==============================] - 0s 2ms/step - loss: 0.3196 - accuracy: 0.8846 - val_loss: 0.3299 - val_accuracy: 0.8879\n",
      "Epoch 79/300\n",
      "123/123 [==============================] - 0s 1ms/step - loss: 0.3181 - accuracy: 0.8884 - val_loss: 0.3270 - val_accuracy: 0.8899\n",
      "Epoch 80/300\n",
      "123/123 [==============================] - 0s 2ms/step - loss: 0.3157 - accuracy: 0.8932 - val_loss: 0.3270 - val_accuracy: 0.8899\n",
      "Epoch 81/300\n",
      "123/123 [==============================] - 0s 2ms/step - loss: 0.3147 - accuracy: 0.8940 - val_loss: 0.3258 - val_accuracy: 0.8899\n",
      "Epoch 82/300\n",
      "123/123 [==============================] - 0s 1ms/step - loss: 0.3142 - accuracy: 0.8912 - val_loss: 0.3266 - val_accuracy: 0.8909\n",
      "Epoch 83/300\n",
      "123/123 [==============================] - 0s 1ms/step - loss: 0.3128 - accuracy: 0.8919 - val_loss: 0.3253 - val_accuracy: 0.8889\n",
      "Epoch 84/300\n",
      "123/123 [==============================] - 0s 1ms/step - loss: 0.3125 - accuracy: 0.8925 - val_loss: 0.3245 - val_accuracy: 0.8909\n",
      "Epoch 85/300\n",
      "123/123 [==============================] - 0s 1ms/step - loss: 0.3127 - accuracy: 0.8902 - val_loss: 0.3282 - val_accuracy: 0.8848\n",
      "Epoch 86/300\n",
      "123/123 [==============================] - 0s 1ms/step - loss: 0.3122 - accuracy: 0.8912 - val_loss: 0.3257 - val_accuracy: 0.8940\n",
      "Epoch 87/300\n",
      "123/123 [==============================] - 0s 1ms/step - loss: 0.3102 - accuracy: 0.8935 - val_loss: 0.3254 - val_accuracy: 0.8930\n",
      "Epoch 88/300\n",
      "123/123 [==============================] - 0s 1ms/step - loss: 0.3103 - accuracy: 0.8899 - val_loss: 0.3235 - val_accuracy: 0.8950\n",
      "Epoch 89/300\n",
      "123/123 [==============================] - 0s 1ms/step - loss: 0.3097 - accuracy: 0.8925 - val_loss: 0.3222 - val_accuracy: 0.8919\n",
      "Epoch 90/300\n",
      "123/123 [==============================] - 0s 1ms/step - loss: 0.3075 - accuracy: 0.8930 - val_loss: 0.3257 - val_accuracy: 0.8858\n",
      "Epoch 91/300\n",
      "123/123 [==============================] - 0s 1ms/step - loss: 0.3076 - accuracy: 0.8960 - val_loss: 0.3257 - val_accuracy: 0.8869\n",
      "Epoch 92/300\n",
      "123/123 [==============================] - 0s 1ms/step - loss: 0.3062 - accuracy: 0.8925 - val_loss: 0.3208 - val_accuracy: 0.8940\n",
      "Epoch 93/300\n",
      "123/123 [==============================] - 0s 1ms/step - loss: 0.3068 - accuracy: 0.8948 - val_loss: 0.3214 - val_accuracy: 0.8970\n",
      "Epoch 94/300\n",
      "123/123 [==============================] - 0s 1ms/step - loss: 0.3050 - accuracy: 0.8973 - val_loss: 0.3210 - val_accuracy: 0.8930\n",
      "Epoch 95/300\n",
      "123/123 [==============================] - 0s 1ms/step - loss: 0.3062 - accuracy: 0.8919 - val_loss: 0.3201 - val_accuracy: 0.8940\n",
      "Epoch 96/300\n",
      "123/123 [==============================] - 0s 1ms/step - loss: 0.3039 - accuracy: 0.8955 - val_loss: 0.3213 - val_accuracy: 0.8930\n",
      "Epoch 97/300\n",
      "123/123 [==============================] - 0s 1ms/step - loss: 0.3040 - accuracy: 0.8955 - val_loss: 0.3217 - val_accuracy: 0.8960\n",
      "Epoch 98/300\n",
      "123/123 [==============================] - 0s 1ms/step - loss: 0.3023 - accuracy: 0.8942 - val_loss: 0.3206 - val_accuracy: 0.8940\n",
      "Epoch 99/300\n",
      "123/123 [==============================] - 0s 1ms/step - loss: 0.3019 - accuracy: 0.8970 - val_loss: 0.3221 - val_accuracy: 0.8930\n",
      "Epoch 100/300\n",
      "123/123 [==============================] - 0s 1ms/step - loss: 0.3004 - accuracy: 0.8976 - val_loss: 0.3192 - val_accuracy: 0.8981\n",
      "Epoch 101/300\n",
      "123/123 [==============================] - 0s 1ms/step - loss: 0.2994 - accuracy: 0.8976 - val_loss: 0.3196 - val_accuracy: 0.8960\n",
      "Epoch 102/300\n",
      "123/123 [==============================] - 0s 1ms/step - loss: 0.3007 - accuracy: 0.8953 - val_loss: 0.3178 - val_accuracy: 0.8919\n",
      "Epoch 103/300\n",
      "123/123 [==============================] - 0s 1ms/step - loss: 0.2985 - accuracy: 0.8993 - val_loss: 0.3165 - val_accuracy: 0.8970\n",
      "Epoch 104/300\n",
      "123/123 [==============================] - 0s 1ms/step - loss: 0.2986 - accuracy: 0.8960 - val_loss: 0.3154 - val_accuracy: 0.8970\n",
      "Epoch 105/300\n",
      "123/123 [==============================] - 0s 1ms/step - loss: 0.2992 - accuracy: 0.8960 - val_loss: 0.3238 - val_accuracy: 0.8899\n",
      "Epoch 106/300\n",
      "123/123 [==============================] - 0s 1ms/step - loss: 0.2968 - accuracy: 0.8965 - val_loss: 0.3199 - val_accuracy: 0.8919\n",
      "Epoch 107/300\n",
      "123/123 [==============================] - 0s 1ms/step - loss: 0.2962 - accuracy: 0.9014 - val_loss: 0.3174 - val_accuracy: 0.9001\n",
      "Epoch 108/300\n",
      "123/123 [==============================] - 0s 2ms/step - loss: 0.2984 - accuracy: 0.8991 - val_loss: 0.3157 - val_accuracy: 0.8981\n",
      "Epoch 109/300\n",
      "123/123 [==============================] - 0s 1ms/step - loss: 0.2947 - accuracy: 0.8998 - val_loss: 0.3170 - val_accuracy: 0.9001\n",
      "Epoch 110/300\n",
      "123/123 [==============================] - 0s 1ms/step - loss: 0.2936 - accuracy: 0.9011 - val_loss: 0.3143 - val_accuracy: 0.9021\n",
      "Epoch 111/300\n",
      "123/123 [==============================] - 0s 1ms/step - loss: 0.2926 - accuracy: 0.9021 - val_loss: 0.3191 - val_accuracy: 0.8940\n",
      "Epoch 112/300\n",
      "123/123 [==============================] - 0s 1ms/step - loss: 0.2944 - accuracy: 0.9019 - val_loss: 0.3207 - val_accuracy: 0.8909\n",
      "Epoch 113/300\n",
      "123/123 [==============================] - 0s 1ms/step - loss: 0.2931 - accuracy: 0.8986 - val_loss: 0.3153 - val_accuracy: 0.8981\n",
      "Epoch 114/300\n",
      "123/123 [==============================] - 0s 1ms/step - loss: 0.2929 - accuracy: 0.9032 - val_loss: 0.3170 - val_accuracy: 0.8930\n"
     ]
    },
    {
     "name": "stdout",
     "output_type": "stream",
     "text": [
      "Epoch 115/300\n",
      "123/123 [==============================] - 0s 1ms/step - loss: 0.2917 - accuracy: 0.9034 - val_loss: 0.3157 - val_accuracy: 0.9052\n",
      "Epoch 116/300\n",
      "123/123 [==============================] - 0s 1ms/step - loss: 0.2914 - accuracy: 0.8983 - val_loss: 0.3135 - val_accuracy: 0.9011\n",
      "Epoch 117/300\n",
      "123/123 [==============================] - 0s 1ms/step - loss: 0.2890 - accuracy: 0.9006 - val_loss: 0.3127 - val_accuracy: 0.9011\n",
      "Epoch 118/300\n",
      "123/123 [==============================] - 0s 1ms/step - loss: 0.2896 - accuracy: 0.9004 - val_loss: 0.3190 - val_accuracy: 0.8940\n",
      "Epoch 119/300\n",
      "123/123 [==============================] - 0s 1ms/step - loss: 0.2902 - accuracy: 0.9006 - val_loss: 0.3106 - val_accuracy: 0.9011\n",
      "Epoch 120/300\n",
      "123/123 [==============================] - 0s 1ms/step - loss: 0.2879 - accuracy: 0.9021 - val_loss: 0.3148 - val_accuracy: 0.9011\n",
      "Epoch 121/300\n",
      "123/123 [==============================] - 0s 1ms/step - loss: 0.2870 - accuracy: 0.9024 - val_loss: 0.3126 - val_accuracy: 0.9011\n",
      "Epoch 122/300\n",
      "123/123 [==============================] - 0s 1ms/step - loss: 0.2873 - accuracy: 0.9021 - val_loss: 0.3112 - val_accuracy: 0.8991\n",
      "Epoch 123/300\n",
      "123/123 [==============================] - 0s 1ms/step - loss: 0.2868 - accuracy: 0.9019 - val_loss: 0.3146 - val_accuracy: 0.8950\n",
      "Epoch 124/300\n",
      "123/123 [==============================] - 0s 2ms/step - loss: 0.2859 - accuracy: 0.9075 - val_loss: 0.3131 - val_accuracy: 0.9032\n",
      "Epoch 125/300\n",
      "123/123 [==============================] - 0s 1ms/step - loss: 0.2864 - accuracy: 0.9024 - val_loss: 0.3197 - val_accuracy: 0.8970\n",
      "Epoch 126/300\n",
      "123/123 [==============================] - 0s 1ms/step - loss: 0.2845 - accuracy: 0.9049 - val_loss: 0.3120 - val_accuracy: 0.9032\n",
      "Epoch 127/300\n",
      "123/123 [==============================] - 0s 1ms/step - loss: 0.2853 - accuracy: 0.9065 - val_loss: 0.3156 - val_accuracy: 0.9083\n",
      "Epoch 128/300\n",
      "123/123 [==============================] - 0s 1ms/step - loss: 0.2832 - accuracy: 0.9065 - val_loss: 0.3111 - val_accuracy: 0.8991\n",
      "Epoch 129/300\n",
      "123/123 [==============================] - 0s 1ms/step - loss: 0.2835 - accuracy: 0.9006 - val_loss: 0.3092 - val_accuracy: 0.9021\n",
      "Epoch 130/300\n",
      "123/123 [==============================] - 0s 1ms/step - loss: 0.2818 - accuracy: 0.9065 - val_loss: 0.3113 - val_accuracy: 0.9042\n",
      "Epoch 131/300\n",
      "123/123 [==============================] - 0s 2ms/step - loss: 0.2813 - accuracy: 0.9037 - val_loss: 0.3134 - val_accuracy: 0.9083\n",
      "Epoch 132/300\n",
      "123/123 [==============================] - 0s 1ms/step - loss: 0.2837 - accuracy: 0.9037 - val_loss: 0.3128 - val_accuracy: 0.9032\n",
      "Epoch 133/300\n",
      "123/123 [==============================] - 0s 1ms/step - loss: 0.2811 - accuracy: 0.9070 - val_loss: 0.3128 - val_accuracy: 0.9072\n",
      "Epoch 134/300\n",
      "123/123 [==============================] - 0s 1ms/step - loss: 0.2808 - accuracy: 0.9034 - val_loss: 0.3104 - val_accuracy: 0.9021\n",
      "Epoch 135/300\n",
      "123/123 [==============================] - 0s 2ms/step - loss: 0.2791 - accuracy: 0.9062 - val_loss: 0.3096 - val_accuracy: 0.9052\n",
      "Epoch 136/300\n",
      "123/123 [==============================] - 0s 1ms/step - loss: 0.2768 - accuracy: 0.9062 - val_loss: 0.3104 - val_accuracy: 0.9103\n",
      "Epoch 137/300\n",
      "123/123 [==============================] - 0s 1ms/step - loss: 0.2778 - accuracy: 0.9103 - val_loss: 0.3094 - val_accuracy: 0.9001\n",
      "Epoch 138/300\n",
      "123/123 [==============================] - 0s 1ms/step - loss: 0.2774 - accuracy: 0.9062 - val_loss: 0.3069 - val_accuracy: 0.9042\n",
      "Epoch 139/300\n",
      "123/123 [==============================] - 0s 1ms/step - loss: 0.2765 - accuracy: 0.9052 - val_loss: 0.3152 - val_accuracy: 0.9083\n",
      "Epoch 140/300\n",
      "123/123 [==============================] - 0s 1ms/step - loss: 0.2765 - accuracy: 0.9070 - val_loss: 0.3086 - val_accuracy: 0.9042\n",
      "Epoch 141/300\n",
      "123/123 [==============================] - 0s 1ms/step - loss: 0.2752 - accuracy: 0.9055 - val_loss: 0.3076 - val_accuracy: 0.9042\n",
      "Epoch 142/300\n",
      "123/123 [==============================] - 0s 1ms/step - loss: 0.2750 - accuracy: 0.9055 - val_loss: 0.3080 - val_accuracy: 0.9072\n",
      "Epoch 143/300\n",
      "123/123 [==============================] - 0s 1ms/step - loss: 0.2744 - accuracy: 0.9083 - val_loss: 0.3097 - val_accuracy: 0.9093\n",
      "Epoch 144/300\n",
      "123/123 [==============================] - 0s 1ms/step - loss: 0.2755 - accuracy: 0.9057 - val_loss: 0.3063 - val_accuracy: 0.9093\n",
      "Epoch 145/300\n",
      "123/123 [==============================] - 0s 1ms/step - loss: 0.2743 - accuracy: 0.9077 - val_loss: 0.3122 - val_accuracy: 0.9001\n",
      "Epoch 146/300\n",
      "123/123 [==============================] - 0s 1ms/step - loss: 0.2734 - accuracy: 0.9055 - val_loss: 0.3131 - val_accuracy: 0.9103\n",
      "Epoch 147/300\n",
      "123/123 [==============================] - 0s 1ms/step - loss: 0.2736 - accuracy: 0.9070 - val_loss: 0.3085 - val_accuracy: 0.9001\n",
      "Epoch 148/300\n",
      "123/123 [==============================] - 0s 1ms/step - loss: 0.2718 - accuracy: 0.9072 - val_loss: 0.3068 - val_accuracy: 0.9052\n",
      "Epoch 149/300\n",
      "123/123 [==============================] - 0s 1ms/step - loss: 0.2711 - accuracy: 0.9123 - val_loss: 0.3077 - val_accuracy: 0.9123\n",
      "Epoch 150/300\n",
      "123/123 [==============================] - 0s 1ms/step - loss: 0.2697 - accuracy: 0.9080 - val_loss: 0.3050 - val_accuracy: 0.9083\n",
      "Epoch 151/300\n",
      "123/123 [==============================] - 0s 1ms/step - loss: 0.2705 - accuracy: 0.9083 - val_loss: 0.3078 - val_accuracy: 0.9103\n",
      "Epoch 152/300\n",
      "123/123 [==============================] - 0s 1ms/step - loss: 0.2708 - accuracy: 0.9085 - val_loss: 0.3259 - val_accuracy: 0.8767\n",
      "Epoch 153/300\n",
      "123/123 [==============================] - 0s 1ms/step - loss: 0.2695 - accuracy: 0.9075 - val_loss: 0.3062 - val_accuracy: 0.9123\n",
      "Epoch 154/300\n",
      "123/123 [==============================] - 0s 1ms/step - loss: 0.2691 - accuracy: 0.9088 - val_loss: 0.3072 - val_accuracy: 0.9032\n",
      "Epoch 155/300\n",
      "123/123 [==============================] - 0s 1ms/step - loss: 0.2677 - accuracy: 0.9090 - val_loss: 0.3056 - val_accuracy: 0.9113\n",
      "Epoch 156/300\n",
      "123/123 [==============================] - 0s 1ms/step - loss: 0.2676 - accuracy: 0.9106 - val_loss: 0.3089 - val_accuracy: 0.8981\n",
      "Epoch 157/300\n",
      "123/123 [==============================] - 0s 1ms/step - loss: 0.2681 - accuracy: 0.9075 - val_loss: 0.3070 - val_accuracy: 0.9011\n",
      "Epoch 158/300\n",
      "123/123 [==============================] - 0s 1ms/step - loss: 0.2671 - accuracy: 0.9083 - val_loss: 0.3034 - val_accuracy: 0.9134\n",
      "Epoch 159/300\n",
      "123/123 [==============================] - 0s 1ms/step - loss: 0.2657 - accuracy: 0.9095 - val_loss: 0.3058 - val_accuracy: 0.9042\n",
      "Epoch 160/300\n",
      "123/123 [==============================] - 0s 1ms/step - loss: 0.2660 - accuracy: 0.9100 - val_loss: 0.3061 - val_accuracy: 0.9103\n",
      "Epoch 161/300\n",
      "123/123 [==============================] - 0s 1ms/step - loss: 0.2650 - accuracy: 0.9103 - val_loss: 0.3036 - val_accuracy: 0.9062\n",
      "Epoch 162/300\n",
      "123/123 [==============================] - 0s 1ms/step - loss: 0.2632 - accuracy: 0.9131 - val_loss: 0.3091 - val_accuracy: 0.9021\n",
      "Epoch 163/300\n",
      "123/123 [==============================] - 0s 1ms/step - loss: 0.2639 - accuracy: 0.9113 - val_loss: 0.3073 - val_accuracy: 0.9123\n",
      "Epoch 164/300\n",
      "123/123 [==============================] - 0s 1ms/step - loss: 0.2610 - accuracy: 0.9113 - val_loss: 0.3145 - val_accuracy: 0.9093\n",
      "Epoch 165/300\n",
      "123/123 [==============================] - 0s 1ms/step - loss: 0.2623 - accuracy: 0.9108 - val_loss: 0.3021 - val_accuracy: 0.9072\n",
      "Epoch 166/300\n",
      "123/123 [==============================] - 0s 1ms/step - loss: 0.2617 - accuracy: 0.9111 - val_loss: 0.3020 - val_accuracy: 0.9134\n",
      "Epoch 167/300\n",
      "123/123 [==============================] - 0s 1ms/step - loss: 0.2633 - accuracy: 0.9113 - val_loss: 0.3065 - val_accuracy: 0.9062\n",
      "Epoch 168/300\n",
      "123/123 [==============================] - 0s 1ms/step - loss: 0.2618 - accuracy: 0.9113 - val_loss: 0.3062 - val_accuracy: 0.9072\n",
      "Epoch 169/300\n",
      "123/123 [==============================] - 0s 1ms/step - loss: 0.2602 - accuracy: 0.9111 - val_loss: 0.3042 - val_accuracy: 0.9052\n",
      "Epoch 170/300\n",
      "123/123 [==============================] - 0s 1ms/step - loss: 0.2607 - accuracy: 0.9108 - val_loss: 0.3028 - val_accuracy: 0.9093\n",
      "Epoch 171/300\n"
     ]
    },
    {
     "name": "stdout",
     "output_type": "stream",
     "text": [
      "123/123 [==============================] - 0s 1ms/step - loss: 0.2595 - accuracy: 0.9139 - val_loss: 0.3006 - val_accuracy: 0.9113\n",
      "Epoch 172/300\n",
      "123/123 [==============================] - 0s 1ms/step - loss: 0.2587 - accuracy: 0.9149 - val_loss: 0.3017 - val_accuracy: 0.9103\n",
      "Epoch 173/300\n",
      "106/123 [========================>.....] - ETA: 0s - loss: 0.2545 - accuracy: 0.9139Restoring model weights from the end of the best epoch: 158.\n",
      "123/123 [==============================] - 0s 1ms/step - loss: 0.2569 - accuracy: 0.9116 - val_loss: 0.3008 - val_accuracy: 0.9103\n",
      "Epoch 173: early stopping\n"
     ]
    }
   ],
   "source": [
    "# Hyperparameters and training\n",
    "model.compile(loss='binary_crossentropy', optimizer=opt, metrics=['accuracy'])\n",
    "history = model.fit(\n",
    "    X_train, \n",
    "    y_train, \n",
    "    epochs=300, \n",
    "    batch_size=32, \n",
    "    verbose=1, \n",
    "    validation_split=0.2,\n",
    "    callbacks=[early_stopping])"
   ]
  },
  {
   "cell_type": "code",
   "execution_count": null,
   "metadata": {},
   "outputs": [],
   "source": []
  },
  {
   "cell_type": "code",
   "execution_count": 30,
   "id": "9df3c63f",
   "metadata": {},
   "outputs": [
    {
     "data": {
      "image/png": "[encoded data removed]",
      "text/plain": [
       "<Figure size 432x288 with 1 Axes>"
      ]
     },
     "metadata": {
      "needs_background": "light"
     },
     "output_type": "display_data"
    }
   ],
   "source": [
    "plot_accuracy(history)"
   ]
  },
  {
   "cell_type": "code",
   "execution_count": 31,
   "id": "4a636b43",
   "metadata": {},
   "outputs": [
    {
     "data": {
      "image/png": "[encoded data removed]",
      "text/plain": [
       "<Figure size 432x288 with 1 Axes>"
      ]
     },
     "metadata": {
      "needs_background": "light"
     },
     "output_type": "display_data"
    }
   ],
   "source": [
    "plot_loss(history)"
   ]
  },
  {
   "cell_type": "code",
   "execution_count": null,
   "id": "25ba19b3",
   "metadata": {},
   "outputs": [],
   "source": []
  },
  {
   "cell_type": "code",
   "execution_count": 32,
   "metadata": {},
   "outputs": [
    {
     "name": "stdout",
     "output_type": "stream",
     "text": [
      "Test Accuracy: 0.9041570438799076\n",
      "F1 score: 0.9108485499462943\n"
     ]
    },
    {
     "data": {
      "image/png": "[encoded data removed]",
      "text/plain": [
       "<Figure size 432x288 with 2 Axes>"
      ]
     },
     "metadata": {
      "needs_background": "light"
     },
     "output_type": "display_data"
    },
    {
     "data": {
      "image/png": "[encoded data removed]",
      "text/plain": [
       "<Figure size 432x288 with 1 Axes>"
      ]
     },
     "metadata": {
      "needs_background": "light"
     },
     "output_type": "display_data"
    }
   ],
   "source": [
    "test_model_raw_data(X_test, y_test, model)"
   ]
  },
  {
   "cell_type": "markdown",
   "metadata": {},
   "source": [
    "### Sklearn MLP Classifier"
   ]
  },
  {
   "cell_type": "code",
   "execution_count": 36,
   "metadata": {},
   "outputs": [
    {
     "name": "stdout",
     "output_type": "stream",
     "text": [
      "Iteration 1, loss = 0.68532986\n",
      "Validation score: 0.548420\n",
      "Iteration 2, loss = 0.67887895\n",
      "Validation score: 0.548420\n",
      "Iteration 3, loss = 0.67020986\n",
      "Validation score: 0.547401\n",
      "Iteration 4, loss = 0.66008826\n",
      "Validation score: 0.545362\n",
      "Iteration 5, loss = 0.64802036\n",
      "Validation score: 0.668705\n",
      "Iteration 6, loss = 0.63532936\n",
      "Validation score: 0.666667\n",
      "Iteration 7, loss = 0.62313301\n",
      "Validation score: 0.673802\n",
      "Iteration 8, loss = 0.61135437\n",
      "Validation score: 0.681957\n",
      "Iteration 9, loss = 0.60175192\n",
      "Validation score: 0.676860\n",
      "Iteration 10, loss = 0.59222206\n",
      "Validation score: 0.682977\n",
      "Iteration 11, loss = 0.58273130\n",
      "Validation score: 0.693170\n",
      "Iteration 12, loss = 0.57474924\n",
      "Validation score: 0.701325\n",
      "Iteration 13, loss = 0.56735169\n",
      "Validation score: 0.710499\n",
      "Iteration 14, loss = 0.55921348\n",
      "Validation score: 0.696228\n",
      "Iteration 15, loss = 0.55292431\n",
      "Validation score: 0.722732\n",
      "Iteration 16, loss = 0.54467789\n",
      "Validation score: 0.721713\n",
      "Iteration 17, loss = 0.53782286\n",
      "Validation score: 0.737003\n",
      "Iteration 18, loss = 0.53093440\n",
      "Validation score: 0.745158\n",
      "Iteration 19, loss = 0.52365522\n",
      "Validation score: 0.746177\n",
      "Iteration 20, loss = 0.51708557\n",
      "Validation score: 0.757390\n",
      "Iteration 21, loss = 0.51084982\n",
      "Validation score: 0.743119\n",
      "Iteration 22, loss = 0.50382396\n",
      "Validation score: 0.737003\n",
      "Iteration 23, loss = 0.49766433\n",
      "Validation score: 0.766565\n",
      "Iteration 24, loss = 0.49152223\n",
      "Validation score: 0.770642\n",
      "Iteration 25, loss = 0.48468304\n",
      "Validation score: 0.779817\n",
      "Iteration 26, loss = 0.48032295\n",
      "Validation score: 0.788991\n",
      "Iteration 27, loss = 0.47355516\n",
      "Validation score: 0.795107\n",
      "Iteration 28, loss = 0.46772738\n",
      "Validation score: 0.782875\n",
      "Iteration 29, loss = 0.46299988\n",
      "Validation score: 0.799185\n",
      "Iteration 30, loss = 0.45589900\n",
      "Validation score: 0.811417\n",
      "Iteration 31, loss = 0.45086159\n",
      "Validation score: 0.806320\n",
      "Iteration 32, loss = 0.44558546\n",
      "Validation score: 0.816514\n",
      "Iteration 33, loss = 0.44095696\n",
      "Validation score: 0.813456\n",
      "Iteration 34, loss = 0.43547383\n",
      "Validation score: 0.819572\n",
      "Iteration 35, loss = 0.43010290\n",
      "Validation score: 0.806320\n",
      "Iteration 36, loss = 0.42591070\n",
      "Validation score: 0.818552\n",
      "Iteration 37, loss = 0.42254173\n",
      "Validation score: 0.820591\n",
      "Iteration 38, loss = 0.41713159\n",
      "Validation score: 0.818552\n",
      "Iteration 39, loss = 0.41277315\n",
      "Validation score: 0.821611\n",
      "Iteration 40, loss = 0.40966908\n",
      "Validation score: 0.820591\n",
      "Iteration 41, loss = 0.40466007\n",
      "Validation score: 0.825688\n",
      "Iteration 42, loss = 0.40093935\n",
      "Validation score: 0.824669\n",
      "Iteration 43, loss = 0.39725541\n",
      "Validation score: 0.829766\n",
      "Iteration 44, loss = 0.39253939\n",
      "Validation score: 0.830785\n",
      "Iteration 45, loss = 0.38956159\n",
      "Validation score: 0.830785\n",
      "Iteration 46, loss = 0.38657387\n",
      "Validation score: 0.833843\n",
      "Iteration 47, loss = 0.38345191\n",
      "Validation score: 0.836901\n",
      "Iteration 48, loss = 0.38163683\n",
      "Validation score: 0.834862\n",
      "Iteration 49, loss = 0.37746377\n",
      "Validation score: 0.843017\n",
      "Iteration 50, loss = 0.37470469\n",
      "Validation score: 0.836901\n",
      "Iteration 51, loss = 0.37402614\n",
      "Validation score: 0.841998\n",
      "Iteration 52, loss = 0.36965353\n",
      "Validation score: 0.847095\n",
      "Iteration 53, loss = 0.36876349\n",
      "Validation score: 0.840979\n",
      "Iteration 54, loss = 0.36679482\n",
      "Validation score: 0.839959\n",
      "Iteration 55, loss = 0.36343167\n",
      "Validation score: 0.841998\n",
      "Iteration 56, loss = 0.36237887\n",
      "Validation score: 0.849134\n",
      "Iteration 57, loss = 0.36081609\n",
      "Validation score: 0.852192\n",
      "Iteration 58, loss = 0.35837284\n",
      "Validation score: 0.847095\n",
      "Iteration 59, loss = 0.35640879\n",
      "Validation score: 0.845056\n",
      "Iteration 60, loss = 0.35633264\n",
      "Validation score: 0.849134\n",
      "Iteration 61, loss = 0.35452851\n",
      "Validation score: 0.851172\n",
      "Iteration 62, loss = 0.35239121\n",
      "Validation score: 0.853211\n",
      "Iteration 63, loss = 0.35061737\n",
      "Validation score: 0.850153\n",
      "Iteration 64, loss = 0.34799811\n",
      "Validation score: 0.860347\n",
      "Iteration 65, loss = 0.34725462\n",
      "Validation score: 0.858308\n",
      "Iteration 66, loss = 0.34640138\n",
      "Validation score: 0.856269\n",
      "Iteration 67, loss = 0.34563355\n",
      "Validation score: 0.846075\n",
      "Iteration 68, loss = 0.34523273\n",
      "Validation score: 0.854230\n",
      "Iteration 69, loss = 0.34319150\n",
      "Validation score: 0.855250\n",
      "Iteration 70, loss = 0.34212353\n",
      "Validation score: 0.845056\n",
      "Iteration 71, loss = 0.34183050\n",
      "Validation score: 0.856269\n",
      "Iteration 72, loss = 0.34018441\n",
      "Validation score: 0.860347\n",
      "Iteration 73, loss = 0.33885792\n",
      "Validation score: 0.854230\n",
      "Iteration 74, loss = 0.33837479\n",
      "Validation score: 0.858308\n",
      "Iteration 75, loss = 0.33621896\n",
      "Validation score: 0.860347\n",
      "Iteration 76, loss = 0.33570668\n",
      "Validation score: 0.858308\n",
      "Iteration 77, loss = 0.33502301\n",
      "Validation score: 0.858308\n",
      "Iteration 78, loss = 0.33348512\n",
      "Validation score: 0.862385\n",
      "Iteration 79, loss = 0.33277752\n",
      "Validation score: 0.844037\n",
      "Iteration 80, loss = 0.33221941\n",
      "Validation score: 0.864424\n",
      "Iteration 81, loss = 0.33149668\n",
      "Validation score: 0.859327\n",
      "Iteration 82, loss = 0.33057560\n",
      "Validation score: 0.865443\n",
      "Iteration 83, loss = 0.33123728\n",
      "Validation score: 0.861366\n",
      "Iteration 84, loss = 0.32764174\n",
      "Validation score: 0.862385\n",
      "Iteration 85, loss = 0.32847332\n",
      "Validation score: 0.865443\n",
      "Iteration 86, loss = 0.32728803\n",
      "Validation score: 0.865443\n",
      "Iteration 87, loss = 0.32623540\n",
      "Validation score: 0.867482\n",
      "Iteration 88, loss = 0.32578218\n",
      "Validation score: 0.864424\n",
      "Iteration 89, loss = 0.32622535\n",
      "Validation score: 0.862385\n",
      "Iteration 90, loss = 0.32456236\n",
      "Validation score: 0.867482\n",
      "Iteration 91, loss = 0.32409866\n",
      "Validation score: 0.868502\n",
      "Iteration 92, loss = 0.32267188\n",
      "Validation score: 0.867482\n",
      "Iteration 93, loss = 0.32231427\n",
      "Validation score: 0.864424\n",
      "Iteration 94, loss = 0.32224684\n",
      "Validation score: 0.860347\n",
      "Iteration 95, loss = 0.32040950\n",
      "Validation score: 0.858308\n",
      "Iteration 96, loss = 0.32031983\n",
      "Validation score: 0.865443\n",
      "Iteration 97, loss = 0.32078425\n",
      "Validation score: 0.869521\n",
      "Iteration 98, loss = 0.31955404\n",
      "Validation score: 0.869521\n",
      "Iteration 99, loss = 0.31937960\n",
      "Validation score: 0.869521\n",
      "Iteration 100, loss = 0.32015430\n",
      "Validation score: 0.873598\n",
      "Iteration 101, loss = 0.31829869\n",
      "Validation score: 0.866463\n",
      "Iteration 102, loss = 0.31960087\n",
      "Validation score: 0.867482\n",
      "Iteration 103, loss = 0.31622346\n",
      "Validation score: 0.874618\n",
      "Iteration 104, loss = 0.31587012\n",
      "Validation score: 0.872579\n",
      "Iteration 105, loss = 0.31513249\n",
      "Validation score: 0.872579\n",
      "Iteration 106, loss = 0.31531468\n",
      "Validation score: 0.870540\n",
      "Iteration 107, loss = 0.31475049\n",
      "Validation score: 0.873598\n",
      "Iteration 108, loss = 0.31416195\n",
      "Validation score: 0.874618\n",
      "Iteration 109, loss = 0.31235110\n",
      "Validation score: 0.860347\n",
      "Iteration 110, loss = 0.31296781\n",
      "Validation score: 0.875637\n",
      "Iteration 111, loss = 0.31259965\n",
      "Validation score: 0.874618\n",
      "Iteration 112, loss = 0.31203627\n",
      "Validation score: 0.866463\n",
      "Iteration 113, loss = 0.31244961\n",
      "Validation score: 0.871560\n",
      "Iteration 114, loss = 0.31148030\n",
      "Validation score: 0.866463\n",
      "Iteration 115, loss = 0.31078921\n",
      "Validation score: 0.874618\n",
      "Iteration 116, loss = 0.31012706\n",
      "Validation score: 0.876656\n",
      "Iteration 117, loss = 0.30925259\n",
      "Validation score: 0.876656\n",
      "Iteration 118, loss = 0.30811789\n",
      "Validation score: 0.875637\n",
      "Iteration 119, loss = 0.30883247\n",
      "Validation score: 0.876656\n",
      "Iteration 120, loss = 0.30951310\n",
      "Validation score: 0.875637\n",
      "Iteration 121, loss = 0.30896909\n",
      "Validation score: 0.862385\n",
      "Iteration 122, loss = 0.30837945\n",
      "Validation score: 0.872579\n",
      "Iteration 123, loss = 0.30614449\n",
      "Validation score: 0.877676\n",
      "Iteration 124, loss = 0.30615903\n",
      "Validation score: 0.866463\n",
      "Iteration 125, loss = 0.30996648\n",
      "Validation score: 0.875637\n",
      "Iteration 126, loss = 0.30473198\n",
      "Validation score: 0.877676\n",
      "Iteration 127, loss = 0.30460018\n",
      "Validation score: 0.876656\n",
      "Iteration 128, loss = 0.30425643\n",
      "Validation score: 0.858308\n",
      "Iteration 129, loss = 0.30619027\n",
      "Validation score: 0.875637\n",
      "Iteration 130, loss = 0.30488456\n",
      "Validation score: 0.877676\n",
      "Iteration 131, loss = 0.30404068\n",
      "Validation score: 0.878695\n",
      "Iteration 132, loss = 0.30232144\n",
      "Validation score: 0.865443\n",
      "Iteration 133, loss = 0.30200923\n",
      "Validation score: 0.877676\n",
      "Iteration 134, loss = 0.30313040\n",
      "Validation score: 0.865443\n",
      "Iteration 135, loss = 0.30197580\n",
      "Validation score: 0.878695\n",
      "Iteration 136, loss = 0.30129565\n",
      "Validation score: 0.880734\n",
      "Iteration 137, loss = 0.30084139\n",
      "Validation score: 0.873598\n",
      "Iteration 138, loss = 0.29938990\n",
      "Validation score: 0.868502\n",
      "Iteration 139, loss = 0.30061431\n",
      "Validation score: 0.865443\n",
      "Iteration 140, loss = 0.30184897\n",
      "Validation score: 0.872579\n"
     ]
    },
    {
     "name": "stdout",
     "output_type": "stream",
     "text": [
      "Iteration 141, loss = 0.30116043\n",
      "Validation score: 0.873598\n",
      "Iteration 142, loss = 0.29901183\n",
      "Validation score: 0.872579\n",
      "Iteration 143, loss = 0.29799493\n",
      "Validation score: 0.872579\n",
      "Iteration 144, loss = 0.29907598\n",
      "Validation score: 0.873598\n",
      "Iteration 145, loss = 0.29860874\n",
      "Validation score: 0.863405\n",
      "Iteration 146, loss = 0.29795822\n",
      "Validation score: 0.877676\n",
      "Iteration 147, loss = 0.29644039\n",
      "Validation score: 0.871560\n",
      "Iteration 148, loss = 0.29699322\n",
      "Validation score: 0.878695\n",
      "Iteration 149, loss = 0.29767684\n",
      "Validation score: 0.874618\n",
      "Iteration 150, loss = 0.29625345\n",
      "Validation score: 0.878695\n",
      "Iteration 151, loss = 0.29456578\n",
      "Validation score: 0.872579\n",
      "Iteration 152, loss = 0.29605105\n",
      "Validation score: 0.879715\n",
      "Validation score did not improve more than tol=0.000100 for 15 consecutive epochs. Stopping.\n",
      "F1 Score: 0.8917470525187567\n",
      "ACC: 0.8833718244803695\n"
     ]
    },
    {
     "data": {
      "text/plain": [
       "<sklearn.metrics._plot.roc_curve.RocCurveDisplay at 0x23bc2c451c0>"
      ]
     },
     "execution_count": 36,
     "metadata": {},
     "output_type": "execute_result"
    },
    {
     "data": {
      "image/png": "[encoded data removed]",
      "text/plain": [
       "<Figure size 432x288 with 2 Axes>"
      ]
     },
     "metadata": {
      "needs_background": "light"
     },
     "output_type": "display_data"
    },
    {
     "data": {
      "image/png": "[encoded data removed]",
      "text/plain": [
       "<Figure size 432x288 with 1 Axes>"
      ]
     },
     "metadata": {
      "needs_background": "light"
     },
     "output_type": "display_data"
    }
   ],
   "source": [
    "from sklearn.neural_network import MLPClassifier\n",
    "from sklearn.datasets import make_classification\n",
    "from sklearn.model_selection import train_test_split\n",
    "\n",
    "clf = MLPClassifier(random_state=1337, max_iter=300, early_stopping=True, batch_size=32,\n",
    "                    validation_fraction=0.2, n_iter_no_change=15, verbose=1).fit(X_train, y_train)\n",
    "\n",
    "y_pred = clf.predict(X_test)\n",
    "res_f1_score = f1_score(y_test, y_pred)\n",
    "res_acc = clf.score(X_test, y_test)\n",
    "\n",
    "print(f\"F1 Score: {res_f1_score}\")\n",
    "print(f\"ACC: {res_acc}\")\n",
    "\n",
    "\n",
    "ConfusionMatrixDisplay.from_predictions(y_test, y_pred)\n",
    "\n",
    "RocCurveDisplay.from_predictions(y_test, y_pred)\n"
   ]
  },
  {
   "cell_type": "code",
   "execution_count": 37,
   "metadata": {},
   "outputs": [
    {
     "data": {
      "image/png": "[encoded data removed]",
      "text/plain": [
       "<Figure size 576x720 with 1 Axes>"
      ]
     },
     "metadata": {
      "needs_background": "light"
     },
     "output_type": "display_data"
    }
   ],
   "source": [
    "plt.figure(figsize=(8,10))\n",
    "\n",
    "plt.subplot(2,1,2)\n",
    "# summarize history for loss\n",
    "plt.plot(clf.loss_curve_)\n",
    "plt.title('model loss')\n",
    "plt.ylabel('loss')\n",
    "plt.xlabel('epoch')\n",
    "plt.legend(['train', 'validation'], loc='upper right')\n",
    "plt.show()"
   ]
  },
  {
   "cell_type": "code",
   "execution_count": null,
   "metadata": {},
   "outputs": [],
   "source": [
    "clf.get_params()"
   ]
  },
  {
   "cell_type": "code",
   "execution_count": null,
   "metadata": {},
   "outputs": [],
   "source": []
  }
 ],
 "metadata": {
  "kernelspec": {
   "display_name": "Python 3 (ipykernel)",
   "language": "python",
   "name": "python3"
  },
  "language_info": {
   "codemirror_mode": {
    "name": "ipython",
    "version": 3
   },
   "file_extension": ".py",
   "mimetype": "text/x-python",
   "name": "python",
   "nbconvert_exporter": "python",
   "pygments_lexer": "ipython3",
   "version": "3.9.12"
  }
 },
 "nbformat": 4,
 "nbformat_minor": 4
}
