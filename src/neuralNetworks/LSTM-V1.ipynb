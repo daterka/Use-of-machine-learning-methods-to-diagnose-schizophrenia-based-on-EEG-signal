{
 "cells": [
  {
   "cell_type": "code",
   "execution_count": 1,
   "id": "013adb54",
   "metadata": {},
   "outputs": [],
   "source": [
    "import gc\n",
    "import time\n",
    "import os\n",
    "\n",
    "import keras\n",
    "from keras.models import Sequential\n",
    "from keras.layers import Dense, Conv2D, MaxPool2D , Flatten\n",
    "from keras.preprocessing.image import ImageDataGenerator\n",
    "import numpy as np\n",
    "\n",
    "from keras.models import Model\n",
    "from keras.optimizers import Adam\n",
    "from keras.applications.vgg16 import VGG16, preprocess_input\n",
    "from keras.preprocessing.image import ImageDataGenerator\n",
    "from keras.callbacks import ModelCheckpoint, EarlyStopping\n",
    "from keras.layers import Dense, Dropout, Flatten\n",
    "from tensorflow.keras import regularizers\n",
    "from pathlib import Path\n",
    "\n",
    "import tensorflow as tf\n",
    "from tensorflow import keras\n",
    "from tensorflow.keras import layers\n",
    "\n",
    "from sklearn.metrics import accuracy_score, confusion_matrix\n",
    "import seaborn as sn\n",
    "\n",
    "from tensorflow.python.client import device_lib\n",
    "\n",
    "\n",
    "from sklearn.model_selection import cross_val_score\n",
    "\n",
    "from matplotlib import pyplot as plt\n",
    "\n",
    "import mne\n",
    "\n",
    "from sklearn.model_selection import train_test_split\n",
    "\n",
    "from tensorflow.keras.layers import Input, Flatten\n"
   ]
  },
  {
   "cell_type": "code",
   "execution_count": null,
   "id": "4d3d5d15",
   "metadata": {},
   "outputs": [],
   "source": []
  },
  {
   "cell_type": "code",
   "execution_count": 4,
   "id": "f5ff259d",
   "metadata": {},
   "outputs": [
    {
     "data": {
      "text/plain": [
       "''"
      ]
     },
     "execution_count": 4,
     "metadata": {},
     "output_type": "execute_result"
    }
   ],
   "source": [
    "os.environ[\"CUDA_VISIBLE_DEVICES\"] = \"-1\"\n",
    "tf.test.gpu_device_name()"
   ]
  },
  {
   "cell_type": "code",
   "execution_count": null,
   "id": "833ae4f7",
   "metadata": {},
   "outputs": [],
   "source": []
  },
  {
   "cell_type": "markdown",
   "id": "31d598ef",
   "metadata": {},
   "source": [
    "### Loading edf"
   ]
  },
  {
   "cell_type": "code",
   "execution_count": 5,
   "id": "5eb29333",
   "metadata": {},
   "outputs": [],
   "source": [
    "file = \"..\\dataverse_files\\h01.edf\"\n",
    "edfs_path = \"..\\dataverse_files\"\n",
    "manifest_path = \"..\\dataverse_files\\MANIFEST.txt\""
   ]
  },
  {
   "cell_type": "code",
   "execution_count": 6,
   "id": "d0046338",
   "metadata": {},
   "outputs": [],
   "source": [
    "def load_patients_data(edfs_path):\n",
    "    raw_patients_data = []\n",
    "    \n",
    "    edfs_file_names = [f for f in os.listdir(edfs_path) if f.endswith('.edf')]\n",
    "    \n",
    "    for file_name in edfs_file_names:\n",
    "        path = edfs_path + '\\\\' + file_name \n",
    "        raw_data = mne.io.read_raw_edf(path, preload=True, verbose=False)\n",
    "        raw_patients_data.append(raw_data)\n",
    "\n",
    "    return raw_patients_data"
   ]
  },
  {
   "cell_type": "code",
   "execution_count": 7,
   "id": "6f220cd4",
   "metadata": {},
   "outputs": [],
   "source": [
    "raw_patients_data = load_patients_data(edfs_path)"
   ]
  },
  {
   "cell_type": "markdown",
   "id": "66ec70c1",
   "metadata": {},
   "source": [
    "### Filtered EEG signals segmentation"
   ]
  },
  {
   "cell_type": "code",
   "execution_count": 8,
   "id": "b8e14626",
   "metadata": {},
   "outputs": [],
   "source": [
    "def get_label(edf):\n",
    "    patient_edf_file_name = edf.filenames[0].split('\\\\')[-1]\n",
    "    isSick = patient_edf_file_name.lower().startswith('s')\n",
    "    return int(isSick == True) # 1 - is sick, 0 is healthy"
   ]
  },
  {
   "cell_type": "code",
   "execution_count": 9,
   "id": "141466d0",
   "metadata": {},
   "outputs": [],
   "source": [
    "def get_min_max_duration_for_classes(print_durations=False):\n",
    "    min_SZ_negative_duration = float(\"inf\") # healthy\n",
    "    min_SZ_positive_duration = float(\"inf\") # sick\n",
    "\n",
    "    max_SZ_negative_duration = 0 # healthy\n",
    "    max_SZ_positive_duration = 0 # sick\n",
    "\n",
    "    for edf in raw_patients_data:\n",
    "        duration = edf.times[-1]\n",
    "\n",
    "        if(get_label(edf) == 0):\n",
    "            min_SZ_negative_duration = duration if duration < min_SZ_negative_duration else min_SZ_negative_duration\n",
    "            max_SZ_negative_duration = duration if duration > max_SZ_negative_duration else max_SZ_negative_duration\n",
    "        else:\n",
    "            min_SZ_positive_duration = duration if duration < min_SZ_positive_duration else min_SZ_positive_duration\n",
    "            max_SZ_positive_duration = duration if duration > max_SZ_positive_duration else max_SZ_positive_duration\n",
    "\n",
    "\n",
    "    print('SZ_negative: min =', min_SZ_negative_duration, ', max =', max_SZ_negative_duration)\n",
    "    print('SZ_positive: min =', min_SZ_positive_duration, ', max =', max_SZ_positive_duration)\n",
    "    \n",
    "    return min_SZ_negative_duration, min_SZ_positive_duration, max_SZ_negative_duration, max_SZ_positive_duration"
   ]
  },
  {
   "cell_type": "code",
   "execution_count": 10,
   "id": "505e8b2d",
   "metadata": {},
   "outputs": [],
   "source": [
    "def crop_raw_data_to_equalize_duration_per_class():\n",
    "    print(\"Duration per class before cropping: \")\n",
    "    min_dur_neg, min_dur_pos, *_ = get_min_max_duration_for_classes(True)\n",
    "    \n",
    "    for edf in raw_patients_data:\n",
    "        duration = edf.times[-1]\n",
    "\n",
    "        if(get_label(edf) == 0):\n",
    "            if(duration > min_dur_neg):\n",
    "                edf.crop(tmin=0, tmax=min_dur_neg, include_tmax=True)\n",
    "        else:\n",
    "            if(duration > min_dur_pos):\n",
    "                edf.crop(tmin=0, tmax=min_dur_pos, include_tmax=True)\n",
    "                \n",
    "    print(\"\\nDuration per class after cropping: \")\n",
    "\n",
    "    get_min_max_duration_for_classes(True)\n"
   ]
  },
  {
   "cell_type": "code",
   "execution_count": 11,
   "id": "b81024bc",
   "metadata": {},
   "outputs": [],
   "source": [
    "def print_info(epochs_num_per_patient, labels):\n",
    "    print('\\nEpochs number per patient: ', epochs_num_per_patient)\n",
    "    \n",
    "    class_SZ_positive = sum(labels) \n",
    "    class_SZ_negative= len(labels)-sum(labels)\n",
    "\n",
    "    print('\\nnegative: ', class_SZ_positive)\n",
    "    print('positive: ', class_SZ_negative)"
   ]
  },
  {
   "cell_type": "code",
   "execution_count": 12,
   "id": "b4068381",
   "metadata": {},
   "outputs": [],
   "source": [
    "def transform_patients_data_into_X_y_sets(patients_data, segment_duration=5.0, info=True):\n",
    "    epochs_per_patient = []\n",
    "    labels = []\n",
    "    \n",
    "    epochs_num_per_patient = []\n",
    "    for edf in raw_patients_data:\n",
    "        epochs = mne.make_fixed_length_epochs(edf, duration=segment_duration, preload=True, verbose=False)\n",
    "        epochs_per_patient.append(epochs)\n",
    "        epochs_num_per_patient.append(len(epochs))\n",
    "        \n",
    "        label = get_label(edf)\n",
    "        labels.extend([label for epoch in epochs])\n",
    "    \n",
    "    epochs = mne.concatenate_epochs(epochs_per_patient)\n",
    "\n",
    "    if info:\n",
    "        print_info(epochs_num_per_patient, labels)\n",
    "        \n",
    "    del epochs_num_per_patient\n",
    "    gc.collect()\n",
    "    \n",
    "    return (epochs, np.array(labels)) # (X, y)"
   ]
  },
  {
   "cell_type": "code",
   "execution_count": 13,
   "id": "a29ba119",
   "metadata": {
    "scrolled": true
   },
   "outputs": [],
   "source": [
    "# crop_raw_data_to_equalize_duration_per_class()"
   ]
  },
  {
   "cell_type": "code",
   "execution_count": 14,
   "id": "cf262ff8",
   "metadata": {},
   "outputs": [
    {
     "name": "stdout",
     "output_type": "stream",
     "text": [
      "Not setting metadata\n",
      "5771 matching events found\n",
      "No baseline correction applied\n",
      "0 bad epochs dropped\n",
      "\n",
      "Epochs number per patient:  [185, 182, 182, 185, 189, 186, 182, 182, 181, 223, 183, 180, 193, 173, 169, 229, 192, 241, 178, 148, 269, 182, 237, 170, 272, 217, 227, 434]\n",
      "\n",
      "negative:  3165\n",
      "positive:  2606\n"
     ]
    }
   ],
   "source": [
    "X, y = transform_patients_data_into_X_y_sets(patients_data=raw_patients_data, segment_duration=5.0)"
   ]
  },
  {
   "cell_type": "code",
   "execution_count": null,
   "id": "b5d0be89",
   "metadata": {},
   "outputs": [],
   "source": []
  },
  {
   "cell_type": "code",
   "execution_count": 15,
   "id": "a090f18f",
   "metadata": {},
   "outputs": [
    {
     "data": {
      "text/plain": [
       "0"
      ]
     },
     "execution_count": 15,
     "metadata": {},
     "output_type": "execute_result"
    }
   ],
   "source": [
    "del raw_patients_data\n",
    "gc.collect()"
   ]
  },
  {
   "cell_type": "code",
   "execution_count": null,
   "id": "c3ee78e6",
   "metadata": {},
   "outputs": [],
   "source": []
  },
  {
   "cell_type": "code",
   "execution_count": 16,
   "id": "f5705716",
   "metadata": {},
   "outputs": [
    {
     "name": "stdout",
     "output_type": "stream",
     "text": [
      "5771\n",
      "5771\n",
      "(1, 19, 1250)\n"
     ]
    }
   ],
   "source": [
    "print(len(y))\n",
    "print(len(X))\n",
    "print(X[0].get_data().shape)"
   ]
  },
  {
   "cell_type": "code",
   "execution_count": 17,
   "id": "e1dccd40",
   "metadata": {},
   "outputs": [
    {
     "data": {
      "text/html": [
       "<div>\n",
       "<style scoped>\n",
       "    .dataframe tbody tr th:only-of-type {\n",
       "        vertical-align: middle;\n",
       "    }\n",
       "\n",
       "    .dataframe tbody tr th {\n",
       "        vertical-align: top;\n",
       "    }\n",
       "\n",
       "    .dataframe thead th {\n",
       "        text-align: right;\n",
       "    }\n",
       "</style>\n",
       "<table border=\"1\" class=\"dataframe\">\n",
       "  <thead>\n",
       "    <tr style=\"text-align: right;\">\n",
       "      <th></th>\n",
       "      <th>time</th>\n",
       "      <th>condition</th>\n",
       "      <th>epoch</th>\n",
       "      <th>Fp2</th>\n",
       "      <th>F8</th>\n",
       "      <th>T4</th>\n",
       "      <th>T6</th>\n",
       "      <th>O2</th>\n",
       "      <th>Fp1</th>\n",
       "      <th>F7</th>\n",
       "      <th>...</th>\n",
       "      <th>O1</th>\n",
       "      <th>F4</th>\n",
       "      <th>C4</th>\n",
       "      <th>P4</th>\n",
       "      <th>F3</th>\n",
       "      <th>C3</th>\n",
       "      <th>P3</th>\n",
       "      <th>Fz</th>\n",
       "      <th>Cz</th>\n",
       "      <th>Pz</th>\n",
       "    </tr>\n",
       "  </thead>\n",
       "  <tbody>\n",
       "    <tr>\n",
       "      <th>0</th>\n",
       "      <td>0</td>\n",
       "      <td>1</td>\n",
       "      <td>0</td>\n",
       "      <td>0.002500</td>\n",
       "      <td>0.002500</td>\n",
       "      <td>0.002500</td>\n",
       "      <td>0.00250</td>\n",
       "      <td>0.002500</td>\n",
       "      <td>0.0025</td>\n",
       "      <td>0.0025</td>\n",
       "      <td>...</td>\n",
       "      <td>0.00250</td>\n",
       "      <td>0.0025</td>\n",
       "      <td>0.002500</td>\n",
       "      <td>0.0025</td>\n",
       "      <td>0.0025</td>\n",
       "      <td>0.002500</td>\n",
       "      <td>0.00250</td>\n",
       "      <td>0.0025</td>\n",
       "      <td>0.0025</td>\n",
       "      <td>0.002500</td>\n",
       "    </tr>\n",
       "    <tr>\n",
       "      <th>1</th>\n",
       "      <td>4</td>\n",
       "      <td>1</td>\n",
       "      <td>0</td>\n",
       "      <td>0.002500</td>\n",
       "      <td>0.002500</td>\n",
       "      <td>0.002500</td>\n",
       "      <td>0.00250</td>\n",
       "      <td>0.002500</td>\n",
       "      <td>0.0025</td>\n",
       "      <td>0.0025</td>\n",
       "      <td>...</td>\n",
       "      <td>0.00250</td>\n",
       "      <td>0.0025</td>\n",
       "      <td>0.002500</td>\n",
       "      <td>0.0025</td>\n",
       "      <td>0.0025</td>\n",
       "      <td>0.002500</td>\n",
       "      <td>0.00250</td>\n",
       "      <td>0.0025</td>\n",
       "      <td>0.0025</td>\n",
       "      <td>0.002500</td>\n",
       "    </tr>\n",
       "    <tr>\n",
       "      <th>2</th>\n",
       "      <td>8</td>\n",
       "      <td>1</td>\n",
       "      <td>0</td>\n",
       "      <td>0.002500</td>\n",
       "      <td>0.002500</td>\n",
       "      <td>0.002500</td>\n",
       "      <td>0.00250</td>\n",
       "      <td>0.002500</td>\n",
       "      <td>0.0025</td>\n",
       "      <td>0.0025</td>\n",
       "      <td>...</td>\n",
       "      <td>0.00250</td>\n",
       "      <td>0.0025</td>\n",
       "      <td>0.002500</td>\n",
       "      <td>0.0025</td>\n",
       "      <td>0.0025</td>\n",
       "      <td>0.002500</td>\n",
       "      <td>0.00250</td>\n",
       "      <td>0.0025</td>\n",
       "      <td>0.0025</td>\n",
       "      <td>0.002500</td>\n",
       "    </tr>\n",
       "    <tr>\n",
       "      <th>3</th>\n",
       "      <td>12</td>\n",
       "      <td>1</td>\n",
       "      <td>0</td>\n",
       "      <td>0.461215</td>\n",
       "      <td>0.461215</td>\n",
       "      <td>0.308310</td>\n",
       "      <td>0.30831</td>\n",
       "      <td>0.155405</td>\n",
       "      <td>0.0025</td>\n",
       "      <td>0.0025</td>\n",
       "      <td>...</td>\n",
       "      <td>0.00250</td>\n",
       "      <td>0.0025</td>\n",
       "      <td>0.002500</td>\n",
       "      <td>0.0025</td>\n",
       "      <td>0.0025</td>\n",
       "      <td>-0.150405</td>\n",
       "      <td>-0.30331</td>\n",
       "      <td>0.0025</td>\n",
       "      <td>0.0025</td>\n",
       "      <td>-0.303310</td>\n",
       "    </tr>\n",
       "    <tr>\n",
       "      <th>4</th>\n",
       "      <td>16</td>\n",
       "      <td>1</td>\n",
       "      <td>0</td>\n",
       "      <td>0.461215</td>\n",
       "      <td>0.461215</td>\n",
       "      <td>0.461215</td>\n",
       "      <td>0.30831</td>\n",
       "      <td>0.155405</td>\n",
       "      <td>0.0025</td>\n",
       "      <td>0.0025</td>\n",
       "      <td>...</td>\n",
       "      <td>-0.30331</td>\n",
       "      <td>0.0025</td>\n",
       "      <td>0.155405</td>\n",
       "      <td>0.0025</td>\n",
       "      <td>0.0025</td>\n",
       "      <td>-0.150405</td>\n",
       "      <td>-0.30331</td>\n",
       "      <td>0.0025</td>\n",
       "      <td>0.0025</td>\n",
       "      <td>-0.150405</td>\n",
       "    </tr>\n",
       "  </tbody>\n",
       "</table>\n",
       "<p>5 rows × 22 columns</p>\n",
       "</div>"
      ],
      "text/plain": [
       "   time condition  epoch       Fp2        F8        T4       T6        O2  \\\n",
       "0     0         1      0  0.002500  0.002500  0.002500  0.00250  0.002500   \n",
       "1     4         1      0  0.002500  0.002500  0.002500  0.00250  0.002500   \n",
       "2     8         1      0  0.002500  0.002500  0.002500  0.00250  0.002500   \n",
       "3    12         1      0  0.461215  0.461215  0.308310  0.30831  0.155405   \n",
       "4    16         1      0  0.461215  0.461215  0.461215  0.30831  0.155405   \n",
       "\n",
       "      Fp1      F7  ...       O1      F4        C4      P4      F3        C3  \\\n",
       "0  0.0025  0.0025  ...  0.00250  0.0025  0.002500  0.0025  0.0025  0.002500   \n",
       "1  0.0025  0.0025  ...  0.00250  0.0025  0.002500  0.0025  0.0025  0.002500   \n",
       "2  0.0025  0.0025  ...  0.00250  0.0025  0.002500  0.0025  0.0025  0.002500   \n",
       "3  0.0025  0.0025  ...  0.00250  0.0025  0.002500  0.0025  0.0025 -0.150405   \n",
       "4  0.0025  0.0025  ... -0.30331  0.0025  0.155405  0.0025  0.0025 -0.150405   \n",
       "\n",
       "        P3      Fz      Cz        Pz  \n",
       "0  0.00250  0.0025  0.0025  0.002500  \n",
       "1  0.00250  0.0025  0.0025  0.002500  \n",
       "2  0.00250  0.0025  0.0025  0.002500  \n",
       "3 -0.30331  0.0025  0.0025 -0.303310  \n",
       "4 -0.30331  0.0025  0.0025 -0.150405  \n",
       "\n",
       "[5 rows x 22 columns]"
      ]
     },
     "execution_count": 17,
     "metadata": {},
     "output_type": "execute_result"
    }
   ],
   "source": [
    "X.to_data_frame().head()"
   ]
  },
  {
   "cell_type": "code",
   "execution_count": 18,
   "id": "f8633457",
   "metadata": {
    "scrolled": true
   },
   "outputs": [
    {
     "data": {
      "text/html": [
       "<div>\n",
       "<style scoped>\n",
       "    .dataframe tbody tr th:only-of-type {\n",
       "        vertical-align: middle;\n",
       "    }\n",
       "\n",
       "    .dataframe tbody tr th {\n",
       "        vertical-align: top;\n",
       "    }\n",
       "\n",
       "    .dataframe thead th {\n",
       "        text-align: right;\n",
       "    }\n",
       "</style>\n",
       "<table border=\"1\" class=\"dataframe\">\n",
       "  <thead>\n",
       "    <tr style=\"text-align: right;\">\n",
       "      <th></th>\n",
       "      <th>time</th>\n",
       "      <th>condition</th>\n",
       "      <th>epoch</th>\n",
       "      <th>Fp2</th>\n",
       "      <th>F8</th>\n",
       "      <th>T4</th>\n",
       "      <th>T6</th>\n",
       "      <th>O2</th>\n",
       "      <th>Fp1</th>\n",
       "      <th>F7</th>\n",
       "      <th>...</th>\n",
       "      <th>O1</th>\n",
       "      <th>F4</th>\n",
       "      <th>C4</th>\n",
       "      <th>P4</th>\n",
       "      <th>F3</th>\n",
       "      <th>C3</th>\n",
       "      <th>P3</th>\n",
       "      <th>Fz</th>\n",
       "      <th>Cz</th>\n",
       "      <th>Pz</th>\n",
       "    </tr>\n",
       "  </thead>\n",
       "  <tbody>\n",
       "    <tr>\n",
       "      <th>0</th>\n",
       "      <td>0</td>\n",
       "      <td>1</td>\n",
       "      <td>0</td>\n",
       "      <td>0.002500</td>\n",
       "      <td>0.002500</td>\n",
       "      <td>0.002500</td>\n",
       "      <td>0.00250</td>\n",
       "      <td>0.002500</td>\n",
       "      <td>0.0025</td>\n",
       "      <td>0.0025</td>\n",
       "      <td>...</td>\n",
       "      <td>0.00250</td>\n",
       "      <td>0.0025</td>\n",
       "      <td>0.002500</td>\n",
       "      <td>0.0025</td>\n",
       "      <td>0.0025</td>\n",
       "      <td>0.002500</td>\n",
       "      <td>0.00250</td>\n",
       "      <td>0.0025</td>\n",
       "      <td>0.0025</td>\n",
       "      <td>0.002500</td>\n",
       "    </tr>\n",
       "    <tr>\n",
       "      <th>1</th>\n",
       "      <td>4</td>\n",
       "      <td>1</td>\n",
       "      <td>0</td>\n",
       "      <td>0.002500</td>\n",
       "      <td>0.002500</td>\n",
       "      <td>0.002500</td>\n",
       "      <td>0.00250</td>\n",
       "      <td>0.002500</td>\n",
       "      <td>0.0025</td>\n",
       "      <td>0.0025</td>\n",
       "      <td>...</td>\n",
       "      <td>0.00250</td>\n",
       "      <td>0.0025</td>\n",
       "      <td>0.002500</td>\n",
       "      <td>0.0025</td>\n",
       "      <td>0.0025</td>\n",
       "      <td>0.002500</td>\n",
       "      <td>0.00250</td>\n",
       "      <td>0.0025</td>\n",
       "      <td>0.0025</td>\n",
       "      <td>0.002500</td>\n",
       "    </tr>\n",
       "    <tr>\n",
       "      <th>2</th>\n",
       "      <td>8</td>\n",
       "      <td>1</td>\n",
       "      <td>0</td>\n",
       "      <td>0.002500</td>\n",
       "      <td>0.002500</td>\n",
       "      <td>0.002500</td>\n",
       "      <td>0.00250</td>\n",
       "      <td>0.002500</td>\n",
       "      <td>0.0025</td>\n",
       "      <td>0.0025</td>\n",
       "      <td>...</td>\n",
       "      <td>0.00250</td>\n",
       "      <td>0.0025</td>\n",
       "      <td>0.002500</td>\n",
       "      <td>0.0025</td>\n",
       "      <td>0.0025</td>\n",
       "      <td>0.002500</td>\n",
       "      <td>0.00250</td>\n",
       "      <td>0.0025</td>\n",
       "      <td>0.0025</td>\n",
       "      <td>0.002500</td>\n",
       "    </tr>\n",
       "    <tr>\n",
       "      <th>3</th>\n",
       "      <td>12</td>\n",
       "      <td>1</td>\n",
       "      <td>0</td>\n",
       "      <td>0.461215</td>\n",
       "      <td>0.461215</td>\n",
       "      <td>0.308310</td>\n",
       "      <td>0.30831</td>\n",
       "      <td>0.155405</td>\n",
       "      <td>0.0025</td>\n",
       "      <td>0.0025</td>\n",
       "      <td>...</td>\n",
       "      <td>0.00250</td>\n",
       "      <td>0.0025</td>\n",
       "      <td>0.002500</td>\n",
       "      <td>0.0025</td>\n",
       "      <td>0.0025</td>\n",
       "      <td>-0.150405</td>\n",
       "      <td>-0.30331</td>\n",
       "      <td>0.0025</td>\n",
       "      <td>0.0025</td>\n",
       "      <td>-0.303310</td>\n",
       "    </tr>\n",
       "    <tr>\n",
       "      <th>4</th>\n",
       "      <td>16</td>\n",
       "      <td>1</td>\n",
       "      <td>0</td>\n",
       "      <td>0.461215</td>\n",
       "      <td>0.461215</td>\n",
       "      <td>0.461215</td>\n",
       "      <td>0.30831</td>\n",
       "      <td>0.155405</td>\n",
       "      <td>0.0025</td>\n",
       "      <td>0.0025</td>\n",
       "      <td>...</td>\n",
       "      <td>-0.30331</td>\n",
       "      <td>0.0025</td>\n",
       "      <td>0.155405</td>\n",
       "      <td>0.0025</td>\n",
       "      <td>0.0025</td>\n",
       "      <td>-0.150405</td>\n",
       "      <td>-0.30331</td>\n",
       "      <td>0.0025</td>\n",
       "      <td>0.0025</td>\n",
       "      <td>-0.150405</td>\n",
       "    </tr>\n",
       "  </tbody>\n",
       "</table>\n",
       "<p>5 rows × 22 columns</p>\n",
       "</div>"
      ],
      "text/plain": [
       "   time condition  epoch       Fp2        F8        T4       T6        O2  \\\n",
       "0     0         1      0  0.002500  0.002500  0.002500  0.00250  0.002500   \n",
       "1     4         1      0  0.002500  0.002500  0.002500  0.00250  0.002500   \n",
       "2     8         1      0  0.002500  0.002500  0.002500  0.00250  0.002500   \n",
       "3    12         1      0  0.461215  0.461215  0.308310  0.30831  0.155405   \n",
       "4    16         1      0  0.461215  0.461215  0.461215  0.30831  0.155405   \n",
       "\n",
       "      Fp1      F7  ...       O1      F4        C4      P4      F3        C3  \\\n",
       "0  0.0025  0.0025  ...  0.00250  0.0025  0.002500  0.0025  0.0025  0.002500   \n",
       "1  0.0025  0.0025  ...  0.00250  0.0025  0.002500  0.0025  0.0025  0.002500   \n",
       "2  0.0025  0.0025  ...  0.00250  0.0025  0.002500  0.0025  0.0025  0.002500   \n",
       "3  0.0025  0.0025  ...  0.00250  0.0025  0.002500  0.0025  0.0025 -0.150405   \n",
       "4  0.0025  0.0025  ... -0.30331  0.0025  0.155405  0.0025  0.0025 -0.150405   \n",
       "\n",
       "        P3      Fz      Cz        Pz  \n",
       "0  0.00250  0.0025  0.0025  0.002500  \n",
       "1  0.00250  0.0025  0.0025  0.002500  \n",
       "2  0.00250  0.0025  0.0025  0.002500  \n",
       "3 -0.30331  0.0025  0.0025 -0.303310  \n",
       "4 -0.30331  0.0025  0.0025 -0.150405  \n",
       "\n",
       "[5 rows x 22 columns]"
      ]
     },
     "execution_count": 18,
     "metadata": {},
     "output_type": "execute_result"
    }
   ],
   "source": [
    "X[0].to_data_frame().head()"
   ]
  },
  {
   "cell_type": "code",
   "execution_count": null,
   "id": "674429b9",
   "metadata": {},
   "outputs": [],
   "source": []
  },
  {
   "cell_type": "code",
   "execution_count": 19,
   "id": "d35dc492",
   "metadata": {},
   "outputs": [
    {
     "data": {
      "text/plain": [
       "(5771, 1250, 19)"
      ]
     },
     "execution_count": 19,
     "metadata": {},
     "output_type": "execute_result"
    }
   ],
   "source": [
    "X_shape = X[0].get_data().shape\n",
    "X_shape = (len(X), X_shape[2], X_shape[1])\n",
    "X_shape"
   ]
  },
  {
   "cell_type": "code",
   "execution_count": 20,
   "id": "ad5be828",
   "metadata": {},
   "outputs": [
    {
     "name": "stdout",
     "output_type": "stream",
     "text": [
      "(5771, 1250, 19)\n"
     ]
    }
   ],
   "source": [
    "X_data = np.zeros(shape=X_shape)\n",
    "print(X_data.shape)\n",
    "\n",
    "for i in range(len(X)):\n",
    "    df = X[i].to_data_frame().drop(['time', 'condition', 'epoch'], axis=1)\n",
    "#     np.concatenate(x_data, df.to_numpy())\n",
    "    epoch_data = df.to_numpy()\n",
    "    X_data[i] = epoch_data\n",
    "    \n"
   ]
  },
  {
   "cell_type": "code",
   "execution_count": 21,
   "id": "d1d16bd4",
   "metadata": {},
   "outputs": [
    {
     "data": {
      "text/plain": [
       "(1250, 19)"
      ]
     },
     "execution_count": 21,
     "metadata": {},
     "output_type": "execute_result"
    }
   ],
   "source": [
    "input_shape = (X_data.shape[1], X_data.shape[2]) # (5000, 19)\n",
    "input_shape"
   ]
  },
  {
   "cell_type": "code",
   "execution_count": 22,
   "id": "59f17c4c",
   "metadata": {},
   "outputs": [],
   "source": [
    "# X_train, X_test, y_train, y_test = train_test_split(x_data, y, test_size=0.2, shuffle=True, random_state=1337)\n",
    "X_train, X_test, y_train, y_test = train_test_split(X_data, y, test_size=0.2, shuffle=True, random_state=1337)"
   ]
  },
  {
   "cell_type": "code",
   "execution_count": 23,
   "id": "66412fb7",
   "metadata": {},
   "outputs": [
    {
     "data": {
      "text/plain": [
       "(4616, 1250, 19)"
      ]
     },
     "execution_count": 23,
     "metadata": {},
     "output_type": "execute_result"
    }
   ],
   "source": [
    "X_train.shape"
   ]
  },
  {
   "cell_type": "code",
   "execution_count": 24,
   "id": "cfba781e",
   "metadata": {},
   "outputs": [
    {
     "data": {
      "text/plain": [
       "(1155, 1250, 19)"
      ]
     },
     "execution_count": 24,
     "metadata": {},
     "output_type": "execute_result"
    }
   ],
   "source": [
    "X_test.shape"
   ]
  },
  {
   "cell_type": "code",
   "execution_count": 26,
   "id": "c5ef20c6",
   "metadata": {},
   "outputs": [],
   "source": [
    "import tensorflow as tf\n",
    "from tensorflow.keras.models import Model\n",
    "from tensorflow.keras.layers import Dense, Activation, Permute, Dropout\n",
    "from tensorflow.keras.layers import Conv2D, Conv1D, MaxPooling2D, AveragePooling2D, AveragePooling1D\n",
    "from tensorflow.keras.layers import SeparableConv2D, DepthwiseConv2D\n",
    "from tensorflow.keras.layers import BatchNormalization\n",
    "from tensorflow.keras.layers import SpatialDropout1D\n",
    "from tensorflow.keras.regularizers import l1_l2\n",
    "from tensorflow.keras.layers import Input, Flatten\n",
    "from tensorflow.keras.constraints import max_norm"
   ]
  },
  {
   "cell_type": "code",
   "execution_count": 27,
   "id": "a690dd5e",
   "metadata": {},
   "outputs": [],
   "source": [
    "from tensorflow.keras import layers\n",
    "\n",
    "def build_model(input_shape, opt):    \n",
    "\n",
    "    model = Sequential()\n",
    "    model.add(layers.LSTM(100,input_shape=input_shape))\n",
    "    model.add(Dropout(0.5))\n",
    "    model.add(Dense(32, activation='relu'))\n",
    "#     model.add(Dropout(0.4))\n",
    "    model.add(Dense(1, activation='sigmoid'))\n",
    "    \n",
    "    model.compile(optimizer=opt, \n",
    "          loss='binary_crossentropy',\n",
    "          metrics=['accuracy'])\n",
    "    \n",
    "    return model"
   ]
  },
  {
   "cell_type": "code",
   "execution_count": 28,
   "id": "6020b418",
   "metadata": {},
   "outputs": [],
   "source": [
    "opt = opt_adam = tf.keras.optimizers.Adam(learning_rate=0.001)"
   ]
  },
  {
   "cell_type": "code",
   "execution_count": 29,
   "id": "ca99139b",
   "metadata": {},
   "outputs": [],
   "source": [
    "model = build_model(input_shape, opt)"
   ]
  },
  {
   "cell_type": "code",
   "execution_count": 30,
   "id": "5f612364",
   "metadata": {},
   "outputs": [
    {
     "name": "stdout",
     "output_type": "stream",
     "text": [
      "Model: \"sequential\"\n",
      "_________________________________________________________________\n",
      " Layer (type)                Output Shape              Param #   \n",
      "=================================================================\n",
      " lstm (LSTM)                 (None, 100)               48000     \n",
      "                                                                 \n",
      " dropout (Dropout)           (None, 100)               0         \n",
      "                                                                 \n",
      " dense (Dense)               (None, 32)                3232      \n",
      "                                                                 \n",
      " dense_1 (Dense)             (None, 1)                 33        \n",
      "                                                                 \n",
      "=================================================================\n",
      "Total params: 51,265\n",
      "Trainable params: 51,265\n",
      "Non-trainable params: 0\n",
      "_________________________________________________________________\n"
     ]
    }
   ],
   "source": [
    "model.summary()"
   ]
  },
  {
   "cell_type": "code",
   "execution_count": 31,
   "id": "037232f0",
   "metadata": {},
   "outputs": [],
   "source": [
    "# ModelCheckpoint callback - save best weights\n",
    "tl_checkpoint_1 = ModelCheckpoint(filepath='../vgg16/V1/weights/model.weights.best.hdf5',\n",
    "                                  save_best_only=True,\n",
    "                                  verbose=1)\n",
    "\n",
    "# EarlyStopping\n",
    "early_stop = EarlyStopping(monitor='val_accuracy',\n",
    "                           patience=25,\n",
    "                           restore_best_weights=True,\n",
    "                           mode='max')"
   ]
  },
  {
   "cell_type": "code",
   "execution_count": null,
   "id": "26e2d078",
   "metadata": {},
   "outputs": [],
   "source": []
  },
  {
   "cell_type": "code",
   "execution_count": 32,
   "id": "46f58bd7",
   "metadata": {
    "scrolled": true
   },
   "outputs": [
    {
     "name": "stdout",
     "output_type": "stream",
     "text": [
      "Epoch 1/300\n",
      "116/116 [==============================] - 80s 676ms/step - loss: 0.6260 - accuracy: 0.6319 - val_loss: 0.5648 - val_accuracy: 0.6807\n",
      "Epoch 2/300\n",
      "116/116 [==============================] - 77s 662ms/step - loss: 0.5335 - accuracy: 0.7175 - val_loss: 0.5070 - val_accuracy: 0.7348\n",
      "Epoch 3/300\n",
      "116/116 [==============================] - 77s 662ms/step - loss: 0.4407 - accuracy: 0.7871 - val_loss: 0.4492 - val_accuracy: 0.7879\n",
      "Epoch 4/300\n",
      "116/116 [==============================] - 77s 662ms/step - loss: 0.3414 - accuracy: 0.8529 - val_loss: 0.3633 - val_accuracy: 0.8582\n",
      "Epoch 5/300\n",
      "116/116 [==============================] - 77s 665ms/step - loss: 0.3509 - accuracy: 0.8743 - val_loss: 0.3681 - val_accuracy: 0.8561\n",
      "Epoch 6/300\n",
      "116/116 [==============================] - 78s 671ms/step - loss: 0.3818 - accuracy: 0.8516 - val_loss: 0.4330 - val_accuracy: 0.8009\n",
      "Epoch 7/300\n",
      "116/116 [==============================] - 77s 664ms/step - loss: 0.3069 - accuracy: 0.8757 - val_loss: 0.3198 - val_accuracy: 0.8777\n",
      "Epoch 8/300\n",
      "116/116 [==============================] - 78s 676ms/step - loss: 0.2345 - accuracy: 0.9144 - val_loss: 0.3174 - val_accuracy: 0.8799\n",
      "Epoch 9/300\n",
      "116/116 [==============================] - 79s 683ms/step - loss: 0.2323 - accuracy: 0.9168 - val_loss: 0.5247 - val_accuracy: 0.7879\n",
      "Epoch 10/300\n",
      "116/116 [==============================] - 79s 679ms/step - loss: 0.3217 - accuracy: 0.8676 - val_loss: 0.3400 - val_accuracy: 0.8734\n",
      "Epoch 11/300\n",
      "116/116 [==============================] - 78s 669ms/step - loss: 0.2106 - accuracy: 0.9261 - val_loss: 0.2723 - val_accuracy: 0.9080\n",
      "Epoch 12/300\n",
      "116/116 [==============================] - 77s 661ms/step - loss: 0.1767 - accuracy: 0.9393 - val_loss: 0.2310 - val_accuracy: 0.9242\n",
      "Epoch 13/300\n",
      "116/116 [==============================] - 79s 686ms/step - loss: 0.1373 - accuracy: 0.9572 - val_loss: 0.2276 - val_accuracy: 0.9307\n",
      "Epoch 14/300\n",
      "116/116 [==============================] - 76s 658ms/step - loss: 0.1792 - accuracy: 0.9393 - val_loss: 0.2463 - val_accuracy: 0.9156\n",
      "Epoch 15/300\n",
      "116/116 [==============================] - 79s 678ms/step - loss: 0.1283 - accuracy: 0.9564 - val_loss: 0.2243 - val_accuracy: 0.9297\n",
      "Epoch 16/300\n",
      "116/116 [==============================] - 77s 663ms/step - loss: 0.1180 - accuracy: 0.9661 - val_loss: 0.2626 - val_accuracy: 0.9286\n",
      "Epoch 17/300\n",
      "116/116 [==============================] - 79s 681ms/step - loss: 0.1090 - accuracy: 0.9661 - val_loss: 0.2071 - val_accuracy: 0.9426\n",
      "Epoch 18/300\n",
      "116/116 [==============================] - 76s 658ms/step - loss: 0.1085 - accuracy: 0.9642 - val_loss: 0.4915 - val_accuracy: 0.8755\n",
      "Epoch 19/300\n",
      "116/116 [==============================] - 88s 760ms/step - loss: 0.2664 - accuracy: 0.9152 - val_loss: 0.5897 - val_accuracy: 0.7284\n",
      "Epoch 20/300\n",
      "116/116 [==============================] - 83s 719ms/step - loss: 0.3211 - accuracy: 0.8667 - val_loss: 0.2913 - val_accuracy: 0.8896\n",
      "Epoch 21/300\n",
      "116/116 [==============================] - 82s 705ms/step - loss: 0.2131 - accuracy: 0.9312 - val_loss: 0.3305 - val_accuracy: 0.8842\n",
      "Epoch 22/300\n",
      "116/116 [==============================] - 80s 693ms/step - loss: 0.1662 - accuracy: 0.9453 - val_loss: 0.2408 - val_accuracy: 0.9253\n",
      "Epoch 23/300\n",
      "116/116 [==============================] - 79s 683ms/step - loss: 0.1232 - accuracy: 0.9621 - val_loss: 0.2359 - val_accuracy: 0.9264\n",
      "Epoch 24/300\n",
      "116/116 [==============================] - 77s 668ms/step - loss: 0.1403 - accuracy: 0.9583 - val_loss: 0.2484 - val_accuracy: 0.9221\n",
      "Epoch 25/300\n",
      "116/116 [==============================] - 74s 639ms/step - loss: 0.1375 - accuracy: 0.9580 - val_loss: 0.2256 - val_accuracy: 0.9275\n",
      "Epoch 26/300\n",
      "116/116 [==============================] - 77s 660ms/step - loss: 0.1018 - accuracy: 0.9705 - val_loss: 0.2051 - val_accuracy: 0.9340\n",
      "Epoch 27/300\n",
      "116/116 [==============================] - 83s 712ms/step - loss: 0.0872 - accuracy: 0.9726 - val_loss: 0.2052 - val_accuracy: 0.9437\n",
      "Epoch 28/300\n",
      "116/116 [==============================] - 76s 653ms/step - loss: 0.0812 - accuracy: 0.9772 - val_loss: 0.1992 - val_accuracy: 0.9437\n",
      "Epoch 29/300\n",
      "116/116 [==============================] - 78s 670ms/step - loss: 0.0747 - accuracy: 0.9791 - val_loss: 0.1874 - val_accuracy: 0.9513\n",
      "Epoch 30/300\n",
      "116/116 [==============================] - 80s 694ms/step - loss: 0.1647 - accuracy: 0.9567 - val_loss: 0.3435 - val_accuracy: 0.8799\n",
      "Epoch 31/300\n",
      "116/116 [==============================] - 80s 686ms/step - loss: 0.2711 - accuracy: 0.8971 - val_loss: 0.2284 - val_accuracy: 0.9221\n",
      "Epoch 32/300\n",
      "116/116 [==============================] - 82s 707ms/step - loss: 0.1265 - accuracy: 0.9615 - val_loss: 0.2771 - val_accuracy: 0.9177\n",
      "Epoch 33/300\n",
      "116/116 [==============================] - 85s 730ms/step - loss: 0.1027 - accuracy: 0.9689 - val_loss: 0.2069 - val_accuracy: 0.9383\n",
      "Epoch 34/300\n",
      "116/116 [==============================] - 84s 723ms/step - loss: 0.1448 - accuracy: 0.9521 - val_loss: 0.2063 - val_accuracy: 0.9329\n",
      "Epoch 35/300\n",
      "116/116 [==============================] - 78s 673ms/step - loss: 0.0803 - accuracy: 0.9789 - val_loss: 0.1699 - val_accuracy: 0.9491\n",
      "Epoch 36/300\n",
      "116/116 [==============================] - 77s 668ms/step - loss: 0.1281 - accuracy: 0.9683 - val_loss: 0.2890 - val_accuracy: 0.9004\n",
      "Epoch 37/300\n",
      "116/116 [==============================] - 83s 713ms/step - loss: 0.1852 - accuracy: 0.9385 - val_loss: 0.3322 - val_accuracy: 0.8658\n",
      "Epoch 38/300\n",
      "116/116 [==============================] - 78s 673ms/step - loss: 0.1363 - accuracy: 0.9591 - val_loss: 0.2049 - val_accuracy: 0.9297\n",
      "Epoch 39/300\n",
      "116/116 [==============================] - 77s 664ms/step - loss: 0.1278 - accuracy: 0.9605 - val_loss: 0.2466 - val_accuracy: 0.9069\n",
      "Epoch 40/300\n",
      "116/116 [==============================] - 78s 672ms/step - loss: 0.2822 - accuracy: 0.9028 - val_loss: 0.3014 - val_accuracy: 0.8983\n",
      "Epoch 41/300\n",
      "116/116 [==============================] - 83s 712ms/step - loss: 0.2662 - accuracy: 0.8960 - val_loss: 0.3898 - val_accuracy: 0.8723\n",
      "Epoch 42/300\n",
      "116/116 [==============================] - 79s 683ms/step - loss: 0.1451 - accuracy: 0.9510 - val_loss: 0.2241 - val_accuracy: 0.9242\n",
      "Epoch 43/300\n",
      "116/116 [==============================] - 80s 691ms/step - loss: 0.1391 - accuracy: 0.9556 - val_loss: 0.1902 - val_accuracy: 0.9416\n",
      "Epoch 44/300\n",
      "116/116 [==============================] - 80s 693ms/step - loss: 0.1153 - accuracy: 0.9667 - val_loss: 0.1935 - val_accuracy: 0.9383\n",
      "Epoch 45/300\n",
      "116/116 [==============================] - 77s 666ms/step - loss: 0.0928 - accuracy: 0.9751 - val_loss: 0.1513 - val_accuracy: 0.9513\n",
      "Epoch 46/300\n",
      "116/116 [==============================] - 78s 676ms/step - loss: 0.0888 - accuracy: 0.9732 - val_loss: 0.1509 - val_accuracy: 0.9545\n",
      "Epoch 47/300\n",
      "116/116 [==============================] - 76s 657ms/step - loss: 0.0858 - accuracy: 0.9775 - val_loss: 0.3039 - val_accuracy: 0.9177\n",
      "Epoch 48/300\n",
      "116/116 [==============================] - 78s 669ms/step - loss: 0.1745 - accuracy: 0.9472 - val_loss: 0.2307 - val_accuracy: 0.9264\n",
      "Epoch 49/300\n",
      "116/116 [==============================] - 77s 664ms/step - loss: 0.1103 - accuracy: 0.9675 - val_loss: 0.3026 - val_accuracy: 0.9058\n",
      "Epoch 50/300\n",
      "116/116 [==============================] - 76s 658ms/step - loss: 0.1325 - accuracy: 0.9575 - val_loss: 0.2461 - val_accuracy: 0.9177\n",
      "Epoch 51/300\n",
      "116/116 [==============================] - 76s 656ms/step - loss: 0.5579 - accuracy: 0.7351 - val_loss: 0.4933 - val_accuracy: 0.7554\n",
      "Epoch 52/300\n",
      "116/116 [==============================] - 76s 657ms/step - loss: 0.3694 - accuracy: 0.8340 - val_loss: 0.3733 - val_accuracy: 0.8452\n",
      "Epoch 53/300\n",
      "116/116 [==============================] - 78s 677ms/step - loss: 0.2954 - accuracy: 0.8852 - val_loss: 0.2636 - val_accuracy: 0.9069\n",
      "Epoch 54/300\n",
      "116/116 [==============================] - 80s 686ms/step - loss: 0.2035 - accuracy: 0.9312 - val_loss: 0.2657 - val_accuracy: 0.9058\n",
      "Epoch 55/300\n",
      "116/116 [==============================] - 84s 721ms/step - loss: 0.1327 - accuracy: 0.9583 - val_loss: 0.2223 - val_accuracy: 0.9329\n",
      "Epoch 56/300\n",
      "116/116 [==============================] - 87s 748ms/step - loss: 0.1188 - accuracy: 0.9664 - val_loss: 0.2019 - val_accuracy: 0.9361\n"
     ]
    },
    {
     "name": "stdout",
     "output_type": "stream",
     "text": [
      "Epoch 57/300\n",
      "116/116 [==============================] - 83s 717ms/step - loss: 0.1075 - accuracy: 0.9697 - val_loss: 0.1956 - val_accuracy: 0.9394\n",
      "Epoch 58/300\n",
      "116/116 [==============================] - 80s 689ms/step - loss: 0.1076 - accuracy: 0.9675 - val_loss: 0.1936 - val_accuracy: 0.9437\n",
      "Epoch 59/300\n",
      "116/116 [==============================] - 77s 663ms/step - loss: 0.1001 - accuracy: 0.9702 - val_loss: 0.3057 - val_accuracy: 0.9199\n",
      "Epoch 60/300\n",
      "116/116 [==============================] - 78s 672ms/step - loss: 0.1215 - accuracy: 0.9659 - val_loss: 0.2076 - val_accuracy: 0.9405\n",
      "Epoch 61/300\n",
      "116/116 [==============================] - 79s 685ms/step - loss: 0.1464 - accuracy: 0.9586 - val_loss: 0.1936 - val_accuracy: 0.9340\n",
      "Epoch 62/300\n",
      "116/116 [==============================] - 79s 684ms/step - loss: 0.1174 - accuracy: 0.9680 - val_loss: 0.1806 - val_accuracy: 0.9481\n",
      "Epoch 63/300\n",
      "116/116 [==============================] - 78s 669ms/step - loss: 0.0927 - accuracy: 0.9729 - val_loss: 0.1854 - val_accuracy: 0.9502\n",
      "Epoch 64/300\n",
      "116/116 [==============================] - 79s 683ms/step - loss: 0.0947 - accuracy: 0.9718 - val_loss: 0.1685 - val_accuracy: 0.9491\n",
      "Epoch 65/300\n",
      "116/116 [==============================] - 77s 667ms/step - loss: 0.0723 - accuracy: 0.9786 - val_loss: 0.1621 - val_accuracy: 0.9621\n",
      "Epoch 66/300\n",
      "116/116 [==============================] - 78s 674ms/step - loss: 0.0706 - accuracy: 0.9816 - val_loss: 0.1745 - val_accuracy: 0.9567\n",
      "Epoch 67/300\n",
      "116/116 [==============================] - 80s 687ms/step - loss: 0.0547 - accuracy: 0.9854 - val_loss: 0.1753 - val_accuracy: 0.9600\n",
      "Epoch 68/300\n",
      "116/116 [==============================] - 79s 679ms/step - loss: 0.0540 - accuracy: 0.9856 - val_loss: 0.1800 - val_accuracy: 0.9513\n",
      "Epoch 69/300\n",
      "116/116 [==============================] - 79s 683ms/step - loss: 0.0682 - accuracy: 0.9813 - val_loss: 0.1862 - val_accuracy: 0.9578\n",
      "Epoch 70/300\n",
      "116/116 [==============================] - 78s 671ms/step - loss: 0.0788 - accuracy: 0.9762 - val_loss: 0.1790 - val_accuracy: 0.9524\n",
      "Epoch 71/300\n",
      "116/116 [==============================] - 76s 657ms/step - loss: 0.0859 - accuracy: 0.9772 - val_loss: 0.1524 - val_accuracy: 0.9589\n",
      "Epoch 72/300\n",
      "116/116 [==============================] - 77s 664ms/step - loss: 0.0673 - accuracy: 0.9800 - val_loss: 0.1371 - val_accuracy: 0.9621\n",
      "Epoch 73/300\n",
      "116/116 [==============================] - 79s 678ms/step - loss: 0.0566 - accuracy: 0.9829 - val_loss: 0.1195 - val_accuracy: 0.9697\n",
      "Epoch 74/300\n",
      "116/116 [==============================] - 74s 641ms/step - loss: 0.0491 - accuracy: 0.9854 - val_loss: 0.1238 - val_accuracy: 0.9697\n",
      "Epoch 75/300\n",
      "116/116 [==============================] - 75s 648ms/step - loss: 0.1546 - accuracy: 0.9545 - val_loss: 0.3469 - val_accuracy: 0.8712\n",
      "Epoch 76/300\n",
      "116/116 [==============================] - 75s 646ms/step - loss: 0.1634 - accuracy: 0.9418 - val_loss: 0.4755 - val_accuracy: 0.8019\n",
      "Epoch 77/300\n",
      "116/116 [==============================] - 81s 696ms/step - loss: 0.1851 - accuracy: 0.9285 - val_loss: 0.1560 - val_accuracy: 0.9491\n",
      "Epoch 78/300\n",
      "116/116 [==============================] - 79s 686ms/step - loss: 0.1012 - accuracy: 0.9683 - val_loss: 0.2115 - val_accuracy: 0.9318\n",
      "Epoch 79/300\n",
      "116/116 [==============================] - 77s 662ms/step - loss: 0.0981 - accuracy: 0.9691 - val_loss: 0.1415 - val_accuracy: 0.9610\n",
      "Epoch 80/300\n",
      "116/116 [==============================] - 76s 652ms/step - loss: 0.0793 - accuracy: 0.9751 - val_loss: 0.1738 - val_accuracy: 0.9481\n",
      "Epoch 81/300\n",
      "116/116 [==============================] - 75s 645ms/step - loss: 0.0667 - accuracy: 0.9786 - val_loss: 0.1712 - val_accuracy: 0.9524\n",
      "Epoch 82/300\n",
      "116/116 [==============================] - 75s 647ms/step - loss: 0.0800 - accuracy: 0.9762 - val_loss: 0.1543 - val_accuracy: 0.9502\n",
      "Epoch 83/300\n",
      "116/116 [==============================] - 75s 650ms/step - loss: 0.0700 - accuracy: 0.9783 - val_loss: 0.1302 - val_accuracy: 0.9675\n",
      "Epoch 84/300\n",
      "116/116 [==============================] - 75s 648ms/step - loss: 0.0567 - accuracy: 0.9821 - val_loss: 0.1594 - val_accuracy: 0.9578\n",
      "Epoch 85/300\n",
      "116/116 [==============================] - 77s 663ms/step - loss: 0.0507 - accuracy: 0.9832 - val_loss: 0.1354 - val_accuracy: 0.9632\n",
      "Epoch 86/300\n",
      "116/116 [==============================] - 76s 651ms/step - loss: 0.0421 - accuracy: 0.9884 - val_loss: 0.1684 - val_accuracy: 0.9589\n",
      "Epoch 87/300\n",
      "116/116 [==============================] - 75s 645ms/step - loss: 0.0370 - accuracy: 0.9862 - val_loss: 0.1649 - val_accuracy: 0.9545\n",
      "Epoch 88/300\n",
      "116/116 [==============================] - 74s 635ms/step - loss: 0.0260 - accuracy: 0.9927 - val_loss: 0.1485 - val_accuracy: 0.9578\n",
      "Epoch 89/300\n",
      "116/116 [==============================] - 73s 633ms/step - loss: 0.0302 - accuracy: 0.9911 - val_loss: 0.1730 - val_accuracy: 0.9567\n",
      "Epoch 90/300\n",
      "116/116 [==============================] - 73s 626ms/step - loss: 0.0662 - accuracy: 0.9778 - val_loss: 0.1523 - val_accuracy: 0.9578\n",
      "Epoch 91/300\n",
      "116/116 [==============================] - 74s 637ms/step - loss: 0.0442 - accuracy: 0.9875 - val_loss: 0.2171 - val_accuracy: 0.9502\n",
      "Epoch 92/300\n",
      "116/116 [==============================] - 76s 653ms/step - loss: 0.0417 - accuracy: 0.9884 - val_loss: 0.2015 - val_accuracy: 0.9491\n",
      "Epoch 93/300\n",
      "116/116 [==============================] - 74s 642ms/step - loss: 0.0305 - accuracy: 0.9905 - val_loss: 0.1791 - val_accuracy: 0.9589\n",
      "Epoch 94/300\n",
      "116/116 [==============================] - 75s 648ms/step - loss: 0.0475 - accuracy: 0.9873 - val_loss: 0.1563 - val_accuracy: 0.9600\n",
      "Epoch 95/300\n",
      "116/116 [==============================] - 75s 646ms/step - loss: 0.0557 - accuracy: 0.9843 - val_loss: 0.1611 - val_accuracy: 0.9578\n",
      "Epoch 96/300\n",
      "116/116 [==============================] - 75s 648ms/step - loss: 0.0416 - accuracy: 0.9870 - val_loss: 0.1327 - val_accuracy: 0.9643\n",
      "Epoch 97/300\n",
      "116/116 [==============================] - 76s 652ms/step - loss: 0.0671 - accuracy: 0.9854 - val_loss: 0.1681 - val_accuracy: 0.9610\n",
      "Epoch 98/300\n",
      "116/116 [==============================] - 76s 658ms/step - loss: 0.0682 - accuracy: 0.9819 - val_loss: 0.1280 - val_accuracy: 0.9697\n"
     ]
    }
   ],
   "source": [
    "history = model.fit(\n",
    "    x=X_train, \n",
    "    y=y_train.reshape(-1,1),\n",
    "    batch_size=32,\n",
    "    validation_split=0.2,\n",
    "    epochs=300, \n",
    "#     callbacks=[tl_checkpoint_1, early_stop],\n",
    "    callbacks=[early_stop],\n",
    "    verbose=1)"
   ]
  },
  {
   "cell_type": "code",
   "execution_count": 43,
   "id": "e6103a7d",
   "metadata": {},
   "outputs": [],
   "source": [
    "def plot_accuracy(history):\n",
    "    plt.plot(history.history['accuracy'])\n",
    "    plt.plot(history.history['val_accuracy'])\n",
    "    plt.title('model accuracy')\n",
    "    plt.ylabel('accuracy')\n",
    "    plt.xlabel('epoch')\n",
    "    plt.legend(['train', 'val'], loc='upper left')\n",
    "    plt.show()"
   ]
  },
  {
   "cell_type": "code",
   "execution_count": 44,
   "id": "8ee989bb",
   "metadata": {},
   "outputs": [],
   "source": [
    "def plot_loss(history):\n",
    "    plt.plot(history.history['loss'])\n",
    "    plt.plot(history.history['val_loss'])\n",
    "    plt.title('model loss')\n",
    "    plt.ylabel('loss')\n",
    "    plt.xlabel('epoch')\n",
    "    plt.legend(['train', 'val'], loc='upper left')\n",
    "    plt.show()\n"
   ]
  },
  {
   "cell_type": "code",
   "execution_count": 45,
   "id": "9df3c63f",
   "metadata": {},
   "outputs": [
    {
     "data": {
      "image/png": "[encoded data removed]",
      "text/plain": [
       "<Figure size 432x288 with 1 Axes>"
      ]
     },
     "metadata": {
      "needs_background": "light"
     },
     "output_type": "display_data"
    }
   ],
   "source": [
    "plot_accuracy(history)"
   ]
  },
  {
   "cell_type": "code",
   "execution_count": 46,
   "id": "4a636b43",
   "metadata": {},
   "outputs": [
    {
     "data": {
      "image/png": "[encoded data removed]",
      "text/plain": [
       "<Figure size 432x288 with 1 Axes>"
      ]
     },
     "metadata": {
      "needs_background": "light"
     },
     "output_type": "display_data"
    }
   ],
   "source": [
    "plot_loss(history)"
   ]
  },
  {
   "cell_type": "code",
   "execution_count": null,
   "id": "25ba19b3",
   "metadata": {},
   "outputs": [],
   "source": []
  },
  {
   "cell_type": "code",
   "execution_count": 47,
   "id": "4314a6b5",
   "metadata": {},
   "outputs": [],
   "source": [
    "predictions = model.predict(X_test, verbose=0)\n"
   ]
  },
  {
   "cell_type": "code",
   "execution_count": 48,
   "id": "b88da262",
   "metadata": {},
   "outputs": [],
   "source": [
    "predictions = np.array([0 if x < 0.5 else 1 for x in predictions])"
   ]
  },
  {
   "cell_type": "code",
   "execution_count": 49,
   "id": "aca1cb28",
   "metadata": {},
   "outputs": [
    {
     "name": "stdout",
     "output_type": "stream",
     "text": [
      "1155\n",
      "1155\n"
     ]
    }
   ],
   "source": [
    "print(len(predictions))\n",
    "print(len(y_test))"
   ]
  },
  {
   "cell_type": "code",
   "execution_count": 50,
   "id": "264f1f15",
   "metadata": {},
   "outputs": [
    {
     "name": "stdout",
     "output_type": "stream",
     "text": [
      "[0 1 0 0 1 1 1 1 1 1 1 0 1 1 0]\n",
      "[0 1 0 0 1 0 1 1 1 1 1 0 1 1 0]\n"
     ]
    }
   ],
   "source": [
    "print(predictions[0:15])\n",
    "print(y_test[0:15])"
   ]
  },
  {
   "cell_type": "code",
   "execution_count": 51,
   "id": "48088fe0",
   "metadata": {},
   "outputs": [
    {
     "name": "stdout",
     "output_type": "stream",
     "text": [
      "Test Accuracy: 0.9454545454545454\n"
     ]
    }
   ],
   "source": [
    "accuracy = accuracy_score(y_test, predictions)\n",
    "print(\"Test Accuracy:\", accuracy)"
   ]
  },
  {
   "cell_type": "code",
   "execution_count": 52,
   "id": "232d80a8",
   "metadata": {},
   "outputs": [
    {
     "data": {
      "image/png": "[encoded data removed]",
      "text/plain": [
       "<Figure size 432x288 with 2 Axes>"
      ]
     },
     "metadata": {
      "needs_background": "light"
     },
     "output_type": "display_data"
    }
   ],
   "source": [
    "confusion_mtx = confusion_matrix(y_test, predictions)\n",
    "\n",
    "ax = plt.axes()\n",
    "sn.heatmap(confusion_mtx, annot=True,annot_kws={\"size\": 25}, cmap=\"Blues\", ax = ax, fmt='d')\n",
    "ax.set_title('Test Accuracy', size=14)\n",
    "plt.show()"
   ]
  },
  {
   "cell_type": "code",
   "execution_count": null,
   "id": "26ff4389",
   "metadata": {},
   "outputs": [],
   "source": []
  },
  {
   "cell_type": "code",
   "execution_count": null,
   "id": "eb511294",
   "metadata": {},
   "outputs": [],
   "source": []
  }
 ],
 "metadata": {
  "kernelspec": {
   "display_name": "Python 3 (ipykernel)",
   "language": "python",
   "name": "python3"
  },
  "language_info": {
   "codemirror_mode": {
    "name": "ipython",
    "version": 3
   },
   "file_extension": ".py",
   "mimetype": "text/x-python",
   "name": "python",
   "nbconvert_exporter": "python",
   "pygments_lexer": "ipython3",
   "version": "3.9.12"
  }
 },
 "nbformat": 4,
 "nbformat_minor": 5
}
