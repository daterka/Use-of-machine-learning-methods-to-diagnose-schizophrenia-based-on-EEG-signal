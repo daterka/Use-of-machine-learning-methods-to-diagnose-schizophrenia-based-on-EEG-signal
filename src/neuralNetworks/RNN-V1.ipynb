{
 "cells": [
  {
   "cell_type": "code",
   "execution_count": 1,
   "id": "013adb54",
   "metadata": {},
   "outputs": [],
   "source": [
    "import gc\n",
    "import time\n",
    "import os\n",
    "\n",
    "import keras\n",
    "from keras.models import Sequential\n",
    "from keras.layers import Dense, Conv2D, MaxPool2D , Flatten\n",
    "from keras.preprocessing.image import ImageDataGenerator\n",
    "import numpy as np\n",
    "\n",
    "from keras.models import Model\n",
    "from keras.optimizers import Adam\n",
    "from keras.applications.vgg16 import VGG16, preprocess_input\n",
    "from keras.preprocessing.image import ImageDataGenerator\n",
    "from keras.callbacks import ModelCheckpoint, EarlyStopping\n",
    "from keras.layers import Dense, Dropout, Flatten\n",
    "from tensorflow.keras import regularizers\n",
    "from pathlib import Path\n",
    "\n",
    "import tensorflow as tf\n",
    "from tensorflow import keras\n",
    "from tensorflow.keras import layers\n",
    "\n",
    "from sklearn.metrics import accuracy_score, confusion_matrix\n",
    "import seaborn as sn\n",
    "\n",
    "from tensorflow.python.client import device_lib\n",
    "\n",
    "\n",
    "from sklearn.model_selection import cross_val_score\n",
    "\n",
    "from matplotlib import pyplot as plt\n",
    "\n",
    "import mne\n",
    "\n",
    "from sklearn.model_selection import train_test_split\n",
    "\n",
    "from tensorflow.keras.layers import Input, Flatten\n"
   ]
  },
  {
   "cell_type": "code",
   "execution_count": null,
   "id": "28d1a7f4",
   "metadata": {},
   "outputs": [],
   "source": []
  },
  {
   "cell_type": "code",
   "execution_count": null,
   "id": "7bf85520",
   "metadata": {},
   "outputs": [],
   "source": []
  },
  {
   "cell_type": "code",
   "execution_count": null,
   "id": "37858209",
   "metadata": {},
   "outputs": [],
   "source": []
  },
  {
   "cell_type": "code",
   "execution_count": null,
   "id": "69de941a",
   "metadata": {},
   "outputs": [],
   "source": []
  },
  {
   "cell_type": "code",
   "execution_count": null,
   "id": "4d3d5d15",
   "metadata": {},
   "outputs": [],
   "source": []
  },
  {
   "cell_type": "code",
   "execution_count": 2,
   "id": "f5ff259d",
   "metadata": {},
   "outputs": [],
   "source": [
    "os.environ[\"CUDA_VISIBLE_DEVICES\"] = \"-1\"\n"
   ]
  },
  {
   "cell_type": "code",
   "execution_count": 3,
   "id": "1398a097",
   "metadata": {},
   "outputs": [
    {
     "data": {
      "text/plain": [
       "''"
      ]
     },
     "execution_count": 3,
     "metadata": {},
     "output_type": "execute_result"
    }
   ],
   "source": [
    "tf.test.gpu_device_name()"
   ]
  },
  {
   "cell_type": "code",
   "execution_count": null,
   "id": "833ae4f7",
   "metadata": {},
   "outputs": [],
   "source": []
  },
  {
   "cell_type": "markdown",
   "id": "31d598ef",
   "metadata": {},
   "source": [
    "### Loading edf"
   ]
  },
  {
   "cell_type": "code",
   "execution_count": 4,
   "id": "5eb29333",
   "metadata": {},
   "outputs": [],
   "source": [
    "file = \"..\\dataverse_files\\h01.edf\"\n",
    "edfs_path = \"..\\dataverse_files\"\n",
    "manifest_path = \"..\\dataverse_files\\MANIFEST.txt\""
   ]
  },
  {
   "cell_type": "code",
   "execution_count": 5,
   "id": "d0046338",
   "metadata": {},
   "outputs": [],
   "source": [
    "def load_patients_data(edfs_path):\n",
    "    raw_patients_data = []\n",
    "    \n",
    "    edfs_file_names = [f for f in os.listdir(edfs_path) if f.endswith('.edf')]\n",
    "    \n",
    "    for file_name in edfs_file_names:\n",
    "        path = edfs_path + '\\\\' + file_name \n",
    "        raw_data = mne.io.read_raw_edf(path, preload=True, verbose=False)\n",
    "        raw_patients_data.append(raw_data)\n",
    "\n",
    "    return raw_patients_data"
   ]
  },
  {
   "cell_type": "code",
   "execution_count": 6,
   "id": "6f220cd4",
   "metadata": {},
   "outputs": [],
   "source": [
    "raw_patients_data = load_patients_data(edfs_path)"
   ]
  },
  {
   "cell_type": "markdown",
   "id": "66ec70c1",
   "metadata": {},
   "source": [
    "### Filtered EEG signals segmentation"
   ]
  },
  {
   "cell_type": "code",
   "execution_count": 7,
   "id": "b8e14626",
   "metadata": {},
   "outputs": [],
   "source": [
    "def get_label(edf):\n",
    "    patient_edf_file_name = edf.filenames[0].split('\\\\')[-1]\n",
    "    isSick = patient_edf_file_name.lower().startswith('s')\n",
    "    return int(isSick == True) # 1 - is sick, 0 is healthy"
   ]
  },
  {
   "cell_type": "code",
   "execution_count": 8,
   "id": "141466d0",
   "metadata": {},
   "outputs": [],
   "source": [
    "def get_min_max_duration_for_classes(print_durations=False):\n",
    "    min_SZ_negative_duration = float(\"inf\") # healthy\n",
    "    min_SZ_positive_duration = float(\"inf\") # sick\n",
    "\n",
    "    max_SZ_negative_duration = 0 # healthy\n",
    "    max_SZ_positive_duration = 0 # sick\n",
    "\n",
    "    for edf in raw_patients_data:\n",
    "        duration = edf.times[-1]\n",
    "\n",
    "        if(get_label(edf) == 0):\n",
    "            min_SZ_negative_duration = duration if duration < min_SZ_negative_duration else min_SZ_negative_duration\n",
    "            max_SZ_negative_duration = duration if duration > max_SZ_negative_duration else max_SZ_negative_duration\n",
    "        else:\n",
    "            min_SZ_positive_duration = duration if duration < min_SZ_positive_duration else min_SZ_positive_duration\n",
    "            max_SZ_positive_duration = duration if duration > max_SZ_positive_duration else max_SZ_positive_duration\n",
    "\n",
    "\n",
    "    print('SZ_negative: min =', min_SZ_negative_duration, ', max =', max_SZ_negative_duration)\n",
    "    print('SZ_positive: min =', min_SZ_positive_duration, ', max =', max_SZ_positive_duration)\n",
    "    \n",
    "    return min_SZ_negative_duration, min_SZ_positive_duration, max_SZ_negative_duration, max_SZ_positive_duration"
   ]
  },
  {
   "cell_type": "code",
   "execution_count": 9,
   "id": "505e8b2d",
   "metadata": {},
   "outputs": [],
   "source": [
    "def crop_raw_data_to_equalize_duration_per_class():\n",
    "    print(\"Duration per class before cropping: \")\n",
    "    min_dur_neg, min_dur_pos, *_ = get_min_max_duration_for_classes(True)\n",
    "    \n",
    "    for edf in raw_patients_data:\n",
    "        duration = edf.times[-1]\n",
    "\n",
    "        if(get_label(edf) == 0):\n",
    "            if(duration > min_dur_neg):\n",
    "                edf.crop(tmin=0, tmax=min_dur_neg, include_tmax=True)\n",
    "        else:\n",
    "            if(duration > min_dur_pos):\n",
    "                edf.crop(tmin=0, tmax=min_dur_pos, include_tmax=True)\n",
    "                \n",
    "    print(\"\\nDuration per class after cropping: \")\n",
    "\n",
    "    get_min_max_duration_for_classes(True)\n"
   ]
  },
  {
   "cell_type": "code",
   "execution_count": 10,
   "id": "b81024bc",
   "metadata": {},
   "outputs": [],
   "source": [
    "def print_info(epochs_num_per_patient, labels):\n",
    "    print('\\nEpochs number per patient: ', epochs_num_per_patient)\n",
    "    \n",
    "    class_SZ_positive = sum(labels) \n",
    "    class_SZ_negative= len(labels)-sum(labels)\n",
    "\n",
    "    print('\\nnegative: ', class_SZ_positive)\n",
    "    print('positive: ', class_SZ_negative)"
   ]
  },
  {
   "cell_type": "code",
   "execution_count": 11,
   "id": "b4068381",
   "metadata": {},
   "outputs": [],
   "source": [
    "def transform_patients_data_into_X_y_sets(patients_data, segment_duration=1.0, info=True):\n",
    "    epochs_per_patient = []\n",
    "    labels = []\n",
    "    \n",
    "    epochs_num_per_patient = []\n",
    "    for edf in raw_patients_data:\n",
    "        epochs = mne.make_fixed_length_epochs(edf, duration=segment_duration, preload=True, verbose=False)\n",
    "        epochs_per_patient.append(epochs)\n",
    "        epochs_num_per_patient.append(len(epochs))\n",
    "        \n",
    "        label = get_label(edf)\n",
    "        labels.extend([label for epoch in epochs])\n",
    "    \n",
    "    epochs = mne.concatenate_epochs(epochs_per_patient)\n",
    "\n",
    "    if info:\n",
    "        print_info(epochs_num_per_patient, labels)\n",
    "        \n",
    "    del epochs_num_per_patient\n",
    "    gc.collect()\n",
    "    \n",
    "    return (epochs, np.array(labels)) # (X, y)"
   ]
  },
  {
   "cell_type": "code",
   "execution_count": 12,
   "id": "a29ba119",
   "metadata": {
    "scrolled": true
   },
   "outputs": [],
   "source": [
    "# crop_raw_data_to_equalize_duration_per_class()"
   ]
  },
  {
   "cell_type": "code",
   "execution_count": 13,
   "id": "cf262ff8",
   "metadata": {},
   "outputs": [
    {
     "name": "stdout",
     "output_type": "stream",
     "text": [
      "Not setting metadata\n",
      "5771 matching events found\n",
      "No baseline correction applied\n",
      "0 bad epochs dropped\n",
      "\n",
      "Epochs number per patient:  [185, 182, 182, 185, 189, 186, 182, 182, 181, 223, 183, 180, 193, 173, 169, 229, 192, 241, 178, 148, 269, 182, 237, 170, 272, 217, 227, 434]\n",
      "\n",
      "negative:  3165\n",
      "positive:  2606\n"
     ]
    }
   ],
   "source": [
    "X, y = transform_patients_data_into_X_y_sets(patients_data=raw_patients_data, segment_duration=5.0)"
   ]
  },
  {
   "cell_type": "code",
   "execution_count": 14,
   "id": "a090f18f",
   "metadata": {},
   "outputs": [
    {
     "data": {
      "text/plain": [
       "0"
      ]
     },
     "execution_count": 14,
     "metadata": {},
     "output_type": "execute_result"
    }
   ],
   "source": [
    "del raw_patients_data\n",
    "gc.collect()"
   ]
  },
  {
   "cell_type": "code",
   "execution_count": null,
   "id": "c3ee78e6",
   "metadata": {},
   "outputs": [],
   "source": []
  },
  {
   "cell_type": "code",
   "execution_count": 15,
   "id": "f5705716",
   "metadata": {},
   "outputs": [
    {
     "name": "stdout",
     "output_type": "stream",
     "text": [
      "5771\n",
      "5771\n",
      "(1, 19, 1250)\n"
     ]
    }
   ],
   "source": [
    "print(len(y))\n",
    "print(len(X))\n",
    "print(X[0].get_data().shape)"
   ]
  },
  {
   "cell_type": "code",
   "execution_count": 16,
   "id": "e1dccd40",
   "metadata": {},
   "outputs": [
    {
     "data": {
      "text/html": [
       "<div>\n",
       "<style scoped>\n",
       "    .dataframe tbody tr th:only-of-type {\n",
       "        vertical-align: middle;\n",
       "    }\n",
       "\n",
       "    .dataframe tbody tr th {\n",
       "        vertical-align: top;\n",
       "    }\n",
       "\n",
       "    .dataframe thead th {\n",
       "        text-align: right;\n",
       "    }\n",
       "</style>\n",
       "<table border=\"1\" class=\"dataframe\">\n",
       "  <thead>\n",
       "    <tr style=\"text-align: right;\">\n",
       "      <th></th>\n",
       "      <th>time</th>\n",
       "      <th>condition</th>\n",
       "      <th>epoch</th>\n",
       "      <th>Fp2</th>\n",
       "      <th>F8</th>\n",
       "      <th>T4</th>\n",
       "      <th>T6</th>\n",
       "      <th>O2</th>\n",
       "      <th>Fp1</th>\n",
       "      <th>F7</th>\n",
       "      <th>...</th>\n",
       "      <th>O1</th>\n",
       "      <th>F4</th>\n",
       "      <th>C4</th>\n",
       "      <th>P4</th>\n",
       "      <th>F3</th>\n",
       "      <th>C3</th>\n",
       "      <th>P3</th>\n",
       "      <th>Fz</th>\n",
       "      <th>Cz</th>\n",
       "      <th>Pz</th>\n",
       "    </tr>\n",
       "  </thead>\n",
       "  <tbody>\n",
       "    <tr>\n",
       "      <th>0</th>\n",
       "      <td>0</td>\n",
       "      <td>1</td>\n",
       "      <td>0</td>\n",
       "      <td>0.002500</td>\n",
       "      <td>0.002500</td>\n",
       "      <td>0.002500</td>\n",
       "      <td>0.00250</td>\n",
       "      <td>0.002500</td>\n",
       "      <td>0.0025</td>\n",
       "      <td>0.0025</td>\n",
       "      <td>...</td>\n",
       "      <td>0.00250</td>\n",
       "      <td>0.0025</td>\n",
       "      <td>0.002500</td>\n",
       "      <td>0.0025</td>\n",
       "      <td>0.0025</td>\n",
       "      <td>0.002500</td>\n",
       "      <td>0.00250</td>\n",
       "      <td>0.0025</td>\n",
       "      <td>0.0025</td>\n",
       "      <td>0.002500</td>\n",
       "    </tr>\n",
       "    <tr>\n",
       "      <th>1</th>\n",
       "      <td>4</td>\n",
       "      <td>1</td>\n",
       "      <td>0</td>\n",
       "      <td>0.002500</td>\n",
       "      <td>0.002500</td>\n",
       "      <td>0.002500</td>\n",
       "      <td>0.00250</td>\n",
       "      <td>0.002500</td>\n",
       "      <td>0.0025</td>\n",
       "      <td>0.0025</td>\n",
       "      <td>...</td>\n",
       "      <td>0.00250</td>\n",
       "      <td>0.0025</td>\n",
       "      <td>0.002500</td>\n",
       "      <td>0.0025</td>\n",
       "      <td>0.0025</td>\n",
       "      <td>0.002500</td>\n",
       "      <td>0.00250</td>\n",
       "      <td>0.0025</td>\n",
       "      <td>0.0025</td>\n",
       "      <td>0.002500</td>\n",
       "    </tr>\n",
       "    <tr>\n",
       "      <th>2</th>\n",
       "      <td>8</td>\n",
       "      <td>1</td>\n",
       "      <td>0</td>\n",
       "      <td>0.002500</td>\n",
       "      <td>0.002500</td>\n",
       "      <td>0.002500</td>\n",
       "      <td>0.00250</td>\n",
       "      <td>0.002500</td>\n",
       "      <td>0.0025</td>\n",
       "      <td>0.0025</td>\n",
       "      <td>...</td>\n",
       "      <td>0.00250</td>\n",
       "      <td>0.0025</td>\n",
       "      <td>0.002500</td>\n",
       "      <td>0.0025</td>\n",
       "      <td>0.0025</td>\n",
       "      <td>0.002500</td>\n",
       "      <td>0.00250</td>\n",
       "      <td>0.0025</td>\n",
       "      <td>0.0025</td>\n",
       "      <td>0.002500</td>\n",
       "    </tr>\n",
       "    <tr>\n",
       "      <th>3</th>\n",
       "      <td>12</td>\n",
       "      <td>1</td>\n",
       "      <td>0</td>\n",
       "      <td>0.461215</td>\n",
       "      <td>0.461215</td>\n",
       "      <td>0.308310</td>\n",
       "      <td>0.30831</td>\n",
       "      <td>0.155405</td>\n",
       "      <td>0.0025</td>\n",
       "      <td>0.0025</td>\n",
       "      <td>...</td>\n",
       "      <td>0.00250</td>\n",
       "      <td>0.0025</td>\n",
       "      <td>0.002500</td>\n",
       "      <td>0.0025</td>\n",
       "      <td>0.0025</td>\n",
       "      <td>-0.150405</td>\n",
       "      <td>-0.30331</td>\n",
       "      <td>0.0025</td>\n",
       "      <td>0.0025</td>\n",
       "      <td>-0.303310</td>\n",
       "    </tr>\n",
       "    <tr>\n",
       "      <th>4</th>\n",
       "      <td>16</td>\n",
       "      <td>1</td>\n",
       "      <td>0</td>\n",
       "      <td>0.461215</td>\n",
       "      <td>0.461215</td>\n",
       "      <td>0.461215</td>\n",
       "      <td>0.30831</td>\n",
       "      <td>0.155405</td>\n",
       "      <td>0.0025</td>\n",
       "      <td>0.0025</td>\n",
       "      <td>...</td>\n",
       "      <td>-0.30331</td>\n",
       "      <td>0.0025</td>\n",
       "      <td>0.155405</td>\n",
       "      <td>0.0025</td>\n",
       "      <td>0.0025</td>\n",
       "      <td>-0.150405</td>\n",
       "      <td>-0.30331</td>\n",
       "      <td>0.0025</td>\n",
       "      <td>0.0025</td>\n",
       "      <td>-0.150405</td>\n",
       "    </tr>\n",
       "  </tbody>\n",
       "</table>\n",
       "<p>5 rows × 22 columns</p>\n",
       "</div>"
      ],
      "text/plain": [
       "   time condition  epoch       Fp2        F8        T4       T6        O2  \\\n",
       "0     0         1      0  0.002500  0.002500  0.002500  0.00250  0.002500   \n",
       "1     4         1      0  0.002500  0.002500  0.002500  0.00250  0.002500   \n",
       "2     8         1      0  0.002500  0.002500  0.002500  0.00250  0.002500   \n",
       "3    12         1      0  0.461215  0.461215  0.308310  0.30831  0.155405   \n",
       "4    16         1      0  0.461215  0.461215  0.461215  0.30831  0.155405   \n",
       "\n",
       "      Fp1      F7  ...       O1      F4        C4      P4      F3        C3  \\\n",
       "0  0.0025  0.0025  ...  0.00250  0.0025  0.002500  0.0025  0.0025  0.002500   \n",
       "1  0.0025  0.0025  ...  0.00250  0.0025  0.002500  0.0025  0.0025  0.002500   \n",
       "2  0.0025  0.0025  ...  0.00250  0.0025  0.002500  0.0025  0.0025  0.002500   \n",
       "3  0.0025  0.0025  ...  0.00250  0.0025  0.002500  0.0025  0.0025 -0.150405   \n",
       "4  0.0025  0.0025  ... -0.30331  0.0025  0.155405  0.0025  0.0025 -0.150405   \n",
       "\n",
       "        P3      Fz      Cz        Pz  \n",
       "0  0.00250  0.0025  0.0025  0.002500  \n",
       "1  0.00250  0.0025  0.0025  0.002500  \n",
       "2  0.00250  0.0025  0.0025  0.002500  \n",
       "3 -0.30331  0.0025  0.0025 -0.303310  \n",
       "4 -0.30331  0.0025  0.0025 -0.150405  \n",
       "\n",
       "[5 rows x 22 columns]"
      ]
     },
     "execution_count": 16,
     "metadata": {},
     "output_type": "execute_result"
    }
   ],
   "source": [
    "X.to_data_frame().head()"
   ]
  },
  {
   "cell_type": "code",
   "execution_count": 17,
   "id": "f8633457",
   "metadata": {
    "scrolled": true
   },
   "outputs": [
    {
     "data": {
      "text/html": [
       "<div>\n",
       "<style scoped>\n",
       "    .dataframe tbody tr th:only-of-type {\n",
       "        vertical-align: middle;\n",
       "    }\n",
       "\n",
       "    .dataframe tbody tr th {\n",
       "        vertical-align: top;\n",
       "    }\n",
       "\n",
       "    .dataframe thead th {\n",
       "        text-align: right;\n",
       "    }\n",
       "</style>\n",
       "<table border=\"1\" class=\"dataframe\">\n",
       "  <thead>\n",
       "    <tr style=\"text-align: right;\">\n",
       "      <th></th>\n",
       "      <th>time</th>\n",
       "      <th>condition</th>\n",
       "      <th>epoch</th>\n",
       "      <th>Fp2</th>\n",
       "      <th>F8</th>\n",
       "      <th>T4</th>\n",
       "      <th>T6</th>\n",
       "      <th>O2</th>\n",
       "      <th>Fp1</th>\n",
       "      <th>F7</th>\n",
       "      <th>...</th>\n",
       "      <th>O1</th>\n",
       "      <th>F4</th>\n",
       "      <th>C4</th>\n",
       "      <th>P4</th>\n",
       "      <th>F3</th>\n",
       "      <th>C3</th>\n",
       "      <th>P3</th>\n",
       "      <th>Fz</th>\n",
       "      <th>Cz</th>\n",
       "      <th>Pz</th>\n",
       "    </tr>\n",
       "  </thead>\n",
       "  <tbody>\n",
       "    <tr>\n",
       "      <th>0</th>\n",
       "      <td>0</td>\n",
       "      <td>1</td>\n",
       "      <td>0</td>\n",
       "      <td>0.002500</td>\n",
       "      <td>0.002500</td>\n",
       "      <td>0.002500</td>\n",
       "      <td>0.00250</td>\n",
       "      <td>0.002500</td>\n",
       "      <td>0.0025</td>\n",
       "      <td>0.0025</td>\n",
       "      <td>...</td>\n",
       "      <td>0.00250</td>\n",
       "      <td>0.0025</td>\n",
       "      <td>0.002500</td>\n",
       "      <td>0.0025</td>\n",
       "      <td>0.0025</td>\n",
       "      <td>0.002500</td>\n",
       "      <td>0.00250</td>\n",
       "      <td>0.0025</td>\n",
       "      <td>0.0025</td>\n",
       "      <td>0.002500</td>\n",
       "    </tr>\n",
       "    <tr>\n",
       "      <th>1</th>\n",
       "      <td>4</td>\n",
       "      <td>1</td>\n",
       "      <td>0</td>\n",
       "      <td>0.002500</td>\n",
       "      <td>0.002500</td>\n",
       "      <td>0.002500</td>\n",
       "      <td>0.00250</td>\n",
       "      <td>0.002500</td>\n",
       "      <td>0.0025</td>\n",
       "      <td>0.0025</td>\n",
       "      <td>...</td>\n",
       "      <td>0.00250</td>\n",
       "      <td>0.0025</td>\n",
       "      <td>0.002500</td>\n",
       "      <td>0.0025</td>\n",
       "      <td>0.0025</td>\n",
       "      <td>0.002500</td>\n",
       "      <td>0.00250</td>\n",
       "      <td>0.0025</td>\n",
       "      <td>0.0025</td>\n",
       "      <td>0.002500</td>\n",
       "    </tr>\n",
       "    <tr>\n",
       "      <th>2</th>\n",
       "      <td>8</td>\n",
       "      <td>1</td>\n",
       "      <td>0</td>\n",
       "      <td>0.002500</td>\n",
       "      <td>0.002500</td>\n",
       "      <td>0.002500</td>\n",
       "      <td>0.00250</td>\n",
       "      <td>0.002500</td>\n",
       "      <td>0.0025</td>\n",
       "      <td>0.0025</td>\n",
       "      <td>...</td>\n",
       "      <td>0.00250</td>\n",
       "      <td>0.0025</td>\n",
       "      <td>0.002500</td>\n",
       "      <td>0.0025</td>\n",
       "      <td>0.0025</td>\n",
       "      <td>0.002500</td>\n",
       "      <td>0.00250</td>\n",
       "      <td>0.0025</td>\n",
       "      <td>0.0025</td>\n",
       "      <td>0.002500</td>\n",
       "    </tr>\n",
       "    <tr>\n",
       "      <th>3</th>\n",
       "      <td>12</td>\n",
       "      <td>1</td>\n",
       "      <td>0</td>\n",
       "      <td>0.461215</td>\n",
       "      <td>0.461215</td>\n",
       "      <td>0.308310</td>\n",
       "      <td>0.30831</td>\n",
       "      <td>0.155405</td>\n",
       "      <td>0.0025</td>\n",
       "      <td>0.0025</td>\n",
       "      <td>...</td>\n",
       "      <td>0.00250</td>\n",
       "      <td>0.0025</td>\n",
       "      <td>0.002500</td>\n",
       "      <td>0.0025</td>\n",
       "      <td>0.0025</td>\n",
       "      <td>-0.150405</td>\n",
       "      <td>-0.30331</td>\n",
       "      <td>0.0025</td>\n",
       "      <td>0.0025</td>\n",
       "      <td>-0.303310</td>\n",
       "    </tr>\n",
       "    <tr>\n",
       "      <th>4</th>\n",
       "      <td>16</td>\n",
       "      <td>1</td>\n",
       "      <td>0</td>\n",
       "      <td>0.461215</td>\n",
       "      <td>0.461215</td>\n",
       "      <td>0.461215</td>\n",
       "      <td>0.30831</td>\n",
       "      <td>0.155405</td>\n",
       "      <td>0.0025</td>\n",
       "      <td>0.0025</td>\n",
       "      <td>...</td>\n",
       "      <td>-0.30331</td>\n",
       "      <td>0.0025</td>\n",
       "      <td>0.155405</td>\n",
       "      <td>0.0025</td>\n",
       "      <td>0.0025</td>\n",
       "      <td>-0.150405</td>\n",
       "      <td>-0.30331</td>\n",
       "      <td>0.0025</td>\n",
       "      <td>0.0025</td>\n",
       "      <td>-0.150405</td>\n",
       "    </tr>\n",
       "  </tbody>\n",
       "</table>\n",
       "<p>5 rows × 22 columns</p>\n",
       "</div>"
      ],
      "text/plain": [
       "   time condition  epoch       Fp2        F8        T4       T6        O2  \\\n",
       "0     0         1      0  0.002500  0.002500  0.002500  0.00250  0.002500   \n",
       "1     4         1      0  0.002500  0.002500  0.002500  0.00250  0.002500   \n",
       "2     8         1      0  0.002500  0.002500  0.002500  0.00250  0.002500   \n",
       "3    12         1      0  0.461215  0.461215  0.308310  0.30831  0.155405   \n",
       "4    16         1      0  0.461215  0.461215  0.461215  0.30831  0.155405   \n",
       "\n",
       "      Fp1      F7  ...       O1      F4        C4      P4      F3        C3  \\\n",
       "0  0.0025  0.0025  ...  0.00250  0.0025  0.002500  0.0025  0.0025  0.002500   \n",
       "1  0.0025  0.0025  ...  0.00250  0.0025  0.002500  0.0025  0.0025  0.002500   \n",
       "2  0.0025  0.0025  ...  0.00250  0.0025  0.002500  0.0025  0.0025  0.002500   \n",
       "3  0.0025  0.0025  ...  0.00250  0.0025  0.002500  0.0025  0.0025 -0.150405   \n",
       "4  0.0025  0.0025  ... -0.30331  0.0025  0.155405  0.0025  0.0025 -0.150405   \n",
       "\n",
       "        P3      Fz      Cz        Pz  \n",
       "0  0.00250  0.0025  0.0025  0.002500  \n",
       "1  0.00250  0.0025  0.0025  0.002500  \n",
       "2  0.00250  0.0025  0.0025  0.002500  \n",
       "3 -0.30331  0.0025  0.0025 -0.303310  \n",
       "4 -0.30331  0.0025  0.0025 -0.150405  \n",
       "\n",
       "[5 rows x 22 columns]"
      ]
     },
     "execution_count": 17,
     "metadata": {},
     "output_type": "execute_result"
    }
   ],
   "source": [
    "X[0].to_data_frame().head()"
   ]
  },
  {
   "cell_type": "code",
   "execution_count": 18,
   "id": "68db9437",
   "metadata": {},
   "outputs": [
    {
     "name": "stdout",
     "output_type": "stream",
     "text": [
      "x_data shape: (5771, 19, 1250)\n",
      "column_names: Index(['Fp2', 'F8', 'T4', 'T6', 'O2', 'Fp1', 'F7', 'T3', 'T5', 'O1', 'F4',\n",
      "       'C4', 'P4', 'F3', 'C3', 'P3', 'Fz', 'Cz', 'Pz'],\n",
      "      dtype='object')\n"
     ]
    }
   ],
   "source": [
    "### Data preparation\n",
    "\n",
    "np.set_printoptions(precision=50)\n",
    "\n",
    "x_data = X.get_data()\n",
    "print('x_data shape:', x_data.shape)\n",
    "\n",
    "column_names = X[0].to_data_frame().columns\n",
    "column_names = column_names[-19:]\n",
    "print('column_names:', column_names)\n",
    "\n",
    "epoch_num, channel_num, epoch_len = x_data.shape"
   ]
  },
  {
   "cell_type": "code",
   "execution_count": 19,
   "id": "c05dc4cf",
   "metadata": {},
   "outputs": [
    {
     "data": {
      "text/plain": [
       "(5771, 1250, 19)"
      ]
     },
     "execution_count": 19,
     "metadata": {},
     "output_type": "execute_result"
    }
   ],
   "source": [
    "x_data = x_data.swapaxes(1, 2)\n",
    "x_data.shape"
   ]
  },
  {
   "cell_type": "code",
   "execution_count": 20,
   "id": "d1d16bd4",
   "metadata": {},
   "outputs": [
    {
     "data": {
      "text/plain": [
       "(1250, 19)"
      ]
     },
     "execution_count": 20,
     "metadata": {},
     "output_type": "execute_result"
    }
   ],
   "source": [
    "input_shape = x_data[0].shape\n",
    "input_shape"
   ]
  },
  {
   "cell_type": "code",
   "execution_count": 21,
   "id": "59f17c4c",
   "metadata": {},
   "outputs": [],
   "source": [
    "X_train, X_test, y_train, y_test = train_test_split(x_data, y, test_size=0.2, shuffle=True, random_state=1)"
   ]
  },
  {
   "cell_type": "code",
   "execution_count": 22,
   "id": "65493461",
   "metadata": {},
   "outputs": [
    {
     "name": "stdout",
     "output_type": "stream",
     "text": [
      "input_shape: (1250, 19)\n"
     ]
    }
   ],
   "source": [
    "validation_data_ratio = 0.2\n",
    "# input_shape = Input(shape=input_shape)\n",
    "print('input_shape:', input_shape)\n",
    "batch_size = 128\n",
    "# n_steps = traingen.samples // BATCH_SIZE\n",
    "# n_val_steps = validgen.samples // BATCH_SIZE\n",
    "n_epochs = 50"
   ]
  },
  {
   "cell_type": "code",
   "execution_count": 23,
   "id": "ec915006",
   "metadata": {},
   "outputs": [
    {
     "name": "stdout",
     "output_type": "stream",
     "text": [
      "976303\n"
     ]
    }
   ],
   "source": [
    "import random\n",
    "rnd_seed = random.randint(0, 1000000)\n",
    "print(rnd_seed)"
   ]
  },
  {
   "cell_type": "code",
   "execution_count": 24,
   "id": "c5ef20c6",
   "metadata": {},
   "outputs": [],
   "source": [
    "import tensorflow as tf\n",
    "from tensorflow.keras.models import Model\n",
    "from tensorflow.keras.layers import Dense, Activation, Permute, Dropout\n",
    "from tensorflow.keras.layers import Conv2D, Conv1D, MaxPooling1D, MaxPooling2D, AveragePooling2D, AveragePooling1D\n",
    "from tensorflow.keras.layers import SeparableConv2D, DepthwiseConv2D\n",
    "from tensorflow.keras.layers import BatchNormalization\n",
    "from tensorflow.keras.layers import SpatialDropout1D\n",
    "from tensorflow.keras.regularizers import l1_l2\n",
    "from tensorflow.keras.layers import Input, Flatten\n",
    "from tensorflow.keras.constraints import max_norm"
   ]
  },
  {
   "cell_type": "code",
   "execution_count": 25,
   "id": "8a18f5b5",
   "metadata": {},
   "outputs": [],
   "source": [
    "from tensorflow.keras.models import Model\n",
    "from tensorflow.keras.layers import Dense, Activation, Permute, Dropout\n",
    "from tensorflow.keras.layers import Conv2D, MaxPooling2D, AveragePooling2D\n",
    "from tensorflow.keras.layers import SeparableConv2D, DepthwiseConv2D\n",
    "from tensorflow.keras.layers import BatchNormalization\n",
    "from tensorflow.keras.layers import SpatialDropout2D\n",
    "from tensorflow.keras.regularizers import l1_l2\n",
    "from tensorflow.keras.layers import Input, Flatten\n",
    "from tensorflow.keras.constraints import max_norm\n",
    "from tensorflow.keras import backend as K"
   ]
  },
  {
   "cell_type": "code",
   "execution_count": 26,
   "id": "ac6d288a",
   "metadata": {},
   "outputs": [],
   "source": [
    "def GRU_RNN(input_shape, opt):\n",
    "    model=tf.keras.Sequential()\n",
    "    \n",
    "    #model.add(layers.LSTM(128,\n",
    "    #         input_shape=(chans, time_steps),\n",
    "    #         ))\n",
    "    \n",
    "    # The output of GRU will be a 3D tensor of shape (batch_size, timesteps, 256)\n",
    "    model.add(layers.GRU(512, \n",
    "                         input_shape=input_shape,\n",
    "                         return_sequences=True))\n",
    "\n",
    "    model.add(layers.SimpleRNN(256))\n",
    "    #model.add(layers.SimpleRNN(128))\n",
    "    \n",
    "\n",
    "    model.add(Dense(32,kernel_initializer='he_uniform',activation='relu'))\n",
    "    \n",
    "\n",
    "    model.add(Dense(1,activation='sigmoid'))\n",
    "    \n",
    "        # Compiles the model for training.\n",
    "    model.compile(optimizer=opt, \n",
    "                  loss='binary_crossentropy',\n",
    "                  metrics=['accuracy'])\n",
    "    \n",
    "    return model    "
   ]
  },
  {
   "cell_type": "code",
   "execution_count": 31,
   "id": "6020b418",
   "metadata": {},
   "outputs": [],
   "source": [
    "opt = tf.keras.optimizers.Adam(learning_rate=0.00009, \n",
    "                                beta_1=0.99,\n",
    "                                beta_2=0.999,\n",
    "                                epsilon=1e-07)"
   ]
  },
  {
   "cell_type": "code",
   "execution_count": 32,
   "id": "ca99139b",
   "metadata": {},
   "outputs": [],
   "source": [
    "model = GRU_RNN(input_shape, opt)"
   ]
  },
  {
   "cell_type": "code",
   "execution_count": 33,
   "id": "5f612364",
   "metadata": {},
   "outputs": [
    {
     "name": "stdout",
     "output_type": "stream",
     "text": [
      "Model: \"sequential_2\"\n",
      "_________________________________________________________________\n",
      " Layer (type)                Output Shape              Param #   \n",
      "=================================================================\n",
      " gru_2 (GRU)                 (None, 1250, 512)         818688    \n",
      "                                                                 \n",
      " simple_rnn_2 (SimpleRNN)    (None, 256)               196864    \n",
      "                                                                 \n",
      " dense_4 (Dense)             (None, 32)                8224      \n",
      "                                                                 \n",
      " dense_5 (Dense)             (None, 1)                 33        \n",
      "                                                                 \n",
      "=================================================================\n",
      "Total params: 1,023,809\n",
      "Trainable params: 1,023,809\n",
      "Non-trainable params: 0\n",
      "_________________________________________________________________\n"
     ]
    }
   ],
   "source": [
    "model.summary()"
   ]
  },
  {
   "cell_type": "code",
   "execution_count": 34,
   "id": "037232f0",
   "metadata": {},
   "outputs": [],
   "source": [
    "# ModelCheckpoint callback - save best weights\n",
    "tl_checkpoint_1 = ModelCheckpoint(filepath='../vgg16/V1/weights/model.weights.best.hdf5',\n",
    "                                  save_best_only=True,\n",
    "                                  verbose=1)\n",
    "\n",
    "# EarlyStopping\n",
    "early_stop = EarlyStopping(monitor='val_loss',\n",
    "                           patience=15,\n",
    "                           restore_best_weights=True,\n",
    "                           mode='min')"
   ]
  },
  {
   "cell_type": "code",
   "execution_count": null,
   "id": "26e2d078",
   "metadata": {},
   "outputs": [],
   "source": []
  },
  {
   "cell_type": "code",
   "execution_count": 35,
   "id": "46f58bd7",
   "metadata": {
    "scrolled": true
   },
   "outputs": [
    {
     "name": "stdout",
     "output_type": "stream",
     "text": [
      "Epoch 1/50\n",
      "116/116 [==============================] - 1568s 14s/step - loss: 0.6904 - accuracy: 0.5466 - val_loss: 0.6873 - val_accuracy: 0.5541\n",
      "Epoch 2/50\n",
      " 37/116 [========>.....................] - ETA: 18:38 - loss: 0.6840 - accuracy: 0.5735"
     ]
    },
    {
     "ename": "ResourceExhaustedError",
     "evalue": "Graph execution error:\n\nDetected at node 'gradients/while_grad/gradients/while/MatMul_1_grad/MatMul_1' defined at (most recent call last):\n    File \"E:\\Users\\dt\\anaconda3\\envs\\ml\\lib\\runpy.py\", line 197, in _run_module_as_main\n      return _run_code(code, main_globals, None,\n    File \"E:\\Users\\dt\\anaconda3\\envs\\ml\\lib\\runpy.py\", line 87, in _run_code\n      exec(code, run_globals)\n    File \"E:\\Users\\dt\\anaconda3\\envs\\ml\\lib\\site-packages\\ipykernel_launcher.py\", line 16, in <module>\n      app.launch_new_instance()\n    File \"E:\\Users\\dt\\anaconda3\\envs\\ml\\lib\\site-packages\\traitlets\\config\\application.py\", line 846, in launch_instance\n      app.start()\n    File \"E:\\Users\\dt\\anaconda3\\envs\\ml\\lib\\site-packages\\ipykernel\\kernelapp.py\", line 677, in start\n      self.io_loop.start()\n    File \"E:\\Users\\dt\\anaconda3\\envs\\ml\\lib\\site-packages\\tornado\\platform\\asyncio.py\", line 199, in start\n      self.asyncio_loop.run_forever()\n    File \"E:\\Users\\dt\\anaconda3\\envs\\ml\\lib\\asyncio\\base_events.py\", line 601, in run_forever\n      self._run_once()\n    File \"E:\\Users\\dt\\anaconda3\\envs\\ml\\lib\\asyncio\\base_events.py\", line 1905, in _run_once\n      handle._run()\n    File \"E:\\Users\\dt\\anaconda3\\envs\\ml\\lib\\asyncio\\events.py\", line 80, in _run\n      self._context.run(self._callback, *self._args)\n    File \"E:\\Users\\dt\\anaconda3\\envs\\ml\\lib\\site-packages\\ipykernel\\kernelbase.py\", line 471, in dispatch_queue\n      await self.process_one()\n    File \"E:\\Users\\dt\\anaconda3\\envs\\ml\\lib\\site-packages\\ipykernel\\kernelbase.py\", line 460, in process_one\n      await dispatch(*args)\n    File \"E:\\Users\\dt\\anaconda3\\envs\\ml\\lib\\site-packages\\ipykernel\\kernelbase.py\", line 367, in dispatch_shell\n      await result\n    File \"E:\\Users\\dt\\anaconda3\\envs\\ml\\lib\\site-packages\\ipykernel\\kernelbase.py\", line 662, in execute_request\n      reply_content = await reply_content\n    File \"E:\\Users\\dt\\anaconda3\\envs\\ml\\lib\\site-packages\\ipykernel\\ipkernel.py\", line 360, in do_execute\n      res = shell.run_cell(code, store_history=store_history, silent=silent)\n    File \"E:\\Users\\dt\\anaconda3\\envs\\ml\\lib\\site-packages\\ipykernel\\zmqshell.py\", line 532, in run_cell\n      return super().run_cell(*args, **kwargs)\n    File \"E:\\Users\\dt\\anaconda3\\envs\\ml\\lib\\site-packages\\IPython\\core\\interactiveshell.py\", line 2881, in run_cell\n      result = self._run_cell(\n    File \"E:\\Users\\dt\\anaconda3\\envs\\ml\\lib\\site-packages\\IPython\\core\\interactiveshell.py\", line 2936, in _run_cell\n      return runner(coro)\n    File \"E:\\Users\\dt\\anaconda3\\envs\\ml\\lib\\site-packages\\IPython\\core\\async_helpers.py\", line 129, in _pseudo_sync_runner\n      coro.send(None)\n    File \"E:\\Users\\dt\\anaconda3\\envs\\ml\\lib\\site-packages\\IPython\\core\\interactiveshell.py\", line 3135, in run_cell_async\n      has_raised = await self.run_ast_nodes(code_ast.body, cell_name,\n    File \"E:\\Users\\dt\\anaconda3\\envs\\ml\\lib\\site-packages\\IPython\\core\\interactiveshell.py\", line 3338, in run_ast_nodes\n      if await self.run_code(code, result, async_=asy):\n    File \"E:\\Users\\dt\\anaconda3\\envs\\ml\\lib\\site-packages\\IPython\\core\\interactiveshell.py\", line 3398, in run_code\n      exec(code_obj, self.user_global_ns, self.user_ns)\n    File \"C:\\Users\\dt\\AppData\\Local\\Temp\\ipykernel_5884\\1068836031.py\", line 1, in <cell line: 1>\n      history = model.fit(\n    File \"E:\\Users\\dt\\anaconda3\\envs\\ml\\lib\\site-packages\\keras\\utils\\traceback_utils.py\", line 64, in error_handler\n      return fn(*args, **kwargs)\n    File \"E:\\Users\\dt\\anaconda3\\envs\\ml\\lib\\site-packages\\keras\\engine\\training.py\", line 1409, in fit\n      tmp_logs = self.train_function(iterator)\n    File \"E:\\Users\\dt\\anaconda3\\envs\\ml\\lib\\site-packages\\keras\\engine\\training.py\", line 1051, in train_function\n      return step_function(self, iterator)\n    File \"E:\\Users\\dt\\anaconda3\\envs\\ml\\lib\\site-packages\\keras\\engine\\training.py\", line 1040, in step_function\n      outputs = model.distribute_strategy.run(run_step, args=(data,))\n    File \"E:\\Users\\dt\\anaconda3\\envs\\ml\\lib\\site-packages\\keras\\engine\\training.py\", line 1030, in run_step\n      outputs = model.train_step(data)\n    File \"E:\\Users\\dt\\anaconda3\\envs\\ml\\lib\\site-packages\\keras\\engine\\training.py\", line 893, in train_step\n      self.optimizer.minimize(loss, self.trainable_variables, tape=tape)\n    File \"E:\\Users\\dt\\anaconda3\\envs\\ml\\lib\\site-packages\\keras\\optimizers\\optimizer_v2\\optimizer_v2.py\", line 537, in minimize\n      grads_and_vars = self._compute_gradients(\n    File \"E:\\Users\\dt\\anaconda3\\envs\\ml\\lib\\site-packages\\keras\\optimizers\\optimizer_v2\\optimizer_v2.py\", line 590, in _compute_gradients\n      grads_and_vars = self._get_gradients(tape, loss, var_list, grad_loss)\n    File \"E:\\Users\\dt\\anaconda3\\envs\\ml\\lib\\site-packages\\keras\\optimizers\\optimizer_v2\\optimizer_v2.py\", line 471, in _get_gradients\n      grads = tape.gradient(loss, var_list, grad_loss)\nNode: 'gradients/while_grad/gradients/while/MatMul_1_grad/MatMul_1'\nOOM when allocating tensor with shape[512,1536] and type float on /job:localhost/replica:0/task:0/device:CPU:0 by allocator cpu\n\t [[{{node gradients/while_grad/gradients/while/MatMul_1_grad/MatMul_1}}]]\nHint: If you want to see a list of allocated tensors when OOM happens, add report_tensor_allocations_upon_oom to RunOptions for current allocation info. This isn't available when running in Eager mode.\n\n\t [[Adam/gradients/PartitionedCall]]\nHint: If you want to see a list of allocated tensors when OOM happens, add report_tensor_allocations_upon_oom to RunOptions for current allocation info. This isn't available when running in Eager mode.\n [Op:__inference_train_function_5283]",
     "output_type": "error",
     "traceback": [
      "\u001b[1;31m---------------------------------------------------------------------------\u001b[0m",
      "\u001b[1;31mResourceExhaustedError\u001b[0m                    Traceback (most recent call last)",
      "Input \u001b[1;32mIn [35]\u001b[0m, in \u001b[0;36m<cell line: 1>\u001b[1;34m()\u001b[0m\n\u001b[1;32m----> 1\u001b[0m history \u001b[38;5;241m=\u001b[39m \u001b[43mmodel\u001b[49m\u001b[38;5;241;43m.\u001b[39;49m\u001b[43mfit\u001b[49m\u001b[43m(\u001b[49m\n\u001b[0;32m      2\u001b[0m \u001b[43m    \u001b[49m\u001b[43mx\u001b[49m\u001b[38;5;241;43m=\u001b[39;49m\u001b[43mX_train\u001b[49m\u001b[43m,\u001b[49m\u001b[43m \u001b[49m\n\u001b[0;32m      3\u001b[0m \u001b[43m    \u001b[49m\u001b[43my\u001b[49m\u001b[38;5;241;43m=\u001b[39;49m\u001b[43my_train\u001b[49m\u001b[38;5;241;43m.\u001b[39;49m\u001b[43mreshape\u001b[49m\u001b[43m(\u001b[49m\u001b[38;5;241;43m-\u001b[39;49m\u001b[38;5;241;43m1\u001b[39;49m\u001b[43m,\u001b[49m\u001b[38;5;241;43m1\u001b[39;49m\u001b[43m)\u001b[49m\u001b[43m,\u001b[49m\n\u001b[0;32m      4\u001b[0m \u001b[43m    \u001b[49m\u001b[43mbatch_size\u001b[49m\u001b[38;5;241;43m=\u001b[39;49m\u001b[38;5;241;43m32\u001b[39;49m\u001b[43m,\u001b[49m\n\u001b[0;32m      5\u001b[0m \u001b[43m    \u001b[49m\u001b[43mvalidation_split\u001b[49m\u001b[38;5;241;43m=\u001b[39;49m\u001b[38;5;241;43m0.2\u001b[39;49m\u001b[43m,\u001b[49m\n\u001b[0;32m      6\u001b[0m \u001b[43m    \u001b[49m\u001b[43mepochs\u001b[49m\u001b[38;5;241;43m=\u001b[39;49m\u001b[38;5;241;43m50\u001b[39;49m\u001b[43m,\u001b[49m\u001b[43m \u001b[49m\n\u001b[0;32m      7\u001b[0m \u001b[38;5;66;43;03m#     callbacks=[tl_checkpoint_1, early_stop],\u001b[39;49;00m\n\u001b[0;32m      8\u001b[0m \u001b[43m    \u001b[49m\u001b[43mcallbacks\u001b[49m\u001b[38;5;241;43m=\u001b[39;49m\u001b[43m[\u001b[49m\u001b[43mearly_stop\u001b[49m\u001b[43m]\u001b[49m\u001b[43m,\u001b[49m\n\u001b[0;32m      9\u001b[0m \u001b[43m    \u001b[49m\u001b[43mverbose\u001b[49m\u001b[38;5;241;43m=\u001b[39;49m\u001b[38;5;241;43m1\u001b[39;49m\u001b[43m)\u001b[49m\n",
      "File \u001b[1;32mE:\\Users\\dt\\anaconda3\\envs\\ml\\lib\\site-packages\\keras\\utils\\traceback_utils.py:67\u001b[0m, in \u001b[0;36mfilter_traceback.<locals>.error_handler\u001b[1;34m(*args, **kwargs)\u001b[0m\n\u001b[0;32m     65\u001b[0m \u001b[38;5;28;01mexcept\u001b[39;00m \u001b[38;5;167;01mException\u001b[39;00m \u001b[38;5;28;01mas\u001b[39;00m e:  \u001b[38;5;66;03m# pylint: disable=broad-except\u001b[39;00m\n\u001b[0;32m     66\u001b[0m   filtered_tb \u001b[38;5;241m=\u001b[39m _process_traceback_frames(e\u001b[38;5;241m.\u001b[39m__traceback__)\n\u001b[1;32m---> 67\u001b[0m   \u001b[38;5;28;01mraise\u001b[39;00m e\u001b[38;5;241m.\u001b[39mwith_traceback(filtered_tb) \u001b[38;5;28;01mfrom\u001b[39;00m \u001b[38;5;28mNone\u001b[39m\n\u001b[0;32m     68\u001b[0m \u001b[38;5;28;01mfinally\u001b[39;00m:\n\u001b[0;32m     69\u001b[0m   \u001b[38;5;28;01mdel\u001b[39;00m filtered_tb\n",
      "File \u001b[1;32mE:\\Users\\dt\\anaconda3\\envs\\ml\\lib\\site-packages\\tensorflow\\python\\eager\\execute.py:54\u001b[0m, in \u001b[0;36mquick_execute\u001b[1;34m(op_name, num_outputs, inputs, attrs, ctx, name)\u001b[0m\n\u001b[0;32m     52\u001b[0m \u001b[38;5;28;01mtry\u001b[39;00m:\n\u001b[0;32m     53\u001b[0m   ctx\u001b[38;5;241m.\u001b[39mensure_initialized()\n\u001b[1;32m---> 54\u001b[0m   tensors \u001b[38;5;241m=\u001b[39m pywrap_tfe\u001b[38;5;241m.\u001b[39mTFE_Py_Execute(ctx\u001b[38;5;241m.\u001b[39m_handle, device_name, op_name,\n\u001b[0;32m     55\u001b[0m                                       inputs, attrs, num_outputs)\n\u001b[0;32m     56\u001b[0m \u001b[38;5;28;01mexcept\u001b[39;00m core\u001b[38;5;241m.\u001b[39m_NotOkStatusException \u001b[38;5;28;01mas\u001b[39;00m e:\n\u001b[0;32m     57\u001b[0m   \u001b[38;5;28;01mif\u001b[39;00m name \u001b[38;5;129;01mis\u001b[39;00m \u001b[38;5;129;01mnot\u001b[39;00m \u001b[38;5;28;01mNone\u001b[39;00m:\n",
      "\u001b[1;31mResourceExhaustedError\u001b[0m: Graph execution error:\n\nDetected at node 'gradients/while_grad/gradients/while/MatMul_1_grad/MatMul_1' defined at (most recent call last):\n    File \"E:\\Users\\dt\\anaconda3\\envs\\ml\\lib\\runpy.py\", line 197, in _run_module_as_main\n      return _run_code(code, main_globals, None,\n    File \"E:\\Users\\dt\\anaconda3\\envs\\ml\\lib\\runpy.py\", line 87, in _run_code\n      exec(code, run_globals)\n    File \"E:\\Users\\dt\\anaconda3\\envs\\ml\\lib\\site-packages\\ipykernel_launcher.py\", line 16, in <module>\n      app.launch_new_instance()\n    File \"E:\\Users\\dt\\anaconda3\\envs\\ml\\lib\\site-packages\\traitlets\\config\\application.py\", line 846, in launch_instance\n      app.start()\n    File \"E:\\Users\\dt\\anaconda3\\envs\\ml\\lib\\site-packages\\ipykernel\\kernelapp.py\", line 677, in start\n      self.io_loop.start()\n    File \"E:\\Users\\dt\\anaconda3\\envs\\ml\\lib\\site-packages\\tornado\\platform\\asyncio.py\", line 199, in start\n      self.asyncio_loop.run_forever()\n    File \"E:\\Users\\dt\\anaconda3\\envs\\ml\\lib\\asyncio\\base_events.py\", line 601, in run_forever\n      self._run_once()\n    File \"E:\\Users\\dt\\anaconda3\\envs\\ml\\lib\\asyncio\\base_events.py\", line 1905, in _run_once\n      handle._run()\n    File \"E:\\Users\\dt\\anaconda3\\envs\\ml\\lib\\asyncio\\events.py\", line 80, in _run\n      self._context.run(self._callback, *self._args)\n    File \"E:\\Users\\dt\\anaconda3\\envs\\ml\\lib\\site-packages\\ipykernel\\kernelbase.py\", line 471, in dispatch_queue\n      await self.process_one()\n    File \"E:\\Users\\dt\\anaconda3\\envs\\ml\\lib\\site-packages\\ipykernel\\kernelbase.py\", line 460, in process_one\n      await dispatch(*args)\n    File \"E:\\Users\\dt\\anaconda3\\envs\\ml\\lib\\site-packages\\ipykernel\\kernelbase.py\", line 367, in dispatch_shell\n      await result\n    File \"E:\\Users\\dt\\anaconda3\\envs\\ml\\lib\\site-packages\\ipykernel\\kernelbase.py\", line 662, in execute_request\n      reply_content = await reply_content\n    File \"E:\\Users\\dt\\anaconda3\\envs\\ml\\lib\\site-packages\\ipykernel\\ipkernel.py\", line 360, in do_execute\n      res = shell.run_cell(code, store_history=store_history, silent=silent)\n    File \"E:\\Users\\dt\\anaconda3\\envs\\ml\\lib\\site-packages\\ipykernel\\zmqshell.py\", line 532, in run_cell\n      return super().run_cell(*args, **kwargs)\n    File \"E:\\Users\\dt\\anaconda3\\envs\\ml\\lib\\site-packages\\IPython\\core\\interactiveshell.py\", line 2881, in run_cell\n      result = self._run_cell(\n    File \"E:\\Users\\dt\\anaconda3\\envs\\ml\\lib\\site-packages\\IPython\\core\\interactiveshell.py\", line 2936, in _run_cell\n      return runner(coro)\n    File \"E:\\Users\\dt\\anaconda3\\envs\\ml\\lib\\site-packages\\IPython\\core\\async_helpers.py\", line 129, in _pseudo_sync_runner\n      coro.send(None)\n    File \"E:\\Users\\dt\\anaconda3\\envs\\ml\\lib\\site-packages\\IPython\\core\\interactiveshell.py\", line 3135, in run_cell_async\n      has_raised = await self.run_ast_nodes(code_ast.body, cell_name,\n    File \"E:\\Users\\dt\\anaconda3\\envs\\ml\\lib\\site-packages\\IPython\\core\\interactiveshell.py\", line 3338, in run_ast_nodes\n      if await self.run_code(code, result, async_=asy):\n    File \"E:\\Users\\dt\\anaconda3\\envs\\ml\\lib\\site-packages\\IPython\\core\\interactiveshell.py\", line 3398, in run_code\n      exec(code_obj, self.user_global_ns, self.user_ns)\n    File \"C:\\Users\\dt\\AppData\\Local\\Temp\\ipykernel_5884\\1068836031.py\", line 1, in <cell line: 1>\n      history = model.fit(\n    File \"E:\\Users\\dt\\anaconda3\\envs\\ml\\lib\\site-packages\\keras\\utils\\traceback_utils.py\", line 64, in error_handler\n      return fn(*args, **kwargs)\n    File \"E:\\Users\\dt\\anaconda3\\envs\\ml\\lib\\site-packages\\keras\\engine\\training.py\", line 1409, in fit\n      tmp_logs = self.train_function(iterator)\n    File \"E:\\Users\\dt\\anaconda3\\envs\\ml\\lib\\site-packages\\keras\\engine\\training.py\", line 1051, in train_function\n      return step_function(self, iterator)\n    File \"E:\\Users\\dt\\anaconda3\\envs\\ml\\lib\\site-packages\\keras\\engine\\training.py\", line 1040, in step_function\n      outputs = model.distribute_strategy.run(run_step, args=(data,))\n    File \"E:\\Users\\dt\\anaconda3\\envs\\ml\\lib\\site-packages\\keras\\engine\\training.py\", line 1030, in run_step\n      outputs = model.train_step(data)\n    File \"E:\\Users\\dt\\anaconda3\\envs\\ml\\lib\\site-packages\\keras\\engine\\training.py\", line 893, in train_step\n      self.optimizer.minimize(loss, self.trainable_variables, tape=tape)\n    File \"E:\\Users\\dt\\anaconda3\\envs\\ml\\lib\\site-packages\\keras\\optimizers\\optimizer_v2\\optimizer_v2.py\", line 537, in minimize\n      grads_and_vars = self._compute_gradients(\n    File \"E:\\Users\\dt\\anaconda3\\envs\\ml\\lib\\site-packages\\keras\\optimizers\\optimizer_v2\\optimizer_v2.py\", line 590, in _compute_gradients\n      grads_and_vars = self._get_gradients(tape, loss, var_list, grad_loss)\n    File \"E:\\Users\\dt\\anaconda3\\envs\\ml\\lib\\site-packages\\keras\\optimizers\\optimizer_v2\\optimizer_v2.py\", line 471, in _get_gradients\n      grads = tape.gradient(loss, var_list, grad_loss)\nNode: 'gradients/while_grad/gradients/while/MatMul_1_grad/MatMul_1'\nOOM when allocating tensor with shape[512,1536] and type float on /job:localhost/replica:0/task:0/device:CPU:0 by allocator cpu\n\t [[{{node gradients/while_grad/gradients/while/MatMul_1_grad/MatMul_1}}]]\nHint: If you want to see a list of allocated tensors when OOM happens, add report_tensor_allocations_upon_oom to RunOptions for current allocation info. This isn't available when running in Eager mode.\n\n\t [[Adam/gradients/PartitionedCall]]\nHint: If you want to see a list of allocated tensors when OOM happens, add report_tensor_allocations_upon_oom to RunOptions for current allocation info. This isn't available when running in Eager mode.\n [Op:__inference_train_function_5283]"
     ]
    }
   ],
   "source": [
    "history = model.fit(\n",
    "    x=X_train, \n",
    "    y=y_train.reshape(-1,1),\n",
    "    batch_size=32,\n",
    "    validation_split=0.2,\n",
    "    epochs=50, \n",
    "#     callbacks=[tl_checkpoint_1, early_stop],\n",
    "    callbacks=[early_stop],\n",
    "    verbose=1)"
   ]
  },
  {
   "cell_type": "code",
   "execution_count": null,
   "id": "514a3efa",
   "metadata": {},
   "outputs": [],
   "source": [
    "# model.save('../vgg16/V1/model/')"
   ]
  },
  {
   "cell_type": "code",
   "execution_count": null,
   "id": "e6103a7d",
   "metadata": {},
   "outputs": [],
   "source": [
    "def plot_accuracy(history):\n",
    "    plt.plot(history.history['accuracy'])\n",
    "    plt.plot(history.history['val_accuracy'])\n",
    "    plt.title('model accuracy')\n",
    "    plt.ylabel('accuracy')\n",
    "    plt.xlabel('epoch')\n",
    "    plt.legend(['train', 'val'], loc='upper left')\n",
    "    plt.show()"
   ]
  },
  {
   "cell_type": "code",
   "execution_count": null,
   "id": "8ee989bb",
   "metadata": {},
   "outputs": [],
   "source": [
    "def plot_loss(history):\n",
    "    plt.plot(history.history['loss'])\n",
    "    plt.plot(history.history['val_loss'])\n",
    "    plt.title('model loss')\n",
    "    plt.ylabel('loss')\n",
    "    plt.xlabel('epoch')\n",
    "    plt.legend(['train', 'val'], loc='upper left')\n",
    "    plt.show()\n"
   ]
  },
  {
   "cell_type": "code",
   "execution_count": null,
   "id": "9df3c63f",
   "metadata": {},
   "outputs": [],
   "source": [
    "plot_accuracy(history)"
   ]
  },
  {
   "cell_type": "code",
   "execution_count": null,
   "id": "4a636b43",
   "metadata": {},
   "outputs": [],
   "source": [
    "plot_loss(history)"
   ]
  },
  {
   "cell_type": "code",
   "execution_count": null,
   "id": "25ba19b3",
   "metadata": {},
   "outputs": [],
   "source": []
  },
  {
   "cell_type": "code",
   "execution_count": null,
   "id": "4314a6b5",
   "metadata": {},
   "outputs": [],
   "source": [
    "predictions = model.predict(X_test, verbose=0)\n"
   ]
  },
  {
   "cell_type": "code",
   "execution_count": null,
   "id": "b88da262",
   "metadata": {},
   "outputs": [],
   "source": [
    "predictions = np.array([0 if x < 0.5 else 1 for x in predictions])"
   ]
  },
  {
   "cell_type": "code",
   "execution_count": null,
   "id": "aca1cb28",
   "metadata": {},
   "outputs": [],
   "source": [
    "print(len(predictions))\n",
    "print(len(y_test))"
   ]
  },
  {
   "cell_type": "code",
   "execution_count": null,
   "id": "264f1f15",
   "metadata": {},
   "outputs": [],
   "source": [
    "print(predictions[0:15])\n",
    "print(y_test[0:15])"
   ]
  },
  {
   "cell_type": "code",
   "execution_count": null,
   "id": "48088fe0",
   "metadata": {},
   "outputs": [],
   "source": [
    "accuracy = accuracy_score(y_test, predictions)\n",
    "print(\"Test Accuracy:\", accuracy)"
   ]
  },
  {
   "cell_type": "code",
   "execution_count": null,
   "id": "232d80a8",
   "metadata": {},
   "outputs": [],
   "source": [
    "confusion_mtx = confusion_matrix(y_test, predictions)\n",
    "\n",
    "ax = plt.axes()\n",
    "sn.heatmap(confusion_mtx, annot=True,annot_kws={\"size\": 25}, cmap=\"Blues\", ax = ax, fmt='d')\n",
    "ax.set_title('Test Accuracy', size=14)\n",
    "plt.show()"
   ]
  },
  {
   "cell_type": "code",
   "execution_count": null,
   "id": "26ff4389",
   "metadata": {},
   "outputs": [],
   "source": []
  },
  {
   "cell_type": "code",
   "execution_count": 43,
   "id": "fb8c976a",
   "metadata": {},
   "outputs": [],
   "source": [
    "def CNN(input_shape, opt, fine_tune=False, chans=19, nb_classes=2, \n",
    "             dropoutRate = 0.5, kernLength = 64, F1 = 8, \n",
    "             D = 2, F2 = 16, norm_rate = 0.25, dropoutType = 'Dropout'):\n",
    "    \n",
    "    if dropoutType == 'SpatialDropout1D':\n",
    "        dropoutType = SpatialDropout2D\n",
    "    elif dropoutType == 'Dropout':\n",
    "        dropoutType = Dropout\n",
    "    else:\n",
    "        raise ValueError('dropoutType must be one of SpatialDropout1D '\n",
    "                         'or Dropout, passed as a string.')\n",
    "    \n",
    "    input1 = input_shape\n",
    "    \n",
    "    pooling_layer1_format = 'channels_first'\n",
    "    pooling_layer2_format = 'channels_last'\n",
    "   \n",
    "\n",
    "    ##################################################################\n",
    "    block1       = Conv1D(F1, (kernLength), padding = 'same',\n",
    "                                  # input_shape = ( chans, samples),\n",
    "                                   use_bias = False)(input1)\n",
    "    block1       = BatchNormalization(axis = -1)(block1)\n",
    "   \n",
    "    block1       = Conv1D(5, (chans), padding='same',\n",
    "                          use_bias = False )(block1)\n",
    "    block1       = BatchNormalization(axis = -1)(block1)\n",
    "    block1       = Activation('elu')(block1)\n",
    "    block1       = AveragePooling1D(pool_size=(4),  name='apl1')(block1)\n",
    "    block1       = dropoutType(dropoutRate)(block1)\n",
    " \n",
    "    block2       = Conv1D(5, ( 16),\n",
    "                                   use_bias = False, padding = 'same' )(block1)\n",
    "    block2       = BatchNormalization(axis = -1)(block2)\n",
    "    block2       = Activation('elu')(block2)\n",
    "    #block2       = AveragePooling1D(pool_size=(3), name='apl2')(block2)\n",
    "    block2       = dropoutType(dropoutRate)(block2)\n",
    "    \n",
    "    \n",
    "    \n",
    "    block2       = Conv1D(5, ( 16),\n",
    "                                   use_bias = False, padding = 'same' )(block2)\n",
    "    block2       = BatchNormalization(axis = -1)(block2)\n",
    "    block2       = Activation('elu')(block2)\n",
    "    block2       = dropoutType(dropoutRate)(block2)\n",
    " \n",
    "        \n",
    "    flatten      = Flatten(name = 'flatten')(block2)\n",
    "    \n",
    "    dense        = Dense(1, name = 'dense',  kernel_constraint = max_norm(norm_rate))(flatten)\n",
    "    \n",
    "    softmax      = Activation('sigmoid', name = 'sigmoid')(dense)\n",
    "    \n",
    "    model = Model(inputs=input1, outputs=softmax)\n",
    "    \n",
    "    model.compile(optimizer=opt, \n",
    "              loss='binary_crossentropy',\n",
    "              metrics=['accuracy'])\n",
    "    \n",
    "    return model"
   ]
  },
  {
   "cell_type": "code",
   "execution_count": 44,
   "id": "b228db17",
   "metadata": {},
   "outputs": [],
   "source": [
    "opt = keras.optimizers.Adam(learning_rate=0.0001)"
   ]
  },
  {
   "cell_type": "code",
   "execution_count": 45,
   "id": "02198431",
   "metadata": {},
   "outputs": [
    {
     "ename": "ValueError",
     "evalue": "Layer \"conv1d\" expects 1 input(s), but it received 2 input tensors. Inputs received: [<tf.Tensor: shape=(), dtype=int32, numpy=19>, <tf.Tensor: shape=(), dtype=int32, numpy=1250>]",
     "output_type": "error",
     "traceback": [
      "\u001b[1;31m---------------------------------------------------------------------------\u001b[0m",
      "\u001b[1;31mValueError\u001b[0m                                Traceback (most recent call last)",
      "Input \u001b[1;32mIn [45]\u001b[0m, in \u001b[0;36m<cell line: 1>\u001b[1;34m()\u001b[0m\n\u001b[1;32m----> 1\u001b[0m model \u001b[38;5;241m=\u001b[39m \u001b[43mCNN\u001b[49m\u001b[43m(\u001b[49m\u001b[43minput_shape\u001b[49m\u001b[43m,\u001b[49m\u001b[43m \u001b[49m\u001b[43mopt\u001b[49m\u001b[43m,\u001b[49m\u001b[43m \u001b[49m\u001b[43mchans\u001b[49m\u001b[38;5;241;43m=\u001b[39;49m\u001b[38;5;241;43m19\u001b[39;49m\u001b[43m,\u001b[49m\u001b[43m \u001b[49m\u001b[43mfine_tune\u001b[49m\u001b[38;5;241;43m=\u001b[39;49m\u001b[38;5;241;43m0\u001b[39;49m\u001b[43m)\u001b[49m\n",
      "Input \u001b[1;32mIn [43]\u001b[0m, in \u001b[0;36mCNN\u001b[1;34m(input_shape, opt, fine_tune, chans, nb_classes, dropoutRate, kernLength, F1, D, F2, norm_rate, dropoutType)\u001b[0m\n\u001b[0;32m     16\u001b[0m pooling_layer2_format \u001b[38;5;241m=\u001b[39m \u001b[38;5;124m'\u001b[39m\u001b[38;5;124mchannels_last\u001b[39m\u001b[38;5;124m'\u001b[39m\n\u001b[0;32m     19\u001b[0m \u001b[38;5;66;03m##################################################################\u001b[39;00m\n\u001b[1;32m---> 20\u001b[0m block1       \u001b[38;5;241m=\u001b[39m \u001b[43mConv1D\u001b[49m\u001b[43m(\u001b[49m\u001b[43mF1\u001b[49m\u001b[43m,\u001b[49m\u001b[43m \u001b[49m\u001b[43m(\u001b[49m\u001b[43mkernLength\u001b[49m\u001b[43m)\u001b[49m\u001b[43m,\u001b[49m\u001b[43m \u001b[49m\u001b[43mpadding\u001b[49m\u001b[43m \u001b[49m\u001b[38;5;241;43m=\u001b[39;49m\u001b[43m \u001b[49m\u001b[38;5;124;43m'\u001b[39;49m\u001b[38;5;124;43msame\u001b[39;49m\u001b[38;5;124;43m'\u001b[39;49m\u001b[43m,\u001b[49m\n\u001b[0;32m     21\u001b[0m \u001b[43m                              \u001b[49m\u001b[38;5;66;43;03m# input_shape = ( chans, samples),\u001b[39;49;00m\n\u001b[0;32m     22\u001b[0m \u001b[43m                               \u001b[49m\u001b[43muse_bias\u001b[49m\u001b[43m \u001b[49m\u001b[38;5;241;43m=\u001b[39;49m\u001b[43m \u001b[49m\u001b[38;5;28;43;01mFalse\u001b[39;49;00m\u001b[43m)\u001b[49m\u001b[43m(\u001b[49m\u001b[43minput1\u001b[49m\u001b[43m)\u001b[49m\n\u001b[0;32m     23\u001b[0m block1       \u001b[38;5;241m=\u001b[39m BatchNormalization(axis \u001b[38;5;241m=\u001b[39m \u001b[38;5;241m-\u001b[39m\u001b[38;5;241m1\u001b[39m)(block1)\n\u001b[0;32m     25\u001b[0m block1       \u001b[38;5;241m=\u001b[39m Conv1D(\u001b[38;5;241m5\u001b[39m, (chans), padding\u001b[38;5;241m=\u001b[39m\u001b[38;5;124m'\u001b[39m\u001b[38;5;124msame\u001b[39m\u001b[38;5;124m'\u001b[39m,\n\u001b[0;32m     26\u001b[0m                       use_bias \u001b[38;5;241m=\u001b[39m \u001b[38;5;28;01mFalse\u001b[39;00m )(block1)\n",
      "File \u001b[1;32mE:\\Users\\dt\\anaconda3\\envs\\ml\\lib\\site-packages\\keras\\utils\\traceback_utils.py:67\u001b[0m, in \u001b[0;36mfilter_traceback.<locals>.error_handler\u001b[1;34m(*args, **kwargs)\u001b[0m\n\u001b[0;32m     65\u001b[0m \u001b[38;5;28;01mexcept\u001b[39;00m \u001b[38;5;167;01mException\u001b[39;00m \u001b[38;5;28;01mas\u001b[39;00m e:  \u001b[38;5;66;03m# pylint: disable=broad-except\u001b[39;00m\n\u001b[0;32m     66\u001b[0m   filtered_tb \u001b[38;5;241m=\u001b[39m _process_traceback_frames(e\u001b[38;5;241m.\u001b[39m__traceback__)\n\u001b[1;32m---> 67\u001b[0m   \u001b[38;5;28;01mraise\u001b[39;00m e\u001b[38;5;241m.\u001b[39mwith_traceback(filtered_tb) \u001b[38;5;28;01mfrom\u001b[39;00m \u001b[38;5;28mNone\u001b[39m\n\u001b[0;32m     68\u001b[0m \u001b[38;5;28;01mfinally\u001b[39;00m:\n\u001b[0;32m     69\u001b[0m   \u001b[38;5;28;01mdel\u001b[39;00m filtered_tb\n",
      "File \u001b[1;32mE:\\Users\\dt\\anaconda3\\envs\\ml\\lib\\site-packages\\keras\\engine\\input_spec.py:200\u001b[0m, in \u001b[0;36massert_input_compatibility\u001b[1;34m(input_spec, inputs, layer_name)\u001b[0m\n\u001b[0;32m    197\u001b[0m     \u001b[38;5;28;01mraise\u001b[39;00m \u001b[38;5;167;01mTypeError\u001b[39;00m(\u001b[38;5;124mf\u001b[39m\u001b[38;5;124m'\u001b[39m\u001b[38;5;124mInputs to a layer should be tensors. Got: \u001b[39m\u001b[38;5;132;01m{\u001b[39;00mx\u001b[38;5;132;01m}\u001b[39;00m\u001b[38;5;124m'\u001b[39m)\n\u001b[0;32m    199\u001b[0m \u001b[38;5;28;01mif\u001b[39;00m \u001b[38;5;28mlen\u001b[39m(inputs) \u001b[38;5;241m!=\u001b[39m \u001b[38;5;28mlen\u001b[39m(input_spec):\n\u001b[1;32m--> 200\u001b[0m   \u001b[38;5;28;01mraise\u001b[39;00m \u001b[38;5;167;01mValueError\u001b[39;00m(\u001b[38;5;124mf\u001b[39m\u001b[38;5;124m'\u001b[39m\u001b[38;5;124mLayer \u001b[39m\u001b[38;5;124m\"\u001b[39m\u001b[38;5;132;01m{\u001b[39;00mlayer_name\u001b[38;5;132;01m}\u001b[39;00m\u001b[38;5;124m\"\u001b[39m\u001b[38;5;124m expects \u001b[39m\u001b[38;5;132;01m{\u001b[39;00m\u001b[38;5;28mlen\u001b[39m(input_spec)\u001b[38;5;132;01m}\u001b[39;00m\u001b[38;5;124m input(s),\u001b[39m\u001b[38;5;124m'\u001b[39m\n\u001b[0;32m    201\u001b[0m                    \u001b[38;5;124mf\u001b[39m\u001b[38;5;124m'\u001b[39m\u001b[38;5;124m but it received \u001b[39m\u001b[38;5;132;01m{\u001b[39;00m\u001b[38;5;28mlen\u001b[39m(inputs)\u001b[38;5;132;01m}\u001b[39;00m\u001b[38;5;124m input tensors. \u001b[39m\u001b[38;5;124m'\u001b[39m\n\u001b[0;32m    202\u001b[0m                    \u001b[38;5;124mf\u001b[39m\u001b[38;5;124m'\u001b[39m\u001b[38;5;124mInputs received: \u001b[39m\u001b[38;5;132;01m{\u001b[39;00minputs\u001b[38;5;132;01m}\u001b[39;00m\u001b[38;5;124m'\u001b[39m)\n\u001b[0;32m    203\u001b[0m \u001b[38;5;28;01mfor\u001b[39;00m input_index, (x, spec) \u001b[38;5;129;01min\u001b[39;00m \u001b[38;5;28menumerate\u001b[39m(\u001b[38;5;28mzip\u001b[39m(inputs, input_spec)):\n\u001b[0;32m    204\u001b[0m   \u001b[38;5;28;01mif\u001b[39;00m spec \u001b[38;5;129;01mis\u001b[39;00m \u001b[38;5;28;01mNone\u001b[39;00m:\n",
      "\u001b[1;31mValueError\u001b[0m: Layer \"conv1d\" expects 1 input(s), but it received 2 input tensors. Inputs received: [<tf.Tensor: shape=(), dtype=int32, numpy=19>, <tf.Tensor: shape=(), dtype=int32, numpy=1250>]"
     ]
    }
   ],
   "source": [
    "model = CNN(input_shape, opt, chans=19, fine_tune=0)"
   ]
  },
  {
   "cell_type": "code",
   "execution_count": null,
   "id": "20de6d17",
   "metadata": {},
   "outputs": [],
   "source": [
    "model.summary()"
   ]
  },
  {
   "cell_type": "code",
   "execution_count": null,
   "id": "07ba2d69",
   "metadata": {},
   "outputs": [],
   "source": [
    "# ModelCheckpoint callback - save best weights\n",
    "tl_checkpoint_1 = ModelCheckpoint(filepath='../vgg16/V1/weights/model.weights.best.hdf5',\n",
    "                                  save_best_only=True,\n",
    "                                  verbose=1)\n",
    "\n",
    "# EarlyStopping\n",
    "early_stop = EarlyStopping(monitor='val_loss',\n",
    "                           patience=15,\n",
    "                           restore_best_weights=True,\n",
    "                           mode='min')"
   ]
  },
  {
   "cell_type": "code",
   "execution_count": null,
   "id": "3a57b6a4",
   "metadata": {},
   "outputs": [],
   "source": []
  },
  {
   "cell_type": "code",
   "execution_count": null,
   "id": "0636de4a",
   "metadata": {
    "scrolled": true
   },
   "outputs": [],
   "source": [
    "history = model.fit(\n",
    "    x=X_train, \n",
    "    y=y_train.reshape(-1,1),\n",
    "    batch_size=32,\n",
    "    validation_split=0.2,\n",
    "    epochs=50, \n",
    "#     callbacks=[tl_checkpoint_1, early_stop],\n",
    "    callbacks=[early_stop],\n",
    "    verbose=1)"
   ]
  },
  {
   "cell_type": "code",
   "execution_count": null,
   "id": "436b8523",
   "metadata": {},
   "outputs": [],
   "source": [
    "# model.save('../vgg16/V1/model/')"
   ]
  },
  {
   "cell_type": "code",
   "execution_count": null,
   "id": "51632c04",
   "metadata": {},
   "outputs": [],
   "source": [
    "def plot_accuracy(history):\n",
    "    plt.plot(history.history['accuracy'])\n",
    "    plt.plot(history.history['val_accuracy'])\n",
    "    plt.title('model accuracy')\n",
    "    plt.ylabel('accuracy')\n",
    "    plt.xlabel('epoch')\n",
    "    plt.legend(['train', 'val'], loc='upper left')\n",
    "    plt.show()"
   ]
  },
  {
   "cell_type": "code",
   "execution_count": null,
   "id": "461afe96",
   "metadata": {},
   "outputs": [],
   "source": [
    "def plot_loss(history):\n",
    "    plt.plot(history.history['loss'])\n",
    "    plt.plot(history.history['val_loss'])\n",
    "    plt.title('model loss')\n",
    "    plt.ylabel('loss')\n",
    "    plt.xlabel('epoch')\n",
    "    plt.legend(['train', 'val'], loc='upper left')\n",
    "    plt.show()\n"
   ]
  },
  {
   "cell_type": "code",
   "execution_count": null,
   "id": "0bdc46c5",
   "metadata": {},
   "outputs": [],
   "source": [
    "plot_accuracy(history)"
   ]
  },
  {
   "cell_type": "code",
   "execution_count": null,
   "id": "4f68a9d1",
   "metadata": {},
   "outputs": [],
   "source": [
    "plot_loss(history)"
   ]
  },
  {
   "cell_type": "code",
   "execution_count": null,
   "id": "e6385bc2",
   "metadata": {},
   "outputs": [],
   "source": []
  },
  {
   "cell_type": "code",
   "execution_count": null,
   "id": "665b4cf4",
   "metadata": {},
   "outputs": [],
   "source": [
    "predictions = model.predict(X_test, verbose=0)\n"
   ]
  },
  {
   "cell_type": "code",
   "execution_count": null,
   "id": "2bb328eb",
   "metadata": {},
   "outputs": [],
   "source": [
    "predictions = np.array([0 if x < 0.5 else 1 for x in predictions])"
   ]
  },
  {
   "cell_type": "code",
   "execution_count": null,
   "id": "2301042f",
   "metadata": {},
   "outputs": [],
   "source": [
    "print(len(predictions))\n",
    "print(len(y_test))"
   ]
  },
  {
   "cell_type": "code",
   "execution_count": null,
   "id": "3bf03df0",
   "metadata": {},
   "outputs": [],
   "source": [
    "print(predictions[0:15])\n",
    "print(y_test[0:15])"
   ]
  },
  {
   "cell_type": "code",
   "execution_count": null,
   "id": "0d021e16",
   "metadata": {},
   "outputs": [],
   "source": [
    "accuracy = accuracy_score(y_test, predictions)\n",
    "print(\"Test Accuracy:\", accuracy)"
   ]
  },
  {
   "cell_type": "code",
   "execution_count": null,
   "id": "6913c2fc",
   "metadata": {},
   "outputs": [],
   "source": [
    "confusion_mtx = confusion_matrix(y_test, predictions)\n",
    "\n",
    "ax = plt.axes()\n",
    "sn.heatmap(confusion_mtx, annot=True,annot_kws={\"size\": 25}, cmap=\"Blues\", ax = ax, fmt='d')\n",
    "ax.set_title('Test Accuracy', size=14)\n",
    "plt.show()"
   ]
  },
  {
   "cell_type": "code",
   "execution_count": null,
   "id": "a4b22810",
   "metadata": {},
   "outputs": [],
   "source": []
  },
  {
   "cell_type": "code",
   "execution_count": null,
   "id": "935267ad",
   "metadata": {},
   "outputs": [],
   "source": []
  },
  {
   "cell_type": "code",
   "execution_count": null,
   "id": "6918c746",
   "metadata": {},
   "outputs": [],
   "source": []
  },
  {
   "cell_type": "code",
   "execution_count": null,
   "id": "a688b0ef",
   "metadata": {},
   "outputs": [],
   "source": []
  },
  {
   "cell_type": "markdown",
   "id": "a423b929",
   "metadata": {},
   "source": [
    "## TESTS"
   ]
  },
  {
   "cell_type": "code",
   "execution_count": null,
   "id": "5ba37730",
   "metadata": {},
   "outputs": [],
   "source": [
    "X_train.shape\n"
   ]
  },
  {
   "cell_type": "code",
   "execution_count": null,
   "id": "bc89bd39",
   "metadata": {},
   "outputs": [],
   "source": [
    "X_train[0]"
   ]
  },
  {
   "cell_type": "code",
   "execution_count": null,
   "id": "f5bb41ff",
   "metadata": {},
   "outputs": [],
   "source": [
    "X_train[0].transpose().shape"
   ]
  },
  {
   "cell_type": "code",
   "execution_count": null,
   "id": "4ca1b41d",
   "metadata": {},
   "outputs": [],
   "source": [
    "X_train[0].shape"
   ]
  },
  {
   "cell_type": "code",
   "execution_count": null,
   "id": "9dd5abc0",
   "metadata": {},
   "outputs": [],
   "source": [
    "X_train.reshape(3595, 1250, 19)"
   ]
  },
  {
   "cell_type": "code",
   "execution_count": null,
   "id": "8ac48dae",
   "metadata": {},
   "outputs": [],
   "source": [
    "X_train.transpose()[0].shape"
   ]
  },
  {
   "cell_type": "code",
   "execution_count": null,
   "id": "2770dee6",
   "metadata": {},
   "outputs": [],
   "source": [
    "X_train[0].transpose()"
   ]
  },
  {
   "cell_type": "code",
   "execution_count": null,
   "id": "5d0a4574",
   "metadata": {},
   "outputs": [],
   "source": [
    "X_train.swapaxes(1, 2)"
   ]
  },
  {
   "cell_type": "code",
   "execution_count": null,
   "id": "93991de7",
   "metadata": {},
   "outputs": [],
   "source": [
    "X_train = X_train.swapaxes(1, 2).shape"
   ]
  }
 ],
 "metadata": {
  "kernelspec": {
   "display_name": "Python 3 (ipykernel)",
   "language": "python",
   "name": "python3"
  },
  "language_info": {
   "codemirror_mode": {
    "name": "ipython",
    "version": 3
   },
   "file_extension": ".py",
   "mimetype": "text/x-python",
   "name": "python",
   "nbconvert_exporter": "python",
   "pygments_lexer": "ipython3",
   "version": "3.9.12"
  }
 },
 "nbformat": 4,
 "nbformat_minor": 5
}
